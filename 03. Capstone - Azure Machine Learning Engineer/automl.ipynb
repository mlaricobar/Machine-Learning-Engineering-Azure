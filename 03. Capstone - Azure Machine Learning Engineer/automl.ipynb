{
  "nbformat": 4,
  "nbformat_minor": 0,
  "metadata": {
    "kernel_info": {
      "name": "python3-azureml"
    },
    "kernelspec": {
      "display_name": "Python 3",
      "language": "python",
      "name": "python3"
    },
    "language_info": {
      "codemirror_mode": {
        "name": "ipython",
        "version": 3
      },
      "file_extension": ".py",
      "mimetype": "text/x-python",
      "name": "python",
      "nbconvert_exporter": "python",
      "pygments_lexer": "ipython3",
      "version": "3.6.5"
    },
    "nteract": {
      "version": "nteract-front-end@1.0.0"
    },
    "colab": {
      "name": "automl.ipynb",
      "provenance": []
    }
  },
  "cells": [
    {
      "cell_type": "markdown",
      "metadata": {
        "id": "bGl0ZqrAT2um"
      },
      "source": [
        "# Libraries\n"
      ]
    },
    {
      "cell_type": "code",
      "metadata": {
        "colab": {
          "base_uri": "https://localhost:8080/"
        },
        "id": "AKjvm5EGSwTc",
        "outputId": "7c5f130c-7a6b-43ec-b7f4-b0ac97c3f930"
      },
      "source": [
        "!pip install --upgrade azureml-core"
      ],
      "execution_count": 36,
      "outputs": [
        {
          "output_type": "stream",
          "text": [
            "Requirement already up-to-date: azureml-core in /usr/local/lib/python3.7/dist-packages (1.31.0)\n",
            "Requirement already satisfied, skipping upgrade: PyJWT<3.0.0 in /usr/local/lib/python3.7/dist-packages (from azureml-core) (2.1.0)\n",
            "Requirement already satisfied, skipping upgrade: azure-mgmt-keyvault<10.0.0,>=0.40.0 in /usr/local/lib/python3.7/dist-packages (from azureml-core) (9.0.0)\n",
            "Requirement already satisfied, skipping upgrade: requests<3.0.0,>=2.19.1 in /usr/local/lib/python3.7/dist-packages (from azureml-core) (2.23.0)\n",
            "Requirement already satisfied, skipping upgrade: azure-mgmt-storage<16.0.0,>=1.5.0 in /usr/local/lib/python3.7/dist-packages (from azureml-core) (11.2.0)\n",
            "Requirement already satisfied, skipping upgrade: SecretStorage<4.0.0 in /usr/local/lib/python3.7/dist-packages (from azureml-core) (3.3.1)\n",
            "Requirement already satisfied, skipping upgrade: azure-common<2.0.0,>=1.1.12 in /usr/local/lib/python3.7/dist-packages (from azureml-core) (1.1.27)\n",
            "Requirement already satisfied, skipping upgrade: azure-mgmt-containerregistry>=2.0.0 in /usr/local/lib/python3.7/dist-packages (from azureml-core) (8.0.0)\n",
            "Requirement already satisfied, skipping upgrade: cryptography!=1.9,!=2.0.*,!=2.1.*,!=2.2.*,<4.0.0 in /usr/local/lib/python3.7/dist-packages (from azureml-core) (3.4.7)\n",
            "Requirement already satisfied, skipping upgrade: azure-mgmt-authorization<1.0.0,>=0.40.0 in /usr/local/lib/python3.7/dist-packages (from azureml-core) (0.61.0)\n",
            "Requirement already satisfied, skipping upgrade: contextlib2<1.0.0 in /usr/local/lib/python3.7/dist-packages (from azureml-core) (0.5.5)\n",
            "Requirement already satisfied, skipping upgrade: msrest<1.0.0,>=0.5.1 in /usr/local/lib/python3.7/dist-packages (from azureml-core) (0.6.21)\n",
            "Requirement already satisfied, skipping upgrade: adal>=1.2.0 in /usr/local/lib/python3.7/dist-packages (from azureml-core) (1.2.7)\n",
            "Requirement already satisfied, skipping upgrade: jmespath<1.0.0 in /usr/local/lib/python3.7/dist-packages (from azureml-core) (0.10.0)\n",
            "Requirement already satisfied, skipping upgrade: msrestazure>=0.4.33 in /usr/local/lib/python3.7/dist-packages (from azureml-core) (0.6.4)\n",
            "Requirement already satisfied, skipping upgrade: ndg-httpsclient in /usr/local/lib/python3.7/dist-packages (from azureml-core) (0.5.1)\n",
            "Requirement already satisfied, skipping upgrade: urllib3>=1.23 in /usr/local/lib/python3.7/dist-packages (from azureml-core) (1.24.3)\n",
            "Requirement already satisfied, skipping upgrade: docker<5.0.0 in /usr/local/lib/python3.7/dist-packages (from azureml-core) (4.4.4)\n",
            "Requirement already satisfied, skipping upgrade: pathspec<1.0.0 in /usr/local/lib/python3.7/dist-packages (from azureml-core) (0.8.1)\n",
            "Requirement already satisfied, skipping upgrade: pyopenssl<21.0.0 in /usr/local/lib/python3.7/dist-packages (from azureml-core) (20.0.1)\n",
            "Requirement already satisfied, skipping upgrade: azure-graphrbac<1.0.0,>=0.40.0 in /usr/local/lib/python3.7/dist-packages (from azureml-core) (0.61.1)\n",
            "Requirement already satisfied, skipping upgrade: jsonpickle<3.0.0 in /usr/local/lib/python3.7/dist-packages (from azureml-core) (2.0.0)\n",
            "Requirement already satisfied, skipping upgrade: azure-mgmt-resource<15.0.0,>=1.2.1 in /usr/local/lib/python3.7/dist-packages (from azureml-core) (13.0.0)\n",
            "Requirement already satisfied, skipping upgrade: backports.tempfile in /usr/local/lib/python3.7/dist-packages (from azureml-core) (1.0)\n",
            "Requirement already satisfied, skipping upgrade: python-dateutil<3.0.0,>=2.7.3 in /usr/local/lib/python3.7/dist-packages (from azureml-core) (2.8.1)\n",
            "Requirement already satisfied, skipping upgrade: pytz in /usr/local/lib/python3.7/dist-packages (from azureml-core) (2018.9)\n",
            "Requirement already satisfied, skipping upgrade: ruamel.yaml<0.17.5,>=0.15.35 in /usr/local/lib/python3.7/dist-packages (from azureml-core) (0.17.4)\n",
            "Requirement already satisfied, skipping upgrade: azure-mgmt-core<2.0.0,>=1.2.0 in /usr/local/lib/python3.7/dist-packages (from azure-mgmt-keyvault<10.0.0,>=0.40.0->azureml-core) (1.2.2)\n",
            "Requirement already satisfied, skipping upgrade: chardet<4,>=3.0.2 in /usr/local/lib/python3.7/dist-packages (from requests<3.0.0,>=2.19.1->azureml-core) (3.0.4)\n",
            "Requirement already satisfied, skipping upgrade: certifi>=2017.4.17 in /usr/local/lib/python3.7/dist-packages (from requests<3.0.0,>=2.19.1->azureml-core) (2021.5.30)\n",
            "Requirement already satisfied, skipping upgrade: idna<3,>=2.5 in /usr/local/lib/python3.7/dist-packages (from requests<3.0.0,>=2.19.1->azureml-core) (2.10)\n",
            "Requirement already satisfied, skipping upgrade: jeepney>=0.6 in /usr/local/lib/python3.7/dist-packages (from SecretStorage<4.0.0->azureml-core) (0.6.0)\n",
            "Requirement already satisfied, skipping upgrade: cffi>=1.12 in /usr/local/lib/python3.7/dist-packages (from cryptography!=1.9,!=2.0.*,!=2.1.*,!=2.2.*,<4.0.0->azureml-core) (1.14.5)\n",
            "Requirement already satisfied, skipping upgrade: isodate>=0.6.0 in /usr/local/lib/python3.7/dist-packages (from msrest<1.0.0,>=0.5.1->azureml-core) (0.6.0)\n",
            "Requirement already satisfied, skipping upgrade: requests-oauthlib>=0.5.0 in /usr/local/lib/python3.7/dist-packages (from msrest<1.0.0,>=0.5.1->azureml-core) (1.3.0)\n",
            "Requirement already satisfied, skipping upgrade: six in /usr/local/lib/python3.7/dist-packages (from msrestazure>=0.4.33->azureml-core) (1.15.0)\n",
            "Requirement already satisfied, skipping upgrade: pyasn1>=0.1.1 in /usr/local/lib/python3.7/dist-packages (from ndg-httpsclient->azureml-core) (0.4.8)\n",
            "Requirement already satisfied, skipping upgrade: websocket-client>=0.32.0 in /usr/local/lib/python3.7/dist-packages (from docker<5.0.0->azureml-core) (1.1.0)\n",
            "Requirement already satisfied, skipping upgrade: importlib-metadata; python_version < \"3.8\" in /usr/local/lib/python3.7/dist-packages (from jsonpickle<3.0.0->azureml-core) (4.5.0)\n",
            "Requirement already satisfied, skipping upgrade: backports.weakref in /usr/local/lib/python3.7/dist-packages (from backports.tempfile->azureml-core) (1.0.post1)\n",
            "Requirement already satisfied, skipping upgrade: ruamel.yaml.clib>=0.1.2; platform_python_implementation == \"CPython\" and python_version < \"3.10\" in /usr/local/lib/python3.7/dist-packages (from ruamel.yaml<0.17.5,>=0.15.35->azureml-core) (0.2.4)\n",
            "Requirement already satisfied, skipping upgrade: azure-core<2.0.0,>=1.9.0 in /usr/local/lib/python3.7/dist-packages (from azure-mgmt-core<2.0.0,>=1.2.0->azure-mgmt-keyvault<10.0.0,>=0.40.0->azureml-core) (1.15.0)\n",
            "Requirement already satisfied, skipping upgrade: pycparser in /usr/local/lib/python3.7/dist-packages (from cffi>=1.12->cryptography!=1.9,!=2.0.*,!=2.1.*,!=2.2.*,<4.0.0->azureml-core) (2.20)\n",
            "Requirement already satisfied, skipping upgrade: oauthlib>=3.0.0 in /usr/local/lib/python3.7/dist-packages (from requests-oauthlib>=0.5.0->msrest<1.0.0,>=0.5.1->azureml-core) (3.1.1)\n",
            "Requirement already satisfied, skipping upgrade: typing-extensions>=3.6.4; python_version < \"3.8\" in /usr/local/lib/python3.7/dist-packages (from importlib-metadata; python_version < \"3.8\"->jsonpickle<3.0.0->azureml-core) (3.7.4.3)\n",
            "Requirement already satisfied, skipping upgrade: zipp>=0.5 in /usr/local/lib/python3.7/dist-packages (from importlib-metadata; python_version < \"3.8\"->jsonpickle<3.0.0->azureml-core) (3.4.1)\n"
          ],
          "name": "stdout"
        }
      ]
    },
    {
      "cell_type": "code",
      "metadata": {
        "colab": {
          "base_uri": "https://localhost:8080/"
        },
        "id": "-n3nEXZJaYkw",
        "outputId": "4be42355-67b8-42e8-e191-8f9e6dcef12a"
      },
      "source": [
        "!pip install azureml-dataset-runtime --upgrade"
      ],
      "execution_count": 1,
      "outputs": [
        {
          "output_type": "stream",
          "text": [
            "Requirement already up-to-date: azureml-dataset-runtime in /usr/local/lib/python3.7/dist-packages (1.31.0)\n",
            "Requirement already satisfied, skipping upgrade: pyarrow<4.0.0,>=0.17.0 in /usr/local/lib/python3.7/dist-packages (from azureml-dataset-runtime) (3.0.0)\n",
            "Requirement already satisfied, skipping upgrade: azureml-dataprep<2.19.0a,>=2.18.0a in /usr/local/lib/python3.7/dist-packages (from azureml-dataset-runtime) (2.18.0)\n",
            "Requirement already satisfied, skipping upgrade: numpy!=1.19.3; sys_platform == \"linux\" in /usr/local/lib/python3.7/dist-packages (from azureml-dataset-runtime) (1.19.5)\n",
            "Requirement already satisfied, skipping upgrade: azureml-dataprep-native<37.0.0,>=36.0.0 in /usr/local/lib/python3.7/dist-packages (from azureml-dataprep<2.19.0a,>=2.18.0a->azureml-dataset-runtime) (36.0.0)\n",
            "Requirement already satisfied, skipping upgrade: azure-identity<1.5.0,>=1.2.0 in /usr/local/lib/python3.7/dist-packages (from azureml-dataprep<2.19.0a,>=2.18.0a->azureml-dataset-runtime) (1.4.1)\n",
            "Requirement already satisfied, skipping upgrade: azureml-dataprep-rslex<1.17.0a,>=1.16.0dev0 in /usr/local/lib/python3.7/dist-packages (from azureml-dataprep<2.19.0a,>=2.18.0a->azureml-dataset-runtime) (1.16.1)\n",
            "Requirement already satisfied, skipping upgrade: cloudpickle<2.0.0,>=1.1.0 in /usr/local/lib/python3.7/dist-packages (from azureml-dataprep<2.19.0a,>=2.18.0a->azureml-dataset-runtime) (1.3.0)\n",
            "Requirement already satisfied, skipping upgrade: dotnetcore2<3.0.0,>=2.1.14 in /usr/local/lib/python3.7/dist-packages (from azureml-dataprep<2.19.0a,>=2.18.0a->azureml-dataset-runtime) (2.1.21)\n",
            "Requirement already satisfied, skipping upgrade: msal<2.0.0,>=1.3.0 in /usr/local/lib/python3.7/dist-packages (from azure-identity<1.5.0,>=1.2.0->azureml-dataprep<2.19.0a,>=2.18.0a->azureml-dataset-runtime) (1.12.0)\n",
            "Requirement already satisfied, skipping upgrade: msal-extensions~=0.2.2 in /usr/local/lib/python3.7/dist-packages (from azure-identity<1.5.0,>=1.2.0->azureml-dataprep<2.19.0a,>=2.18.0a->azureml-dataset-runtime) (0.2.2)\n",
            "Requirement already satisfied, skipping upgrade: azure-core<2.0.0,>=1.0.0 in /usr/local/lib/python3.7/dist-packages (from azure-identity<1.5.0,>=1.2.0->azureml-dataprep<2.19.0a,>=2.18.0a->azureml-dataset-runtime) (1.15.0)\n",
            "Requirement already satisfied, skipping upgrade: cryptography>=2.1.4 in /usr/local/lib/python3.7/dist-packages (from azure-identity<1.5.0,>=1.2.0->azureml-dataprep<2.19.0a,>=2.18.0a->azureml-dataset-runtime) (3.4.7)\n",
            "Requirement already satisfied, skipping upgrade: six>=1.6 in /usr/local/lib/python3.7/dist-packages (from azure-identity<1.5.0,>=1.2.0->azureml-dataprep<2.19.0a,>=2.18.0a->azureml-dataset-runtime) (1.15.0)\n",
            "Requirement already satisfied, skipping upgrade: distro>=1.2.0 in /usr/local/lib/python3.7/dist-packages (from dotnetcore2<3.0.0,>=2.1.14->azureml-dataprep<2.19.0a,>=2.18.0a->azureml-dataset-runtime) (1.5.0)\n",
            "Requirement already satisfied, skipping upgrade: requests<3,>=2.0.0 in /usr/local/lib/python3.7/dist-packages (from msal<2.0.0,>=1.3.0->azure-identity<1.5.0,>=1.2.0->azureml-dataprep<2.19.0a,>=2.18.0a->azureml-dataset-runtime) (2.23.0)\n",
            "Requirement already satisfied, skipping upgrade: PyJWT[crypto]<3,>=1.0.0 in /usr/local/lib/python3.7/dist-packages (from msal<2.0.0,>=1.3.0->azure-identity<1.5.0,>=1.2.0->azureml-dataprep<2.19.0a,>=2.18.0a->azureml-dataset-runtime) (2.1.0)\n",
            "Requirement already satisfied, skipping upgrade: portalocker~=1.0; platform_system != \"Windows\" in /usr/local/lib/python3.7/dist-packages (from msal-extensions~=0.2.2->azure-identity<1.5.0,>=1.2.0->azureml-dataprep<2.19.0a,>=2.18.0a->azureml-dataset-runtime) (1.7.1)\n",
            "Requirement already satisfied, skipping upgrade: cffi>=1.12 in /usr/local/lib/python3.7/dist-packages (from cryptography>=2.1.4->azure-identity<1.5.0,>=1.2.0->azureml-dataprep<2.19.0a,>=2.18.0a->azureml-dataset-runtime) (1.14.5)\n",
            "Requirement already satisfied, skipping upgrade: urllib3!=1.25.0,!=1.25.1,<1.26,>=1.21.1 in /usr/local/lib/python3.7/dist-packages (from requests<3,>=2.0.0->msal<2.0.0,>=1.3.0->azure-identity<1.5.0,>=1.2.0->azureml-dataprep<2.19.0a,>=2.18.0a->azureml-dataset-runtime) (1.24.3)\n",
            "Requirement already satisfied, skipping upgrade: certifi>=2017.4.17 in /usr/local/lib/python3.7/dist-packages (from requests<3,>=2.0.0->msal<2.0.0,>=1.3.0->azure-identity<1.5.0,>=1.2.0->azureml-dataprep<2.19.0a,>=2.18.0a->azureml-dataset-runtime) (2021.5.30)\n",
            "Requirement already satisfied, skipping upgrade: idna<3,>=2.5 in /usr/local/lib/python3.7/dist-packages (from requests<3,>=2.0.0->msal<2.0.0,>=1.3.0->azure-identity<1.5.0,>=1.2.0->azureml-dataprep<2.19.0a,>=2.18.0a->azureml-dataset-runtime) (2.10)\n",
            "Requirement already satisfied, skipping upgrade: chardet<4,>=3.0.2 in /usr/local/lib/python3.7/dist-packages (from requests<3,>=2.0.0->msal<2.0.0,>=1.3.0->azure-identity<1.5.0,>=1.2.0->azureml-dataprep<2.19.0a,>=2.18.0a->azureml-dataset-runtime) (3.0.4)\n",
            "Requirement already satisfied, skipping upgrade: pycparser in /usr/local/lib/python3.7/dist-packages (from cffi>=1.12->cryptography>=2.1.4->azure-identity<1.5.0,>=1.2.0->azureml-dataprep<2.19.0a,>=2.18.0a->azureml-dataset-runtime) (2.20)\n"
          ],
          "name": "stdout"
        }
      ]
    },
    {
      "cell_type": "code",
      "metadata": {
        "colab": {
          "base_uri": "https://localhost:8080/"
        },
        "id": "Ovb383TJZtwo",
        "outputId": "6f6e6d56-07ba-4e1e-d2b3-82a77a491205"
      },
      "source": [
        "!pip install --upgrade azureml-train-automl-client"
      ],
      "execution_count": 28,
      "outputs": [
        {
          "output_type": "stream",
          "text": [
            "Requirement already up-to-date: azureml-train-automl-client in /usr/local/lib/python3.7/dist-packages (1.31.0)\n",
            "Requirement already satisfied, skipping upgrade: azureml-core~=1.31.0 in /usr/local/lib/python3.7/dist-packages (from azureml-train-automl-client) (1.31.0)\n",
            "Requirement already satisfied, skipping upgrade: azureml-automl-core~=1.31.0 in /usr/local/lib/python3.7/dist-packages (from azureml-train-automl-client) (1.31.0)\n",
            "Requirement already satisfied, skipping upgrade: azureml-dataset-runtime~=1.31.0 in /usr/local/lib/python3.7/dist-packages (from azureml-train-automl-client) (1.31.0)\n",
            "Requirement already satisfied, skipping upgrade: azureml-telemetry~=1.31.0 in /usr/local/lib/python3.7/dist-packages (from azureml-train-automl-client) (1.31.0)\n",
            "Requirement already satisfied, skipping upgrade: SecretStorage<4.0.0 in /usr/local/lib/python3.7/dist-packages (from azureml-core~=1.31.0->azureml-train-automl-client) (3.3.1)\n",
            "Requirement already satisfied, skipping upgrade: azure-graphrbac<1.0.0,>=0.40.0 in /usr/local/lib/python3.7/dist-packages (from azureml-core~=1.31.0->azureml-train-automl-client) (0.61.1)\n",
            "Requirement already satisfied, skipping upgrade: requests<3.0.0,>=2.19.1 in /usr/local/lib/python3.7/dist-packages (from azureml-core~=1.31.0->azureml-train-automl-client) (2.23.0)\n",
            "Requirement already satisfied, skipping upgrade: docker<5.0.0 in /usr/local/lib/python3.7/dist-packages (from azureml-core~=1.31.0->azureml-train-automl-client) (4.4.4)\n",
            "Requirement already satisfied, skipping upgrade: cryptography!=1.9,!=2.0.*,!=2.1.*,!=2.2.*,<4.0.0 in /usr/local/lib/python3.7/dist-packages (from azureml-core~=1.31.0->azureml-train-automl-client) (3.4.7)\n",
            "Requirement already satisfied, skipping upgrade: pyopenssl<21.0.0 in /usr/local/lib/python3.7/dist-packages (from azureml-core~=1.31.0->azureml-train-automl-client) (20.0.1)\n",
            "Requirement already satisfied, skipping upgrade: python-dateutil<3.0.0,>=2.7.3 in /usr/local/lib/python3.7/dist-packages (from azureml-core~=1.31.0->azureml-train-automl-client) (2.8.1)\n",
            "Requirement already satisfied, skipping upgrade: backports.tempfile in /usr/local/lib/python3.7/dist-packages (from azureml-core~=1.31.0->azureml-train-automl-client) (1.0)\n",
            "Requirement already satisfied, skipping upgrade: msrest<1.0.0,>=0.5.1 in /usr/local/lib/python3.7/dist-packages (from azureml-core~=1.31.0->azureml-train-automl-client) (0.6.21)\n",
            "Requirement already satisfied, skipping upgrade: azure-mgmt-authorization<1.0.0,>=0.40.0 in /usr/local/lib/python3.7/dist-packages (from azureml-core~=1.31.0->azureml-train-automl-client) (0.61.0)\n",
            "Requirement already satisfied, skipping upgrade: urllib3>=1.23 in /usr/local/lib/python3.7/dist-packages (from azureml-core~=1.31.0->azureml-train-automl-client) (1.24.3)\n",
            "Requirement already satisfied, skipping upgrade: pathspec<1.0.0 in /usr/local/lib/python3.7/dist-packages (from azureml-core~=1.31.0->azureml-train-automl-client) (0.8.1)\n",
            "Requirement already satisfied, skipping upgrade: jsonpickle<3.0.0 in /usr/local/lib/python3.7/dist-packages (from azureml-core~=1.31.0->azureml-train-automl-client) (2.0.0)\n",
            "Requirement already satisfied, skipping upgrade: azure-mgmt-containerregistry>=2.0.0 in /usr/local/lib/python3.7/dist-packages (from azureml-core~=1.31.0->azureml-train-automl-client) (8.0.0)\n",
            "Requirement already satisfied, skipping upgrade: azure-mgmt-storage<16.0.0,>=1.5.0 in /usr/local/lib/python3.7/dist-packages (from azureml-core~=1.31.0->azureml-train-automl-client) (11.2.0)\n",
            "Requirement already satisfied, skipping upgrade: pytz in /usr/local/lib/python3.7/dist-packages (from azureml-core~=1.31.0->azureml-train-automl-client) (2018.9)\n",
            "Requirement already satisfied, skipping upgrade: msrestazure>=0.4.33 in /usr/local/lib/python3.7/dist-packages (from azureml-core~=1.31.0->azureml-train-automl-client) (0.6.4)\n",
            "Requirement already satisfied, skipping upgrade: adal>=1.2.0 in /usr/local/lib/python3.7/dist-packages (from azureml-core~=1.31.0->azureml-train-automl-client) (1.2.7)\n",
            "Requirement already satisfied, skipping upgrade: PyJWT<3.0.0 in /usr/local/lib/python3.7/dist-packages (from azureml-core~=1.31.0->azureml-train-automl-client) (2.1.0)\n",
            "Requirement already satisfied, skipping upgrade: azure-mgmt-keyvault<10.0.0,>=0.40.0 in /usr/local/lib/python3.7/dist-packages (from azureml-core~=1.31.0->azureml-train-automl-client) (9.0.0)\n",
            "Requirement already satisfied, skipping upgrade: ruamel.yaml<0.17.5,>=0.15.35 in /usr/local/lib/python3.7/dist-packages (from azureml-core~=1.31.0->azureml-train-automl-client) (0.17.4)\n",
            "Requirement already satisfied, skipping upgrade: azure-mgmt-resource<15.0.0,>=1.2.1 in /usr/local/lib/python3.7/dist-packages (from azureml-core~=1.31.0->azureml-train-automl-client) (13.0.0)\n",
            "Requirement already satisfied, skipping upgrade: jmespath<1.0.0 in /usr/local/lib/python3.7/dist-packages (from azureml-core~=1.31.0->azureml-train-automl-client) (0.10.0)\n",
            "Requirement already satisfied, skipping upgrade: azure-common<2.0.0,>=1.1.12 in /usr/local/lib/python3.7/dist-packages (from azureml-core~=1.31.0->azureml-train-automl-client) (1.1.27)\n",
            "Requirement already satisfied, skipping upgrade: ndg-httpsclient in /usr/local/lib/python3.7/dist-packages (from azureml-core~=1.31.0->azureml-train-automl-client) (0.5.1)\n",
            "Requirement already satisfied, skipping upgrade: contextlib2<1.0.0 in /usr/local/lib/python3.7/dist-packages (from azureml-core~=1.31.0->azureml-train-automl-client) (0.5.5)\n",
            "Requirement already satisfied, skipping upgrade: azureml-dataprep<2.19.0a,>=2.18.0a in /usr/local/lib/python3.7/dist-packages (from azureml-dataset-runtime~=1.31.0->azureml-train-automl-client) (2.18.0)\n",
            "Requirement already satisfied, skipping upgrade: pyarrow<4.0.0,>=0.17.0 in /usr/local/lib/python3.7/dist-packages (from azureml-dataset-runtime~=1.31.0->azureml-train-automl-client) (3.0.0)\n",
            "Requirement already satisfied, skipping upgrade: numpy!=1.19.3; sys_platform == \"linux\" in /usr/local/lib/python3.7/dist-packages (from azureml-dataset-runtime~=1.31.0->azureml-train-automl-client) (1.19.5)\n",
            "Requirement already satisfied, skipping upgrade: applicationinsights in /usr/local/lib/python3.7/dist-packages (from azureml-telemetry~=1.31.0->azureml-train-automl-client) (0.11.10)\n",
            "Requirement already satisfied, skipping upgrade: jeepney>=0.6 in /usr/local/lib/python3.7/dist-packages (from SecretStorage<4.0.0->azureml-core~=1.31.0->azureml-train-automl-client) (0.6.0)\n",
            "Requirement already satisfied, skipping upgrade: certifi>=2017.4.17 in /usr/local/lib/python3.7/dist-packages (from requests<3.0.0,>=2.19.1->azureml-core~=1.31.0->azureml-train-automl-client) (2021.5.30)\n",
            "Requirement already satisfied, skipping upgrade: chardet<4,>=3.0.2 in /usr/local/lib/python3.7/dist-packages (from requests<3.0.0,>=2.19.1->azureml-core~=1.31.0->azureml-train-automl-client) (3.0.4)\n",
            "Requirement already satisfied, skipping upgrade: idna<3,>=2.5 in /usr/local/lib/python3.7/dist-packages (from requests<3.0.0,>=2.19.1->azureml-core~=1.31.0->azureml-train-automl-client) (2.10)\n",
            "Requirement already satisfied, skipping upgrade: websocket-client>=0.32.0 in /usr/local/lib/python3.7/dist-packages (from docker<5.0.0->azureml-core~=1.31.0->azureml-train-automl-client) (1.1.0)\n",
            "Requirement already satisfied, skipping upgrade: six>=1.4.0 in /usr/local/lib/python3.7/dist-packages (from docker<5.0.0->azureml-core~=1.31.0->azureml-train-automl-client) (1.15.0)\n",
            "Requirement already satisfied, skipping upgrade: cffi>=1.12 in /usr/local/lib/python3.7/dist-packages (from cryptography!=1.9,!=2.0.*,!=2.1.*,!=2.2.*,<4.0.0->azureml-core~=1.31.0->azureml-train-automl-client) (1.14.5)\n",
            "Requirement already satisfied, skipping upgrade: backports.weakref in /usr/local/lib/python3.7/dist-packages (from backports.tempfile->azureml-core~=1.31.0->azureml-train-automl-client) (1.0.post1)\n",
            "Requirement already satisfied, skipping upgrade: requests-oauthlib>=0.5.0 in /usr/local/lib/python3.7/dist-packages (from msrest<1.0.0,>=0.5.1->azureml-core~=1.31.0->azureml-train-automl-client) (1.3.0)\n",
            "Requirement already satisfied, skipping upgrade: isodate>=0.6.0 in /usr/local/lib/python3.7/dist-packages (from msrest<1.0.0,>=0.5.1->azureml-core~=1.31.0->azureml-train-automl-client) (0.6.0)\n",
            "Requirement already satisfied, skipping upgrade: importlib-metadata; python_version < \"3.8\" in /usr/local/lib/python3.7/dist-packages (from jsonpickle<3.0.0->azureml-core~=1.31.0->azureml-train-automl-client) (4.5.0)\n",
            "Requirement already satisfied, skipping upgrade: azure-mgmt-core<2.0.0,>=1.2.0 in /usr/local/lib/python3.7/dist-packages (from azure-mgmt-containerregistry>=2.0.0->azureml-core~=1.31.0->azureml-train-automl-client) (1.2.2)\n",
            "Requirement already satisfied, skipping upgrade: ruamel.yaml.clib>=0.1.2; platform_python_implementation == \"CPython\" and python_version < \"3.10\" in /usr/local/lib/python3.7/dist-packages (from ruamel.yaml<0.17.5,>=0.15.35->azureml-core~=1.31.0->azureml-train-automl-client) (0.2.4)\n",
            "Requirement already satisfied, skipping upgrade: pyasn1>=0.1.1 in /usr/local/lib/python3.7/dist-packages (from ndg-httpsclient->azureml-core~=1.31.0->azureml-train-automl-client) (0.4.8)\n",
            "Requirement already satisfied, skipping upgrade: azureml-dataprep-rslex<1.17.0a,>=1.16.0dev0 in /usr/local/lib/python3.7/dist-packages (from azureml-dataprep<2.19.0a,>=2.18.0a->azureml-dataset-runtime~=1.31.0->azureml-train-automl-client) (1.16.1)\n",
            "Requirement already satisfied, skipping upgrade: dotnetcore2<3.0.0,>=2.1.14 in /usr/local/lib/python3.7/dist-packages (from azureml-dataprep<2.19.0a,>=2.18.0a->azureml-dataset-runtime~=1.31.0->azureml-train-automl-client) (2.1.21)\n",
            "Requirement already satisfied, skipping upgrade: cloudpickle<2.0.0,>=1.1.0 in /usr/local/lib/python3.7/dist-packages (from azureml-dataprep<2.19.0a,>=2.18.0a->azureml-dataset-runtime~=1.31.0->azureml-train-automl-client) (1.3.0)\n",
            "Requirement already satisfied, skipping upgrade: azureml-dataprep-native<37.0.0,>=36.0.0 in /usr/local/lib/python3.7/dist-packages (from azureml-dataprep<2.19.0a,>=2.18.0a->azureml-dataset-runtime~=1.31.0->azureml-train-automl-client) (36.0.0)\n",
            "Requirement already satisfied, skipping upgrade: azure-identity<1.5.0,>=1.2.0 in /usr/local/lib/python3.7/dist-packages (from azureml-dataprep<2.19.0a,>=2.18.0a->azureml-dataset-runtime~=1.31.0->azureml-train-automl-client) (1.4.1)\n",
            "Requirement already satisfied, skipping upgrade: pycparser in /usr/local/lib/python3.7/dist-packages (from cffi>=1.12->cryptography!=1.9,!=2.0.*,!=2.1.*,!=2.2.*,<4.0.0->azureml-core~=1.31.0->azureml-train-automl-client) (2.20)\n",
            "Requirement already satisfied, skipping upgrade: oauthlib>=3.0.0 in /usr/local/lib/python3.7/dist-packages (from requests-oauthlib>=0.5.0->msrest<1.0.0,>=0.5.1->azureml-core~=1.31.0->azureml-train-automl-client) (3.1.1)\n",
            "Requirement already satisfied, skipping upgrade: typing-extensions>=3.6.4; python_version < \"3.8\" in /usr/local/lib/python3.7/dist-packages (from importlib-metadata; python_version < \"3.8\"->jsonpickle<3.0.0->azureml-core~=1.31.0->azureml-train-automl-client) (3.7.4.3)\n",
            "Requirement already satisfied, skipping upgrade: zipp>=0.5 in /usr/local/lib/python3.7/dist-packages (from importlib-metadata; python_version < \"3.8\"->jsonpickle<3.0.0->azureml-core~=1.31.0->azureml-train-automl-client) (3.4.1)\n",
            "Requirement already satisfied, skipping upgrade: azure-core<2.0.0,>=1.9.0 in /usr/local/lib/python3.7/dist-packages (from azure-mgmt-core<2.0.0,>=1.2.0->azure-mgmt-containerregistry>=2.0.0->azureml-core~=1.31.0->azureml-train-automl-client) (1.15.0)\n",
            "Requirement already satisfied, skipping upgrade: distro>=1.2.0 in /usr/local/lib/python3.7/dist-packages (from dotnetcore2<3.0.0,>=2.1.14->azureml-dataprep<2.19.0a,>=2.18.0a->azureml-dataset-runtime~=1.31.0->azureml-train-automl-client) (1.5.0)\n",
            "Requirement already satisfied, skipping upgrade: msal-extensions~=0.2.2 in /usr/local/lib/python3.7/dist-packages (from azure-identity<1.5.0,>=1.2.0->azureml-dataprep<2.19.0a,>=2.18.0a->azureml-dataset-runtime~=1.31.0->azureml-train-automl-client) (0.2.2)\n",
            "Requirement already satisfied, skipping upgrade: msal<2.0.0,>=1.3.0 in /usr/local/lib/python3.7/dist-packages (from azure-identity<1.5.0,>=1.2.0->azureml-dataprep<2.19.0a,>=2.18.0a->azureml-dataset-runtime~=1.31.0->azureml-train-automl-client) (1.12.0)\n",
            "Requirement already satisfied, skipping upgrade: portalocker~=1.0; platform_system != \"Windows\" in /usr/local/lib/python3.7/dist-packages (from msal-extensions~=0.2.2->azure-identity<1.5.0,>=1.2.0->azureml-dataprep<2.19.0a,>=2.18.0a->azureml-dataset-runtime~=1.31.0->azureml-train-automl-client) (1.7.1)\n"
          ],
          "name": "stdout"
        }
      ]
    },
    {
      "cell_type": "code",
      "metadata": {
        "colab": {
          "base_uri": "https://localhost:8080/"
        },
        "id": "q9P1sSx61-YV",
        "outputId": "7b317a6f-ec32-43bd-f650-0c2b8b5f3001"
      },
      "source": [
        "!pip install azureml-train-automl"
      ],
      "execution_count": 1,
      "outputs": [
        {
          "output_type": "stream",
          "text": [
            "Requirement already satisfied: azureml-train-automl in /usr/local/lib/python3.7/dist-packages (1.31.0)\n",
            "Requirement already satisfied: azureml-dataset-runtime[fuse,pandas]~=1.31.0 in /usr/local/lib/python3.7/dist-packages (from azureml-train-automl) (1.31.0)\n",
            "Requirement already satisfied: azureml-train-automl-client~=1.31.0 in /usr/local/lib/python3.7/dist-packages (from azureml-train-automl) (1.31.0)\n",
            "Requirement already satisfied: azureml-automl-core~=1.31.0 in /usr/local/lib/python3.7/dist-packages (from azureml-train-automl) (1.31.0)\n",
            "Requirement already satisfied: azureml-automl-runtime~=1.31.0 in /usr/local/lib/python3.7/dist-packages (from azureml-train-automl) (1.31.0)\n",
            "Requirement already satisfied: azureml-train-automl-runtime~=1.31.0 in /usr/local/lib/python3.7/dist-packages (from azureml-train-automl) (1.31.0)\n",
            "Requirement already satisfied: pyarrow<4.0.0,>=0.17.0 in /usr/local/lib/python3.7/dist-packages (from azureml-dataset-runtime[fuse,pandas]~=1.31.0->azureml-train-automl) (3.0.0)\n",
            "Requirement already satisfied: numpy!=1.19.3; sys_platform == \"linux\" in /usr/local/lib/python3.7/dist-packages (from azureml-dataset-runtime[fuse,pandas]~=1.31.0->azureml-train-automl) (1.19.5)\n",
            "Requirement already satisfied: azureml-dataprep<2.19.0a,>=2.18.0a in /usr/local/lib/python3.7/dist-packages (from azureml-dataset-runtime[fuse,pandas]~=1.31.0->azureml-train-automl) (2.18.0)\n",
            "Requirement already satisfied: fusepy<4.0.0,>=3.0.1; extra == \"fuse\" in /usr/local/lib/python3.7/dist-packages (from azureml-dataset-runtime[fuse,pandas]~=1.31.0->azureml-train-automl) (3.0.1)\n",
            "Requirement already satisfied: pandas<2.0.0,>=0.23.4; extra == \"pandas\" in /usr/local/lib/python3.7/dist-packages (from azureml-dataset-runtime[fuse,pandas]~=1.31.0->azureml-train-automl) (1.1.5)\n",
            "Requirement already satisfied: azureml-telemetry~=1.31.0 in /usr/local/lib/python3.7/dist-packages (from azureml-train-automl-client~=1.31.0->azureml-train-automl) (1.31.0)\n",
            "Requirement already satisfied: azureml-core~=1.31.0 in /usr/local/lib/python3.7/dist-packages (from azureml-train-automl-client~=1.31.0->azureml-train-automl) (1.31.0)\n",
            "Requirement already satisfied: onnxconverter-common<=1.6.0,>=1.4.2 in /usr/local/lib/python3.7/dist-packages (from azureml-automl-runtime~=1.31.0->azureml-train-automl) (1.6.0)\n",
            "Requirement already satisfied: scipy<=1.5.2,>=1.0.0 in /usr/local/lib/python3.7/dist-packages (from azureml-automl-runtime~=1.31.0->azureml-train-automl) (1.4.1)\n",
            "Requirement already satisfied: statsmodels<=0.10.2,>=0.9.0 in /usr/local/lib/python3.7/dist-packages (from azureml-automl-runtime~=1.31.0->azureml-train-automl) (0.10.2)\n",
            "Requirement already satisfied: py-cpuinfo==5.0.0 in /usr/local/lib/python3.7/dist-packages (from azureml-automl-runtime~=1.31.0->azureml-train-automl) (5.0.0)\n",
            "Requirement already satisfied: nimbusml<=1.8.0,>=1.7.1 in /usr/local/lib/python3.7/dist-packages (from azureml-automl-runtime~=1.31.0->azureml-train-automl) (1.8.0)\n",
            "Requirement already satisfied: botocore<=1.18.18 in /usr/local/lib/python3.7/dist-packages (from azureml-automl-runtime~=1.31.0->azureml-train-automl) (1.18.18)\n",
            "Requirement already satisfied: boto3<=1.15.18 in /usr/local/lib/python3.7/dist-packages (from azureml-automl-runtime~=1.31.0->azureml-train-automl) (1.15.18)\n",
            "Requirement already satisfied: skl2onnx==1.4.9 in /usr/local/lib/python3.7/dist-packages (from azureml-automl-runtime~=1.31.0->azureml-train-automl) (1.4.9)\n",
            "Requirement already satisfied: scikit-learn<0.23.0,>=0.19.0 in /usr/local/lib/python3.7/dist-packages (from azureml-automl-runtime~=1.31.0->azureml-train-automl) (0.22.2.post1)\n",
            "Requirement already satisfied: sklearn-pandas<=1.7.0,>=1.4.0 in /usr/local/lib/python3.7/dist-packages (from azureml-automl-runtime~=1.31.0->azureml-train-automl) (1.7.0)\n",
            "Requirement already satisfied: smart-open<=1.9.0 in /usr/local/lib/python3.7/dist-packages (from azureml-automl-runtime~=1.31.0->azureml-train-automl) (1.9.0)\n",
            "Requirement already satisfied: onnx<=1.7.0,>=1.5.0 in /usr/local/lib/python3.7/dist-packages (from azureml-automl-runtime~=1.31.0->azureml-train-automl) (1.7.0)\n",
            "Requirement already satisfied: onnxruntime<=1.8.0,>=1.3.0 in /usr/local/lib/python3.7/dist-packages (from azureml-automl-runtime~=1.31.0->azureml-train-automl) (1.8.0)\n",
            "Requirement already satisfied: dill<0.4.0,>=0.2.8 in /usr/local/lib/python3.7/dist-packages (from azureml-automl-runtime~=1.31.0->azureml-train-automl) (0.3.4)\n",
            "Requirement already satisfied: psutil<6.0.0,>=5.2.2 in /usr/local/lib/python3.7/dist-packages (from azureml-automl-runtime~=1.31.0->azureml-train-automl) (5.4.8)\n",
            "Requirement already satisfied: keras2onnx<=1.6.0,>=1.4.0 in /usr/local/lib/python3.7/dist-packages (from azureml-automl-runtime~=1.31.0->azureml-train-automl) (1.6.0)\n",
            "Requirement already satisfied: onnxmltools==1.4.1 in /usr/local/lib/python3.7/dist-packages (from azureml-automl-runtime~=1.31.0->azureml-train-automl) (1.4.1)\n",
            "Requirement already satisfied: joblib==0.14.1 in /usr/local/lib/python3.7/dist-packages (from azureml-automl-runtime~=1.31.0->azureml-train-automl) (0.14.1)\n",
            "Requirement already satisfied: pmdarima==1.1.1 in /usr/local/lib/python3.7/dist-packages (from azureml-automl-runtime~=1.31.0->azureml-train-automl) (1.1.1)\n",
            "Requirement already satisfied: gensim<3.9.0 in /usr/local/lib/python3.7/dist-packages (from azureml-automl-runtime~=1.31.0->azureml-train-automl) (3.6.0)\n",
            "Requirement already satisfied: lightgbm<=2.3.0,>=2.0.11 in /usr/local/lib/python3.7/dist-packages (from azureml-automl-runtime~=1.31.0->azureml-train-automl) (2.2.3)\n",
            "Requirement already satisfied: azure-storage-queue~=12.1 in /usr/local/lib/python3.7/dist-packages (from azureml-train-automl-runtime~=1.31.0->azureml-train-automl) (12.1.6)\n",
            "Requirement already satisfied: azureml-interpret~=1.31.0 in /usr/local/lib/python3.7/dist-packages (from azureml-train-automl-runtime~=1.31.0->azureml-train-automl) (1.31.0)\n",
            "Requirement already satisfied: azureml-defaults~=1.31.0 in /usr/local/lib/python3.7/dist-packages (from azureml-train-automl-runtime~=1.31.0->azureml-train-automl) (1.31.0)\n",
            "Requirement already satisfied: jinja2<=2.11.2 in /usr/local/lib/python3.7/dist-packages (from azureml-train-automl-runtime~=1.31.0->azureml-train-automl) (2.11.2)\n",
            "Requirement already satisfied: azureml-dataprep-native<37.0.0,>=36.0.0 in /usr/local/lib/python3.7/dist-packages (from azureml-dataprep<2.19.0a,>=2.18.0a->azureml-dataset-runtime[fuse,pandas]~=1.31.0->azureml-train-automl) (36.0.0)\n",
            "Requirement already satisfied: azure-identity<1.5.0,>=1.2.0 in /usr/local/lib/python3.7/dist-packages (from azureml-dataprep<2.19.0a,>=2.18.0a->azureml-dataset-runtime[fuse,pandas]~=1.31.0->azureml-train-automl) (1.4.1)\n",
            "Requirement already satisfied: azureml-dataprep-rslex<1.17.0a,>=1.16.0dev0 in /usr/local/lib/python3.7/dist-packages (from azureml-dataprep<2.19.0a,>=2.18.0a->azureml-dataset-runtime[fuse,pandas]~=1.31.0->azureml-train-automl) (1.16.1)\n",
            "Requirement already satisfied: cloudpickle<2.0.0,>=1.1.0 in /usr/local/lib/python3.7/dist-packages (from azureml-dataprep<2.19.0a,>=2.18.0a->azureml-dataset-runtime[fuse,pandas]~=1.31.0->azureml-train-automl) (1.3.0)\n",
            "Requirement already satisfied: dotnetcore2<3.0.0,>=2.1.14 in /usr/local/lib/python3.7/dist-packages (from azureml-dataprep<2.19.0a,>=2.18.0a->azureml-dataset-runtime[fuse,pandas]~=1.31.0->azureml-train-automl) (2.1.21)\n",
            "Requirement already satisfied: pytz>=2017.2 in /usr/local/lib/python3.7/dist-packages (from pandas<2.0.0,>=0.23.4; extra == \"pandas\"->azureml-dataset-runtime[fuse,pandas]~=1.31.0->azureml-train-automl) (2018.9)\n",
            "Requirement already satisfied: python-dateutil>=2.7.3 in /usr/local/lib/python3.7/dist-packages (from pandas<2.0.0,>=0.23.4; extra == \"pandas\"->azureml-dataset-runtime[fuse,pandas]~=1.31.0->azureml-train-automl) (2.8.1)\n",
            "Requirement already satisfied: applicationinsights in /usr/local/lib/python3.7/dist-packages (from azureml-telemetry~=1.31.0->azureml-train-automl-client~=1.31.0->azureml-train-automl) (0.11.10)\n",
            "Requirement already satisfied: contextlib2<1.0.0 in /usr/local/lib/python3.7/dist-packages (from azureml-core~=1.31.0->azureml-train-automl-client~=1.31.0->azureml-train-automl) (0.5.5)\n",
            "Requirement already satisfied: azure-graphrbac<1.0.0,>=0.40.0 in /usr/local/lib/python3.7/dist-packages (from azureml-core~=1.31.0->azureml-train-automl-client~=1.31.0->azureml-train-automl) (0.61.1)\n",
            "Requirement already satisfied: msrestazure>=0.4.33 in /usr/local/lib/python3.7/dist-packages (from azureml-core~=1.31.0->azureml-train-automl-client~=1.31.0->azureml-train-automl) (0.6.4)\n",
            "Requirement already satisfied: docker<5.0.0 in /usr/local/lib/python3.7/dist-packages (from azureml-core~=1.31.0->azureml-train-automl-client~=1.31.0->azureml-train-automl) (4.4.4)\n",
            "Requirement already satisfied: ruamel.yaml<0.17.5,>=0.15.35 in /usr/local/lib/python3.7/dist-packages (from azureml-core~=1.31.0->azureml-train-automl-client~=1.31.0->azureml-train-automl) (0.17.4)\n",
            "Requirement already satisfied: azure-mgmt-authorization<1.0.0,>=0.40.0 in /usr/local/lib/python3.7/dist-packages (from azureml-core~=1.31.0->azureml-train-automl-client~=1.31.0->azureml-train-automl) (0.61.0)\n",
            "Requirement already satisfied: azure-mgmt-keyvault<10.0.0,>=0.40.0 in /usr/local/lib/python3.7/dist-packages (from azureml-core~=1.31.0->azureml-train-automl-client~=1.31.0->azureml-train-automl) (9.0.0)\n",
            "Requirement already satisfied: azure-mgmt-storage<16.0.0,>=1.5.0 in /usr/local/lib/python3.7/dist-packages (from azureml-core~=1.31.0->azureml-train-automl-client~=1.31.0->azureml-train-automl) (11.2.0)\n",
            "Requirement already satisfied: jmespath<1.0.0 in /usr/local/lib/python3.7/dist-packages (from azureml-core~=1.31.0->azureml-train-automl-client~=1.31.0->azureml-train-automl) (0.10.0)\n",
            "Requirement already satisfied: azure-common<2.0.0,>=1.1.12 in /usr/local/lib/python3.7/dist-packages (from azureml-core~=1.31.0->azureml-train-automl-client~=1.31.0->azureml-train-automl) (1.1.27)\n",
            "Requirement already satisfied: azure-mgmt-resource<15.0.0,>=1.2.1 in /usr/local/lib/python3.7/dist-packages (from azureml-core~=1.31.0->azureml-train-automl-client~=1.31.0->azureml-train-automl) (13.0.0)\n",
            "Requirement already satisfied: cryptography!=1.9,!=2.0.*,!=2.1.*,!=2.2.*,<4.0.0 in /usr/local/lib/python3.7/dist-packages (from azureml-core~=1.31.0->azureml-train-automl-client~=1.31.0->azureml-train-automl) (3.4.7)\n",
            "Requirement already satisfied: ndg-httpsclient in /usr/local/lib/python3.7/dist-packages (from azureml-core~=1.31.0->azureml-train-automl-client~=1.31.0->azureml-train-automl) (0.5.1)\n",
            "Requirement already satisfied: azure-mgmt-containerregistry>=2.0.0 in /usr/local/lib/python3.7/dist-packages (from azureml-core~=1.31.0->azureml-train-automl-client~=1.31.0->azureml-train-automl) (8.0.0)\n",
            "Requirement already satisfied: adal>=1.2.0 in /usr/local/lib/python3.7/dist-packages (from azureml-core~=1.31.0->azureml-train-automl-client~=1.31.0->azureml-train-automl) (1.2.7)\n",
            "Requirement already satisfied: msrest<1.0.0,>=0.5.1 in /usr/local/lib/python3.7/dist-packages (from azureml-core~=1.31.0->azureml-train-automl-client~=1.31.0->azureml-train-automl) (0.6.21)\n",
            "Requirement already satisfied: pyopenssl<21.0.0 in /usr/local/lib/python3.7/dist-packages (from azureml-core~=1.31.0->azureml-train-automl-client~=1.31.0->azureml-train-automl) (20.0.1)\n",
            "Requirement already satisfied: urllib3>=1.23 in /usr/local/lib/python3.7/dist-packages (from azureml-core~=1.31.0->azureml-train-automl-client~=1.31.0->azureml-train-automl) (1.24.3)\n",
            "Requirement already satisfied: PyJWT<3.0.0 in /usr/local/lib/python3.7/dist-packages (from azureml-core~=1.31.0->azureml-train-automl-client~=1.31.0->azureml-train-automl) (2.1.0)\n",
            "Requirement already satisfied: requests<3.0.0,>=2.19.1 in /usr/local/lib/python3.7/dist-packages (from azureml-core~=1.31.0->azureml-train-automl-client~=1.31.0->azureml-train-automl) (2.23.0)\n",
            "Requirement already satisfied: jsonpickle<3.0.0 in /usr/local/lib/python3.7/dist-packages (from azureml-core~=1.31.0->azureml-train-automl-client~=1.31.0->azureml-train-automl) (2.0.0)\n",
            "Requirement already satisfied: backports.tempfile in /usr/local/lib/python3.7/dist-packages (from azureml-core~=1.31.0->azureml-train-automl-client~=1.31.0->azureml-train-automl) (1.0)\n",
            "Requirement already satisfied: SecretStorage<4.0.0 in /usr/local/lib/python3.7/dist-packages (from azureml-core~=1.31.0->azureml-train-automl-client~=1.31.0->azureml-train-automl) (3.3.1)\n",
            "Requirement already satisfied: pathspec<1.0.0 in /usr/local/lib/python3.7/dist-packages (from azureml-core~=1.31.0->azureml-train-automl-client~=1.31.0->azureml-train-automl) (0.8.1)\n",
            "Requirement already satisfied: protobuf in /usr/local/lib/python3.7/dist-packages (from onnxconverter-common<=1.6.0,>=1.4.2->azureml-automl-runtime~=1.31.0->azureml-train-automl) (3.12.4)\n",
            "Requirement already satisfied: six in /usr/local/lib/python3.7/dist-packages (from onnxconverter-common<=1.6.0,>=1.4.2->azureml-automl-runtime~=1.31.0->azureml-train-automl) (1.15.0)\n",
            "Requirement already satisfied: patsy>=0.4.0 in /usr/local/lib/python3.7/dist-packages (from statsmodels<=0.10.2,>=0.9.0->azureml-automl-runtime~=1.31.0->azureml-train-automl) (0.5.1)\n",
            "Requirement already satisfied: s3transfer<0.4.0,>=0.3.0 in /usr/local/lib/python3.7/dist-packages (from boto3<=1.15.18->azureml-automl-runtime~=1.31.0->azureml-train-automl) (0.3.7)\n",
            "Requirement already satisfied: boto>=2.32 in /usr/local/lib/python3.7/dist-packages (from smart-open<=1.9.0->azureml-automl-runtime~=1.31.0->azureml-train-automl) (2.49.0)\n",
            "Requirement already satisfied: typing-extensions>=3.6.2.1 in /usr/local/lib/python3.7/dist-packages (from onnx<=1.7.0,>=1.5.0->azureml-automl-runtime~=1.31.0->azureml-train-automl) (3.7.4.3)\n",
            "Requirement already satisfied: flatbuffers in /usr/local/lib/python3.7/dist-packages (from onnxruntime<=1.8.0,>=1.3.0->azureml-automl-runtime~=1.31.0->azureml-train-automl) (1.12)\n",
            "Requirement already satisfied: fire in /usr/local/lib/python3.7/dist-packages (from keras2onnx<=1.6.0,>=1.4.0->azureml-automl-runtime~=1.31.0->azureml-train-automl) (0.4.0)\n",
            "Requirement already satisfied: Cython>=0.29 in /usr/local/lib/python3.7/dist-packages (from pmdarima==1.1.1->azureml-automl-runtime~=1.31.0->azureml-train-automl) (0.29.23)\n",
            "Requirement already satisfied: azure-core<2.0.0,>=1.10.0 in /usr/local/lib/python3.7/dist-packages (from azure-storage-queue~=12.1->azureml-train-automl-runtime~=1.31.0->azureml-train-automl) (1.15.0)\n",
            "Requirement already satisfied: interpret-community==0.17.* in /usr/local/lib/python3.7/dist-packages (from azureml-interpret~=1.31.0->azureml-train-automl-runtime~=1.31.0->azureml-train-automl) (0.17.2)\n",
            "Requirement already satisfied: flask==1.0.3 in /usr/local/lib/python3.7/dist-packages (from azureml-defaults~=1.31.0->azureml-train-automl-runtime~=1.31.0->azureml-train-automl) (1.0.3)\n",
            "Requirement already satisfied: werkzeug<=1.0.1,>=0.16.1 in /usr/local/lib/python3.7/dist-packages (from azureml-defaults~=1.31.0->azureml-train-automl-runtime~=1.31.0->azureml-train-automl) (1.0.1)\n",
            "Requirement already satisfied: json-logging-py==0.2 in /usr/local/lib/python3.7/dist-packages (from azureml-defaults~=1.31.0->azureml-train-automl-runtime~=1.31.0->azureml-train-automl) (0.2)\n",
            "Requirement already satisfied: azureml-model-management-sdk==1.0.1b6.post1 in /usr/local/lib/python3.7/dist-packages (from azureml-defaults~=1.31.0->azureml-train-automl-runtime~=1.31.0->azureml-train-automl) (1.0.1b6.post1)\n",
            "Requirement already satisfied: gunicorn==20.1.0 in /usr/local/lib/python3.7/dist-packages (from azureml-defaults~=1.31.0->azureml-train-automl-runtime~=1.31.0->azureml-train-automl) (20.1.0)\n",
            "Requirement already satisfied: configparser==3.7.4 in /usr/local/lib/python3.7/dist-packages (from azureml-defaults~=1.31.0->azureml-train-automl-runtime~=1.31.0->azureml-train-automl) (3.7.4)\n",
            "Requirement already satisfied: MarkupSafe>=0.23 in /usr/local/lib/python3.7/dist-packages (from jinja2<=2.11.2->azureml-train-automl-runtime~=1.31.0->azureml-train-automl) (2.0.1)\n",
            "Requirement already satisfied: msal<2.0.0,>=1.3.0 in /usr/local/lib/python3.7/dist-packages (from azure-identity<1.5.0,>=1.2.0->azureml-dataprep<2.19.0a,>=2.18.0a->azureml-dataset-runtime[fuse,pandas]~=1.31.0->azureml-train-automl) (1.12.0)\n",
            "Requirement already satisfied: msal-extensions~=0.2.2 in /usr/local/lib/python3.7/dist-packages (from azure-identity<1.5.0,>=1.2.0->azureml-dataprep<2.19.0a,>=2.18.0a->azureml-dataset-runtime[fuse,pandas]~=1.31.0->azureml-train-automl) (0.2.2)\n",
            "Requirement already satisfied: distro>=1.2.0 in /usr/local/lib/python3.7/dist-packages (from dotnetcore2<3.0.0,>=2.1.14->azureml-dataprep<2.19.0a,>=2.18.0a->azureml-dataset-runtime[fuse,pandas]~=1.31.0->azureml-train-automl) (1.5.0)\n",
            "Requirement already satisfied: websocket-client>=0.32.0 in /usr/local/lib/python3.7/dist-packages (from docker<5.0.0->azureml-core~=1.31.0->azureml-train-automl-client~=1.31.0->azureml-train-automl) (1.1.0)\n",
            "Requirement already satisfied: ruamel.yaml.clib>=0.1.2; platform_python_implementation == \"CPython\" and python_version < \"3.10\" in /usr/local/lib/python3.7/dist-packages (from ruamel.yaml<0.17.5,>=0.15.35->azureml-core~=1.31.0->azureml-train-automl-client~=1.31.0->azureml-train-automl) (0.2.4)\n",
            "Requirement already satisfied: azure-mgmt-core<2.0.0,>=1.2.0 in /usr/local/lib/python3.7/dist-packages (from azure-mgmt-keyvault<10.0.0,>=0.40.0->azureml-core~=1.31.0->azureml-train-automl-client~=1.31.0->azureml-train-automl) (1.2.2)\n",
            "Requirement already satisfied: cffi>=1.12 in /usr/local/lib/python3.7/dist-packages (from cryptography!=1.9,!=2.0.*,!=2.1.*,!=2.2.*,<4.0.0->azureml-core~=1.31.0->azureml-train-automl-client~=1.31.0->azureml-train-automl) (1.14.5)\n",
            "Requirement already satisfied: pyasn1>=0.1.1 in /usr/local/lib/python3.7/dist-packages (from ndg-httpsclient->azureml-core~=1.31.0->azureml-train-automl-client~=1.31.0->azureml-train-automl) (0.4.8)\n",
            "Requirement already satisfied: requests-oauthlib>=0.5.0 in /usr/local/lib/python3.7/dist-packages (from msrest<1.0.0,>=0.5.1->azureml-core~=1.31.0->azureml-train-automl-client~=1.31.0->azureml-train-automl) (1.3.0)\n",
            "Requirement already satisfied: certifi>=2017.4.17 in /usr/local/lib/python3.7/dist-packages (from msrest<1.0.0,>=0.5.1->azureml-core~=1.31.0->azureml-train-automl-client~=1.31.0->azureml-train-automl) (2021.5.30)\n",
            "Requirement already satisfied: isodate>=0.6.0 in /usr/local/lib/python3.7/dist-packages (from msrest<1.0.0,>=0.5.1->azureml-core~=1.31.0->azureml-train-automl-client~=1.31.0->azureml-train-automl) (0.6.0)\n",
            "Requirement already satisfied: idna<3,>=2.5 in /usr/local/lib/python3.7/dist-packages (from requests<3.0.0,>=2.19.1->azureml-core~=1.31.0->azureml-train-automl-client~=1.31.0->azureml-train-automl) (2.10)\n",
            "Requirement already satisfied: chardet<4,>=3.0.2 in /usr/local/lib/python3.7/dist-packages (from requests<3.0.0,>=2.19.1->azureml-core~=1.31.0->azureml-train-automl-client~=1.31.0->azureml-train-automl) (3.0.4)\n",
            "Requirement already satisfied: importlib-metadata; python_version < \"3.8\" in /usr/local/lib/python3.7/dist-packages (from jsonpickle<3.0.0->azureml-core~=1.31.0->azureml-train-automl-client~=1.31.0->azureml-train-automl) (4.5.0)\n",
            "Requirement already satisfied: backports.weakref in /usr/local/lib/python3.7/dist-packages (from backports.tempfile->azureml-core~=1.31.0->azureml-train-automl-client~=1.31.0->azureml-train-automl) (1.0.post1)\n",
            "Requirement already satisfied: jeepney>=0.6 in /usr/local/lib/python3.7/dist-packages (from SecretStorage<4.0.0->azureml-core~=1.31.0->azureml-train-automl-client~=1.31.0->azureml-train-automl) (0.6.0)\n",
            "Requirement already satisfied: setuptools in /usr/local/lib/python3.7/dist-packages (from protobuf->onnxconverter-common<=1.6.0,>=1.4.2->azureml-automl-runtime~=1.31.0->azureml-train-automl) (57.0.0)\n",
            "Requirement already satisfied: termcolor in /usr/local/lib/python3.7/dist-packages (from fire->keras2onnx<=1.6.0,>=1.4.0->azureml-automl-runtime~=1.31.0->azureml-train-automl) (1.1.0)\n",
            "Requirement already satisfied: packaging in /usr/local/lib/python3.7/dist-packages (from interpret-community==0.17.*->azureml-interpret~=1.31.0->azureml-train-automl-runtime~=1.31.0->azureml-train-automl) (20.9)\n",
            "Requirement already satisfied: interpret-core[required]<=0.2.4,>=0.1.20 in /usr/local/lib/python3.7/dist-packages (from interpret-community==0.17.*->azureml-interpret~=1.31.0->azureml-train-automl-runtime~=1.31.0->azureml-train-automl) (0.2.4)\n",
            "Requirement already satisfied: shap<=0.34.0,>=0.20.0 in /usr/local/lib/python3.7/dist-packages (from interpret-community==0.17.*->azureml-interpret~=1.31.0->azureml-train-automl-runtime~=1.31.0->azureml-train-automl) (0.34.0)\n",
            "Requirement already satisfied: click>=5.1 in /usr/local/lib/python3.7/dist-packages (from flask==1.0.3->azureml-defaults~=1.31.0->azureml-train-automl-runtime~=1.31.0->azureml-train-automl) (7.1.2)\n",
            "Requirement already satisfied: itsdangerous>=0.24 in /usr/local/lib/python3.7/dist-packages (from flask==1.0.3->azureml-defaults~=1.31.0->azureml-train-automl-runtime~=1.31.0->azureml-train-automl) (1.1.0)\n",
            "Requirement already satisfied: liac-arff>=2.1.1 in /usr/local/lib/python3.7/dist-packages (from azureml-model-management-sdk==1.0.1b6.post1->azureml-defaults~=1.31.0->azureml-train-automl-runtime~=1.31.0->azureml-train-automl) (2.5.0)\n",
            "Requirement already satisfied: portalocker~=1.0; platform_system != \"Windows\" in /usr/local/lib/python3.7/dist-packages (from msal-extensions~=0.2.2->azure-identity<1.5.0,>=1.2.0->azureml-dataprep<2.19.0a,>=2.18.0a->azureml-dataset-runtime[fuse,pandas]~=1.31.0->azureml-train-automl) (1.7.1)\n",
            "Requirement already satisfied: pycparser in /usr/local/lib/python3.7/dist-packages (from cffi>=1.12->cryptography!=1.9,!=2.0.*,!=2.1.*,!=2.2.*,<4.0.0->azureml-core~=1.31.0->azureml-train-automl-client~=1.31.0->azureml-train-automl) (2.20)\n",
            "Requirement already satisfied: oauthlib>=3.0.0 in /usr/local/lib/python3.7/dist-packages (from requests-oauthlib>=0.5.0->msrest<1.0.0,>=0.5.1->azureml-core~=1.31.0->azureml-train-automl-client~=1.31.0->azureml-train-automl) (3.1.1)\n",
            "Requirement already satisfied: zipp>=0.5 in /usr/local/lib/python3.7/dist-packages (from importlib-metadata; python_version < \"3.8\"->jsonpickle<3.0.0->azureml-core~=1.31.0->azureml-train-automl-client~=1.31.0->azureml-train-automl) (3.4.1)\n",
            "Requirement already satisfied: pyparsing>=2.0.2 in /usr/local/lib/python3.7/dist-packages (from packaging->interpret-community==0.17.*->azureml-interpret~=1.31.0->azureml-train-automl-runtime~=1.31.0->azureml-train-automl) (2.4.7)\n",
            "Requirement already satisfied: tqdm>4.25.0 in /usr/local/lib/python3.7/dist-packages (from shap<=0.34.0,>=0.20.0->interpret-community==0.17.*->azureml-interpret~=1.31.0->azureml-train-automl-runtime~=1.31.0->azureml-train-automl) (4.41.1)\n"
          ],
          "name": "stdout"
        }
      ]
    },
    {
      "cell_type": "code",
      "metadata": {
        "colab": {
          "base_uri": "https://localhost:8080/"
        },
        "id": "QjyvgBYt43Rq",
        "outputId": "7540fbd2-6407-44b5-ec2a-7e92991392f7"
      },
      "source": [
        "!pip install azureml-pipeline"
      ],
      "execution_count": 1,
      "outputs": [
        {
          "output_type": "stream",
          "text": [
            "Requirement already satisfied: azureml-pipeline in /usr/local/lib/python3.7/dist-packages (1.31.0)\n",
            "Requirement already satisfied: azureml-pipeline-core~=1.31.0 in /usr/local/lib/python3.7/dist-packages (from azureml-pipeline) (1.31.0)\n",
            "Requirement already satisfied: azureml-pipeline-steps~=1.31.0 in /usr/local/lib/python3.7/dist-packages (from azureml-pipeline) (1.31.0)\n",
            "Requirement already satisfied: azureml-core~=1.31.0 in /usr/local/lib/python3.7/dist-packages (from azureml-pipeline-core~=1.31.0->azureml-pipeline) (1.31.0)\n",
            "Requirement already satisfied: azureml-train-core~=1.31.0 in /usr/local/lib/python3.7/dist-packages (from azureml-pipeline-steps~=1.31.0->azureml-pipeline) (1.31.0)\n",
            "Requirement already satisfied: azureml-train-automl-client~=1.31.0 in /usr/local/lib/python3.7/dist-packages (from azureml-pipeline-steps~=1.31.0->azureml-pipeline) (1.31.0)\n",
            "Requirement already satisfied: cryptography!=1.9,!=2.0.*,!=2.1.*,!=2.2.*,<4.0.0 in /usr/local/lib/python3.7/dist-packages (from azureml-core~=1.31.0->azureml-pipeline-core~=1.31.0->azureml-pipeline) (3.4.7)\n",
            "Requirement already satisfied: azure-mgmt-resource<15.0.0,>=1.2.1 in /usr/local/lib/python3.7/dist-packages (from azureml-core~=1.31.0->azureml-pipeline-core~=1.31.0->azureml-pipeline) (13.0.0)\n",
            "Requirement already satisfied: azure-mgmt-storage<16.0.0,>=1.5.0 in /usr/local/lib/python3.7/dist-packages (from azureml-core~=1.31.0->azureml-pipeline-core~=1.31.0->azureml-pipeline) (11.2.0)\n",
            "Requirement already satisfied: PyJWT<3.0.0 in /usr/local/lib/python3.7/dist-packages (from azureml-core~=1.31.0->azureml-pipeline-core~=1.31.0->azureml-pipeline) (2.1.0)\n",
            "Requirement already satisfied: msrest<1.0.0,>=0.5.1 in /usr/local/lib/python3.7/dist-packages (from azureml-core~=1.31.0->azureml-pipeline-core~=1.31.0->azureml-pipeline) (0.6.21)\n",
            "Requirement already satisfied: ndg-httpsclient in /usr/local/lib/python3.7/dist-packages (from azureml-core~=1.31.0->azureml-pipeline-core~=1.31.0->azureml-pipeline) (0.5.1)\n",
            "Requirement already satisfied: azure-common<2.0.0,>=1.1.12 in /usr/local/lib/python3.7/dist-packages (from azureml-core~=1.31.0->azureml-pipeline-core~=1.31.0->azureml-pipeline) (1.1.27)\n",
            "Requirement already satisfied: pytz in /usr/local/lib/python3.7/dist-packages (from azureml-core~=1.31.0->azureml-pipeline-core~=1.31.0->azureml-pipeline) (2018.9)\n",
            "Requirement already satisfied: azure-mgmt-keyvault<10.0.0,>=0.40.0 in /usr/local/lib/python3.7/dist-packages (from azureml-core~=1.31.0->azureml-pipeline-core~=1.31.0->azureml-pipeline) (9.0.0)\n",
            "Requirement already satisfied: python-dateutil<3.0.0,>=2.7.3 in /usr/local/lib/python3.7/dist-packages (from azureml-core~=1.31.0->azureml-pipeline-core~=1.31.0->azureml-pipeline) (2.8.1)\n",
            "Requirement already satisfied: msrestazure>=0.4.33 in /usr/local/lib/python3.7/dist-packages (from azureml-core~=1.31.0->azureml-pipeline-core~=1.31.0->azureml-pipeline) (0.6.4)\n",
            "Requirement already satisfied: azure-graphrbac<1.0.0,>=0.40.0 in /usr/local/lib/python3.7/dist-packages (from azureml-core~=1.31.0->azureml-pipeline-core~=1.31.0->azureml-pipeline) (0.61.1)\n",
            "Requirement already satisfied: pathspec<1.0.0 in /usr/local/lib/python3.7/dist-packages (from azureml-core~=1.31.0->azureml-pipeline-core~=1.31.0->azureml-pipeline) (0.8.1)\n",
            "Requirement already satisfied: azure-mgmt-authorization<1.0.0,>=0.40.0 in /usr/local/lib/python3.7/dist-packages (from azureml-core~=1.31.0->azureml-pipeline-core~=1.31.0->azureml-pipeline) (0.61.0)\n",
            "Requirement already satisfied: backports.tempfile in /usr/local/lib/python3.7/dist-packages (from azureml-core~=1.31.0->azureml-pipeline-core~=1.31.0->azureml-pipeline) (1.0)\n",
            "Requirement already satisfied: pyopenssl<21.0.0 in /usr/local/lib/python3.7/dist-packages (from azureml-core~=1.31.0->azureml-pipeline-core~=1.31.0->azureml-pipeline) (20.0.1)\n",
            "Requirement already satisfied: docker<5.0.0 in /usr/local/lib/python3.7/dist-packages (from azureml-core~=1.31.0->azureml-pipeline-core~=1.31.0->azureml-pipeline) (4.4.4)\n",
            "Requirement already satisfied: azure-mgmt-containerregistry>=2.0.0 in /usr/local/lib/python3.7/dist-packages (from azureml-core~=1.31.0->azureml-pipeline-core~=1.31.0->azureml-pipeline) (8.0.0)\n",
            "Requirement already satisfied: adal>=1.2.0 in /usr/local/lib/python3.7/dist-packages (from azureml-core~=1.31.0->azureml-pipeline-core~=1.31.0->azureml-pipeline) (1.2.7)\n",
            "Requirement already satisfied: SecretStorage<4.0.0 in /usr/local/lib/python3.7/dist-packages (from azureml-core~=1.31.0->azureml-pipeline-core~=1.31.0->azureml-pipeline) (3.3.1)\n",
            "Requirement already satisfied: requests<3.0.0,>=2.19.1 in /usr/local/lib/python3.7/dist-packages (from azureml-core~=1.31.0->azureml-pipeline-core~=1.31.0->azureml-pipeline) (2.23.0)\n",
            "Requirement already satisfied: urllib3>=1.23 in /usr/local/lib/python3.7/dist-packages (from azureml-core~=1.31.0->azureml-pipeline-core~=1.31.0->azureml-pipeline) (1.24.3)\n",
            "Requirement already satisfied: jmespath<1.0.0 in /usr/local/lib/python3.7/dist-packages (from azureml-core~=1.31.0->azureml-pipeline-core~=1.31.0->azureml-pipeline) (0.10.0)\n",
            "Requirement already satisfied: jsonpickle<3.0.0 in /usr/local/lib/python3.7/dist-packages (from azureml-core~=1.31.0->azureml-pipeline-core~=1.31.0->azureml-pipeline) (2.0.0)\n",
            "Requirement already satisfied: ruamel.yaml<0.17.5,>=0.15.35 in /usr/local/lib/python3.7/dist-packages (from azureml-core~=1.31.0->azureml-pipeline-core~=1.31.0->azureml-pipeline) (0.17.4)\n",
            "Requirement already satisfied: contextlib2<1.0.0 in /usr/local/lib/python3.7/dist-packages (from azureml-core~=1.31.0->azureml-pipeline-core~=1.31.0->azureml-pipeline) (0.5.5)\n",
            "Requirement already satisfied: azureml-train-restclients-hyperdrive~=1.31.0 in /usr/local/lib/python3.7/dist-packages (from azureml-train-core~=1.31.0->azureml-pipeline-steps~=1.31.0->azureml-pipeline) (1.31.0)\n",
            "Requirement already satisfied: azureml-telemetry~=1.31.0 in /usr/local/lib/python3.7/dist-packages (from azureml-train-core~=1.31.0->azureml-pipeline-steps~=1.31.0->azureml-pipeline) (1.31.0)\n",
            "Requirement already satisfied: azureml-automl-core~=1.31.0 in /usr/local/lib/python3.7/dist-packages (from azureml-train-automl-client~=1.31.0->azureml-pipeline-steps~=1.31.0->azureml-pipeline) (1.31.0)\n",
            "Requirement already satisfied: azureml-dataset-runtime~=1.31.0 in /usr/local/lib/python3.7/dist-packages (from azureml-train-automl-client~=1.31.0->azureml-pipeline-steps~=1.31.0->azureml-pipeline) (1.31.0)\n",
            "Requirement already satisfied: cffi>=1.12 in /usr/local/lib/python3.7/dist-packages (from cryptography!=1.9,!=2.0.*,!=2.1.*,!=2.2.*,<4.0.0->azureml-core~=1.31.0->azureml-pipeline-core~=1.31.0->azureml-pipeline) (1.14.5)\n",
            "Requirement already satisfied: isodate>=0.6.0 in /usr/local/lib/python3.7/dist-packages (from msrest<1.0.0,>=0.5.1->azureml-core~=1.31.0->azureml-pipeline-core~=1.31.0->azureml-pipeline) (0.6.0)\n",
            "Requirement already satisfied: certifi>=2017.4.17 in /usr/local/lib/python3.7/dist-packages (from msrest<1.0.0,>=0.5.1->azureml-core~=1.31.0->azureml-pipeline-core~=1.31.0->azureml-pipeline) (2021.5.30)\n",
            "Requirement already satisfied: requests-oauthlib>=0.5.0 in /usr/local/lib/python3.7/dist-packages (from msrest<1.0.0,>=0.5.1->azureml-core~=1.31.0->azureml-pipeline-core~=1.31.0->azureml-pipeline) (1.3.0)\n",
            "Requirement already satisfied: pyasn1>=0.1.1 in /usr/local/lib/python3.7/dist-packages (from ndg-httpsclient->azureml-core~=1.31.0->azureml-pipeline-core~=1.31.0->azureml-pipeline) (0.4.8)\n",
            "Requirement already satisfied: azure-mgmt-core<2.0.0,>=1.2.0 in /usr/local/lib/python3.7/dist-packages (from azure-mgmt-keyvault<10.0.0,>=0.40.0->azureml-core~=1.31.0->azureml-pipeline-core~=1.31.0->azureml-pipeline) (1.2.2)\n",
            "Requirement already satisfied: six>=1.5 in /usr/local/lib/python3.7/dist-packages (from python-dateutil<3.0.0,>=2.7.3->azureml-core~=1.31.0->azureml-pipeline-core~=1.31.0->azureml-pipeline) (1.15.0)\n",
            "Requirement already satisfied: backports.weakref in /usr/local/lib/python3.7/dist-packages (from backports.tempfile->azureml-core~=1.31.0->azureml-pipeline-core~=1.31.0->azureml-pipeline) (1.0.post1)\n",
            "Requirement already satisfied: websocket-client>=0.32.0 in /usr/local/lib/python3.7/dist-packages (from docker<5.0.0->azureml-core~=1.31.0->azureml-pipeline-core~=1.31.0->azureml-pipeline) (1.1.0)\n",
            "Requirement already satisfied: jeepney>=0.6 in /usr/local/lib/python3.7/dist-packages (from SecretStorage<4.0.0->azureml-core~=1.31.0->azureml-pipeline-core~=1.31.0->azureml-pipeline) (0.6.0)\n",
            "Requirement already satisfied: idna<3,>=2.5 in /usr/local/lib/python3.7/dist-packages (from requests<3.0.0,>=2.19.1->azureml-core~=1.31.0->azureml-pipeline-core~=1.31.0->azureml-pipeline) (2.10)\n",
            "Requirement already satisfied: chardet<4,>=3.0.2 in /usr/local/lib/python3.7/dist-packages (from requests<3.0.0,>=2.19.1->azureml-core~=1.31.0->azureml-pipeline-core~=1.31.0->azureml-pipeline) (3.0.4)\n",
            "Requirement already satisfied: importlib-metadata; python_version < \"3.8\" in /usr/local/lib/python3.7/dist-packages (from jsonpickle<3.0.0->azureml-core~=1.31.0->azureml-pipeline-core~=1.31.0->azureml-pipeline) (4.5.0)\n",
            "Requirement already satisfied: ruamel.yaml.clib>=0.1.2; platform_python_implementation == \"CPython\" and python_version < \"3.10\" in /usr/local/lib/python3.7/dist-packages (from ruamel.yaml<0.17.5,>=0.15.35->azureml-core~=1.31.0->azureml-pipeline-core~=1.31.0->azureml-pipeline) (0.2.4)\n",
            "Requirement already satisfied: applicationinsights in /usr/local/lib/python3.7/dist-packages (from azureml-telemetry~=1.31.0->azureml-train-core~=1.31.0->azureml-pipeline-steps~=1.31.0->azureml-pipeline) (0.11.10)\n",
            "Requirement already satisfied: pyarrow<4.0.0,>=0.17.0 in /usr/local/lib/python3.7/dist-packages (from azureml-dataset-runtime~=1.31.0->azureml-train-automl-client~=1.31.0->azureml-pipeline-steps~=1.31.0->azureml-pipeline) (3.0.0)\n",
            "Requirement already satisfied: numpy!=1.19.3; sys_platform == \"linux\" in /usr/local/lib/python3.7/dist-packages (from azureml-dataset-runtime~=1.31.0->azureml-train-automl-client~=1.31.0->azureml-pipeline-steps~=1.31.0->azureml-pipeline) (1.19.5)\n",
            "Requirement already satisfied: azureml-dataprep<2.19.0a,>=2.18.0a in /usr/local/lib/python3.7/dist-packages (from azureml-dataset-runtime~=1.31.0->azureml-train-automl-client~=1.31.0->azureml-pipeline-steps~=1.31.0->azureml-pipeline) (2.18.0)\n",
            "Requirement already satisfied: pycparser in /usr/local/lib/python3.7/dist-packages (from cffi>=1.12->cryptography!=1.9,!=2.0.*,!=2.1.*,!=2.2.*,<4.0.0->azureml-core~=1.31.0->azureml-pipeline-core~=1.31.0->azureml-pipeline) (2.20)\n",
            "Requirement already satisfied: oauthlib>=3.0.0 in /usr/local/lib/python3.7/dist-packages (from requests-oauthlib>=0.5.0->msrest<1.0.0,>=0.5.1->azureml-core~=1.31.0->azureml-pipeline-core~=1.31.0->azureml-pipeline) (3.1.1)\n",
            "Requirement already satisfied: azure-core<2.0.0,>=1.9.0 in /usr/local/lib/python3.7/dist-packages (from azure-mgmt-core<2.0.0,>=1.2.0->azure-mgmt-keyvault<10.0.0,>=0.40.0->azureml-core~=1.31.0->azureml-pipeline-core~=1.31.0->azureml-pipeline) (1.15.0)\n",
            "Requirement already satisfied: zipp>=0.5 in /usr/local/lib/python3.7/dist-packages (from importlib-metadata; python_version < \"3.8\"->jsonpickle<3.0.0->azureml-core~=1.31.0->azureml-pipeline-core~=1.31.0->azureml-pipeline) (3.4.1)\n",
            "Requirement already satisfied: typing-extensions>=3.6.4; python_version < \"3.8\" in /usr/local/lib/python3.7/dist-packages (from importlib-metadata; python_version < \"3.8\"->jsonpickle<3.0.0->azureml-core~=1.31.0->azureml-pipeline-core~=1.31.0->azureml-pipeline) (3.7.4.3)\n",
            "Requirement already satisfied: azureml-dataprep-rslex<1.17.0a,>=1.16.0dev0 in /usr/local/lib/python3.7/dist-packages (from azureml-dataprep<2.19.0a,>=2.18.0a->azureml-dataset-runtime~=1.31.0->azureml-train-automl-client~=1.31.0->azureml-pipeline-steps~=1.31.0->azureml-pipeline) (1.16.1)\n",
            "Requirement already satisfied: azureml-dataprep-native<37.0.0,>=36.0.0 in /usr/local/lib/python3.7/dist-packages (from azureml-dataprep<2.19.0a,>=2.18.0a->azureml-dataset-runtime~=1.31.0->azureml-train-automl-client~=1.31.0->azureml-pipeline-steps~=1.31.0->azureml-pipeline) (36.0.0)\n",
            "Requirement already satisfied: azure-identity<1.5.0,>=1.2.0 in /usr/local/lib/python3.7/dist-packages (from azureml-dataprep<2.19.0a,>=2.18.0a->azureml-dataset-runtime~=1.31.0->azureml-train-automl-client~=1.31.0->azureml-pipeline-steps~=1.31.0->azureml-pipeline) (1.4.1)\n",
            "Requirement already satisfied: dotnetcore2<3.0.0,>=2.1.14 in /usr/local/lib/python3.7/dist-packages (from azureml-dataprep<2.19.0a,>=2.18.0a->azureml-dataset-runtime~=1.31.0->azureml-train-automl-client~=1.31.0->azureml-pipeline-steps~=1.31.0->azureml-pipeline) (2.1.21)\n",
            "Requirement already satisfied: cloudpickle<2.0.0,>=1.1.0 in /usr/local/lib/python3.7/dist-packages (from azureml-dataprep<2.19.0a,>=2.18.0a->azureml-dataset-runtime~=1.31.0->azureml-train-automl-client~=1.31.0->azureml-pipeline-steps~=1.31.0->azureml-pipeline) (1.3.0)\n",
            "Requirement already satisfied: msal-extensions~=0.2.2 in /usr/local/lib/python3.7/dist-packages (from azure-identity<1.5.0,>=1.2.0->azureml-dataprep<2.19.0a,>=2.18.0a->azureml-dataset-runtime~=1.31.0->azureml-train-automl-client~=1.31.0->azureml-pipeline-steps~=1.31.0->azureml-pipeline) (0.2.2)\n",
            "Requirement already satisfied: msal<2.0.0,>=1.3.0 in /usr/local/lib/python3.7/dist-packages (from azure-identity<1.5.0,>=1.2.0->azureml-dataprep<2.19.0a,>=2.18.0a->azureml-dataset-runtime~=1.31.0->azureml-train-automl-client~=1.31.0->azureml-pipeline-steps~=1.31.0->azureml-pipeline) (1.12.0)\n",
            "Requirement already satisfied: distro>=1.2.0 in /usr/local/lib/python3.7/dist-packages (from dotnetcore2<3.0.0,>=2.1.14->azureml-dataprep<2.19.0a,>=2.18.0a->azureml-dataset-runtime~=1.31.0->azureml-train-automl-client~=1.31.0->azureml-pipeline-steps~=1.31.0->azureml-pipeline) (1.5.0)\n",
            "Requirement already satisfied: portalocker~=1.0; platform_system != \"Windows\" in /usr/local/lib/python3.7/dist-packages (from msal-extensions~=0.2.2->azure-identity<1.5.0,>=1.2.0->azureml-dataprep<2.19.0a,>=2.18.0a->azureml-dataset-runtime~=1.31.0->azureml-train-automl-client~=1.31.0->azureml-pipeline-steps~=1.31.0->azureml-pipeline) (1.7.1)\n"
          ],
          "name": "stdout"
        }
      ]
    },
    {
      "cell_type": "code",
      "metadata": {
        "colab": {
          "base_uri": "https://localhost:8080/"
        },
        "id": "dETDrFwS8JpX",
        "outputId": "c88b986c-3f97-400b-d885-0feb41510508"
      },
      "source": [
        "!pip install azureml-widgets"
      ],
      "execution_count": 1,
      "outputs": [
        {
          "output_type": "stream",
          "text": [
            "Requirement already satisfied: azureml-widgets in /usr/local/lib/python3.7/dist-packages (1.31.0)\n",
            "Requirement already satisfied: ipywidgets>=7.0.0 in /usr/local/lib/python3.7/dist-packages (from azureml-widgets) (7.6.3)\n",
            "Requirement already satisfied: azureml-telemetry~=1.31.0 in /usr/local/lib/python3.7/dist-packages (from azureml-widgets) (1.31.0)\n",
            "Requirement already satisfied: azure-storage-blob>=12.6.0 in /usr/local/lib/python3.7/dist-packages (from azureml-widgets) (12.8.1)\n",
            "Requirement already satisfied: azureml-core~=1.31.0 in /usr/local/lib/python3.7/dist-packages (from azureml-widgets) (1.31.0)\n",
            "Requirement already satisfied: nbformat>=4.2.0 in /usr/local/lib/python3.7/dist-packages (from ipywidgets>=7.0.0->azureml-widgets) (5.1.3)\n",
            "Requirement already satisfied: jupyterlab-widgets>=1.0.0; python_version >= \"3.6\" in /usr/local/lib/python3.7/dist-packages (from ipywidgets>=7.0.0->azureml-widgets) (1.0.0)\n",
            "Requirement already satisfied: traitlets>=4.3.1 in /usr/local/lib/python3.7/dist-packages (from ipywidgets>=7.0.0->azureml-widgets) (5.0.5)\n",
            "Requirement already satisfied: ipykernel>=4.5.1 in /usr/local/lib/python3.7/dist-packages (from ipywidgets>=7.0.0->azureml-widgets) (4.10.1)\n",
            "Requirement already satisfied: widgetsnbextension~=3.5.0 in /usr/local/lib/python3.7/dist-packages (from ipywidgets>=7.0.0->azureml-widgets) (3.5.1)\n",
            "Requirement already satisfied: ipython>=4.0.0; python_version >= \"3.3\" in /usr/local/lib/python3.7/dist-packages (from ipywidgets>=7.0.0->azureml-widgets) (5.5.0)\n",
            "Requirement already satisfied: applicationinsights in /usr/local/lib/python3.7/dist-packages (from azureml-telemetry~=1.31.0->azureml-widgets) (0.11.10)\n",
            "Requirement already satisfied: cryptography>=2.1.4 in /usr/local/lib/python3.7/dist-packages (from azure-storage-blob>=12.6.0->azureml-widgets) (3.4.7)\n",
            "Requirement already satisfied: msrest>=0.6.18 in /usr/local/lib/python3.7/dist-packages (from azure-storage-blob>=12.6.0->azureml-widgets) (0.6.21)\n",
            "Requirement already satisfied: azure-core<2.0.0,>=1.10.0 in /usr/local/lib/python3.7/dist-packages (from azure-storage-blob>=12.6.0->azureml-widgets) (1.15.0)\n",
            "Requirement already satisfied: ndg-httpsclient in /usr/local/lib/python3.7/dist-packages (from azureml-core~=1.31.0->azureml-widgets) (0.5.1)\n",
            "Requirement already satisfied: azure-mgmt-containerregistry>=2.0.0 in /usr/local/lib/python3.7/dist-packages (from azureml-core~=1.31.0->azureml-widgets) (8.0.0)\n",
            "Requirement already satisfied: urllib3>=1.23 in /usr/local/lib/python3.7/dist-packages (from azureml-core~=1.31.0->azureml-widgets) (1.24.3)\n",
            "Requirement already satisfied: pyopenssl<21.0.0 in /usr/local/lib/python3.7/dist-packages (from azureml-core~=1.31.0->azureml-widgets) (20.0.1)\n",
            "Requirement already satisfied: PyJWT<3.0.0 in /usr/local/lib/python3.7/dist-packages (from azureml-core~=1.31.0->azureml-widgets) (2.1.0)\n",
            "Requirement already satisfied: azure-mgmt-keyvault<10.0.0,>=0.40.0 in /usr/local/lib/python3.7/dist-packages (from azureml-core~=1.31.0->azureml-widgets) (9.0.0)\n",
            "Requirement already satisfied: docker<5.0.0 in /usr/local/lib/python3.7/dist-packages (from azureml-core~=1.31.0->azureml-widgets) (4.4.4)\n",
            "Requirement already satisfied: azure-common<2.0.0,>=1.1.12 in /usr/local/lib/python3.7/dist-packages (from azureml-core~=1.31.0->azureml-widgets) (1.1.27)\n",
            "Requirement already satisfied: SecretStorage<4.0.0 in /usr/local/lib/python3.7/dist-packages (from azureml-core~=1.31.0->azureml-widgets) (3.3.1)\n",
            "Requirement already satisfied: ruamel.yaml<0.17.5,>=0.15.35 in /usr/local/lib/python3.7/dist-packages (from azureml-core~=1.31.0->azureml-widgets) (0.17.4)\n",
            "Requirement already satisfied: msrestazure>=0.4.33 in /usr/local/lib/python3.7/dist-packages (from azureml-core~=1.31.0->azureml-widgets) (0.6.4)\n",
            "Requirement already satisfied: requests<3.0.0,>=2.19.1 in /usr/local/lib/python3.7/dist-packages (from azureml-core~=1.31.0->azureml-widgets) (2.23.0)\n",
            "Requirement already satisfied: contextlib2<1.0.0 in /usr/local/lib/python3.7/dist-packages (from azureml-core~=1.31.0->azureml-widgets) (0.5.5)\n",
            "Requirement already satisfied: pathspec<1.0.0 in /usr/local/lib/python3.7/dist-packages (from azureml-core~=1.31.0->azureml-widgets) (0.8.1)\n",
            "Requirement already satisfied: azure-mgmt-authorization<1.0.0,>=0.40.0 in /usr/local/lib/python3.7/dist-packages (from azureml-core~=1.31.0->azureml-widgets) (0.61.0)\n",
            "Requirement already satisfied: azure-mgmt-storage<16.0.0,>=1.5.0 in /usr/local/lib/python3.7/dist-packages (from azureml-core~=1.31.0->azureml-widgets) (11.2.0)\n",
            "Requirement already satisfied: jsonpickle<3.0.0 in /usr/local/lib/python3.7/dist-packages (from azureml-core~=1.31.0->azureml-widgets) (2.0.0)\n",
            "Requirement already satisfied: azure-graphrbac<1.0.0,>=0.40.0 in /usr/local/lib/python3.7/dist-packages (from azureml-core~=1.31.0->azureml-widgets) (0.61.1)\n",
            "Requirement already satisfied: python-dateutil<3.0.0,>=2.7.3 in /usr/local/lib/python3.7/dist-packages (from azureml-core~=1.31.0->azureml-widgets) (2.8.1)\n",
            "Requirement already satisfied: backports.tempfile in /usr/local/lib/python3.7/dist-packages (from azureml-core~=1.31.0->azureml-widgets) (1.0)\n",
            "Requirement already satisfied: jmespath<1.0.0 in /usr/local/lib/python3.7/dist-packages (from azureml-core~=1.31.0->azureml-widgets) (0.10.0)\n",
            "Requirement already satisfied: pytz in /usr/local/lib/python3.7/dist-packages (from azureml-core~=1.31.0->azureml-widgets) (2018.9)\n",
            "Requirement already satisfied: adal>=1.2.0 in /usr/local/lib/python3.7/dist-packages (from azureml-core~=1.31.0->azureml-widgets) (1.2.7)\n",
            "Requirement already satisfied: azure-mgmt-resource<15.0.0,>=1.2.1 in /usr/local/lib/python3.7/dist-packages (from azureml-core~=1.31.0->azureml-widgets) (13.0.0)\n",
            "Requirement already satisfied: jsonschema!=2.5.0,>=2.4 in /usr/local/lib/python3.7/dist-packages (from nbformat>=4.2.0->ipywidgets>=7.0.0->azureml-widgets) (2.6.0)\n",
            "Requirement already satisfied: ipython-genutils in /usr/local/lib/python3.7/dist-packages (from nbformat>=4.2.0->ipywidgets>=7.0.0->azureml-widgets) (0.2.0)\n",
            "Requirement already satisfied: jupyter-core in /usr/local/lib/python3.7/dist-packages (from nbformat>=4.2.0->ipywidgets>=7.0.0->azureml-widgets) (4.7.1)\n",
            "Requirement already satisfied: jupyter-client in /usr/local/lib/python3.7/dist-packages (from ipykernel>=4.5.1->ipywidgets>=7.0.0->azureml-widgets) (5.3.5)\n",
            "Requirement already satisfied: tornado>=4.0 in /usr/local/lib/python3.7/dist-packages (from ipykernel>=4.5.1->ipywidgets>=7.0.0->azureml-widgets) (5.1.1)\n",
            "Requirement already satisfied: notebook>=4.4.1 in /usr/local/lib/python3.7/dist-packages (from widgetsnbextension~=3.5.0->ipywidgets>=7.0.0->azureml-widgets) (5.3.1)\n",
            "Requirement already satisfied: pexpect; sys_platform != \"win32\" in /usr/local/lib/python3.7/dist-packages (from ipython>=4.0.0; python_version >= \"3.3\"->ipywidgets>=7.0.0->azureml-widgets) (4.8.0)\n",
            "Requirement already satisfied: pickleshare in /usr/local/lib/python3.7/dist-packages (from ipython>=4.0.0; python_version >= \"3.3\"->ipywidgets>=7.0.0->azureml-widgets) (0.7.5)\n",
            "Requirement already satisfied: decorator in /usr/local/lib/python3.7/dist-packages (from ipython>=4.0.0; python_version >= \"3.3\"->ipywidgets>=7.0.0->azureml-widgets) (4.4.2)\n",
            "Requirement already satisfied: simplegeneric>0.8 in /usr/local/lib/python3.7/dist-packages (from ipython>=4.0.0; python_version >= \"3.3\"->ipywidgets>=7.0.0->azureml-widgets) (0.8.1)\n",
            "Requirement already satisfied: prompt-toolkit<2.0.0,>=1.0.4 in /usr/local/lib/python3.7/dist-packages (from ipython>=4.0.0; python_version >= \"3.3\"->ipywidgets>=7.0.0->azureml-widgets) (1.0.18)\n",
            "Requirement already satisfied: pygments in /usr/local/lib/python3.7/dist-packages (from ipython>=4.0.0; python_version >= \"3.3\"->ipywidgets>=7.0.0->azureml-widgets) (2.6.1)\n",
            "Requirement already satisfied: setuptools>=18.5 in /usr/local/lib/python3.7/dist-packages (from ipython>=4.0.0; python_version >= \"3.3\"->ipywidgets>=7.0.0->azureml-widgets) (57.0.0)\n",
            "Requirement already satisfied: cffi>=1.12 in /usr/local/lib/python3.7/dist-packages (from cryptography>=2.1.4->azure-storage-blob>=12.6.0->azureml-widgets) (1.14.5)\n",
            "Requirement already satisfied: requests-oauthlib>=0.5.0 in /usr/local/lib/python3.7/dist-packages (from msrest>=0.6.18->azure-storage-blob>=12.6.0->azureml-widgets) (1.3.0)\n",
            "Requirement already satisfied: isodate>=0.6.0 in /usr/local/lib/python3.7/dist-packages (from msrest>=0.6.18->azure-storage-blob>=12.6.0->azureml-widgets) (0.6.0)\n",
            "Requirement already satisfied: certifi>=2017.4.17 in /usr/local/lib/python3.7/dist-packages (from msrest>=0.6.18->azure-storage-blob>=12.6.0->azureml-widgets) (2021.5.30)\n",
            "Requirement already satisfied: six>=1.11.0 in /usr/local/lib/python3.7/dist-packages (from azure-core<2.0.0,>=1.10.0->azure-storage-blob>=12.6.0->azureml-widgets) (1.15.0)\n",
            "Requirement already satisfied: pyasn1>=0.1.1 in /usr/local/lib/python3.7/dist-packages (from ndg-httpsclient->azureml-core~=1.31.0->azureml-widgets) (0.4.8)\n",
            "Requirement already satisfied: azure-mgmt-core<2.0.0,>=1.2.0 in /usr/local/lib/python3.7/dist-packages (from azure-mgmt-containerregistry>=2.0.0->azureml-core~=1.31.0->azureml-widgets) (1.2.2)\n",
            "Requirement already satisfied: websocket-client>=0.32.0 in /usr/local/lib/python3.7/dist-packages (from docker<5.0.0->azureml-core~=1.31.0->azureml-widgets) (1.1.0)\n",
            "Requirement already satisfied: jeepney>=0.6 in /usr/local/lib/python3.7/dist-packages (from SecretStorage<4.0.0->azureml-core~=1.31.0->azureml-widgets) (0.6.0)\n",
            "Requirement already satisfied: ruamel.yaml.clib>=0.1.2; platform_python_implementation == \"CPython\" and python_version < \"3.10\" in /usr/local/lib/python3.7/dist-packages (from ruamel.yaml<0.17.5,>=0.15.35->azureml-core~=1.31.0->azureml-widgets) (0.2.4)\n",
            "Requirement already satisfied: idna<3,>=2.5 in /usr/local/lib/python3.7/dist-packages (from requests<3.0.0,>=2.19.1->azureml-core~=1.31.0->azureml-widgets) (2.10)\n",
            "Requirement already satisfied: chardet<4,>=3.0.2 in /usr/local/lib/python3.7/dist-packages (from requests<3.0.0,>=2.19.1->azureml-core~=1.31.0->azureml-widgets) (3.0.4)\n",
            "Requirement already satisfied: importlib-metadata; python_version < \"3.8\" in /usr/local/lib/python3.7/dist-packages (from jsonpickle<3.0.0->azureml-core~=1.31.0->azureml-widgets) (4.5.0)\n",
            "Requirement already satisfied: backports.weakref in /usr/local/lib/python3.7/dist-packages (from backports.tempfile->azureml-core~=1.31.0->azureml-widgets) (1.0.post1)\n",
            "Requirement already satisfied: pyzmq>=13 in /usr/local/lib/python3.7/dist-packages (from jupyter-client->ipykernel>=4.5.1->ipywidgets>=7.0.0->azureml-widgets) (22.1.0)\n",
            "Requirement already satisfied: jinja2 in /usr/local/lib/python3.7/dist-packages (from notebook>=4.4.1->widgetsnbextension~=3.5.0->ipywidgets>=7.0.0->azureml-widgets) (2.11.2)\n",
            "Requirement already satisfied: Send2Trash in /usr/local/lib/python3.7/dist-packages (from notebook>=4.4.1->widgetsnbextension~=3.5.0->ipywidgets>=7.0.0->azureml-widgets) (1.5.0)\n",
            "Requirement already satisfied: nbconvert in /usr/local/lib/python3.7/dist-packages (from notebook>=4.4.1->widgetsnbextension~=3.5.0->ipywidgets>=7.0.0->azureml-widgets) (5.6.1)\n",
            "Requirement already satisfied: terminado>=0.8.1 in /usr/local/lib/python3.7/dist-packages (from notebook>=4.4.1->widgetsnbextension~=3.5.0->ipywidgets>=7.0.0->azureml-widgets) (0.10.1)\n",
            "Requirement already satisfied: ptyprocess>=0.5 in /usr/local/lib/python3.7/dist-packages (from pexpect; sys_platform != \"win32\"->ipython>=4.0.0; python_version >= \"3.3\"->ipywidgets>=7.0.0->azureml-widgets) (0.7.0)\n",
            "Requirement already satisfied: wcwidth in /usr/local/lib/python3.7/dist-packages (from prompt-toolkit<2.0.0,>=1.0.4->ipython>=4.0.0; python_version >= \"3.3\"->ipywidgets>=7.0.0->azureml-widgets) (0.2.5)\n",
            "Requirement already satisfied: pycparser in /usr/local/lib/python3.7/dist-packages (from cffi>=1.12->cryptography>=2.1.4->azure-storage-blob>=12.6.0->azureml-widgets) (2.20)\n",
            "Requirement already satisfied: oauthlib>=3.0.0 in /usr/local/lib/python3.7/dist-packages (from requests-oauthlib>=0.5.0->msrest>=0.6.18->azure-storage-blob>=12.6.0->azureml-widgets) (3.1.1)\n",
            "Requirement already satisfied: zipp>=0.5 in /usr/local/lib/python3.7/dist-packages (from importlib-metadata; python_version < \"3.8\"->jsonpickle<3.0.0->azureml-core~=1.31.0->azureml-widgets) (3.4.1)\n",
            "Requirement already satisfied: typing-extensions>=3.6.4; python_version < \"3.8\" in /usr/local/lib/python3.7/dist-packages (from importlib-metadata; python_version < \"3.8\"->jsonpickle<3.0.0->azureml-core~=1.31.0->azureml-widgets) (3.7.4.3)\n",
            "Requirement already satisfied: MarkupSafe>=0.23 in /usr/local/lib/python3.7/dist-packages (from jinja2->notebook>=4.4.1->widgetsnbextension~=3.5.0->ipywidgets>=7.0.0->azureml-widgets) (2.0.1)\n",
            "Requirement already satisfied: entrypoints>=0.2.2 in /usr/local/lib/python3.7/dist-packages (from nbconvert->notebook>=4.4.1->widgetsnbextension~=3.5.0->ipywidgets>=7.0.0->azureml-widgets) (0.3)\n",
            "Requirement already satisfied: testpath in /usr/local/lib/python3.7/dist-packages (from nbconvert->notebook>=4.4.1->widgetsnbextension~=3.5.0->ipywidgets>=7.0.0->azureml-widgets) (0.5.0)\n",
            "Requirement already satisfied: bleach in /usr/local/lib/python3.7/dist-packages (from nbconvert->notebook>=4.4.1->widgetsnbextension~=3.5.0->ipywidgets>=7.0.0->azureml-widgets) (3.3.0)\n",
            "Requirement already satisfied: mistune<2,>=0.8.1 in /usr/local/lib/python3.7/dist-packages (from nbconvert->notebook>=4.4.1->widgetsnbextension~=3.5.0->ipywidgets>=7.0.0->azureml-widgets) (0.8.4)\n",
            "Requirement already satisfied: defusedxml in /usr/local/lib/python3.7/dist-packages (from nbconvert->notebook>=4.4.1->widgetsnbextension~=3.5.0->ipywidgets>=7.0.0->azureml-widgets) (0.7.1)\n",
            "Requirement already satisfied: pandocfilters>=1.4.1 in /usr/local/lib/python3.7/dist-packages (from nbconvert->notebook>=4.4.1->widgetsnbextension~=3.5.0->ipywidgets>=7.0.0->azureml-widgets) (1.4.3)\n",
            "Requirement already satisfied: packaging in /usr/local/lib/python3.7/dist-packages (from bleach->nbconvert->notebook>=4.4.1->widgetsnbextension~=3.5.0->ipywidgets>=7.0.0->azureml-widgets) (20.9)\n",
            "Requirement already satisfied: webencodings in /usr/local/lib/python3.7/dist-packages (from bleach->nbconvert->notebook>=4.4.1->widgetsnbextension~=3.5.0->ipywidgets>=7.0.0->azureml-widgets) (0.5.1)\n",
            "Requirement already satisfied: pyparsing>=2.0.2 in /usr/local/lib/python3.7/dist-packages (from packaging->bleach->nbconvert->notebook>=4.4.1->widgetsnbextension~=3.5.0->ipywidgets>=7.0.0->azureml-widgets) (2.4.7)\n"
          ],
          "name": "stdout"
        }
      ]
    },
    {
      "cell_type": "code",
      "metadata": {
        "colab": {
          "base_uri": "https://localhost:8080/"
        },
        "id": "awwEVucyYLWG",
        "outputId": "102c6ca5-c1a5-45a4-f95f-56826b0ef44e"
      },
      "source": [
        "!python --version"
      ],
      "execution_count": 34,
      "outputs": [
        {
          "output_type": "stream",
          "text": [
            "Python 3.7.10\n"
          ],
          "name": "stdout"
        }
      ]
    },
    {
      "cell_type": "markdown",
      "metadata": {
        "id": "u1wj9FGSSuSk"
      },
      "source": [
        "# Automated ML\n",
        "\n",
        "TODO: Import Dependencies. In the cell below, import all the dependencies that you will need to complete the project."
      ]
    },
    {
      "cell_type": "code",
      "metadata": {
        "gather": {
          "logged": 1598423888013
        },
        "jupyter": {
          "outputs_hidden": false,
          "source_hidden": false
        },
        "nteract": {
          "transient": {
            "deleting": false
          }
        },
        "id": "rll_adZXSuSn"
      },
      "source": [
        "from azureml.core.experiment import Experiment\n",
        "from azureml.core.workspace import Workspace\n",
        "from azureml.core.dataset import Dataset"
      ],
      "execution_count": 2,
      "outputs": []
    },
    {
      "cell_type": "markdown",
      "metadata": {
        "id": "VQsRsFu0SuSn"
      },
      "source": [
        "## Dataset\n",
        "\n",
        "### Overview\n",
        "TODO: In this markdown cell, give an overview of the dataset you are using. Also mention the task you will be performing.\n",
        "\n",
        "\n",
        "TODO: Get data. In the cell below, write code to access the data you will be using in this project. Remember that the dataset needs to be external."
      ]
    },
    {
      "cell_type": "code",
      "metadata": {
        "gather": {
          "logged": 1598423890461
        },
        "jupyter": {
          "outputs_hidden": false,
          "source_hidden": false
        },
        "nteract": {
          "transient": {
            "deleting": false
          }
        },
        "id": "l2Pxwo2NSuSo"
      },
      "source": [
        "ws = Workspace.from_config()\n",
        "\n",
        "# choose a name for experiment\n",
        "experiment_name = 'capstone-project-experiment'\n",
        "\n",
        "experiment = Experiment(ws, experiment_name)"
      ],
      "execution_count": 3,
      "outputs": []
    },
    {
      "cell_type": "code",
      "metadata": {
        "id": "eRf_NQwxUlLo"
      },
      "source": [
        "dataset = Dataset.get_by_name(ws, \"default-ibk-dataset\")\n",
        "df = dataset.to_pandas_dataframe()"
      ],
      "execution_count": 4,
      "outputs": []
    },
    {
      "cell_type": "code",
      "metadata": {
        "colab": {
          "base_uri": "https://localhost:8080/",
          "height": 225
        },
        "id": "KJYkM_1XZ6LI",
        "outputId": "a0de63d1-596f-4bb0-9724-01bbcdb53abb"
      },
      "source": [
        "df.head()"
      ],
      "execution_count": 5,
      "outputs": [
        {
          "output_type": "execute_result",
          "data": {
            "text/html": [
              "<div>\n",
              "<style scoped>\n",
              "    .dataframe tbody tr th:only-of-type {\n",
              "        vertical-align: middle;\n",
              "    }\n",
              "\n",
              "    .dataframe tbody tr th {\n",
              "        vertical-align: top;\n",
              "    }\n",
              "\n",
              "    .dataframe thead th {\n",
              "        text-align: right;\n",
              "    }\n",
              "</style>\n",
              "<table border=\"1\" class=\"dataframe\">\n",
              "  <thead>\n",
              "    <tr style=\"text-align: right;\">\n",
              "      <th></th>\n",
              "      <th>key_value</th>\n",
              "      <th>target</th>\n",
              "      <th>edad</th>\n",
              "      <th>sexo</th>\n",
              "      <th>est_cvl</th>\n",
              "      <th>sit_lab</th>\n",
              "      <th>ctd_hijos</th>\n",
              "      <th>flg_sin_email</th>\n",
              "      <th>ctd_veh</th>\n",
              "      <th>tip_lvledu</th>\n",
              "      <th>total_mean_of_saldo_count_per_month</th>\n",
              "      <th>total_sum_of_saldo_count_per_month</th>\n",
              "      <th>total_min_of_saldo_count_per_month</th>\n",
              "      <th>total_max_of_saldo_count_per_month</th>\n",
              "      <th>total_mean_of_saldo_sum_per_month</th>\n",
              "      <th>total_sum_of_saldo_sum_per_month</th>\n",
              "      <th>total_min_of_saldo_sum_per_month</th>\n",
              "      <th>total_max_of_saldo_sum_per_month</th>\n",
              "      <th>total_min_of_saldo_min_per_month</th>\n",
              "      <th>total_mean_of_saldo_min_per_month</th>\n",
              "      <th>total_max_of_saldo_max_per_month</th>\n",
              "      <th>total_mean_of_saldo_max_per_month</th>\n",
              "      <th>total_min_of_condicion_min_per_month</th>\n",
              "      <th>total_mean_of_condicion_min_per_month</th>\n",
              "      <th>total_max_of_condicion_max_per_month</th>\n",
              "      <th>total_mean_of_condicion_max_per_month</th>\n",
              "      <th>total_mean_of_condicion_mean_per_month</th>\n",
              "    </tr>\n",
              "  </thead>\n",
              "  <tbody>\n",
              "    <tr>\n",
              "      <th>0</th>\n",
              "      <td>0</td>\n",
              "      <td>0</td>\n",
              "      <td>-0.983651</td>\n",
              "      <td>1.0</td>\n",
              "      <td>4.0</td>\n",
              "      <td>2.0</td>\n",
              "      <td>0.0</td>\n",
              "      <td>1.0</td>\n",
              "      <td>0.0</td>\n",
              "      <td>0.0</td>\n",
              "      <td>4.416667</td>\n",
              "      <td>53</td>\n",
              "      <td>3</td>\n",
              "      <td>7</td>\n",
              "      <td>4.245681</td>\n",
              "      <td>50.948174</td>\n",
              "      <td>2.984509</td>\n",
              "      <td>6.829334</td>\n",
              "      <td>0.927141</td>\n",
              "      <td>0.936001</td>\n",
              "      <td>1.072672</td>\n",
              "      <td>1.014399</td>\n",
              "      <td>0</td>\n",
              "      <td>0.0</td>\n",
              "      <td>0</td>\n",
              "      <td>0.000</td>\n",
              "      <td>0.000000</td>\n",
              "    </tr>\n",
              "    <tr>\n",
              "      <th>1</th>\n",
              "      <td>1</td>\n",
              "      <td>0</td>\n",
              "      <td>0.000953</td>\n",
              "      <td>1.0</td>\n",
              "      <td>4.0</td>\n",
              "      <td>1.0</td>\n",
              "      <td>0.0</td>\n",
              "      <td>1.0</td>\n",
              "      <td>1.0</td>\n",
              "      <td>0.0</td>\n",
              "      <td>2.666667</td>\n",
              "      <td>8</td>\n",
              "      <td>2</td>\n",
              "      <td>4</td>\n",
              "      <td>2.486586</td>\n",
              "      <td>7.459759</td>\n",
              "      <td>1.864763</td>\n",
              "      <td>3.729381</td>\n",
              "      <td>0.927119</td>\n",
              "      <td>0.927238</td>\n",
              "      <td>0.938372</td>\n",
              "      <td>0.938051</td>\n",
              "      <td>0</td>\n",
              "      <td>0.0</td>\n",
              "      <td>0</td>\n",
              "      <td>0.000</td>\n",
              "      <td>0.000000</td>\n",
              "    </tr>\n",
              "    <tr>\n",
              "      <th>2</th>\n",
              "      <td>2</td>\n",
              "      <td>0</td>\n",
              "      <td>0.531124</td>\n",
              "      <td>0.0</td>\n",
              "      <td>4.0</td>\n",
              "      <td>1.0</td>\n",
              "      <td>0.0</td>\n",
              "      <td>1.0</td>\n",
              "      <td>0.0</td>\n",
              "      <td>7.0</td>\n",
              "      <td>3.000000</td>\n",
              "      <td>6</td>\n",
              "      <td>3</td>\n",
              "      <td>3</td>\n",
              "      <td>2.818454</td>\n",
              "      <td>5.636907</td>\n",
              "      <td>2.787291</td>\n",
              "      <td>2.849616</td>\n",
              "      <td>0.927119</td>\n",
              "      <td>0.927119</td>\n",
              "      <td>0.995254</td>\n",
              "      <td>0.964115</td>\n",
              "      <td>0</td>\n",
              "      <td>0.0</td>\n",
              "      <td>0</td>\n",
              "      <td>0.000</td>\n",
              "      <td>0.000000</td>\n",
              "    </tr>\n",
              "    <tr>\n",
              "      <th>3</th>\n",
              "      <td>3</td>\n",
              "      <td>0</td>\n",
              "      <td>-1.135129</td>\n",
              "      <td>0.0</td>\n",
              "      <td>4.0</td>\n",
              "      <td>1.0</td>\n",
              "      <td>0.0</td>\n",
              "      <td>1.0</td>\n",
              "      <td>0.0</td>\n",
              "      <td>7.0</td>\n",
              "      <td>3.500000</td>\n",
              "      <td>7</td>\n",
              "      <td>3</td>\n",
              "      <td>4</td>\n",
              "      <td>3.596903</td>\n",
              "      <td>7.193806</td>\n",
              "      <td>3.117342</td>\n",
              "      <td>4.076464</td>\n",
              "      <td>0.927209</td>\n",
              "      <td>0.928015</td>\n",
              "      <td>1.114270</td>\n",
              "      <td>1.104669</td>\n",
              "      <td>0</td>\n",
              "      <td>0.0</td>\n",
              "      <td>0</td>\n",
              "      <td>0.000</td>\n",
              "      <td>0.000000</td>\n",
              "    </tr>\n",
              "    <tr>\n",
              "      <th>4</th>\n",
              "      <td>4</td>\n",
              "      <td>1</td>\n",
              "      <td>-1.438084</td>\n",
              "      <td>0.0</td>\n",
              "      <td>4.0</td>\n",
              "      <td>1.0</td>\n",
              "      <td>0.0</td>\n",
              "      <td>1.0</td>\n",
              "      <td>0.0</td>\n",
              "      <td>0.0</td>\n",
              "      <td>7.250000</td>\n",
              "      <td>58</td>\n",
              "      <td>3</td>\n",
              "      <td>12</td>\n",
              "      <td>6.797555</td>\n",
              "      <td>54.380440</td>\n",
              "      <td>2.823033</td>\n",
              "      <td>11.229775</td>\n",
              "      <td>0.927220</td>\n",
              "      <td>0.928755</td>\n",
              "      <td>0.957766</td>\n",
              "      <td>0.952834</td>\n",
              "      <td>0</td>\n",
              "      <td>0.0</td>\n",
              "      <td>80</td>\n",
              "      <td>19.125</td>\n",
              "      <td>1.730303</td>\n",
              "    </tr>\n",
              "  </tbody>\n",
              "</table>\n",
              "</div>"
            ],
            "text/plain": [
              "   key_value  ...  total_mean_of_condicion_mean_per_month\n",
              "0          0  ...                                0.000000\n",
              "1          1  ...                                0.000000\n",
              "2          2  ...                                0.000000\n",
              "3          3  ...                                0.000000\n",
              "4          4  ...                                1.730303\n",
              "\n",
              "[5 rows x 27 columns]"
            ]
          },
          "metadata": {
            "tags": []
          },
          "execution_count": 5
        }
      ]
    },
    {
      "cell_type": "markdown",
      "metadata": {
        "id": "vJMuYjz_SuSo"
      },
      "source": [
        "## AutoML Configuration\n",
        "\n",
        "TODO: Explain why you chose the automl settings and cofiguration you used below."
      ]
    },
    {
      "cell_type": "code",
      "metadata": {
        "colab": {
          "base_uri": "https://localhost:8080/"
        },
        "id": "tUSPmyZPii7Y",
        "outputId": "83e9474c-7a73-4724-b6be-f3a639992cfe"
      },
      "source": [
        "from azureml.core.compute import AmlCompute, ComputeTarget\n",
        "from azureml.core.compute_target import ComputeTargetException\n",
        "\n",
        "amlcompute_cluster_name = \"capstone-cluster\"\n",
        "\n",
        "# Verify that cluster does not exist already\n",
        "try:\n",
        "    compute_target = ComputeTarget(workspace=ws, name=amlcompute_cluster_name)\n",
        "    print('Found existing cluster, use it.')\n",
        "\n",
        "except ComputeTargetException:\n",
        "    compute_config = AmlCompute.provisioning_configuration(vm_size='STANDARD_D2_V2', max_nodes=4)\n",
        "    compute_target = ComputeTarget.create(ws, amlcompute_cluster_name, compute_config)\n",
        "\n",
        "compute_target.wait_for_completion(show_output=True, min_node_count = 1, timeout_in_minutes = 1)"
      ],
      "execution_count": 6,
      "outputs": [
        {
          "output_type": "stream",
          "text": [
            "Found existing cluster, use it.\n",
            "Succeeded............\n",
            "AmlCompute wait for completion finished\n",
            "\n",
            "Wait timeout has been reached\n",
            "Current provisioning state of AmlCompute is \"Succeeded\" and current node count is \"0\"\n"
          ],
          "name": "stdout"
        }
      ]
    },
    {
      "cell_type": "code",
      "metadata": {
        "id": "IeeqF8mXdY-J"
      },
      "source": [
        "project_folder = './capstone-project-pipeline'"
      ],
      "execution_count": 7,
      "outputs": []
    },
    {
      "cell_type": "code",
      "metadata": {
        "gather": {
          "logged": 1598429217746
        },
        "jupyter": {
          "outputs_hidden": false,
          "source_hidden": false
        },
        "nteract": {
          "transient": {
            "deleting": false
          }
        },
        "id": "DuagpGsGSuSo"
      },
      "source": [
        "from azureml.train.automl import AutoMLConfig\n",
        "\n",
        "# TODO: Put your automl settings here\n",
        "automl_settings = {\n",
        "    \"experiment_timeout_minutes\": 20,\n",
        "    \"max_concurrent_iterations\": 4,\n",
        "    \"primary_metric\" : 'AUC_weighted',\n",
        "    \"n_cross_validations\": 3\n",
        "    }\n",
        "\n",
        "# TODO: Put your automl config here\n",
        "automl_config = AutoMLConfig(compute_target=compute_target,\n",
        "                             task = \"classification\",\n",
        "                             training_data=dataset,\n",
        "                             label_column_name=\"target\",\n",
        "                             path = project_folder,\n",
        "                             enable_early_stopping= True,\n",
        "                             featurization= 'auto',\n",
        "                             debug_log = \"automl_errors.log\",\n",
        "                             **automl_settings\n",
        "                            )"
      ],
      "execution_count": 8,
      "outputs": []
    },
    {
      "cell_type": "code",
      "metadata": {
        "gather": {
          "logged": 1598431107951
        },
        "jupyter": {
          "outputs_hidden": false,
          "source_hidden": false
        },
        "nteract": {
          "transient": {
            "deleting": false
          }
        },
        "id": "va7QNGfpSuSp",
        "colab": {
          "base_uri": "https://localhost:8080/",
          "height": 78
        },
        "outputId": "0ba1ffc9-383a-4ad8-aa5d-203a094be843"
      },
      "source": [
        "# TODO: Submit your experiment\n",
        "remote_run = experiment.submit(automl_config)"
      ],
      "execution_count": 10,
      "outputs": [
        {
          "output_type": "stream",
          "text": [
            "Submitting remote run.\n"
          ],
          "name": "stdout"
        },
        {
          "output_type": "display_data",
          "data": {
            "text/html": [
              "<table style=\"width:100%\"><tr><th>Experiment</th><th>Id</th><th>Type</th><th>Status</th><th>Details Page</th><th>Docs Page</th></tr><tr><td>capstone-project-experiment</td><td>AutoML_acb37720-005d-4594-a47d-a4998be64697</td><td>automl</td><td>NotStarted</td><td><a href=\"https://ml.azure.com/runs/AutoML_acb37720-005d-4594-a47d-a4998be64697?wsid=/subscriptions/2d391f5f-13ec-4301-9d0f-ac4301a018d8/resourcegroups/myResourceGroup/workspaces/azudacityml01&amp;tid=5d93ebcc-f769-4380-8b7e-289fc972da1b\" target=\"_blank\" rel=\"noopener\">Link to Azure Machine Learning studio</a></td><td><a href=\"https://docs.microsoft.com/en-us/python/api/overview/azure/ml/intro?view=azure-ml-py\" target=\"_blank\" rel=\"noopener\">Link to Documentation</a></td></tr></table>"
            ],
            "text/plain": [
              "<IPython.core.display.HTML object>"
            ]
          },
          "metadata": {
            "tags": []
          }
        }
      ]
    },
    {
      "cell_type": "code",
      "metadata": {
        "id": "tyKy7f6Q8BQa"
      },
      "source": [
        ""
      ],
      "execution_count": null,
      "outputs": []
    },
    {
      "cell_type": "code",
      "metadata": {
        "id": "yJTfzIez4nY8"
      },
      "source": [
        "from azureml.pipeline.core import PipelineData, TrainingOutput\n",
        "\n",
        "ds = ws.get_default_datastore()\n",
        "metrics_output_name = 'metrics_output'\n",
        "best_model_output_name = 'best_model_output'\n",
        "\n",
        "metrics_data = PipelineData(name='metrics_data',\n",
        "                           datastore=ds,\n",
        "                           pipeline_output_name=metrics_output_name,\n",
        "                           training_output=TrainingOutput(type='Metrics'))\n",
        "\n",
        "model_data = PipelineData(name='model_data',\n",
        "                           datastore=ds,\n",
        "                           pipeline_output_name=best_model_output_name,\n",
        "                           training_output=TrainingOutput(type='Model'))"
      ],
      "execution_count": 9,
      "outputs": []
    },
    {
      "cell_type": "code",
      "metadata": {
        "id": "tQAiOMK66b0J"
      },
      "source": [
        "from azureml.pipeline.core import Pipeline\n",
        "from azureml.pipeline.steps import AutoMLStep\n",
        "\n",
        "automl_step = AutoMLStep(name='automl_module', automl_config=automl_config, outputs=[metrics_data, model_data], allow_reuse=True)\n",
        "pipeline = Pipeline(description=\"pipeline_with_automlstep\", workspace=ws, steps=[automl_step])"
      ],
      "execution_count": 12,
      "outputs": []
    },
    {
      "cell_type": "markdown",
      "metadata": {
        "id": "mucBTRaISuSp"
      },
      "source": [
        "## Run Details\n",
        "\n",
        "OPTIONAL: Write about the different models trained and their performance. Why do you think some models did better than others?\n",
        "\n",
        "TODO: In the cell below, use the `RunDetails` widget to show the different experiments."
      ]
    },
    {
      "cell_type": "code",
      "metadata": {
        "id": "3J6AHBUKRJdQ"
      },
      "source": [
        "%matplotlib inline"
      ],
      "execution_count": 15,
      "outputs": []
    },
    {
      "cell_type": "code",
      "metadata": {
        "id": "ZOCcPnHnRDZn"
      },
      "source": [
        "from azureml.widgets import RunDetails"
      ],
      "execution_count": 13,
      "outputs": []
    },
    {
      "cell_type": "code",
      "metadata": {
        "id": "7K_7lhRE8Bbb"
      },
      "source": [
        "#RunDetails(remote_run).show()"
      ],
      "execution_count": 17,
      "outputs": []
    },
    {
      "cell_type": "markdown",
      "metadata": {
        "id": "YHwrMntySuSq"
      },
      "source": [
        "## Best Model\n",
        "\n",
        "TODO: In the cell below, get the best model from the automl experiments and display all the properties of the model.\n",
        "\n"
      ]
    },
    {
      "cell_type": "code",
      "metadata": {
        "gather": {
          "logged": 1598431425670
        },
        "jupyter": {
          "outputs_hidden": false,
          "source_hidden": false
        },
        "nteract": {
          "transient": {
            "deleting": false
          }
        },
        "id": "6BJTpgKlSuSq"
      },
      "source": [
        "best_run, model = remote_run.get_output()"
      ],
      "execution_count": 14,
      "outputs": []
    },
    {
      "cell_type": "code",
      "metadata": {
        "colab": {
          "base_uri": "https://localhost:8080/"
        },
        "id": "SmgPxm6hTX9u",
        "outputId": "e9881660-e2ab-4447-c2da-9ac6f66e42ff"
      },
      "source": [
        "automl_model_name = best_run.properties['model_name']\n",
        "print('Best AutoML model name: ' + automl_model_name,\n",
        "      'Best AutoML model run: ' + str(best_run),\n",
        "      'Best AutoML model specification: ' + str(model), sep = '\\n\\n')"
      ],
      "execution_count": 19,
      "outputs": [
        {
          "output_type": "stream",
          "text": [
            "Best AutoML model name: AutoMLacb37720029\n",
            "\n",
            "Best AutoML model run: Run(Experiment: capstone-project-experiment,\n",
            "Id: AutoML_acb37720-005d-4594-a47d-a4998be64697_29,\n",
            "Type: azureml.scriptrun,\n",
            "Status: Completed)\n",
            "\n",
            "Best AutoML model specification: Pipeline(memory=None,\n",
            "         steps=[('datatransformer',\n",
            "                 DataTransformer(enable_dnn=False, enable_feature_sweeping=True, feature_sweeping_config={}, feature_sweeping_timeout=86400, featurization_config=None, force_text_dnn=False, is_cross_validation=True, is_onnx_compatible=False, observer=None, task='classification', working_dir='/content')),\n",
            "                ('stackensembleclassifier...\n",
            "), random_state=None, reg_alpha=0.9473684210526315, reg_lambda=0.42105263157894735, subsample=0.19842105263157894))], verbose=False))], meta_learner=LogisticRegressionCV(Cs=10, class_weight=None, cv=None, dual=False, fit_intercept=True, intercept_scaling=1.0, l1_ratios=None, max_iter=100, multi_class='auto', n_jobs=None, penalty='l2', random_state=None, refit=True, scoring=<azureml.automl.runtime.stack_ensemble_base.Scorer object at 0x7f9226355650>, solver='lbfgs', tol=0.0001, verbose=0), training_cv_folds=5))],\n",
            "         verbose=False)\n"
          ],
          "name": "stdout"
        }
      ]
    },
    {
      "cell_type": "code",
      "metadata": {
        "colab": {
          "base_uri": "https://localhost:8080/"
        },
        "id": "elenvF0zSg66",
        "outputId": "6c33da46-e48e-4422-ec0e-0875052b871c"
      },
      "source": [
        "model.steps"
      ],
      "execution_count": 18,
      "outputs": [
        {
          "output_type": "execute_result",
          "data": {
            "text/plain": [
              "[('datatransformer', DataTransformer(\n",
              "      task='classification',\n",
              "      is_onnx_compatible=False,\n",
              "      enable_feature_sweeping=True,\n",
              "      enable_dnn=False,\n",
              "      force_text_dnn=False,\n",
              "      feature_sweeping_timeout=86400,\n",
              "      featurization_config=None,\n",
              "      is_cross_validation=True,\n",
              "      feature_sweeping_config={}\n",
              "  )), ('stackensembleclassifier', StackEnsembleClassifier(\n",
              "      base_learners=[('0', Pipeline(memory=None,\n",
              "               steps=[('maxabsscaler', MaxAbsScaler(copy=True)),\n",
              "                      ('lightgbmclassifier',\n",
              "                       LightGBMClassifier(min_data_in_leaf=20, n_jobs=1, problem_info=ProblemInfo(\n",
              "          dataset_samples=354663,\n",
              "          dataset_features=81,\n",
              "          dataset_classes=2,\n",
              "          dataset_num_categorical=0,\n",
              "          dataset_categoricals=None,\n",
              "          pipeline_categoricals=None,\n",
              "          dataset_y_std=None,\n",
              "          dataset_uid=None,\n",
              "          subsamplin...\n",
              "          subsampling_schedule='hyperband_clip',\n",
              "          cost_mode_param=None,\n",
              "          iteration_timeout_mode=0,\n",
              "          iteration_timeout_param=None,\n",
              "          feature_column_names=None,\n",
              "          label_column_name=None,\n",
              "          weight_column_name=None,\n",
              "          cv_split_column_names=None,\n",
              "          enable_streaming=None,\n",
              "          timeseries_param_dict=None,\n",
              "          gpu_training_param_dict={'processing_unit_type': 'cpu'}\n",
              "      ), random_state=None))],\n",
              "               verbose=False)), ('20', Pipeline(memory=None,\n",
              "               steps=[('standardscalerwrapper',\n",
              "                       StandardScalerWrapper(\n",
              "          copy=True,\n",
              "          with_mean=False,\n",
              "          with_std=False\n",
              "      )),\n",
              "                      ('xgboostclassifier',\n",
              "                       XGBoostClassifier(booster='gbtree', colsample_bylevel=1, colsample_bytree=1, eta=0.2, gamma=0.01, max_depth=7, max_leaves=0, n_estimators=50, n_jobs=1, objective='reg:logistic', problem_info=ProblemInfo(\n",
              "          dataset_samples=35...\n",
              "          iteration_timeout_mode=0,\n",
              "          iteration_timeout_param=None,\n",
              "          feature_column_names=None,\n",
              "          label_column_name=None,\n",
              "          weight_column_name=None,\n",
              "          cv_split_column_names=None,\n",
              "          enable_streaming=None,\n",
              "          timeseries_param_dict=None,\n",
              "          gpu_training_param_dict={'processing_unit_type': 'cpu'}\n",
              "      ), random_state=0, reg_alpha=1.3541666666666667, reg_lambda=0.625, subsample=1, tree_method='auto'))],\n",
              "               verbose=False)), ('1', Pipeline(memory=None,\n",
              "               steps=[('maxabsscaler', MaxAbsScaler(copy=True)),\n",
              "                      ('xgboostclassifier',\n",
              "                       XGBoostClassifier(n_jobs=1, problem_info=ProblemInfo(\n",
              "          dataset_samples=354663,\n",
              "          dataset_features=81,\n",
              "          dataset_classes=2,\n",
              "          dataset_num_categorical=0,\n",
              "          dataset_categoricals=None,\n",
              "          pipeline_categoricals=None,\n",
              "          dataset_y_std=None,\n",
              "          dataset_uid=None,\n",
              "          subsampling=False,\n",
              "          task='classifi...\n",
              "          subsampling_schedule='hyperband_clip',\n",
              "          cost_mode_param=None,\n",
              "          iteration_timeout_mode=0,\n",
              "          iteration_timeout_param=None,\n",
              "          feature_column_names=None,\n",
              "          label_column_name=None,\n",
              "          weight_column_name=None,\n",
              "          cv_split_column_names=None,\n",
              "          enable_streaming=None,\n",
              "          timeseries_param_dict=None,\n",
              "          gpu_training_param_dict={'processing_unit_type': 'cpu'}\n",
              "      ), random_state=0, tree_method='auto'))],\n",
              "               verbose=False)), ('22', Pipeline(memory=None,\n",
              "               steps=[('maxabsscaler', MaxAbsScaler(copy=True)),\n",
              "                      ('lightgbmclassifier',\n",
              "                       LightGBMClassifier(boosting_type='gbdt', colsample_bytree=0.8911111111111111, learning_rate=0.07894947368421053, max_bin=310, max_depth=5, min_child_weight=6, min_data_in_leaf=0.003457931034482759, min_split_gain=0.3684210526315789, n_estimators=50, n_jobs=1, num_leave...\n",
              "          cost_mode_param=None,\n",
              "          iteration_timeout_mode=0,\n",
              "          iteration_timeout_param=None,\n",
              "          feature_column_names=None,\n",
              "          label_column_name=None,\n",
              "          weight_column_name=None,\n",
              "          cv_split_column_names=None,\n",
              "          enable_streaming=None,\n",
              "          timeseries_param_dict=None,\n",
              "          gpu_training_param_dict={'processing_unit_type': 'cpu'}\n",
              "      ), random_state=None, reg_alpha=1, reg_lambda=1, subsample=0.29736842105263156))],\n",
              "               verbose=False)), ('25', Pipeline(memory=None,\n",
              "               steps=[('sparsenormalizer', Normalizer(copy=True, norm='max')),\n",
              "                      ('lightgbmclassifier',\n",
              "                       LightGBMClassifier(boosting_type='gbdt', colsample_bytree=0.4955555555555555, learning_rate=0.036848421052631586, max_bin=160, max_depth=6, min_child_weight=2, min_data_in_leaf=1e-05, min_split_gain=0.21052631578947367, n_estimators=600, n_jobs=1, num_leav...\n",
              "          iteration_timeout_param=None,\n",
              "          feature_column_names=None,\n",
              "          label_column_name=None,\n",
              "          weight_column_name=None,\n",
              "          cv_split_column_names=None,\n",
              "          enable_streaming=None,\n",
              "          timeseries_param_dict=None,\n",
              "          gpu_training_param_dict={'processing_unit_type': 'cpu'}\n",
              "      ), random_state=None, reg_alpha=0.9473684210526315, reg_lambda=0.42105263157894735, subsample=0.19842105263157894))],\n",
              "               verbose=False))],\n",
              "      meta_learner=LogisticRegressionCV(\n",
              "          Cs=10,\n",
              "          class_weight=None,\n",
              "          cv=None,\n",
              "          dual=False,\n",
              "          fit_intercept=True,\n",
              "          intercept_scaling=1.0,\n",
              "          l1_ratios=None,\n",
              "          max_iter=100,\n",
              "          multi_class='auto',\n",
              "          n_jobs=None,\n",
              "          penalty='l2',\n",
              "          random_state=None,\n",
              "          refit=True,\n",
              "          scoring=<azureml.automl.runtime.stack_ensemble_base.Scorer object at 0x7f9226355650>,\n",
              "          solver='lbfgs',\n",
              "          tol=0.0001,\n",
              "          verbose=0\n",
              "      ),\n",
              "      training_cv_folds=5\n",
              "  ))]"
            ]
          },
          "metadata": {
            "tags": []
          },
          "execution_count": 18
        }
      ]
    },
    {
      "cell_type": "code",
      "metadata": {
        "gather": {
          "logged": 1598431426111
        },
        "jupyter": {
          "outputs_hidden": false,
          "source_hidden": false
        },
        "nteract": {
          "transient": {
            "deleting": false
          }
        },
        "id": "y412mgAXSuSq",
        "colab": {
          "base_uri": "https://localhost:8080/",
          "height": 35
        },
        "outputId": "41d1790b-53a8-4fb5-a1c0-f5180b129dca"
      },
      "source": [
        "#TODO: Save the best model\n",
        "\n",
        "# Register and save the best model\n",
        "automl_model_registered = remote_run.register_model(model_name='default_automl_model')\n",
        "\n",
        "automl_model_registered.download(target_dir=\"outputs_automl\", exist_ok=True)"
      ],
      "execution_count": 20,
      "outputs": [
        {
          "output_type": "execute_result",
          "data": {
            "application/vnd.google.colaboratory.intrinsic+json": {
              "type": "string"
            },
            "text/plain": [
              "'outputs_automl/model.pkl'"
            ]
          },
          "metadata": {
            "tags": []
          },
          "execution_count": 20
        }
      ]
    },
    {
      "cell_type": "code",
      "metadata": {
        "colab": {
          "base_uri": "https://localhost:8080/"
        },
        "id": "N1raOyvTVh9Y",
        "outputId": "1e9b51de-b68a-465a-f5df-8abbce2cb297"
      },
      "source": [
        "!ls -l outputs_automl"
      ],
      "execution_count": 23,
      "outputs": [
        {
          "output_type": "stream",
          "text": [
            "total 4644\n",
            "-rw-r--r-- 1 root root 4752705 Jun 29 19:46 model.pkl\n"
          ],
          "name": "stdout"
        }
      ]
    },
    {
      "cell_type": "markdown",
      "metadata": {
        "id": "etCwkLlTSuSr"
      },
      "source": [
        "## Model Deployment\n",
        "\n",
        "Remember you have to deploy only one of the two models you trained.. Perform the steps in the rest of this notebook only if you wish to deploy this model.\n",
        "\n",
        "TODO: In the cell below, register the model, create an inference config and deploy the model as a web service."
      ]
    },
    {
      "cell_type": "code",
      "metadata": {
        "id": "EODFxfinT-Kx"
      },
      "source": [
        "from azureml.core.webservice import AciWebservice\n",
        "from azureml.core import Environment\n",
        "from azureml.core.model import InferenceConfig\n",
        "from azureml.core.model import Model"
      ],
      "execution_count": 30,
      "outputs": []
    },
    {
      "cell_type": "code",
      "metadata": {
        "colab": {
          "base_uri": "https://localhost:8080/"
        },
        "id": "qOUua_uWaMii",
        "outputId": "8d4fb0d9-9220-4168-9144-285861e26625"
      },
      "source": [
        "myenv = Environment(name=\"capstoneenv\")\n",
        "myenv.register(workspace=ws)"
      ],
      "execution_count": 35,
      "outputs": [
        {
          "output_type": "execute_result",
          "data": {
            "text/plain": [
              "{\n",
              "    \"databricks\": {\n",
              "        \"eggLibraries\": [],\n",
              "        \"jarLibraries\": [],\n",
              "        \"mavenLibraries\": [],\n",
              "        \"pypiLibraries\": [],\n",
              "        \"rcranLibraries\": []\n",
              "    },\n",
              "    \"docker\": {\n",
              "        \"arguments\": [],\n",
              "        \"baseDockerfile\": null,\n",
              "        \"baseImage\": \"mcr.microsoft.com/azureml/openmpi3.1.2-ubuntu18.04:20210531.v1\",\n",
              "        \"baseImageRegistry\": {\n",
              "            \"address\": null,\n",
              "            \"password\": null,\n",
              "            \"registryIdentity\": null,\n",
              "            \"username\": null\n",
              "        },\n",
              "        \"enabled\": false,\n",
              "        \"platform\": {\n",
              "            \"architecture\": \"amd64\",\n",
              "            \"os\": \"Linux\"\n",
              "        },\n",
              "        \"sharedVolumes\": true,\n",
              "        \"shmSize\": null\n",
              "    },\n",
              "    \"environmentVariables\": {\n",
              "        \"EXAMPLE_ENV_VAR\": \"EXAMPLE_VALUE\"\n",
              "    },\n",
              "    \"inferencingStackVersion\": null,\n",
              "    \"name\": \"capstoneenv\",\n",
              "    \"python\": {\n",
              "        \"baseCondaEnvironment\": null,\n",
              "        \"condaDependencies\": {\n",
              "            \"channels\": [\n",
              "                \"anaconda\",\n",
              "                \"conda-forge\"\n",
              "            ],\n",
              "            \"dependencies\": [\n",
              "                \"python=3.6.2\",\n",
              "                {\n",
              "                    \"pip\": [\n",
              "                        \"azureml-defaults\"\n",
              "                    ]\n",
              "                }\n",
              "            ],\n",
              "            \"name\": \"azureml_da3e97fcb51801118b8e80207f3e01ad\"\n",
              "        },\n",
              "        \"condaDependenciesFile\": null,\n",
              "        \"interpreterPath\": \"python\",\n",
              "        \"userManagedDependencies\": false\n",
              "    },\n",
              "    \"r\": null,\n",
              "    \"spark\": {\n",
              "        \"packages\": [],\n",
              "        \"precachePackages\": true,\n",
              "        \"repositories\": []\n",
              "    },\n",
              "    \"version\": \"1\"\n",
              "}"
            ]
          },
          "metadata": {
            "tags": []
          },
          "execution_count": 35
        }
      ]
    },
    {
      "cell_type": "code",
      "metadata": {
        "gather": {
          "logged": 1598431435189
        },
        "jupyter": {
          "outputs_hidden": false,
          "source_hidden": false
        },
        "nteract": {
          "transient": {
            "deleting": false
          }
        },
        "id": "CWivRXzPSuSr"
      },
      "source": [
        "aci_config = AciWebservice.deploy_configuration(cpu_cores=1, \n",
        "                                                memory_gb=4, \n",
        "                                                enable_app_insights=True,\n",
        "                                                description='Predict default score')\n",
        "\n",
        "model = Model(ws, 'default_automl_model')\n",
        "\n",
        "env_deploy = Environment.get(workspace=ws, name='capstoneenv')\n",
        "\n",
        "inference_config = InferenceConfig(entry_script=\"score.py\", environment=env_deploy)\n",
        "\n",
        "service = Model.deploy(workspace=ws, \n",
        "                       name='default-automl', \n",
        "                       models=[model], \n",
        "                       inference_config=inference_config, \n",
        "                       deployment_config=aci_config)"
      ],
      "execution_count": 36,
      "outputs": []
    },
    {
      "cell_type": "code",
      "metadata": {
        "colab": {
          "base_uri": "https://localhost:8080/",
          "height": 1000
        },
        "id": "M6J9I4EEah3N",
        "outputId": "4e8a1eb6-316f-4694-d8a0-18bcdcde8414"
      },
      "source": [
        "service.wait_for_deployment(show_output=True)"
      ],
      "execution_count": 37,
      "outputs": [
        {
          "output_type": "stream",
          "text": [
            "Tips: You can try get_logs(): https://aka.ms/debugimage#dockerlog or local deployment: https://aka.ms/debugimage#debug-locally to debug if deployment takes longer than 10 minutes.\n",
            "Running\n",
            "2021-06-29 20:15:33+00:00 Creating Container Registry if not exists.\n",
            "2021-06-29 20:15:33+00:00 Registering the environment.\n",
            "2021-06-29 20:15:34+00:00 Building image..\n",
            "2021-06-29 20:19:49+00:00 Generating deployment configuration.\n",
            "2021-06-29 20:19:50+00:00 Submitting deployment to compute..\n",
            "2021-06-29 20:19:53+00:00 Checking the status of deployment default-automl..\n",
            "2021-06-29 20:21:31+00:00 Checking the status of inference endpoint default-automl.\n",
            "Failed\n"
          ],
          "name": "stdout"
        },
        {
          "output_type": "stream",
          "text": [
            "ERROR:azureml.core.webservice.webservice:Service deployment polling reached non-successful terminal state, current service state: Failed\n",
            "Operation ID: cfa290eb-37e6-4b00-804a-4a959a50c4b6\n",
            "More information can be found using '.get_logs()'\n",
            "Error:\n",
            "{\n",
            "  \"code\": \"AciDeploymentFailed\",\n",
            "  \"statusCode\": 400,\n",
            "  \"message\": \"Aci Deployment failed with exception: Your container application crashed. This may be caused by errors in your scoring file's init() function.\n",
            "\t1. Please check the logs for your container instance: default-automl. From the AML SDK, you can run print(service.get_logs()) if you have service object to fetch the logs.\n",
            "\t2. You can interactively debug your scoring file locally. Please refer to https://docs.microsoft.com/azure/machine-learning/how-to-debug-visual-studio-code#debug-and-troubleshoot-deployments for more information.\n",
            "\t3. You can also try to run image azudacitycr01.azurecr.io/azureml/azureml_2dc4016849bfdcec9f9d4bb2200f06f4 locally. Please refer to https://aka.ms/debugimage#service-launch-fails for more information.\",\n",
            "  \"details\": [\n",
            "    {\n",
            "      \"code\": \"CrashLoopBackOff\",\n",
            "      \"message\": \"Your container application crashed. This may be caused by errors in your scoring file's init() function.\n",
            "\t1. Please check the logs for your container instance: default-automl. From the AML SDK, you can run print(service.get_logs()) if you have service object to fetch the logs.\n",
            "\t2. You can interactively debug your scoring file locally. Please refer to https://docs.microsoft.com/azure/machine-learning/how-to-debug-visual-studio-code#debug-and-troubleshoot-deployments for more information.\n",
            "\t3. You can also try to run image azudacitycr01.azurecr.io/azureml/azureml_2dc4016849bfdcec9f9d4bb2200f06f4 locally. Please refer to https://aka.ms/debugimage#service-launch-fails for more information.\"\n",
            "    },\n",
            "    {\n",
            "      \"code\": \"AciDeploymentFailed\",\n",
            "      \"message\": \"Your container application crashed. Please follow the steps to debug:\n",
            "\t1. From the AML SDK, you can run print(service.get_logs()) if you have service object to fetch the logs. Please refer to https://aka.ms/debugimage#dockerlog for more information.\n",
            "\t2. If your container application crashed. This may be caused by errors in your scoring file's init() function. You can try debugging locally first. Please refer to https://aka.ms/debugimage#debug-locally for more information.\n",
            "\t3. You can also interactively debug your scoring file locally. Please refer to https://docs.microsoft.com/azure/machine-learning/how-to-debug-visual-studio-code#debug-and-troubleshoot-deployments for more information.\n",
            "\t4. View the diagnostic events to check status of container, it may help you to debug the issue.\n",
            "\"RestartCount\": 3\n",
            "\"CurrentState\": {\"state\":\"Waiting\",\"startTime\":null,\"exitCode\":null,\"finishTime\":null,\"detailStatus\":\"CrashLoopBackOff: Back-off restarting failed\"}\n",
            "\"PreviousState\": {\"state\":\"Terminated\",\"startTime\":\"2021-06-29T20:22:44.896Z\",\"exitCode\":111,\"finishTime\":\"2021-06-29T20:22:48.839Z\",\"detailStatus\":\"Error\"}\n",
            "\"Events\":\n",
            "{\"count\":1,\"firstTimestamp\":\"2021-06-29T20:19:58Z\",\"lastTimestamp\":\"2021-06-29T20:19:58Z\",\"name\":\"Pulling\",\"message\":\"pulling image \"azudacitycr01.azurecr.io/azureml/azureml_2dc4016849bfdcec9f9d4bb2200f06f4@sha256:8be422bf1a054d7098132c6d887a2f8b44fe9e5cef1b5bcd984d6d323e8d4634\"\",\"type\":\"Normal\"}\n",
            "{\"count\":1,\"firstTimestamp\":\"2021-06-29T20:20:57Z\",\"lastTimestamp\":\"2021-06-29T20:20:57Z\",\"name\":\"Pulled\",\"message\":\"Successfully pulled image \"azudacitycr01.azurecr.io/azureml/azureml_2dc4016849bfdcec9f9d4bb2200f06f4@sha256:8be422bf1a054d7098132c6d887a2f8b44fe9e5cef1b5bcd984d6d323e8d4634\"\",\"type\":\"Normal\"}\n",
            "{\"count\":4,\"firstTimestamp\":\"2021-06-29T20:21:16Z\",\"lastTimestamp\":\"2021-06-29T20:22:44Z\",\"name\":\"Started\",\"message\":\"Started container\",\"type\":\"Normal\"}\n",
            "{\"count\":3,\"firstTimestamp\":\"2021-06-29T20:21:21Z\",\"lastTimestamp\":\"2021-06-29T20:22:12Z\",\"name\":\"Killing\",\"message\":\"Killing container with id 4651200a16e3ce41f2e16b6a6b1b6b0ffa1a7261b6384d5dd6a94765cb90fc14.\",\"type\":\"Normal\"}\n",
            "\"\n",
            "    }\n",
            "  ]\n",
            "}\n",
            "\n"
          ],
          "name": "stderr"
        },
        {
          "output_type": "error",
          "ename": "WebserviceException",
          "evalue": "ignored",
          "traceback": [
            "\u001b[0;31m---------------------------------------------------------------------------\u001b[0m",
            "\u001b[0;31mWebserviceException\u001b[0m                       Traceback (most recent call last)",
            "\u001b[0;32m<ipython-input-37-deecaad5a878>\u001b[0m in \u001b[0;36m<module>\u001b[0;34m()\u001b[0m\n\u001b[0;32m----> 1\u001b[0;31m \u001b[0mservice\u001b[0m\u001b[0;34m.\u001b[0m\u001b[0mwait_for_deployment\u001b[0m\u001b[0;34m(\u001b[0m\u001b[0mshow_output\u001b[0m\u001b[0;34m=\u001b[0m\u001b[0;32mTrue\u001b[0m\u001b[0;34m)\u001b[0m\u001b[0;34m\u001b[0m\u001b[0;34m\u001b[0m\u001b[0m\n\u001b[0m",
            "\u001b[0;32m/usr/local/lib/python3.7/dist-packages/azureml/core/webservice/webservice.py\u001b[0m in \u001b[0;36mwait_for_deployment\u001b[0;34m(self, show_output, timeout_sec)\u001b[0m\n\u001b[1;32m    923\u001b[0m                                           \u001b[0;34m'Error:\\n'\u001b[0m\u001b[0;34m\u001b[0m\u001b[0;34m\u001b[0m\u001b[0m\n\u001b[1;32m    924\u001b[0m                                           '{}'.format(self.state, self._operation_endpoint.split('/')[-1],\n\u001b[0;32m--> 925\u001b[0;31m                                                       logs_response, format_error_response), logger=module_logger)\n\u001b[0m\u001b[1;32m    926\u001b[0m             print('{} service creation operation finished, operation \"{}\"'.format(self._webservice_type,\n\u001b[1;32m    927\u001b[0m                                                                                   operation_state))\n",
            "\u001b[0;31mWebserviceException\u001b[0m: WebserviceException:\n\tMessage: Service deployment polling reached non-successful terminal state, current service state: Failed\nOperation ID: cfa290eb-37e6-4b00-804a-4a959a50c4b6\nMore information can be found using '.get_logs()'\nError:\n{\n  \"code\": \"AciDeploymentFailed\",\n  \"statusCode\": 400,\n  \"message\": \"Aci Deployment failed with exception: Your container application crashed. This may be caused by errors in your scoring file's init() function.\n\t1. Please check the logs for your container instance: default-automl. From the AML SDK, you can run print(service.get_logs()) if you have service object to fetch the logs.\n\t2. You can interactively debug your scoring file locally. Please refer to https://docs.microsoft.com/azure/machine-learning/how-to-debug-visual-studio-code#debug-and-troubleshoot-deployments for more information.\n\t3. You can also try to run image azudacitycr01.azurecr.io/azureml/azureml_2dc4016849bfdcec9f9d4bb2200f06f4 locally. Please refer to https://aka.ms/debugimage#service-launch-fails for more information.\",\n  \"details\": [\n    {\n      \"code\": \"CrashLoopBackOff\",\n      \"message\": \"Your container application crashed. This may be caused by errors in your scoring file's init() function.\n\t1. Please check the logs for your container instance: default-automl. From the AML SDK, you can run print(service.get_logs()) if you have service object to fetch the logs.\n\t2. You can interactively debug your scoring file locally. Please refer to https://docs.microsoft.com/azure/machine-learning/how-to-debug-visual-studio-code#debug-and-troubleshoot-deployments for more information.\n\t3. You can also try to run image azudacitycr01.azurecr.io/azureml/azureml_2dc4016849bfdcec9f9d4bb2200f06f4 locally. Please refer to https://aka.ms/debugimage#service-launch-fails for more information.\"\n    },\n    {\n      \"code\": \"AciDeploymentFailed\",\n      \"message\": \"Your container application crashed. Please follow the steps to debug:\n\t1. From the AML SDK, you can run print(service.get_logs()) if you have service object to fetch the logs. Please refer to https://aka.ms/debugimage#dockerlog for more information.\n\t2. If your container application crashed. This may be caused by errors in your scoring file's init() function. You can try debugging locally first. Please refer to https://aka.ms/debugimage#debug-locally for more information.\n\t3. You can also interactively debug your scoring file locally. Please refer to https://docs.microsoft.com/azure/machine-learning/how-to-debug-visual-studio-code#debug-and-troubleshoot-deployments for more information.\n\t4. View the diagnostic events to check status of container, it may help you to debug the issue.\n\"RestartCount\": 3\n\"CurrentState\": {\"state\":\"Waiting\",\"startTime\":null,\"exitCode\":null,\"finishTime\":null,\"detailStatus\":\"CrashLoopBackOff: Back-off restarting failed\"}\n\"PreviousState\": {\"state\":\"Terminated\",\"startTime\":\"2021-06-29T20:22:44.896Z\",\"exitCode\":111,\"finishTime\":\"2021-06-29T20:22:48.839Z\",\"detailStatus\":\"Error\"}\n\"Events\":\n{\"count\":1,\"firstTimestamp\":\"2021-06-29T20:19:58Z\",\"lastTimestamp\":\"2021-06-29T20:19:58Z\",\"name\":\"Pulling\",\"message\":\"pulling image \"azudacitycr01.azurecr.io/azureml/azureml_2dc4016849bfdcec9f9d4bb2200f06f4@sha256:8be422bf1a054d7098132c6d887a2f8b44fe9e5cef1b5bcd984d6d323e8d4634\"\",\"type\":\"Normal\"}\n{\"count\":1,\"firstTimestamp\":\"2021-06-29T20:20:57Z\",\"lastTimestamp\":\"2021-06-29T20:20:57Z\",\"name\":\"Pulled\",\"message\":\"Successfully pulled image \"azudacitycr01.azurecr.io/azureml/azureml_2dc4016849bfdcec9f9d4bb2200f06f4@sha256:8be422bf1a054d7098132c6d887a2f8b44fe9e5cef1b5bcd984d6d323e8d4634\"\",\"type\":\"Normal\"}\n{\"count\":4,\"firstTimestamp\":\"2021-06-29T20:21:16Z\",\"lastTimestamp\":\"2021-06-29T20:22:44Z\",\"name\":\"Started\",\"message\":\"Started container\",\"type\":\"Normal\"}\n{\"count\":3,\"firstTimestamp\":\"2021-06-29T20:21:21Z\",\"lastTimestamp\":\"2021-06-29T20:22:12Z\",\"name\":\"Killing\",\"message\":\"Killing container with id 4651200a16e3ce41f2e16b6a6b1b6b0ffa1a7261b6384d5dd6a94765cb90fc14.\",\"type\":\"Normal\"}\n\"\n    }\n  ]\n}\n\tInnerException None\n\tErrorResponse \n{\n    \"error\": {\n        \"message\": \"Service deployment polling reached non-successful terminal state, current service state: Failed\\nOperation ID: cfa290eb-37e6-4b00-804a-4a959a50c4b6\\nMore information can be found using '.get_logs()'\\nError:\\n{\\n  \\\"code\\\": \\\"AciDeploymentFailed\\\",\\n  \\\"statusCode\\\": 400,\\n  \\\"message\\\": \\\"Aci Deployment failed with exception: Your container application crashed. This may be caused by errors in your scoring file's init() function.\\n\\t1. Please check the logs for your container instance: default-automl. From the AML SDK, you can run print(service.get_logs()) if you have service object to fetch the logs.\\n\\t2. You can interactively debug your scoring file locally. Please refer to https://docs.microsoft.com/azure/machine-learning/how-to-debug-visual-studio-code#debug-and-troubleshoot-deployments for more information.\\n\\t3. You can also try to run image azudacitycr01.azurecr.io/azureml/azureml_2dc4016849bfdcec9f9d4bb2200f06f4 locally. Please refer to https://aka.ms/debugimage#service-launch-fails for more information.\\\",\\n  \\\"details\\\": [\\n    {\\n      \\\"code\\\": \\\"CrashLoopBackOff\\\",\\n      \\\"message\\\": \\\"Your container application crashed. This may be caused by errors in your scoring file's init() function.\\n\\t1. Please check the logs for your container instance: default-automl. From the AML SDK, you can run print(service.get_logs()) if you have service object to fetch the logs.\\n\\t2. You can interactively debug your scoring file locally. Please refer to htt...\n    }\n}"
          ]
        }
      ]
    },
    {
      "cell_type": "code",
      "metadata": {
        "id": "FC__ZIIsalHO"
      },
      "source": [
        "print(service.scoring_uri)\n",
        "print(service.swagger_uri)"
      ],
      "execution_count": null,
      "outputs": []
    },
    {
      "cell_type": "markdown",
      "metadata": {
        "collapsed": true,
        "gather": {
          "logged": 1598431657736
        },
        "jupyter": {
          "outputs_hidden": false,
          "source_hidden": false
        },
        "nteract": {
          "transient": {
            "deleting": false
          }
        },
        "id": "SEAQPzElSuSr"
      },
      "source": [
        "TODO: In the cell below, send a request to the web service you deployed to test it."
      ]
    },
    {
      "cell_type": "code",
      "metadata": {
        "gather": {
          "logged": 1598432707604
        },
        "jupyter": {
          "outputs_hidden": false,
          "source_hidden": false
        },
        "nteract": {
          "transient": {
            "deleting": false
          }
        },
        "id": "H11If_ZMSuSr"
      },
      "source": [
        ""
      ],
      "execution_count": null,
      "outputs": []
    },
    {
      "cell_type": "markdown",
      "metadata": {
        "collapsed": true,
        "gather": {
          "logged": 1598432765711
        },
        "jupyter": {
          "outputs_hidden": false,
          "source_hidden": false
        },
        "nteract": {
          "transient": {
            "deleting": false
          }
        },
        "id": "aATkthRFSuSr"
      },
      "source": [
        "TODO: In the cell below, print the logs of the web service and delete the service"
      ]
    },
    {
      "cell_type": "code",
      "metadata": {
        "jupyter": {
          "outputs_hidden": false,
          "source_hidden": false
        },
        "nteract": {
          "transient": {
            "deleting": false
          }
        },
        "id": "ogw5IEvhSuSs"
      },
      "source": [
        ""
      ],
      "execution_count": null,
      "outputs": []
    }
  ]
}