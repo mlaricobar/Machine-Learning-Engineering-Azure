{
  "cells": [
    {
      "cell_type": "markdown",
      "source": [
        "# Libraries\n"
      ],
      "metadata": {
        "id": "bGl0ZqrAT2um"
      }
    },
    {
      "cell_type": "markdown",
      "source": [
        "# Automated ML\n",
        "\n",
        "TODO: Import Dependencies. In the cell below, import all the dependencies that you will need to complete the project."
      ],
      "metadata": {
        "id": "u1wj9FGSSuSk"
      }
    },
    {
      "cell_type": "code",
      "source": [
        "from azureml.core.experiment import Experiment\n",
        "from azureml.core.workspace import Workspace\n",
        "from azureml.core.dataset import Dataset"
      ],
      "outputs": [],
      "execution_count": 1,
      "metadata": {
        "gather": {
          "logged": 1625441367717
        },
        "jupyter": {
          "outputs_hidden": false,
          "source_hidden": false
        },
        "nteract": {
          "transient": {
            "deleting": false
          }
        },
        "id": "rll_adZXSuSn"
      }
    },
    {
      "cell_type": "markdown",
      "source": [
        "## Dataset\n",
        "\n",
        "### Overview\n",
        "TODO: In this markdown cell, give an overview of the dataset you are using. Also mention the task you will be performing.\n",
        "\n",
        "\n",
        "TODO: Get data. In the cell below, write code to access the data you will be using in this project. Remember that the dataset needs to be external."
      ],
      "metadata": {
        "id": "VQsRsFu0SuSn"
      }
    },
    {
      "cell_type": "code",
      "source": [
        "ws = Workspace.from_config()\n",
        "\n",
        "# choose a name for experiment\n",
        "experiment_name = 'capstone-project-experiment'\n",
        "\n",
        "experiment = Experiment(ws, experiment_name)"
      ],
      "outputs": [],
      "execution_count": 3,
      "metadata": {
        "gather": {
          "logged": 1625441398434
        },
        "jupyter": {
          "outputs_hidden": false,
          "source_hidden": false
        },
        "nteract": {
          "transient": {
            "deleting": false
          }
        },
        "id": "l2Pxwo2NSuSo"
      }
    },
    {
      "cell_type": "code",
      "source": [
        "dataset = Dataset.get_by_name(ws, \"default-ibk-dataset\")\n",
        "df = dataset.to_pandas_dataframe()"
      ],
      "outputs": [],
      "execution_count": 4,
      "metadata": {
        "id": "eRf_NQwxUlLo",
        "gather": {
          "logged": 1625441410136
        }
      }
    },
    {
      "cell_type": "code",
      "source": [
        "df.head()"
      ],
      "outputs": [
        {
          "output_type": "execute_result",
          "execution_count": 5,
          "data": {
            "text/plain": "   key_value  target      edad  sexo  est_cvl  sit_lab  ctd_hijos  \\\n0          0       0 -0.983651   1.0      4.0      2.0        0.0   \n1          1       0  0.000953   1.0      4.0      1.0        0.0   \n2          2       0  0.531124   0.0      4.0      1.0        0.0   \n3          3       0 -1.135129   0.0      4.0      1.0        0.0   \n4          4       1 -1.438084   0.0      4.0      1.0        0.0   \n\n   flg_sin_email  ctd_veh  tip_lvledu  ...  total_max_of_saldo_sum_per_month  \\\n0            1.0      0.0         0.0  ...                          6.829334   \n1            1.0      1.0         0.0  ...                          3.729381   \n2            1.0      0.0         7.0  ...                          2.849616   \n3            1.0      0.0         7.0  ...                          4.076464   \n4            1.0      0.0         0.0  ...                         11.229775   \n\n   total_min_of_saldo_min_per_month  total_mean_of_saldo_min_per_month  \\\n0                          0.927141                           0.936001   \n1                          0.927119                           0.927238   \n2                          0.927119                           0.927119   \n3                          0.927209                           0.928015   \n4                          0.927220                           0.928755   \n\n   total_max_of_saldo_max_per_month  total_mean_of_saldo_max_per_month  \\\n0                          1.072672                           1.014399   \n1                          0.938372                           0.938051   \n2                          0.995254                           0.964115   \n3                          1.114270                           1.104669   \n4                          0.957766                           0.952834   \n\n   total_min_of_condicion_min_per_month  \\\n0                                     0   \n1                                     0   \n2                                     0   \n3                                     0   \n4                                     0   \n\n   total_mean_of_condicion_min_per_month  \\\n0                                    0.0   \n1                                    0.0   \n2                                    0.0   \n3                                    0.0   \n4                                    0.0   \n\n   total_max_of_condicion_max_per_month  \\\n0                                     0   \n1                                     0   \n2                                     0   \n3                                     0   \n4                                    80   \n\n   total_mean_of_condicion_max_per_month  \\\n0                                  0.000   \n1                                  0.000   \n2                                  0.000   \n3                                  0.000   \n4                                 19.125   \n\n   total_mean_of_condicion_mean_per_month  \n0                                0.000000  \n1                                0.000000  \n2                                0.000000  \n3                                0.000000  \n4                                1.730303  \n\n[5 rows x 27 columns]",
            "text/html": "<div>\n<style scoped>\n    .dataframe tbody tr th:only-of-type {\n        vertical-align: middle;\n    }\n\n    .dataframe tbody tr th {\n        vertical-align: top;\n    }\n\n    .dataframe thead th {\n        text-align: right;\n    }\n</style>\n<table border=\"1\" class=\"dataframe\">\n  <thead>\n    <tr style=\"text-align: right;\">\n      <th></th>\n      <th>key_value</th>\n      <th>target</th>\n      <th>edad</th>\n      <th>sexo</th>\n      <th>est_cvl</th>\n      <th>sit_lab</th>\n      <th>ctd_hijos</th>\n      <th>flg_sin_email</th>\n      <th>ctd_veh</th>\n      <th>tip_lvledu</th>\n      <th>...</th>\n      <th>total_max_of_saldo_sum_per_month</th>\n      <th>total_min_of_saldo_min_per_month</th>\n      <th>total_mean_of_saldo_min_per_month</th>\n      <th>total_max_of_saldo_max_per_month</th>\n      <th>total_mean_of_saldo_max_per_month</th>\n      <th>total_min_of_condicion_min_per_month</th>\n      <th>total_mean_of_condicion_min_per_month</th>\n      <th>total_max_of_condicion_max_per_month</th>\n      <th>total_mean_of_condicion_max_per_month</th>\n      <th>total_mean_of_condicion_mean_per_month</th>\n    </tr>\n  </thead>\n  <tbody>\n    <tr>\n      <th>0</th>\n      <td>0</td>\n      <td>0</td>\n      <td>-0.983651</td>\n      <td>1.0</td>\n      <td>4.0</td>\n      <td>2.0</td>\n      <td>0.0</td>\n      <td>1.0</td>\n      <td>0.0</td>\n      <td>0.0</td>\n      <td>...</td>\n      <td>6.829334</td>\n      <td>0.927141</td>\n      <td>0.936001</td>\n      <td>1.072672</td>\n      <td>1.014399</td>\n      <td>0</td>\n      <td>0.0</td>\n      <td>0</td>\n      <td>0.000</td>\n      <td>0.000000</td>\n    </tr>\n    <tr>\n      <th>1</th>\n      <td>1</td>\n      <td>0</td>\n      <td>0.000953</td>\n      <td>1.0</td>\n      <td>4.0</td>\n      <td>1.0</td>\n      <td>0.0</td>\n      <td>1.0</td>\n      <td>1.0</td>\n      <td>0.0</td>\n      <td>...</td>\n      <td>3.729381</td>\n      <td>0.927119</td>\n      <td>0.927238</td>\n      <td>0.938372</td>\n      <td>0.938051</td>\n      <td>0</td>\n      <td>0.0</td>\n      <td>0</td>\n      <td>0.000</td>\n      <td>0.000000</td>\n    </tr>\n    <tr>\n      <th>2</th>\n      <td>2</td>\n      <td>0</td>\n      <td>0.531124</td>\n      <td>0.0</td>\n      <td>4.0</td>\n      <td>1.0</td>\n      <td>0.0</td>\n      <td>1.0</td>\n      <td>0.0</td>\n      <td>7.0</td>\n      <td>...</td>\n      <td>2.849616</td>\n      <td>0.927119</td>\n      <td>0.927119</td>\n      <td>0.995254</td>\n      <td>0.964115</td>\n      <td>0</td>\n      <td>0.0</td>\n      <td>0</td>\n      <td>0.000</td>\n      <td>0.000000</td>\n    </tr>\n    <tr>\n      <th>3</th>\n      <td>3</td>\n      <td>0</td>\n      <td>-1.135129</td>\n      <td>0.0</td>\n      <td>4.0</td>\n      <td>1.0</td>\n      <td>0.0</td>\n      <td>1.0</td>\n      <td>0.0</td>\n      <td>7.0</td>\n      <td>...</td>\n      <td>4.076464</td>\n      <td>0.927209</td>\n      <td>0.928015</td>\n      <td>1.114270</td>\n      <td>1.104669</td>\n      <td>0</td>\n      <td>0.0</td>\n      <td>0</td>\n      <td>0.000</td>\n      <td>0.000000</td>\n    </tr>\n    <tr>\n      <th>4</th>\n      <td>4</td>\n      <td>1</td>\n      <td>-1.438084</td>\n      <td>0.0</td>\n      <td>4.0</td>\n      <td>1.0</td>\n      <td>0.0</td>\n      <td>1.0</td>\n      <td>0.0</td>\n      <td>0.0</td>\n      <td>...</td>\n      <td>11.229775</td>\n      <td>0.927220</td>\n      <td>0.928755</td>\n      <td>0.957766</td>\n      <td>0.952834</td>\n      <td>0</td>\n      <td>0.0</td>\n      <td>80</td>\n      <td>19.125</td>\n      <td>1.730303</td>\n    </tr>\n  </tbody>\n</table>\n<p>5 rows × 27 columns</p>\n</div>"
          },
          "metadata": {}
        }
      ],
      "execution_count": 5,
      "metadata": {
        "colab": {
          "base_uri": "https://localhost:8080/",
          "height": 225
        },
        "id": "KJYkM_1XZ6LI",
        "outputId": "a0de63d1-596f-4bb0-9724-01bbcdb53abb",
        "gather": {
          "logged": 1625441410388
        }
      }
    },
    {
      "cell_type": "markdown",
      "source": [
        "## AutoML Configuration\n",
        "\n",
        "TODO: Explain why you chose the automl settings and cofiguration you used below."
      ],
      "metadata": {
        "id": "vJMuYjz_SuSo"
      }
    },
    {
      "cell_type": "code",
      "source": [
        "from azureml.core.compute import AmlCompute, ComputeTarget\n",
        "from azureml.core.compute_target import ComputeTargetException\n",
        "\n",
        "amlcompute_cluster_name = \"capstone-cluster\"\n",
        "\n",
        "# Verify that cluster does not exist already\n",
        "try:\n",
        "    compute_target = ComputeTarget(workspace=ws, name=amlcompute_cluster_name)\n",
        "    print('Found existing cluster, use it.')\n",
        "\n",
        "except ComputeTargetException:\n",
        "    compute_config = AmlCompute.provisioning_configuration(vm_size='STANDARD_D2_V2', max_nodes=4)\n",
        "    compute_target = ComputeTarget.create(ws, amlcompute_cluster_name, compute_config)\n",
        "\n",
        "compute_target.wait_for_completion(show_output=True, min_node_count = 1, timeout_in_minutes = 1)"
      ],
      "outputs": [
        {
          "output_type": "stream",
          "name": "stdout",
          "text": [
            "Found existing cluster, use it.\n",
            "Succeeded............\n",
            "AmlCompute wait for completion finished\n",
            "\n",
            "Wait timeout has been reached\n",
            "Current provisioning state of AmlCompute is \"Succeeded\" and current node count is \"0\"\n"
          ]
        }
      ],
      "execution_count": 6,
      "metadata": {
        "colab": {
          "base_uri": "https://localhost:8080/"
        },
        "id": "tUSPmyZPii7Y",
        "outputId": "83e9474c-7a73-4724-b6be-f3a639992cfe",
        "gather": {
          "logged": 1625441474095
        }
      }
    },
    {
      "cell_type": "code",
      "source": [
        "project_folder = './capstone-project-pipeline'"
      ],
      "outputs": [],
      "execution_count": 7,
      "metadata": {
        "id": "IeeqF8mXdY-J",
        "gather": {
          "logged": 1625441474248
        }
      }
    },
    {
      "cell_type": "code",
      "source": [
        "from azureml.train.automl import AutoMLConfig\n",
        "\n",
        "# TODO: Put your automl settings here\n",
        "automl_settings = {\n",
        "    \"experiment_timeout_minutes\": 20,\n",
        "    \"max_concurrent_iterations\": 4,\n",
        "    \"primary_metric\" : 'AUC_weighted',\n",
        "    \"n_cross_validations\": 5,\n",
        "    \"max_cores_per_iteration\": -1\n",
        "    }\n",
        "\n",
        "# TODO: Put your automl config here\n",
        "automl_config = AutoMLConfig(compute_target=compute_target,\n",
        "                             task = \"classification\",\n",
        "                             training_data=dataset,\n",
        "                             label_column_name=\"target\",\n",
        "                             path = project_folder,\n",
        "                             enable_early_stopping= True,\n",
        "                             featurization= 'auto',\n",
        "                             debug_log = \"automl_errors.log\",\n",
        "                             **automl_settings\n",
        "                            )"
      ],
      "outputs": [],
      "execution_count": 60,
      "metadata": {
        "gather": {
          "logged": 1625434628941
        },
        "jupyter": {
          "outputs_hidden": false,
          "source_hidden": false
        },
        "nteract": {
          "transient": {
            "deleting": false
          }
        },
        "id": "DuagpGsGSuSo"
      }
    },
    {
      "cell_type": "code",
      "source": [
        "# TODO: Submit your experiment\n",
        "remote_run = experiment.submit(automl_config)"
      ],
      "outputs": [
        {
          "output_type": "stream",
          "name": "stdout",
          "text": [
            "Submitting remote run.\n"
          ]
        },
        {
          "output_type": "display_data",
          "data": {
            "text/plain": "<IPython.core.display.HTML object>",
            "text/html": "<table style=\"width:100%\"><tr><th>Experiment</th><th>Id</th><th>Type</th><th>Status</th><th>Details Page</th><th>Docs Page</th></tr><tr><td>capstone-project-experiment</td><td>AutoML_cbf39a66-adfa-434e-974e-c5fcdd114967</td><td>automl</td><td>NotStarted</td><td><a href=\"https://ml.azure.com/runs/AutoML_cbf39a66-adfa-434e-974e-c5fcdd114967?wsid=/subscriptions/2d391f5f-13ec-4301-9d0f-ac4301a018d8/resourcegroups/myresourcegroup/workspaces/azudacityml01&amp;tid=5d93ebcc-f769-4380-8b7e-289fc972da1b\" target=\"_blank\" rel=\"noopener\">Link to Azure Machine Learning studio</a></td><td><a href=\"https://docs.microsoft.com/en-us/python/api/overview/azure/ml/intro?view=azure-ml-py\" target=\"_blank\" rel=\"noopener\">Link to Documentation</a></td></tr></table>"
          },
          "metadata": {}
        }
      ],
      "execution_count": 10,
      "metadata": {
        "gather": {
          "logged": 1625371212980
        },
        "jupyter": {
          "outputs_hidden": false,
          "source_hidden": false
        },
        "nteract": {
          "transient": {
            "deleting": false
          }
        },
        "id": "va7QNGfpSuSp",
        "colab": {
          "base_uri": "https://localhost:8080/",
          "height": 78
        },
        "outputId": "0ba1ffc9-383a-4ad8-aa5d-203a094be843"
      }
    },
    {
      "cell_type": "markdown",
      "source": [
        "## Run Details\n",
        "\n",
        "OPTIONAL: Write about the different models trained and their performance. Why do you think some models did better than others?\n",
        "\n",
        "TODO: In the cell below, use the `RunDetails` widget to show the different experiments."
      ],
      "metadata": {
        "id": "mucBTRaISuSp"
      }
    },
    {
      "cell_type": "code",
      "source": [
        "from azureml.widgets import RunDetails\n",
        "RunDetails(remote_run).show()"
      ],
      "outputs": [
        {
          "output_type": "display_data",
          "data": {
            "text/plain": "_AutoMLWidget(widget_settings={'childWidgetDisplay': 'popup', 'send_telemetry': False, 'log_level': 'INFO', 's…",
            "application/vnd.jupyter.widget-view+json": {
              "version_major": 2,
              "version_minor": 0,
              "model_id": "8743133dc877412d8b2f38c3e84ce019"
            }
          },
          "metadata": {}
        },
        {
          "output_type": "display_data",
          "data": {
            "application/aml.mini.widget.v1": "{\"status\": \"Completed\", \"workbench_run_details_uri\": \"https://ml.azure.com/runs/AutoML_cbf39a66-adfa-434e-974e-c5fcdd114967?wsid=/subscriptions/2d391f5f-13ec-4301-9d0f-ac4301a018d8/resourcegroups/myresourcegroup/workspaces/azudacityml01&tid=5d93ebcc-f769-4380-8b7e-289fc972da1b\", \"run_id\": \"AutoML_cbf39a66-adfa-434e-974e-c5fcdd114967\", \"run_properties\": {\"run_id\": \"AutoML_cbf39a66-adfa-434e-974e-c5fcdd114967\", \"created_utc\": \"2021-07-04T04:00:11.919091Z\", \"properties\": {\"num_iterations\": \"1000\", \"training_type\": \"TrainFull\", \"acquisition_function\": \"EI\", \"primary_metric\": \"AUC_weighted\", \"train_split\": \"0\", \"acquisition_parameter\": \"0\", \"num_cross_validation\": \"5\", \"target\": \"capstone-cluster\", \"AMLSettingsJsonString\": \"{\\\"path\\\":null,\\\"name\\\":\\\"capstone-project-experiment\\\",\\\"subscription_id\\\":\\\"2d391f5f-13ec-4301-9d0f-ac4301a018d8\\\",\\\"resource_group\\\":\\\"myresourcegroup\\\",\\\"workspace_name\\\":\\\"azudacityml01\\\",\\\"region\\\":\\\"eastus2\\\",\\\"compute_target\\\":\\\"capstone-cluster\\\",\\\"spark_service\\\":null,\\\"azure_service\\\":\\\"remote\\\",\\\"many_models\\\":false,\\\"pipeline_fetch_max_batch_size\\\":1,\\\"enable_batch_run\\\":false,\\\"enable_run_restructure\\\":false,\\\"start_auxiliary_runs_before_parent_complete\\\":false,\\\"enable_code_generation\\\":false,\\\"iterations\\\":1000,\\\"primary_metric\\\":\\\"AUC_weighted\\\",\\\"task_type\\\":\\\"classification\\\",\\\"data_script\\\":null,\\\"test_size\\\":0.0,\\\"validation_size\\\":0.0,\\\"n_cross_validations\\\":5,\\\"y_min\\\":null,\\\"y_max\\\":null,\\\"num_classes\\\":null,\\\"featurization\\\":\\\"auto\\\",\\\"_ignore_package_version_incompatibilities\\\":false,\\\"is_timeseries\\\":false,\\\"max_cores_per_iteration\\\":-1,\\\"max_concurrent_iterations\\\":4,\\\"iteration_timeout_minutes\\\":null,\\\"mem_in_mb\\\":null,\\\"enforce_time_on_windows\\\":false,\\\"experiment_timeout_minutes\\\":20,\\\"experiment_exit_score\\\":null,\\\"whitelist_models\\\":null,\\\"blacklist_algos\\\":[\\\"TensorFlowLinearClassifier\\\",\\\"TensorFlowDNN\\\"],\\\"supported_models\\\":[\\\"XGBoostClassifier\\\",\\\"GradientBoosting\\\",\\\"TensorFlowLinearClassifier\\\",\\\"TensorFlowDNN\\\",\\\"KNN\\\",\\\"LightGBM\\\",\\\"LinearSVM\\\",\\\"DecisionTree\\\",\\\"SVM\\\",\\\"BernoulliNaiveBayes\\\",\\\"MultinomialNaiveBayes\\\",\\\"ExtremeRandomTrees\\\",\\\"RandomForest\\\",\\\"AveragedPerceptronClassifier\\\",\\\"SGD\\\",\\\"LogisticRegression\\\"],\\\"private_models\\\":[],\\\"auto_blacklist\\\":true,\\\"blacklist_samples_reached\\\":false,\\\"exclude_nan_labels\\\":true,\\\"verbosity\\\":20,\\\"_debug_log\\\":\\\"azureml_automl.log\\\",\\\"show_warnings\\\":false,\\\"model_explainability\\\":true,\\\"service_url\\\":null,\\\"sdk_url\\\":null,\\\"sdk_packages\\\":null,\\\"enable_onnx_compatible_models\\\":false,\\\"enable_split_onnx_featurizer_estimator_models\\\":false,\\\"vm_type\\\":\\\"STANDARD_D2_V2\\\",\\\"telemetry_verbosity\\\":20,\\\"send_telemetry\\\":true,\\\"enable_dnn\\\":false,\\\"scenario\\\":\\\"SDK-1.13.0\\\",\\\"environment_label\\\":null,\\\"save_mlflow\\\":false,\\\"force_text_dnn\\\":false,\\\"enable_feature_sweeping\\\":true,\\\"enable_early_stopping\\\":true,\\\"early_stopping_n_iters\\\":10,\\\"metrics\\\":null,\\\"enable_metric_confidence\\\":false,\\\"enable_ensembling\\\":true,\\\"enable_stack_ensembling\\\":true,\\\"ensemble_iterations\\\":15,\\\"enable_tf\\\":false,\\\"enable_subsampling\\\":null,\\\"subsample_seed\\\":null,\\\"enable_nimbusml\\\":false,\\\"enable_streaming\\\":false,\\\"force_streaming\\\":false,\\\"track_child_runs\\\":true,\\\"allowed_private_models\\\":[],\\\"label_column_name\\\":\\\"target\\\",\\\"weight_column_name\\\":null,\\\"cv_split_column_names\\\":null,\\\"enable_local_managed\\\":false,\\\"_local_managed_run_id\\\":null,\\\"cost_mode\\\":1,\\\"lag_length\\\":0,\\\"metric_operation\\\":\\\"maximize\\\",\\\"preprocess\\\":true}\", \"DataPrepJsonString\": \"{\\\\\\\"training_data\\\\\\\": {\\\\\\\"datasetId\\\\\\\": \\\\\\\"4d786cb2-b95a-4455-a7f9-e9c2f6ad3851\\\\\\\"}, \\\\\\\"datasets\\\\\\\": 0}\", \"EnableSubsampling\": null, \"runTemplate\": \"AutoML\", \"azureml.runsource\": \"automl\", \"display_task_type\": \"classification\", \"dependencies_versions\": \"{\\\"azureml-widgets\\\": \\\"1.30.0\\\", \\\"azureml-train\\\": \\\"1.30.0\\\", \\\"azureml-train-restclients-hyperdrive\\\": \\\"1.30.0\\\", \\\"azureml-train-core\\\": \\\"1.30.0\\\", \\\"azureml-train-automl\\\": \\\"1.30.0\\\", \\\"azureml-train-automl-runtime\\\": \\\"1.30.0\\\", \\\"azureml-train-automl-client\\\": \\\"1.30.0\\\", \\\"azureml-tensorboard\\\": \\\"1.30.0\\\", \\\"azureml-telemetry\\\": \\\"1.30.0\\\", \\\"azureml-sdk\\\": \\\"1.30.0\\\", \\\"azureml-samples\\\": \\\"0+unknown\\\", \\\"azureml-pipeline\\\": \\\"1.30.0\\\", \\\"azureml-pipeline-steps\\\": \\\"1.30.0\\\", \\\"azureml-pipeline-core\\\": \\\"1.30.0\\\", \\\"azureml-opendatasets\\\": \\\"1.30.0\\\", \\\"azureml-model-management-sdk\\\": \\\"1.0.1b6.post1\\\", \\\"azureml-mlflow\\\": \\\"1.30.0\\\", \\\"azureml-interpret\\\": \\\"1.30.0\\\", \\\"azureml-explain-model\\\": \\\"1.30.0\\\", \\\"azureml-defaults\\\": \\\"1.30.0\\\", \\\"azureml-dataset-runtime\\\": \\\"1.30.0\\\", \\\"azureml-dataprep\\\": \\\"2.15.1\\\", \\\"azureml-dataprep-rslex\\\": \\\"1.13.0\\\", \\\"azureml-dataprep-native\\\": \\\"33.0.0\\\", \\\"azureml-datadrift\\\": \\\"1.30.0\\\", \\\"azureml-core\\\": \\\"1.30.0\\\", \\\"azureml-contrib-services\\\": \\\"1.30.0\\\", \\\"azureml-contrib-server\\\": \\\"1.30.0\\\", \\\"azureml-contrib-reinforcementlearning\\\": \\\"1.30.0\\\", \\\"azureml-contrib-pipeline-steps\\\": \\\"1.30.0\\\", \\\"azureml-contrib-notebook\\\": \\\"1.30.0\\\", \\\"azureml-contrib-fairness\\\": \\\"1.30.0\\\", \\\"azureml-contrib-dataset\\\": \\\"1.30.0\\\", \\\"azureml-cli-common\\\": \\\"1.30.0\\\", \\\"azureml-automl-runtime\\\": \\\"1.30.0\\\", \\\"azureml-automl-dnn-nlp\\\": \\\"1.30.0\\\", \\\"azureml-automl-core\\\": \\\"1.30.0\\\", \\\"azureml-accel-models\\\": \\\"1.30.0\\\"}\", \"_aml_system_scenario_identification\": \"Remote.Parent\", \"ClientType\": \"SDK\", \"environment_cpu_name\": \"AzureML-AutoML\", \"environment_cpu_label\": \"prod\", \"environment_gpu_name\": \"AzureML-AutoML-GPU\", \"environment_gpu_label\": \"prod\", \"root_attribution\": \"automl\", \"attribution\": \"AutoML\", \"Orchestrator\": \"AutoML\", \"CancelUri\": \"https://eastus2.api.azureml.ms/jasmine/v1.0/subscriptions/2d391f5f-13ec-4301-9d0f-ac4301a018d8/resourceGroups/myresourcegroup/providers/Microsoft.MachineLearningServices/workspaces/azudacityml01/experimentids/ea3e5529-5830-4648-8733-94feed8dc778/cancel/AutoML_cbf39a66-adfa-434e-974e-c5fcdd114967\", \"ClientSdkVersion\": \"1.31.0\", \"snapshotId\": \"00000000-0000-0000-0000-000000000000\", \"SetupRunId\": \"AutoML_cbf39a66-adfa-434e-974e-c5fcdd114967_setup\", \"SetupRunContainerId\": \"dcid.AutoML_cbf39a66-adfa-434e-974e-c5fcdd114967_setup\", \"FeaturizationRunJsonPath\": \"featurizer_container.json\", \"FeaturizationRunId\": \"AutoML_cbf39a66-adfa-434e-974e-c5fcdd114967_featurize\", \"ProblemInfoJsonString\": \"{\\\"dataset_num_categorical\\\": 0, \\\"is_sparse\\\": true, \\\"subsampling\\\": false, \\\"has_extra_col\\\": true, \\\"dataset_classes\\\": 2, \\\"dataset_features\\\": 81, \\\"dataset_samples\\\": 354663, \\\"single_frequency_class_detected\\\": false}\", \"ModelExplainRunId\": \"AutoML_cbf39a66-adfa-434e-974e-c5fcdd114967_ModelExplain\"}, \"tags\": {\"model_explain_run\": \"best_run\", \"_aml_system_azureml.automlComponent\": \"AutoML\", \"pipeline_id\": \"\", \"score\": \"\", \"predicted_cost\": \"\", \"fit_time\": \"\", \"training_percent\": \"\", \"iteration\": \"\", \"run_preprocessor\": \"\", \"run_algorithm\": \"\", \"dynamic_whitelisting_iterations\": \"<24>;\", \"automl_best_child_run_id\": \"AutoML_cbf39a66-adfa-434e-974e-c5fcdd114967_29\", \"model_explain_best_run_child_id\": \"AutoML_cbf39a66-adfa-434e-974e-c5fcdd114967_29\"}, \"end_time_utc\": \"2021-07-04T04:49:09.155826Z\", \"status\": \"Completed\", \"log_files\": {}, \"log_groups\": [], \"run_duration\": \"0:48:57\", \"run_number\": \"78\", \"run_queued_details\": {\"status\": \"Completed\", \"details\": null}}, \"child_runs\": [{\"run_id\": \"AutoML_cbf39a66-adfa-434e-974e-c5fcdd114967_3\", \"run_number\": 82, \"metric\": null, \"status\": \"Completed\", \"run_type\": \"azureml.scriptrun\", \"training_percent\": \"100\", \"start_time\": \"2021-07-04T04:23:17.701415Z\", \"end_time\": \"2021-07-04T04:24:41.57575Z\", \"created_time\": \"2021-07-04T04:23:03.579106Z\", \"created_time_dt\": \"2021-07-04T04:23:03.579106Z\", \"duration\": \"0:01:37\", \"iteration\": \"3\", \"goal\": \"AUC_weighted_max\", \"run_name\": \"MaxAbsScaler, RandomForest\", \"run_properties\": \"copy=True\", \"primary_metric\": 0.74693465, \"best_metric\": 0.79782806}, {\"run_id\": \"AutoML_cbf39a66-adfa-434e-974e-c5fcdd114967_1\", \"run_number\": 83, \"metric\": null, \"status\": \"Completed\", \"run_type\": \"azureml.scriptrun\", \"training_percent\": \"100\", \"start_time\": \"2021-07-04T04:25:03.494868Z\", \"end_time\": \"2021-07-04T04:28:14.441515Z\", \"created_time\": \"2021-07-04T04:23:03.599068Z\", \"created_time_dt\": \"2021-07-04T04:23:03.599068Z\", \"duration\": \"0:05:10\", \"iteration\": \"1\", \"goal\": \"AUC_weighted_max\", \"run_name\": \"MaxAbsScaler, XGBoostClassifier\", \"run_properties\": \"copy=True\", \"primary_metric\": 0.78573887, \"best_metric\": 0.79782806}, {\"run_id\": \"AutoML_cbf39a66-adfa-434e-974e-c5fcdd114967_0\", \"run_number\": 84, \"metric\": null, \"status\": \"Completed\", \"run_type\": \"azureml.scriptrun\", \"training_percent\": \"100\", \"start_time\": \"2021-07-04T04:25:37.093226Z\", \"end_time\": \"2021-07-04T04:28:09.352544Z\", \"created_time\": \"2021-07-04T04:23:03.690166Z\", \"created_time_dt\": \"2021-07-04T04:23:03.690166Z\", \"duration\": \"0:05:05\", \"iteration\": \"0\", \"goal\": \"AUC_weighted_max\", \"run_name\": \"MaxAbsScaler, LightGBM\", \"run_properties\": \"copy=True\", \"primary_metric\": 0.79782806, \"best_metric\": 0.79782806}, {\"run_id\": \"AutoML_cbf39a66-adfa-434e-974e-c5fcdd114967_2\", \"run_number\": 85, \"metric\": null, \"status\": \"Completed\", \"run_type\": \"azureml.scriptrun\", \"training_percent\": \"100\", \"start_time\": \"2021-07-04T04:25:36.408744Z\", \"end_time\": \"2021-07-04T04:28:01.471824Z\", \"created_time\": \"2021-07-04T04:23:03.574953Z\", \"created_time_dt\": \"2021-07-04T04:23:03.574953Z\", \"duration\": \"0:04:57\", \"iteration\": \"2\", \"goal\": \"AUC_weighted_max\", \"run_name\": \"MaxAbsScaler, RandomForest\", \"run_properties\": \"copy=True\", \"primary_metric\": 0.74075699, \"best_metric\": 0.79782806}, {\"run_id\": \"AutoML_cbf39a66-adfa-434e-974e-c5fcdd114967_4\", \"run_number\": 86, \"metric\": null, \"status\": \"Completed\", \"run_type\": \"azureml.scriptrun\", \"training_percent\": \"100\", \"start_time\": \"2021-07-04T04:25:43.32112Z\", \"end_time\": \"2021-07-04T04:31:57.416131Z\", \"created_time\": \"2021-07-04T04:24:44.090619Z\", \"created_time_dt\": \"2021-07-04T04:24:44.090619Z\", \"duration\": \"0:07:13\", \"iteration\": \"4\", \"goal\": \"AUC_weighted_max\", \"run_name\": \"MaxAbsScaler, RandomForest\", \"run_properties\": \"copy=True\", \"primary_metric\": 0.72870627, \"best_metric\": 0.79782806}, {\"run_id\": \"AutoML_cbf39a66-adfa-434e-974e-c5fcdd114967_5\", \"run_number\": 87, \"metric\": null, \"status\": \"Completed\", \"run_type\": \"azureml.scriptrun\", \"training_percent\": \"100\", \"start_time\": \"2021-07-04T04:28:11.851923Z\", \"end_time\": \"2021-07-04T04:29:22.075216Z\", \"created_time\": \"2021-07-04T04:28:04.138175Z\", \"created_time_dt\": \"2021-07-04T04:28:04.138175Z\", \"duration\": \"0:01:17\", \"iteration\": \"5\", \"goal\": \"AUC_weighted_max\", \"run_name\": \"MaxAbsScaler, ExtremeRandomTrees\", \"run_properties\": \"copy=True\", \"primary_metric\": 0.69515086, \"best_metric\": 0.79782806}, {\"run_id\": \"AutoML_cbf39a66-adfa-434e-974e-c5fcdd114967_6\", \"run_number\": 88, \"metric\": null, \"status\": \"Completed\", \"run_type\": \"azureml.scriptrun\", \"training_percent\": \"100\", \"start_time\": \"2021-07-04T04:28:19.064842Z\", \"end_time\": \"2021-07-04T04:29:45.592042Z\", \"created_time\": \"2021-07-04T04:28:11.929951Z\", \"created_time_dt\": \"2021-07-04T04:28:11.929951Z\", \"duration\": \"0:01:33\", \"iteration\": \"6\", \"goal\": \"AUC_weighted_max\", \"run_name\": \"MaxAbsScaler, ExtremeRandomTrees\", \"run_properties\": \"copy=True\", \"primary_metric\": 0.67824699, \"best_metric\": 0.79782806}, {\"run_id\": \"AutoML_cbf39a66-adfa-434e-974e-c5fcdd114967_7\", \"run_number\": 89, \"metric\": null, \"status\": \"Completed\", \"run_type\": \"azureml.scriptrun\", \"training_percent\": \"100\", \"start_time\": \"2021-07-04T04:28:28.556762Z\", \"end_time\": \"2021-07-04T04:29:28.214685Z\", \"created_time\": \"2021-07-04T04:28:17.104981Z\", \"created_time_dt\": \"2021-07-04T04:28:17.104981Z\", \"duration\": \"0:01:11\", \"iteration\": \"7\", \"goal\": \"AUC_weighted_max\", \"run_name\": \"MaxAbsScaler, ExtremeRandomTrees\", \"run_properties\": \"copy=True\", \"primary_metric\": 0.64374255, \"best_metric\": 0.79782806}, {\"run_id\": \"AutoML_cbf39a66-adfa-434e-974e-c5fcdd114967_8\", \"run_number\": 90, \"metric\": null, \"status\": \"Completed\", \"run_type\": \"azureml.scriptrun\", \"training_percent\": \"100\", \"start_time\": \"2021-07-04T04:29:38.350735Z\", \"end_time\": \"2021-07-04T04:30:42.093623Z\", \"created_time\": \"2021-07-04T04:29:24.767471Z\", \"created_time_dt\": \"2021-07-04T04:29:24.767471Z\", \"duration\": \"0:01:17\", \"iteration\": \"8\", \"goal\": \"AUC_weighted_max\", \"run_name\": \"MaxAbsScaler, RandomForest\", \"run_properties\": \"copy=True\", \"primary_metric\": 0.7284111, \"best_metric\": 0.79782806}, {\"run_id\": \"AutoML_cbf39a66-adfa-434e-974e-c5fcdd114967_9\", \"run_number\": 91, \"metric\": null, \"status\": \"Completed\", \"run_type\": \"azureml.scriptrun\", \"training_percent\": \"100\", \"start_time\": \"2021-07-04T04:29:44.417662Z\", \"end_time\": \"2021-07-04T04:30:51.299704Z\", \"created_time\": \"2021-07-04T04:29:30.587558Z\", \"created_time_dt\": \"2021-07-04T04:29:30.587558Z\", \"duration\": \"0:01:20\", \"iteration\": \"9\", \"goal\": \"AUC_weighted_max\", \"run_name\": \"MaxAbsScaler, ExtremeRandomTrees\", \"run_properties\": \"copy=True\", \"primary_metric\": 0.64524558, \"best_metric\": 0.79782806}, {\"run_id\": \"AutoML_cbf39a66-adfa-434e-974e-c5fcdd114967_10\", \"run_number\": 92, \"metric\": null, \"status\": \"Completed\", \"run_type\": \"azureml.scriptrun\", \"training_percent\": \"100\", \"start_time\": \"2021-07-04T04:29:59.463636Z\", \"end_time\": \"2021-07-04T04:30:59.044606Z\", \"created_time\": \"2021-07-04T04:29:48.055735Z\", \"created_time_dt\": \"2021-07-04T04:29:48.055735Z\", \"duration\": \"0:01:10\", \"iteration\": \"10\", \"goal\": \"AUC_weighted_max\", \"run_name\": \"MaxAbsScaler, RandomForest\", \"run_properties\": \"copy=True\", \"primary_metric\": 0.71878343, \"best_metric\": 0.79782806}, {\"run_id\": \"AutoML_cbf39a66-adfa-434e-974e-c5fcdd114967_11\", \"run_number\": 93, \"metric\": null, \"status\": \"Completed\", \"run_type\": \"azureml.scriptrun\", \"training_percent\": \"100\", \"start_time\": \"2021-07-04T04:30:56.823519Z\", \"end_time\": \"2021-07-04T04:31:59.754744Z\", \"created_time\": \"2021-07-04T04:30:44.653269Z\", \"created_time_dt\": \"2021-07-04T04:30:44.653269Z\", \"duration\": \"0:01:15\", \"iteration\": \"11\", \"goal\": \"AUC_weighted_max\", \"run_name\": \"MaxAbsScaler, RandomForest\", \"run_properties\": \"copy=True\", \"primary_metric\": 0.7268993, \"best_metric\": 0.79782806}, {\"run_id\": \"AutoML_cbf39a66-adfa-434e-974e-c5fcdd114967_12\", \"run_number\": 94, \"metric\": null, \"status\": \"Completed\", \"run_type\": \"azureml.scriptrun\", \"training_percent\": \"100\", \"start_time\": \"2021-07-04T04:31:05.188186Z\", \"end_time\": \"2021-07-04T04:32:17.664913Z\", \"created_time\": \"2021-07-04T04:30:53.594693Z\", \"created_time_dt\": \"2021-07-04T04:30:53.594693Z\", \"duration\": \"0:01:24\", \"iteration\": \"12\", \"goal\": \"AUC_weighted_max\", \"run_name\": \"MaxAbsScaler, RandomForest\", \"run_properties\": \"copy=True\", \"primary_metric\": 0.72353941, \"best_metric\": 0.79782806}, {\"run_id\": \"AutoML_cbf39a66-adfa-434e-974e-c5fcdd114967_13\", \"run_number\": 95, \"metric\": null, \"status\": \"Completed\", \"run_type\": \"azureml.scriptrun\", \"training_percent\": \"100\", \"start_time\": \"2021-07-04T04:31:15.301677Z\", \"end_time\": \"2021-07-04T04:32:42.78743Z\", \"created_time\": \"2021-07-04T04:31:01.450627Z\", \"created_time_dt\": \"2021-07-04T04:31:01.450627Z\", \"duration\": \"0:01:41\", \"iteration\": \"13\", \"goal\": \"AUC_weighted_max\", \"run_name\": \"StandardScalerWrapper, XGBoostClassifier\", \"run_properties\": \"\\n    copy=True,\\n    with_mean=False,\\n    with_std=False\\n\", \"primary_metric\": 0.76083253, \"best_metric\": 0.79782806}, {\"run_id\": \"AutoML_cbf39a66-adfa-434e-974e-c5fcdd114967_14\", \"run_number\": 96, \"metric\": null, \"status\": \"Completed\", \"run_type\": \"azureml.scriptrun\", \"training_percent\": \"100\", \"start_time\": \"2021-07-04T04:32:10.08054Z\", \"end_time\": \"2021-07-04T04:33:22.926997Z\", \"created_time\": \"2021-07-04T04:32:00.54992Z\", \"created_time_dt\": \"2021-07-04T04:32:00.54992Z\", \"duration\": \"0:01:22\", \"iteration\": \"14\", \"goal\": \"AUC_weighted_max\", \"run_name\": \"MaxAbsScaler, RandomForest\", \"run_properties\": \"copy=True\", \"primary_metric\": 0.74140938, \"best_metric\": 0.79782806}, {\"run_id\": \"AutoML_cbf39a66-adfa-434e-974e-c5fcdd114967_15\", \"run_number\": 97, \"metric\": null, \"status\": \"Completed\", \"run_type\": \"azureml.scriptrun\", \"training_percent\": \"100\", \"start_time\": \"2021-07-04T04:32:12.238053Z\", \"end_time\": \"2021-07-04T04:33:19.200933Z\", \"created_time\": \"2021-07-04T04:32:04.791353Z\", \"created_time_dt\": \"2021-07-04T04:32:04.791353Z\", \"duration\": \"0:01:14\", \"iteration\": \"15\", \"goal\": \"AUC_weighted_max\", \"run_name\": \"StandardScalerWrapper, ExtremeRandomTrees\", \"run_properties\": \"\\n    copy=True,\\n    with_mean=False,\\n    with_std=False\\n\", \"primary_metric\": 0.66055147, \"best_metric\": 0.79782806}, {\"run_id\": \"AutoML_cbf39a66-adfa-434e-974e-c5fcdd114967_16\", \"run_number\": 98, \"metric\": null, \"status\": \"Completed\", \"run_type\": \"azureml.scriptrun\", \"training_percent\": \"100\", \"start_time\": \"2021-07-04T04:32:30.786324Z\", \"end_time\": \"2021-07-04T04:33:35.063684Z\", \"created_time\": \"2021-07-04T04:32:20.385016Z\", \"created_time_dt\": \"2021-07-04T04:32:20.385016Z\", \"duration\": \"0:01:14\", \"iteration\": \"16\", \"goal\": \"AUC_weighted_max\", \"run_name\": \"MaxAbsScaler, ExtremeRandomTrees\", \"run_properties\": \"copy=True\", \"primary_metric\": 0.66128923, \"best_metric\": 0.79782806}, {\"run_id\": \"AutoML_cbf39a66-adfa-434e-974e-c5fcdd114967_17\", \"run_number\": 99, \"metric\": null, \"status\": \"Completed\", \"run_type\": \"azureml.scriptrun\", \"training_percent\": \"100\", \"start_time\": \"2021-07-04T04:32:59.940546Z\", \"end_time\": \"2021-07-04T04:34:23.794636Z\", \"created_time\": \"2021-07-04T04:32:46.0215Z\", \"created_time_dt\": \"2021-07-04T04:32:46.0215Z\", \"duration\": \"0:01:37\", \"iteration\": \"17\", \"goal\": \"AUC_weighted_max\", \"run_name\": \"MaxAbsScaler, ExtremeRandomTrees\", \"run_properties\": \"copy=True\", \"primary_metric\": 0.63749091, \"best_metric\": 0.79782806}, {\"run_id\": \"AutoML_cbf39a66-adfa-434e-974e-c5fcdd114967_18\", \"run_number\": 100, \"metric\": null, \"status\": \"Completed\", \"run_type\": \"azureml.scriptrun\", \"training_percent\": \"100\", \"start_time\": \"2021-07-04T04:33:33.387579Z\", \"end_time\": \"2021-07-04T04:34:42.472764Z\", \"created_time\": \"2021-07-04T04:33:22.014501Z\", \"created_time_dt\": \"2021-07-04T04:33:22.014501Z\", \"duration\": \"0:01:20\", \"iteration\": \"18\", \"goal\": \"AUC_weighted_max\", \"run_name\": \"MaxAbsScaler, RandomForest\", \"run_properties\": \"copy=True\", \"primary_metric\": 0.72136053, \"best_metric\": 0.79782806}, {\"run_id\": \"AutoML_cbf39a66-adfa-434e-974e-c5fcdd114967_19\", \"run_number\": 101, \"metric\": null, \"status\": \"Completed\", \"run_type\": \"azureml.scriptrun\", \"training_percent\": \"100\", \"start_time\": \"2021-07-04T04:33:36.827013Z\", \"end_time\": \"2021-07-04T04:34:56.356042Z\", \"created_time\": \"2021-07-04T04:33:25.444977Z\", \"created_time_dt\": \"2021-07-04T04:33:25.444977Z\", \"duration\": \"0:01:30\", \"iteration\": \"19\", \"goal\": \"AUC_weighted_max\", \"run_name\": \"MaxAbsScaler, LightGBM\", \"run_properties\": \"copy=True\", \"primary_metric\": 0.77187317, \"best_metric\": 0.79782806}, {\"run_id\": \"AutoML_cbf39a66-adfa-434e-974e-c5fcdd114967_20\", \"run_number\": 102, \"metric\": null, \"status\": \"Completed\", \"run_type\": \"azureml.scriptrun\", \"training_percent\": \"100\", \"start_time\": \"2021-07-04T04:33:49.01196Z\", \"end_time\": \"2021-07-04T04:35:40.850844Z\", \"created_time\": \"2021-07-04T04:33:37.440108Z\", \"created_time_dt\": \"2021-07-04T04:33:37.440108Z\", \"duration\": \"0:02:03\", \"iteration\": \"20\", \"goal\": \"AUC_weighted_max\", \"run_name\": \"MaxAbsScaler, LightGBM\", \"run_properties\": \"copy=True\", \"primary_metric\": 0.79762518, \"best_metric\": 0.79782806}, {\"run_id\": \"AutoML_cbf39a66-adfa-434e-974e-c5fcdd114967_21\", \"run_number\": 103, \"metric\": null, \"status\": \"Completed\", \"run_type\": \"azureml.scriptrun\", \"training_percent\": \"100\", \"start_time\": \"2021-07-04T04:34:37.382776Z\", \"end_time\": \"2021-07-04T04:35:40.362471Z\", \"created_time\": \"2021-07-04T04:34:25.670299Z\", \"created_time_dt\": \"2021-07-04T04:34:25.670299Z\", \"duration\": \"0:01:14\", \"iteration\": \"21\", \"goal\": \"AUC_weighted_max\", \"run_name\": \"MaxAbsScaler, LightGBM\", \"run_properties\": \"copy=True\", \"primary_metric\": 0.77040721, \"best_metric\": 0.79782806}, {\"run_id\": \"AutoML_cbf39a66-adfa-434e-974e-c5fcdd114967_22\", \"run_number\": 104, \"metric\": null, \"status\": \"Completed\", \"run_type\": \"azureml.scriptrun\", \"training_percent\": \"100\", \"start_time\": \"2021-07-04T04:34:55.772454Z\", \"end_time\": \"2021-07-04T04:36:01.815789Z\", \"created_time\": \"2021-07-04T04:34:44.152951Z\", \"created_time_dt\": \"2021-07-04T04:34:44.152951Z\", \"duration\": \"0:01:17\", \"iteration\": \"22\", \"goal\": \"AUC_weighted_max\", \"run_name\": \"MaxAbsScaler, LightGBM\", \"run_properties\": \"copy=True\", \"primary_metric\": 0.78334223, \"best_metric\": 0.79782806}, {\"run_id\": \"AutoML_cbf39a66-adfa-434e-974e-c5fcdd114967_23\", \"run_number\": 105, \"metric\": null, \"status\": \"Completed\", \"run_type\": \"azureml.scriptrun\", \"training_percent\": \"100\", \"start_time\": \"2021-07-04T04:35:11.539227Z\", \"end_time\": \"2021-07-04T04:43:05.327932Z\", \"created_time\": \"2021-07-04T04:34:57.999496Z\", \"created_time_dt\": \"2021-07-04T04:34:57.999496Z\", \"duration\": \"0:08:07\", \"iteration\": \"23\", \"goal\": \"AUC_weighted_max\", \"run_name\": \"StandardScalerWrapper, XGBoostClassifier\", \"run_properties\": \"\\n    copy=True,\\n    with_mean=False,\\n    with_std=False\\n\", \"primary_metric\": 0.7991418, \"best_metric\": 0.7991418}, {\"run_id\": \"AutoML_cbf39a66-adfa-434e-974e-c5fcdd114967_24\", \"run_number\": 106, \"metric\": null, \"status\": \"Completed\", \"run_type\": \"azureml.scriptrun\", \"training_percent\": \"100\", \"start_time\": \"2021-07-04T04:35:57.48063Z\", \"end_time\": \"2021-07-04T04:38:43.925836Z\", \"created_time\": \"2021-07-04T04:35:43.08757Z\", \"created_time_dt\": \"2021-07-04T04:35:43.08757Z\", \"duration\": \"0:03:00\", \"iteration\": \"24\", \"goal\": \"AUC_weighted_max\", \"run_name\": \"SparseNormalizer, LightGBM\", \"run_properties\": \"copy=True, norm='max'\", \"primary_metric\": 0.77864165, \"best_metric\": 0.7991418}, {\"run_id\": \"AutoML_cbf39a66-adfa-434e-974e-c5fcdd114967_25\", \"run_number\": 107, \"metric\": null, \"status\": \"Canceled\", \"run_type\": \"azureml.scriptrun\", \"training_percent\": \"100\", \"start_time\": \"2021-07-04T04:35:52.52493Z\", \"end_time\": \"2021-07-04T04:43:11.529931Z\", \"created_time\": \"2021-07-04T04:35:43.103281Z\", \"created_time_dt\": \"2021-07-04T04:35:43.103281Z\", \"duration\": \"0:07:28\", \"iteration\": \"25\", \"goal\": null, \"run_name\": \"StandardScalerWrapper, XGBoostClassifier\", \"run_properties\": null}, {\"run_id\": \"AutoML_cbf39a66-adfa-434e-974e-c5fcdd114967_26\", \"run_number\": 108, \"metric\": null, \"status\": \"Canceled\", \"run_type\": \"azureml.scriptrun\", \"training_percent\": \"100\", \"start_time\": \"2021-07-04T04:36:19.173958Z\", \"end_time\": \"2021-07-04T04:43:11.595632Z\", \"created_time\": \"2021-07-04T04:36:03.45845Z\", \"created_time_dt\": \"2021-07-04T04:36:03.45845Z\", \"duration\": \"0:07:08\", \"iteration\": \"26\", \"goal\": null, \"run_name\": \"StandardScalerWrapper, XGBoostClassifier\", \"run_properties\": null}, {\"run_id\": \"AutoML_cbf39a66-adfa-434e-974e-c5fcdd114967_27\", \"run_number\": 109, \"metric\": null, \"status\": \"Canceled\", \"run_type\": \"azureml.scriptrun\", \"training_percent\": \"100\", \"start_time\": \"2021-07-04T04:38:57.649163Z\", \"end_time\": \"2021-07-04T04:43:11.608663Z\", \"created_time\": \"2021-07-04T04:38:45.661969Z\", \"created_time_dt\": \"2021-07-04T04:38:45.661969Z\", \"duration\": \"0:04:25\", \"iteration\": \"27\", \"goal\": null, \"run_name\": \"MaxAbsScaler, LogisticRegression\", \"run_properties\": null}, {\"run_id\": \"AutoML_cbf39a66-adfa-434e-974e-c5fcdd114967_28\", \"run_number\": 110, \"metric\": null, \"status\": \"Completed\", \"run_type\": \"azureml.scriptrun\", \"training_percent\": \"100\", \"start_time\": \"2021-07-04T04:43:20.371992Z\", \"end_time\": \"2021-07-04T04:47:09.385709Z\", \"created_time\": \"2021-07-04T04:43:12.450453Z\", \"created_time_dt\": \"2021-07-04T04:43:12.450453Z\", \"duration\": \"0:03:56\", \"iteration\": \"28\", \"goal\": \"AUC_weighted_max\", \"run_name\": \"VotingEnsemble\", \"run_properties\": \"\\n    estimators=[('23', Pipeline(memory=None,\\n             steps=[('standardscalerwrapper',\\n                     StandardScalerWrapper(\\n        copy=True,\\n        with_mean=False,\\n        with_std=False\\n    \", \"primary_metric\": 0.80059237, \"best_metric\": 0.80059237}, {\"run_id\": \"AutoML_cbf39a66-adfa-434e-974e-c5fcdd114967_29\", \"run_number\": 111, \"metric\": null, \"status\": \"Completed\", \"run_type\": \"azureml.scriptrun\", \"training_percent\": \"100\", \"start_time\": \"2021-07-04T04:43:20.34764Z\", \"end_time\": \"2021-07-04T04:49:07.592671Z\", \"created_time\": \"2021-07-04T04:43:12.472227Z\", \"created_time_dt\": \"2021-07-04T04:43:12.472227Z\", \"duration\": \"0:05:55\", \"iteration\": \"29\", \"goal\": \"AUC_weighted_max\", \"run_name\": \"StackEnsemble\", \"run_properties\": \"\\n    base_learners=[('23', Pipeline(memory=None,\\n             steps=[('standardscalerwrapper',\\n                     StandardScalerWrapper(\\n        copy=True,\\n        with_mean=False,\\n        with_std=False\\n    \", \"primary_metric\": 0.8010431, \"best_metric\": 0.8010431}], \"children_metrics\": {\"categories\": [0], \"series\": {\"AUC_macro\": [{\"categories\": [\"0\", \"1\", \"2\", \"3\", \"4\", \"5\", \"6\", \"7\", \"8\", \"9\", \"10\", \"11\", \"12\", \"13\", \"14\", \"15\", \"16\", \"17\", \"18\", \"19\", \"20\", \"21\", \"22\", \"23\", \"24\", \"28\", \"29\"], \"mode\": \"markers\", \"name\": \"AUC_macro\", \"stepped\": false, \"type\": \"scatter\", \"data\": [0.7978280646108203, 0.7857388655287877, 0.7407569918185672, 0.7469346518549016, 0.7287062728403078, 0.6951508594207128, 0.6782469862963776, 0.6437425489732566, 0.7284110982169552, 0.6452455810856275, 0.7187834326495612, 0.7268993024693853, 0.7235394075803103, 0.7608325328849505, 0.7414093806457653, 0.6605514726065924, 0.6612892296231321, 0.6374909122872876, 0.7213605277620945, 0.7718731695902267, 0.7976251767486827, 0.7704072059754293, 0.7833422255064563, 0.7991418027912955, 0.7786416491333853, 0.8005923708719209, 0.8010431017233097]}, {\"categories\": [\"0\", \"1\", \"2\", \"3\", \"4\", \"5\", \"6\", \"7\", \"8\", \"9\", \"10\", \"11\", \"12\", \"13\", \"14\", \"15\", \"16\", \"17\", \"18\", \"19\", \"20\", \"21\", \"22\", \"23\", \"24\", \"28\", \"29\"], \"mode\": \"lines\", \"name\": \"AUC_macro_max\", \"stepped\": true, \"type\": \"scatter\", \"data\": [0.7978280646108203, 0.7978280646108203, 0.7978280646108203, 0.7978280646108203, 0.7978280646108203, 0.7978280646108203, 0.7978280646108203, 0.7978280646108203, 0.7978280646108203, 0.7978280646108203, 0.7978280646108203, 0.7978280646108203, 0.7978280646108203, 0.7978280646108203, 0.7978280646108203, 0.7978280646108203, 0.7978280646108203, 0.7978280646108203, 0.7978280646108203, 0.7978280646108203, 0.7978280646108203, 0.7978280646108203, 0.7978280646108203, 0.7991418027912955, 0.7991418027912955, 0.8005923708719209, 0.8010431017233097]}], \"recall_score_weighted\": [{\"categories\": [\"0\", \"1\", \"2\", \"3\", \"4\", \"5\", \"6\", \"7\", \"8\", \"9\", \"10\", \"11\", \"12\", \"13\", \"14\", \"15\", \"16\", \"17\", \"18\", \"19\", \"20\", \"21\", \"22\", \"23\", \"24\", \"28\", \"29\"], \"mode\": \"markers\", \"name\": \"recall_score_weighted\", \"stepped\": false, \"type\": \"scatter\", \"data\": [0.7207845707722929, 0.7111831523078278, 0.6717780747894105, 0.4999841536367004, 0.6607577271992692, 0.6325426338686571, 0.6184892197826188, 0.5958949164193059, 0.6616597948560289, 0.4999841536367004, 0.4999841536367004, 0.4999841536367004, 0.4999841536367004, 0.688006016244441, 0.6704005721789749, 0.6100661433622853, 0.4999841536367004, 0.4999841536367004, 0.4999841536367004, 0.7001247927709578, 0.7209115075738403, 0.6999838644531791, 0.7092118842802317, 0.721374170454095, 0.7022207232291855, 0.7226156388360933, 0.7229265868181696]}, {\"categories\": [\"0\", \"1\", \"2\", \"3\", \"4\", \"5\", \"6\", \"7\", \"8\", \"9\", \"10\", \"11\", \"12\", \"13\", \"14\", \"15\", \"16\", \"17\", \"18\", \"19\", \"20\", \"21\", \"22\", \"23\", \"24\", \"28\", \"29\"], \"mode\": \"lines\", \"name\": \"recall_score_weighted_max\", \"stepped\": true, \"type\": \"scatter\", \"data\": [0.7207845707722929, 0.7207845707722929, 0.7207845707722929, 0.7207845707722929, 0.7207845707722929, 0.7207845707722929, 0.7207845707722929, 0.7207845707722929, 0.7207845707722929, 0.7207845707722929, 0.7207845707722929, 0.7207845707722929, 0.7207845707722929, 0.7207845707722929, 0.7207845707722929, 0.7207845707722929, 0.7207845707722929, 0.7207845707722929, 0.7207845707722929, 0.7207845707722929, 0.7209115075738403, 0.7209115075738403, 0.7209115075738403, 0.721374170454095, 0.721374170454095, 0.7226156388360933, 0.7229265868181696]}], \"accuracy\": [{\"categories\": [\"0\", \"1\", \"2\", \"3\", \"4\", \"5\", \"6\", \"7\", \"8\", \"9\", \"10\", \"11\", \"12\", \"13\", \"14\", \"15\", \"16\", \"17\", \"18\", \"19\", \"20\", \"21\", \"22\", \"23\", \"24\", \"28\", \"29\"], \"mode\": \"markers\", \"name\": \"accuracy\", \"stepped\": false, \"type\": \"scatter\", \"data\": [0.7207845707724263, 0.7111831523079408, 0.6717780747895126, 0.4999841536370875, 0.660757727199337, 0.6325426338688364, 0.6184892197827974, 0.5958949164194858, 0.6616597948560746, 0.4999841536370875, 0.4999841536370875, 0.4999841536370875, 0.4999841536370875, 0.6880060162444994, 0.6704005721790456, 0.6100661433624402, 0.4999841536370875, 0.4999841536370875, 0.4999841536370875, 0.7001247927710657, 0.720911507573988, 0.6999838644532951, 0.7092118842803394, 0.721374170454198, 0.7022207232292994, 0.722615638836208, 0.7229265868183272]}, {\"categories\": [\"0\", \"1\", \"2\", \"3\", \"4\", \"5\", \"6\", \"7\", \"8\", \"9\", \"10\", \"11\", \"12\", \"13\", \"14\", \"15\", \"16\", \"17\", \"18\", \"19\", \"20\", \"21\", \"22\", \"23\", \"24\", \"28\", \"29\"], \"mode\": \"lines\", \"name\": \"accuracy_max\", \"stepped\": true, \"type\": \"scatter\", \"data\": [0.7207845707724263, 0.7207845707724263, 0.7207845707724263, 0.7207845707724263, 0.7207845707724263, 0.7207845707724263, 0.7207845707724263, 0.7207845707724263, 0.7207845707724263, 0.7207845707724263, 0.7207845707724263, 0.7207845707724263, 0.7207845707724263, 0.7207845707724263, 0.7207845707724263, 0.7207845707724263, 0.7207845707724263, 0.7207845707724263, 0.7207845707724263, 0.7207845707724263, 0.720911507573988, 0.720911507573988, 0.720911507573988, 0.721374170454198, 0.721374170454198, 0.722615638836208, 0.7229265868183272]}], \"average_precision_score_weighted\": [{\"categories\": [\"0\", \"1\", \"2\", \"3\", \"4\", \"5\", \"6\", \"7\", \"8\", \"9\", \"10\", \"11\", \"12\", \"13\", \"14\", \"15\", \"16\", \"17\", \"18\", \"19\", \"20\", \"21\", \"22\", \"23\", \"24\", \"28\", \"29\"], \"mode\": \"markers\", \"name\": \"average_precision_score_weighted\", \"stepped\": false, \"type\": \"scatter\", \"data\": [0.7962202269317855, 0.7826897469830133, 0.7351222834312944, 0.7426847414840496, 0.7205555748201568, 0.6931616209945759, 0.6803087720511629, 0.6472267846501857, 0.7192479630116703, 0.6475449546009162, 0.707394061449248, 0.7193362896170863, 0.7136406489117487, 0.7563054598668806, 0.7363403441153775, 0.6550214414937261, 0.6602273918621735, 0.6397140979156213, 0.7126837793811289, 0.767472016919574, 0.7955550925820711, 0.7663876273228546, 0.7802793325695123, 0.7971985452156961, 0.776017215559212, 0.7992593919760732, 0.7997655518861818]}, {\"categories\": [\"0\", \"1\", \"2\", \"3\", \"4\", \"5\", \"6\", \"7\", \"8\", \"9\", \"10\", \"11\", \"12\", \"13\", \"14\", \"15\", \"16\", \"17\", \"18\", \"19\", \"20\", \"21\", \"22\", \"23\", \"24\", \"28\", \"29\"], \"mode\": \"lines\", \"name\": \"average_precision_score_weighted_max\", \"stepped\": true, \"type\": \"scatter\", \"data\": [0.7962202269317855, 0.7962202269317855, 0.7962202269317855, 0.7962202269317855, 0.7962202269317855, 0.7962202269317855, 0.7962202269317855, 0.7962202269317855, 0.7962202269317855, 0.7962202269317855, 0.7962202269317855, 0.7962202269317855, 0.7962202269317855, 0.7962202269317855, 0.7962202269317855, 0.7962202269317855, 0.7962202269317855, 0.7962202269317855, 0.7962202269317855, 0.7962202269317855, 0.7962202269317855, 0.7962202269317855, 0.7962202269317855, 0.7971985452156961, 0.7971985452156961, 0.7992593919760732, 0.7997655518861818]}], \"average_precision_score_micro\": [{\"categories\": [\"0\", \"1\", \"2\", \"3\", \"4\", \"5\", \"6\", \"7\", \"8\", \"9\", \"10\", \"11\", \"12\", \"13\", \"14\", \"15\", \"16\", \"17\", \"18\", \"19\", \"20\", \"21\", \"22\", \"23\", \"24\", \"28\", \"29\"], \"mode\": \"markers\", \"name\": \"average_precision_score_micro\", \"stepped\": false, \"type\": \"scatter\", \"data\": [0.8022785142263362, 0.7883323577010451, 0.741619574073874, 0.655670130264373, 0.7256910722670917, 0.7029403078460328, 0.6879605186039095, 0.6548756589290846, 0.7288609526708962, 0.6009424812361124, 0.6362015685300437, 0.6428638889600483, 0.6426281445156481, 0.7627254382737442, 0.7432333960507286, 0.6551184490080331, 0.6059918231238554, 0.5948545384304234, 0.638031172172296, 0.7731165883152429, 0.8010729229360309, 0.7714390664703834, 0.7861704398385916, 0.8035260478382739, 0.7833459872538653, 0.8050117496060137, 0.8056763236208857]}, {\"categories\": [\"0\", \"1\", \"2\", \"3\", \"4\", \"5\", \"6\", \"7\", \"8\", \"9\", \"10\", \"11\", \"12\", \"13\", \"14\", \"15\", \"16\", \"17\", \"18\", \"19\", \"20\", \"21\", \"22\", \"23\", \"24\", \"28\", \"29\"], \"mode\": \"lines\", \"name\": \"average_precision_score_micro_max\", \"stepped\": true, \"type\": \"scatter\", \"data\": [0.8022785142263362, 0.8022785142263362, 0.8022785142263362, 0.8022785142263362, 0.8022785142263362, 0.8022785142263362, 0.8022785142263362, 0.8022785142263362, 0.8022785142263362, 0.8022785142263362, 0.8022785142263362, 0.8022785142263362, 0.8022785142263362, 0.8022785142263362, 0.8022785142263362, 0.8022785142263362, 0.8022785142263362, 0.8022785142263362, 0.8022785142263362, 0.8022785142263362, 0.8022785142263362, 0.8022785142263362, 0.8022785142263362, 0.8035260478382739, 0.8035260478382739, 0.8050117496060137, 0.8056763236208857]}], \"f1_score_weighted\": [{\"categories\": [\"0\", \"1\", \"2\", \"3\", \"4\", \"5\", \"6\", \"7\", \"8\", \"9\", \"10\", \"11\", \"12\", \"13\", \"14\", \"15\", \"16\", \"17\", \"18\", \"19\", \"20\", \"21\", \"22\", \"23\", \"24\", \"28\", \"29\"], \"mode\": \"markers\", \"name\": \"f1_score_weighted\", \"stepped\": false, \"type\": \"scatter\", \"data\": [0.7198988551268111, 0.7096191836258455, 0.6686091871194489, 0.33332259653210194, 0.6550623149102203, 0.6308490990106967, 0.6166183827206512, 0.5931325055843372, 0.655107431455031, 0.33332259653210194, 0.33332259653210194, 0.33332259653210194, 0.33332259653210194, 0.6835827798524179, 0.6656570376725399, 0.6068206841271113, 0.33332259653210194, 0.33332259653210194, 0.33332259653210194, 0.698118992378394, 0.720294211502917, 0.6982315261990426, 0.7074433226209076, 0.7197670912553922, 0.7004624220865405, 0.7213417936053517, 0.7224871889288662]}, {\"categories\": [\"0\", \"1\", \"2\", \"3\", \"4\", \"5\", \"6\", \"7\", \"8\", \"9\", \"10\", \"11\", \"12\", \"13\", \"14\", \"15\", \"16\", \"17\", \"18\", \"19\", \"20\", \"21\", \"22\", \"23\", \"24\", \"28\", \"29\"], \"mode\": \"lines\", \"name\": \"f1_score_weighted_max\", \"stepped\": true, \"type\": \"scatter\", \"data\": [0.7198988551268111, 0.7198988551268111, 0.7198988551268111, 0.7198988551268111, 0.7198988551268111, 0.7198988551268111, 0.7198988551268111, 0.7198988551268111, 0.7198988551268111, 0.7198988551268111, 0.7198988551268111, 0.7198988551268111, 0.7198988551268111, 0.7198988551268111, 0.7198988551268111, 0.7198988551268111, 0.7198988551268111, 0.7198988551268111, 0.7198988551268111, 0.7198988551268111, 0.720294211502917, 0.720294211502917, 0.720294211502917, 0.720294211502917, 0.720294211502917, 0.7213417936053517, 0.7224871889288662]}], \"recall_score_micro\": [{\"categories\": [\"0\", \"1\", \"2\", \"3\", \"4\", \"5\", \"6\", \"7\", \"8\", \"9\", \"10\", \"11\", \"12\", \"13\", \"14\", \"15\", \"16\", \"17\", \"18\", \"19\", \"20\", \"21\", \"22\", \"23\", \"24\", \"28\", \"29\"], \"mode\": \"markers\", \"name\": \"recall_score_micro\", \"stepped\": false, \"type\": \"scatter\", \"data\": [0.7207845707722929, 0.7111831523078278, 0.6717780747894105, 0.4999841536367004, 0.6607577271992692, 0.6325426338686571, 0.6184892197826188, 0.5958949164193059, 0.6616597948560289, 0.4999841536367004, 0.4999841536367004, 0.4999841536367004, 0.4999841536367004, 0.688006016244441, 0.6704005721789749, 0.6100661433622853, 0.4999841536367004, 0.4999841536367004, 0.4999841536367004, 0.7001247927709578, 0.7209115075738401, 0.6999838644531791, 0.7092118842802317, 0.721374170454095, 0.7022207232291855, 0.7226156388360933, 0.7229265868181696]}, {\"categories\": [\"0\", \"1\", \"2\", \"3\", \"4\", \"5\", \"6\", \"7\", \"8\", \"9\", \"10\", \"11\", \"12\", \"13\", \"14\", \"15\", \"16\", \"17\", \"18\", \"19\", \"20\", \"21\", \"22\", \"23\", \"24\", \"28\", \"29\"], \"mode\": \"lines\", \"name\": \"recall_score_micro_max\", \"stepped\": true, \"type\": \"scatter\", \"data\": [0.7207845707722929, 0.7207845707722929, 0.7207845707722929, 0.7207845707722929, 0.7207845707722929, 0.7207845707722929, 0.7207845707722929, 0.7207845707722929, 0.7207845707722929, 0.7207845707722929, 0.7207845707722929, 0.7207845707722929, 0.7207845707722929, 0.7207845707722929, 0.7207845707722929, 0.7207845707722929, 0.7207845707722929, 0.7207845707722929, 0.7207845707722929, 0.7207845707722929, 0.7209115075738401, 0.7209115075738401, 0.7209115075738401, 0.721374170454095, 0.721374170454095, 0.7226156388360933, 0.7229265868181696]}], \"weighted_accuracy\": [{\"categories\": [\"0\", \"1\", \"2\", \"3\", \"4\", \"5\", \"6\", \"7\", \"8\", \"9\", \"10\", \"11\", \"12\", \"13\", \"14\", \"15\", \"16\", \"17\", \"18\", \"19\", \"20\", \"21\", \"22\", \"23\", \"24\", \"28\", \"29\"], \"mode\": \"markers\", \"name\": \"weighted_accuracy\", \"stepped\": false, \"type\": \"scatter\", \"data\": [0.773271672391567, 0.7796241372796062, 0.761923907682637, 0.03397997853938679, 0.7756107676702679, 0.6912606674071119, 0.6829871368609948, 0.6684259571895553, 0.7894816738533145, 0.03397997853938679, 0.03397997853938679, 0.03397997853938679, 0.03397997853938679, 0.7982163341578727, 0.7799351307140617, 0.6920899409654038, 0.03397997853938679, 0.03397997853938679, 0.03397997853938679, 0.7761358979791095, 0.7647946775973027, 0.771036258820322, 0.7816866533264809, 0.7920028332421929, 0.7736788211746493, 0.7856916055705623, 0.7601394920641226]}, {\"categories\": [\"0\", \"1\", \"2\", \"3\", \"4\", \"5\", \"6\", \"7\", \"8\", \"9\", \"10\", \"11\", \"12\", \"13\", \"14\", \"15\", \"16\", \"17\", \"18\", \"19\", \"20\", \"21\", \"22\", \"23\", \"24\", \"28\", \"29\"], \"mode\": \"lines\", \"name\": \"weighted_accuracy_max\", \"stepped\": true, \"type\": \"scatter\", \"data\": [0.773271672391567, 0.7796241372796062, 0.7796241372796062, 0.7796241372796062, 0.7796241372796062, 0.7796241372796062, 0.7796241372796062, 0.7796241372796062, 0.7894816738533145, 0.7894816738533145, 0.7894816738533145, 0.7894816738533145, 0.7894816738533145, 0.7982163341578727, 0.7982163341578727, 0.7982163341578727, 0.7982163341578727, 0.7982163341578727, 0.7982163341578727, 0.7982163341578727, 0.7982163341578727, 0.7982163341578727, 0.7982163341578727, 0.7982163341578727, 0.7982163341578727, 0.7982163341578727, 0.7982163341578727]}], \"precision_score_weighted\": [{\"categories\": [\"0\", \"1\", \"2\", \"3\", \"4\", \"5\", \"6\", \"7\", \"8\", \"9\", \"10\", \"11\", \"12\", \"13\", \"14\", \"15\", \"16\", \"17\", \"18\", \"19\", \"20\", \"21\", \"22\", \"23\", \"24\", \"28\", \"29\"], \"mode\": \"markers\", \"name\": \"precision_score_weighted\", \"stepped\": false, \"type\": \"scatter\", \"data\": [0.7236315243887916, 0.7158554287819879, 0.6785913580419313, 0.24999574273685798, 0.6720245438815177, 0.6352284337389029, 0.6208303615610629, 0.5988840367581475, 0.6748398276088763, 0.24999574273685798, 0.24999574273685798, 0.24999574273685798, 0.24999574273685798, 0.6991818344132007, 0.6804672495326167, 0.613918946586496, 0.24999574273685798, 0.24999574273685798, 0.24999574273685798, 0.7056022316054117, 0.722902335313685, 0.7047562728399726, 0.7144184533153981, 0.7265902441049674, 0.7070991038527634, 0.7267838358171165, 0.7243786362763155]}, {\"categories\": [\"0\", \"1\", \"2\", \"3\", \"4\", \"5\", \"6\", \"7\", \"8\", \"9\", \"10\", \"11\", \"12\", \"13\", \"14\", \"15\", \"16\", \"17\", \"18\", \"19\", \"20\", \"21\", \"22\", \"23\", \"24\", \"28\", \"29\"], \"mode\": \"lines\", \"name\": \"precision_score_weighted_max\", \"stepped\": true, \"type\": \"scatter\", \"data\": [0.7236315243887916, 0.7236315243887916, 0.7236315243887916, 0.7236315243887916, 0.7236315243887916, 0.7236315243887916, 0.7236315243887916, 0.7236315243887916, 0.7236315243887916, 0.7236315243887916, 0.7236315243887916, 0.7236315243887916, 0.7236315243887916, 0.7236315243887916, 0.7236315243887916, 0.7236315243887916, 0.7236315243887916, 0.7236315243887916, 0.7236315243887916, 0.7236315243887916, 0.7236315243887916, 0.7236315243887916, 0.7236315243887916, 0.7265902441049674, 0.7265902441049674, 0.7267838358171165, 0.7267838358171165]}], \"f1_score_macro\": [{\"categories\": [\"0\", \"1\", \"2\", \"3\", \"4\", \"5\", \"6\", \"7\", \"8\", \"9\", \"10\", \"11\", \"12\", \"13\", \"14\", \"15\", \"16\", \"17\", \"18\", \"19\", \"20\", \"21\", \"22\", \"23\", \"24\", \"28\", \"29\"], \"mode\": \"markers\", \"name\": \"f1_score_macro\", \"stepped\": false, \"type\": \"scatter\", \"data\": [0.7198893398204118, 0.7096113723622688, 0.6685871656204041, 0.3333228553704768, 0.6549972306873777, 0.6308663297149731, 0.616598816716911, 0.5931589484017861, 0.6550695175204073, 0.3333228553704768, 0.3333228553704768, 0.3333228553704768, 0.3333228553704768, 0.6835755676319643, 0.6656174337276355, 0.6068369354823794, 0.3333228553704768, 0.3333228553704768, 0.3333228553704768, 0.6981084179285054, 0.7202857954598763, 0.6982219846162293, 0.7074357772622243, 0.7197579274957165, 0.7004522397139012, 0.7213335230578863, 0.7224803171250331]}, {\"categories\": [\"0\", \"1\", \"2\", \"3\", \"4\", \"5\", \"6\", \"7\", \"8\", \"9\", \"10\", \"11\", \"12\", \"13\", \"14\", \"15\", \"16\", \"17\", \"18\", \"19\", \"20\", \"21\", \"22\", \"23\", \"24\", \"28\", \"29\"], \"mode\": \"lines\", \"name\": \"f1_score_macro_max\", \"stepped\": true, \"type\": \"scatter\", \"data\": [0.7198893398204118, 0.7198893398204118, 0.7198893398204118, 0.7198893398204118, 0.7198893398204118, 0.7198893398204118, 0.7198893398204118, 0.7198893398204118, 0.7198893398204118, 0.7198893398204118, 0.7198893398204118, 0.7198893398204118, 0.7198893398204118, 0.7198893398204118, 0.7198893398204118, 0.7198893398204118, 0.7198893398204118, 0.7198893398204118, 0.7198893398204118, 0.7198893398204118, 0.7202857954598763, 0.7202857954598763, 0.7202857954598763, 0.7202857954598763, 0.7202857954598763, 0.7213335230578863, 0.7224803171250331]}], \"AUC_micro\": [{\"categories\": [\"0\", \"1\", \"2\", \"3\", \"4\", \"5\", \"6\", \"7\", \"8\", \"9\", \"10\", \"11\", \"12\", \"13\", \"14\", \"15\", \"16\", \"17\", \"18\", \"19\", \"20\", \"21\", \"22\", \"23\", \"24\", \"28\", \"29\"], \"mode\": \"markers\", \"name\": \"AUC_micro\", \"stepped\": false, \"type\": \"scatter\", \"data\": [0.8001885168534196, 0.7875109544401959, 0.7419915274730258, 0.6234457041836616, 0.7288029130346784, 0.6966194274212397, 0.6800267239998867, 0.646166837463466, 0.7307981763815471, 0.572603566738764, 0.6093708097238772, 0.613428539184178, 0.611748621598824, 0.7615080005684327, 0.7428091393260472, 0.6576529515484311, 0.5806250436403328, 0.5687263347994398, 0.6106592352232131, 0.7732136268661248, 0.7998047684134201, 0.7714703284825231, 0.7849913234653705, 0.8013568455596047, 0.7812297577181251, 0.802776844645345, 0.8033226480646501]}, {\"categories\": [\"0\", \"1\", \"2\", \"3\", \"4\", \"5\", \"6\", \"7\", \"8\", \"9\", \"10\", \"11\", \"12\", \"13\", \"14\", \"15\", \"16\", \"17\", \"18\", \"19\", \"20\", \"21\", \"22\", \"23\", \"24\", \"28\", \"29\"], \"mode\": \"lines\", \"name\": \"AUC_micro_max\", \"stepped\": true, \"type\": \"scatter\", \"data\": [0.8001885168534196, 0.8001885168534196, 0.8001885168534196, 0.8001885168534196, 0.8001885168534196, 0.8001885168534196, 0.8001885168534196, 0.8001885168534196, 0.8001885168534196, 0.8001885168534196, 0.8001885168534196, 0.8001885168534196, 0.8001885168534196, 0.8001885168534196, 0.8001885168534196, 0.8001885168534196, 0.8001885168534196, 0.8001885168534196, 0.8001885168534196, 0.8001885168534196, 0.8001885168534196, 0.8001885168534196, 0.8001885168534196, 0.8013568455596047, 0.8013568455596047, 0.802776844645345, 0.8033226480646501]}], \"balanced_accuracy\": [{\"categories\": [\"0\", \"1\", \"2\", \"3\", \"4\", \"5\", \"6\", \"7\", \"8\", \"9\", \"10\", \"11\", \"12\", \"13\", \"14\", \"15\", \"16\", \"17\", \"18\", \"19\", \"20\", \"21\", \"22\", \"23\", \"24\", \"28\", \"29\"], \"mode\": \"markers\", \"name\": \"balanced_accuracy\", \"stepped\": false, \"type\": \"scatter\", \"data\": [0.7207841046519218, 0.7111876745943564, 0.67174602738739, 0.5, 0.6606009835578319, 0.6326185118001931, 0.6184693889850295, 0.5959882513451866, 0.6615868378883736, 0.5, 0.5, 0.5, 0.5, 0.6880129773816506, 0.6703333210513673, 0.6101353177020854, 0.5, 0.5, 0.5, 0.7001215491317863, 0.7209146152668771, 0.6999837013702994, 0.7092167740317634, 0.721375357006451, 0.7022186459847155, 0.7226188018259675, 0.7229355564945195]}, {\"categories\": [\"0\", \"1\", \"2\", \"3\", \"4\", \"5\", \"6\", \"7\", \"8\", \"9\", \"10\", \"11\", \"12\", \"13\", \"14\", \"15\", \"16\", \"17\", \"18\", \"19\", \"20\", \"21\", \"22\", \"23\", \"24\", \"28\", \"29\"], \"mode\": \"lines\", \"name\": \"balanced_accuracy_max\", \"stepped\": true, \"type\": \"scatter\", \"data\": [0.7207841046519218, 0.7207841046519218, 0.7207841046519218, 0.7207841046519218, 0.7207841046519218, 0.7207841046519218, 0.7207841046519218, 0.7207841046519218, 0.7207841046519218, 0.7207841046519218, 0.7207841046519218, 0.7207841046519218, 0.7207841046519218, 0.7207841046519218, 0.7207841046519218, 0.7207841046519218, 0.7207841046519218, 0.7207841046519218, 0.7207841046519218, 0.7207841046519218, 0.7209146152668771, 0.7209146152668771, 0.7209146152668771, 0.721375357006451, 0.721375357006451, 0.7226188018259675, 0.7229355564945195]}], \"matthews_correlation\": [{\"categories\": [\"0\", \"1\", \"2\", \"3\", \"4\", \"5\", \"6\", \"7\", \"8\", \"9\", \"10\", \"11\", \"12\", \"13\", \"14\", \"15\", \"16\", \"17\", \"18\", \"19\", \"20\", \"21\", \"22\", \"23\", \"24\", \"28\", \"29\"], \"mode\": \"markers\", \"name\": \"matthews_correlation\", \"stepped\": false, \"type\": \"scatter\", \"data\": [0.4443880776914731, 0.42699747369937946, 0.35025445218033463, 0.0, 0.3324166359172175, 0.2677885366619793, 0.23926846700667442, 0.1948002536447996, 0.3361618606287268, 0.0, 0.0, 0.0, 0.0, 0.38701160903694726, 0.35063481920571576, 0.223975253670869, 0.0, 0.0, 0.0, 0.40566918415735176, 0.4437926139266023, 0.404693057977484, 0.4235832251216863, 0.44791588972401364, 0.409270634261491, 0.4493637282005928, 0.4472891398697703]}, {\"categories\": [\"0\", \"1\", \"2\", \"3\", \"4\", \"5\", \"6\", \"7\", \"8\", \"9\", \"10\", \"11\", \"12\", \"13\", \"14\", \"15\", \"16\", \"17\", \"18\", \"19\", \"20\", \"21\", \"22\", \"23\", \"24\", \"28\", \"29\"], \"mode\": \"lines\", \"name\": \"matthews_correlation_max\", \"stepped\": true, \"type\": \"scatter\", \"data\": [0.4443880776914731, 0.4443880776914731, 0.4443880776914731, 0.4443880776914731, 0.4443880776914731, 0.4443880776914731, 0.4443880776914731, 0.4443880776914731, 0.4443880776914731, 0.4443880776914731, 0.4443880776914731, 0.4443880776914731, 0.4443880776914731, 0.4443880776914731, 0.4443880776914731, 0.4443880776914731, 0.4443880776914731, 0.4443880776914731, 0.4443880776914731, 0.4443880776914731, 0.4443880776914731, 0.4443880776914731, 0.4443880776914731, 0.44791588972401364, 0.44791588972401364, 0.4493637282005928, 0.4493637282005928]}], \"log_loss\": [{\"categories\": [\"0\", \"1\", \"2\", \"3\", \"4\", \"5\", \"6\", \"7\", \"8\", \"9\", \"10\", \"11\", \"12\", \"13\", \"14\", \"15\", \"16\", \"17\", \"18\", \"19\", \"20\", \"21\", \"22\", \"23\", \"24\", \"28\", \"29\"], \"mode\": \"markers\", \"name\": \"log_loss\", \"stepped\": false, \"type\": \"scatter\", \"data\": [0.535827493757553, 0.5530640057516539, 0.6047410089831831, 0.8819427720830735, 0.6220387650684076, 0.6380590636272593, 0.6507061916196337, 0.6713700013769879, 0.6419435314329502, 0.9882264156783567, 0.919019179163646, 0.9008896543134423, 0.9557089880060843, 0.6023399110558525, 0.6063619723692127, 0.6558689749530537, 0.9613172826958039, 0.9934479932919075, 0.9274076771496199, 0.5678805039219447, 0.5370358225146626, 0.585143496437442, 0.5563452462001276, 0.5339505447205495, 0.5548213743604282, 0.5332002062588508, 0.536808070189603]}, {\"categories\": [\"0\", \"1\", \"2\", \"3\", \"4\", \"5\", \"6\", \"7\", \"8\", \"9\", \"10\", \"11\", \"12\", \"13\", \"14\", \"15\", \"16\", \"17\", \"18\", \"19\", \"20\", \"21\", \"22\", \"23\", \"24\", \"28\", \"29\"], \"mode\": \"lines\", \"name\": \"log_loss_min\", \"stepped\": true, \"type\": \"scatter\", \"data\": [0.535827493757553, 0.535827493757553, 0.535827493757553, 0.535827493757553, 0.535827493757553, 0.535827493757553, 0.535827493757553, 0.535827493757553, 0.535827493757553, 0.535827493757553, 0.535827493757553, 0.535827493757553, 0.535827493757553, 0.535827493757553, 0.535827493757553, 0.535827493757553, 0.535827493757553, 0.535827493757553, 0.535827493757553, 0.535827493757553, 0.535827493757553, 0.535827493757553, 0.535827493757553, 0.5339505447205495, 0.5339505447205495, 0.5332002062588508, 0.5332002062588508]}], \"recall_score_macro\": [{\"categories\": [\"0\", \"1\", \"2\", \"3\", \"4\", \"5\", \"6\", \"7\", \"8\", \"9\", \"10\", \"11\", \"12\", \"13\", \"14\", \"15\", \"16\", \"17\", \"18\", \"19\", \"20\", \"21\", \"22\", \"23\", \"24\", \"28\", \"29\"], \"mode\": \"markers\", \"name\": \"recall_score_macro\", \"stepped\": false, \"type\": \"scatter\", \"data\": [0.7207841046519218, 0.7111876745943564, 0.67174602738739, 0.5, 0.6606009835578319, 0.6326185118001931, 0.6184693889850295, 0.5959882513451866, 0.6615868378883736, 0.5, 0.5, 0.5, 0.5, 0.6880129773816506, 0.6703333210513673, 0.6101353177020854, 0.5, 0.5, 0.5, 0.7001215491317863, 0.7209146152668771, 0.6999837013702994, 0.7092167740317634, 0.721375357006451, 0.7022186459847155, 0.7226188018259675, 0.7229355564945195]}, {\"categories\": [\"0\", \"1\", \"2\", \"3\", \"4\", \"5\", \"6\", \"7\", \"8\", \"9\", \"10\", \"11\", \"12\", \"13\", \"14\", \"15\", \"16\", \"17\", \"18\", \"19\", \"20\", \"21\", \"22\", \"23\", \"24\", \"28\", \"29\"], \"mode\": \"lines\", \"name\": \"recall_score_macro_max\", \"stepped\": true, \"type\": \"scatter\", \"data\": [0.7207841046519218, 0.7207841046519218, 0.7207841046519218, 0.7207841046519218, 0.7207841046519218, 0.7207841046519218, 0.7207841046519218, 0.7207841046519218, 0.7207841046519218, 0.7207841046519218, 0.7207841046519218, 0.7207841046519218, 0.7207841046519218, 0.7207841046519218, 0.7207841046519218, 0.7207841046519218, 0.7207841046519218, 0.7207841046519218, 0.7207841046519218, 0.7207841046519218, 0.7209146152668771, 0.7209146152668771, 0.7209146152668771, 0.721375357006451, 0.721375357006451, 0.7226188018259675, 0.7229355564945195]}], \"average_precision_score_macro\": [{\"categories\": [\"0\", \"1\", \"2\", \"3\", \"4\", \"5\", \"6\", \"7\", \"8\", \"9\", \"10\", \"11\", \"12\", \"13\", \"14\", \"15\", \"16\", \"17\", \"18\", \"19\", \"20\", \"21\", \"22\", \"23\", \"24\", \"28\", \"29\"], \"mode\": \"markers\", \"name\": \"average_precision_score_macro\", \"stepped\": false, \"type\": \"scatter\", \"data\": [0.79620582745009, 0.7826760632159455, 0.7351042825861104, 0.7426609395945067, 0.7205311431142913, 0.6931462178222946, 0.6802879278830948, 0.6472066581896814, 0.719226230381088, 0.6475276737622347, 0.7073707207837554, 0.7193011601326518, 0.7135975542747058, 0.7562862881593156, 0.7363173389099525, 0.6549846743345586, 0.6602332622249216, 0.6396886546665309, 0.7126710048172457, 0.7674588120456441, 0.7955417714540344, 0.7663726842724634, 0.7802647362359982, 0.7971799509038773, 0.7759978637958951, 0.7992436438950419, 0.7997492970053722]}, {\"categories\": [\"0\", \"1\", \"2\", \"3\", \"4\", \"5\", \"6\", \"7\", \"8\", \"9\", \"10\", \"11\", \"12\", \"13\", \"14\", \"15\", \"16\", \"17\", \"18\", \"19\", \"20\", \"21\", \"22\", \"23\", \"24\", \"28\", \"29\"], \"mode\": \"lines\", \"name\": \"average_precision_score_macro_max\", \"stepped\": true, \"type\": \"scatter\", \"data\": [0.79620582745009, 0.79620582745009, 0.79620582745009, 0.79620582745009, 0.79620582745009, 0.79620582745009, 0.79620582745009, 0.79620582745009, 0.79620582745009, 0.79620582745009, 0.79620582745009, 0.79620582745009, 0.79620582745009, 0.79620582745009, 0.79620582745009, 0.79620582745009, 0.79620582745009, 0.79620582745009, 0.79620582745009, 0.79620582745009, 0.79620582745009, 0.79620582745009, 0.79620582745009, 0.7971799509038773, 0.7971799509038773, 0.7992436438950419, 0.7997492970053722]}], \"precision_score_macro\": [{\"categories\": [\"0\", \"1\", \"2\", \"3\", \"4\", \"5\", \"6\", \"7\", \"8\", \"9\", \"10\", \"11\", \"12\", \"13\", \"14\", \"15\", \"16\", \"17\", \"18\", \"19\", \"20\", \"21\", \"22\", \"23\", \"24\", \"28\", \"29\"], \"mode\": \"markers\", \"name\": \"precision_score_macro\", \"stepped\": false, \"type\": \"scatter\", \"data\": [0.723612999163809, 0.715835145066333, 0.678581108594933, 0.24999207681822072, 0.6720645466199944, 0.6351865515041647, 0.6208113572676701, 0.5988412051572849, 0.6748454349677772, 0.24999207681822072, 0.24999207681822072, 0.24999207681822072, 0.24999207681822072, 0.6991596422241235, 0.6804614811231832, 0.6138787251025402, 0.24999207681822072, 0.24999207681822072, 0.24999207681822072, 0.7055844764210819, 0.7228823720900003, 0.7047373615678582, 0.7143982928461441, 0.7265707139808291, 0.7070809096999374, 0.7267640725947, 0.7243558430543688]}, {\"categories\": [\"0\", \"1\", \"2\", \"3\", \"4\", \"5\", \"6\", \"7\", \"8\", \"9\", \"10\", \"11\", \"12\", \"13\", \"14\", \"15\", \"16\", \"17\", \"18\", \"19\", \"20\", \"21\", \"22\", \"23\", \"24\", \"28\", \"29\"], \"mode\": \"lines\", \"name\": \"precision_score_macro_max\", \"stepped\": true, \"type\": \"scatter\", \"data\": [0.723612999163809, 0.723612999163809, 0.723612999163809, 0.723612999163809, 0.723612999163809, 0.723612999163809, 0.723612999163809, 0.723612999163809, 0.723612999163809, 0.723612999163809, 0.723612999163809, 0.723612999163809, 0.723612999163809, 0.723612999163809, 0.723612999163809, 0.723612999163809, 0.723612999163809, 0.723612999163809, 0.723612999163809, 0.723612999163809, 0.723612999163809, 0.723612999163809, 0.723612999163809, 0.7265707139808291, 0.7265707139808291, 0.7267640725947, 0.7267640725947]}], \"f1_score_micro\": [{\"categories\": [\"0\", \"1\", \"2\", \"3\", \"4\", \"5\", \"6\", \"7\", \"8\", \"9\", \"10\", \"11\", \"12\", \"13\", \"14\", \"15\", \"16\", \"17\", \"18\", \"19\", \"20\", \"21\", \"22\", \"23\", \"24\", \"28\", \"29\"], \"mode\": \"markers\", \"name\": \"f1_score_micro\", \"stepped\": false, \"type\": \"scatter\", \"data\": [0.7207845707722835, 0.7111831523078129, 0.6717780747893899, 0.4999841536365709, 0.6607577271992405, 0.6325426338686484, 0.6184892197826098, 0.5958949164192959, 0.6616597948559957, 0.4999841536365709, 0.4999841536365709, 0.4999841536365709, 0.4999841536365709, 0.6880060162444112, 0.6704005721789471, 0.610066143362272, 0.4999841536365709, 0.4999841536365709, 0.4999841536365709, 0.7001247927709409, 0.7209115075738343, 0.6999838644531637, 0.7092118842802153, 0.7213741704540781, 0.7022207232291697, 0.7226156388360796, 0.7229265868181665]}, {\"categories\": [\"0\", \"1\", \"2\", \"3\", \"4\", \"5\", \"6\", \"7\", \"8\", \"9\", \"10\", \"11\", \"12\", \"13\", \"14\", \"15\", \"16\", \"17\", \"18\", \"19\", \"20\", \"21\", \"22\", \"23\", \"24\", \"28\", \"29\"], \"mode\": \"lines\", \"name\": \"f1_score_micro_max\", \"stepped\": true, \"type\": \"scatter\", \"data\": [0.7207845707722835, 0.7207845707722835, 0.7207845707722835, 0.7207845707722835, 0.7207845707722835, 0.7207845707722835, 0.7207845707722835, 0.7207845707722835, 0.7207845707722835, 0.7207845707722835, 0.7207845707722835, 0.7207845707722835, 0.7207845707722835, 0.7207845707722835, 0.7207845707722835, 0.7207845707722835, 0.7207845707722835, 0.7207845707722835, 0.7207845707722835, 0.7207845707722835, 0.7209115075738343, 0.7209115075738343, 0.7209115075738343, 0.7213741704540781, 0.7213741704540781, 0.7226156388360796, 0.7229265868181665]}], \"AUC_weighted\": [{\"categories\": [\"0\", \"1\", \"2\", \"3\", \"4\", \"5\", \"6\", \"7\", \"8\", \"9\", \"10\", \"11\", \"12\", \"13\", \"14\", \"15\", \"16\", \"17\", \"18\", \"19\", \"20\", \"21\", \"22\", \"23\", \"24\", \"28\", \"29\"], \"mode\": \"markers\", \"name\": \"AUC_weighted\", \"stepped\": false, \"type\": \"scatter\", \"data\": [0.7978280646108203, 0.785738865531447, 0.7407569918185672, 0.7469346518549015, 0.7287062728403076, 0.6951508594207125, 0.6782469862963776, 0.6437425489732564, 0.7284110982169552, 0.6452455810856274, 0.7187834326495612, 0.7268993024693853, 0.7235394075803103, 0.7608325328894263, 0.7414093806457653, 0.6605514726065923, 0.6612892296231321, 0.6374909122872876, 0.7213605277620945, 0.7718731695902268, 0.7976251767486826, 0.7704072059754292, 0.7833422255064562, 0.7991418028022501, 0.7786416491333853, 0.8005923708717495, 0.8010431017233097]}, {\"categories\": [\"0\", \"1\", \"2\", \"3\", \"4\", \"5\", \"6\", \"7\", \"8\", \"9\", \"10\", \"11\", \"12\", \"13\", \"14\", \"15\", \"16\", \"17\", \"18\", \"19\", \"20\", \"21\", \"22\", \"23\", \"24\", \"28\", \"29\"], \"mode\": \"lines\", \"name\": \"AUC_weighted_max\", \"stepped\": true, \"type\": \"scatter\", \"data\": [0.7978280646108203, 0.7978280646108203, 0.7978280646108203, 0.7978280646108203, 0.7978280646108203, 0.7978280646108203, 0.7978280646108203, 0.7978280646108203, 0.7978280646108203, 0.7978280646108203, 0.7978280646108203, 0.7978280646108203, 0.7978280646108203, 0.7978280646108203, 0.7978280646108203, 0.7978280646108203, 0.7978280646108203, 0.7978280646108203, 0.7978280646108203, 0.7978280646108203, 0.7978280646108203, 0.7978280646108203, 0.7978280646108203, 0.7991418028022501, 0.7991418028022501, 0.8005923708717495, 0.8010431017233097]}], \"precision_score_micro\": [{\"categories\": [\"0\", \"1\", \"2\", \"3\", \"4\", \"5\", \"6\", \"7\", \"8\", \"9\", \"10\", \"11\", \"12\", \"13\", \"14\", \"15\", \"16\", \"17\", \"18\", \"19\", \"20\", \"21\", \"22\", \"23\", \"24\", \"28\", \"29\"], \"mode\": \"markers\", \"name\": \"precision_score_micro\", \"stepped\": false, \"type\": \"scatter\", \"data\": [0.7207845707722744, 0.7111831523077978, 0.6717780747893691, 0.49998415363644144, 0.660757727199212, 0.6325426338686398, 0.6184892197826007, 0.5958949164192857, 0.6616597948559624, 0.49998415363644144, 0.49998415363644144, 0.49998415363644144, 0.49998415363644144, 0.6880060162443812, 0.6704005721789195, 0.6100661433622587, 0.49998415363644144, 0.49998415363644144, 0.49998415363644144, 0.7001247927709238, 0.7209115075738286, 0.6999838644531485, 0.7092118842801988, 0.7213741704540615, 0.7022207232291537, 0.7226156388360658, 0.7229265868181634]}, {\"categories\": [\"0\", \"1\", \"2\", \"3\", \"4\", \"5\", \"6\", \"7\", \"8\", \"9\", \"10\", \"11\", \"12\", \"13\", \"14\", \"15\", \"16\", \"17\", \"18\", \"19\", \"20\", \"21\", \"22\", \"23\", \"24\", \"28\", \"29\"], \"mode\": \"lines\", \"name\": \"precision_score_micro_max\", \"stepped\": true, \"type\": \"scatter\", \"data\": [0.7207845707722744, 0.7207845707722744, 0.7207845707722744, 0.7207845707722744, 0.7207845707722744, 0.7207845707722744, 0.7207845707722744, 0.7207845707722744, 0.7207845707722744, 0.7207845707722744, 0.7207845707722744, 0.7207845707722744, 0.7207845707722744, 0.7207845707722744, 0.7207845707722744, 0.7207845707722744, 0.7207845707722744, 0.7207845707722744, 0.7207845707722744, 0.7207845707722744, 0.7209115075738286, 0.7209115075738286, 0.7209115075738286, 0.7213741704540615, 0.7213741704540615, 0.7226156388360658, 0.7229265868181634]}], \"norm_macro_recall\": [{\"categories\": [\"0\", \"1\", \"2\", \"3\", \"4\", \"5\", \"6\", \"7\", \"8\", \"9\", \"10\", \"11\", \"12\", \"13\", \"14\", \"15\", \"16\", \"17\", \"18\", \"19\", \"20\", \"21\", \"22\", \"23\", \"24\", \"28\", \"29\"], \"mode\": \"markers\", \"name\": \"norm_macro_recall\", \"stepped\": false, \"type\": \"scatter\", \"data\": [0.44156820930439267, 0.4223753491892478, 0.34349205477533984, 0.0, 0.3212019671161936, 0.2652370236010476, 0.23693877797073162, 0.19197650269105693, 0.3231736757772529, 0.0, 0.0, 0.0, 0.0, 0.3760259547637947, 0.34066664210326114, 0.22027063540482894, 0.0, 0.0, 0.0, 0.4002430982641124, 0.4418292305343189, 0.39996740274114817, 0.4184335480640577, 0.44275071401341526, 0.4044372919699759, 0.44523760365246084, 0.44587111298961235]}, {\"categories\": [\"0\", \"1\", \"2\", \"3\", \"4\", \"5\", \"6\", \"7\", \"8\", \"9\", \"10\", \"11\", \"12\", \"13\", \"14\", \"15\", \"16\", \"17\", \"18\", \"19\", \"20\", \"21\", \"22\", \"23\", \"24\", \"28\", \"29\"], \"mode\": \"lines\", \"name\": \"norm_macro_recall_max\", \"stepped\": true, \"type\": \"scatter\", \"data\": [0.44156820930439267, 0.44156820930439267, 0.44156820930439267, 0.44156820930439267, 0.44156820930439267, 0.44156820930439267, 0.44156820930439267, 0.44156820930439267, 0.44156820930439267, 0.44156820930439267, 0.44156820930439267, 0.44156820930439267, 0.44156820930439267, 0.44156820930439267, 0.44156820930439267, 0.44156820930439267, 0.44156820930439267, 0.44156820930439267, 0.44156820930439267, 0.44156820930439267, 0.4418292305343189, 0.4418292305343189, 0.4418292305343189, 0.44275071401341526, 0.44275071401341526, 0.44523760365246084, 0.44587111298961235]}]}, \"metricName\": null, \"primaryMetricName\": \"AUC_weighted\", \"showLegend\": false}, \"run_metrics\": [{\"name\": \"experiment_status\", \"run_id\": \"AutoML_cbf39a66-adfa-434e-974e-c5fcdd114967\", \"categories\": [0, 1, 2, 3, 4, 5, 6, 7, 8, 9, 10, 11, 12, 13, 14], \"series\": [{\"data\": [\"DatasetEvaluation\", \"FeaturesGeneration\", \"DatasetFeaturization\", \"DatasetFeaturizationCompleted\", \"DatasetBalancing\", \"DatasetCrossValidationSplit\", \"ModelSelection\", \"BestRunExplainModel\", \"ModelExplanationDataSetSetup\", \"PickSurrogateModel\", \"EngineeredFeatureExplanations\", \"EngineeredFeatureExplanations\", \"RawFeaturesExplanations\", \"RawFeaturesExplanations\", \"BestRunExplainModel\"]}]}, {\"name\": \"experiment_status_description\", \"run_id\": \"AutoML_cbf39a66-adfa-434e-974e-c5fcdd114967\", \"categories\": [0, 1, 2, 3, 4, 5, 6, 7, 8, 9, 10, 11, 12, 13, 14], \"series\": [{\"data\": [\"Gathering dataset statistics.\", \"Generating features for the dataset.\", \"Beginning to fit featurizers and featurize the dataset.\", \"Completed fit featurizers and featurizing the dataset.\", \"Performing class balancing sweeping\", \"Generating individually featurized CV splits.\", \"Beginning model selection.\", \"Best run model explanations started\", \"Model explanations data setup completed\", \"Choosing LightGBM as the surrogate model for explanations\", \"Computation of engineered features started\", \"Computation of engineered features completed\", \"Computation of raw features started\", \"Computation of raw features completed\", \"Best run model explanations completed\"]}]}, {\"name\": \"log_loss\", \"run_id\": \"AutoML_cbf39a66-adfa-434e-974e-c5fcdd114967\", \"categories\": [0], \"series\": [{\"data\": [0.536808070189603]}]}, {\"name\": \"f1_score_weighted\", \"run_id\": \"AutoML_cbf39a66-adfa-434e-974e-c5fcdd114967\", \"categories\": [0], \"series\": [{\"data\": [0.7224871889288662]}]}, {\"name\": \"AUC_weighted\", \"run_id\": \"AutoML_cbf39a66-adfa-434e-974e-c5fcdd114967\", \"categories\": [0], \"series\": [{\"data\": [0.8010431017233097]}]}, {\"name\": \"f1_score_micro\", \"run_id\": \"AutoML_cbf39a66-adfa-434e-974e-c5fcdd114967\", \"categories\": [0], \"series\": [{\"data\": [0.7229265868181665]}]}, {\"name\": \"accuracy\", \"run_id\": \"AutoML_cbf39a66-adfa-434e-974e-c5fcdd114967\", \"categories\": [0], \"series\": [{\"data\": [0.7229265868183272]}]}, {\"name\": \"weighted_accuracy\", \"run_id\": \"AutoML_cbf39a66-adfa-434e-974e-c5fcdd114967\", \"categories\": [0], \"series\": [{\"data\": [0.7601394920641226]}]}, {\"name\": \"average_precision_score_micro\", \"run_id\": \"AutoML_cbf39a66-adfa-434e-974e-c5fcdd114967\", \"categories\": [0], \"series\": [{\"data\": [0.8056763236208857]}]}, {\"name\": \"average_precision_score_weighted\", \"run_id\": \"AutoML_cbf39a66-adfa-434e-974e-c5fcdd114967\", \"categories\": [0], \"series\": [{\"data\": [0.7997655518861818]}]}, {\"name\": \"average_precision_score_macro\", \"run_id\": \"AutoML_cbf39a66-adfa-434e-974e-c5fcdd114967\", \"categories\": [0], \"series\": [{\"data\": [0.7997492970053722]}]}, {\"name\": \"recall_score_weighted\", \"run_id\": \"AutoML_cbf39a66-adfa-434e-974e-c5fcdd114967\", \"categories\": [0], \"series\": [{\"data\": [0.7229265868181696]}]}, {\"name\": \"norm_macro_recall\", \"run_id\": \"AutoML_cbf39a66-adfa-434e-974e-c5fcdd114967\", \"categories\": [0], \"series\": [{\"data\": [0.44587111298961235]}]}, {\"name\": \"precision_score_macro\", \"run_id\": \"AutoML_cbf39a66-adfa-434e-974e-c5fcdd114967\", \"categories\": [0], \"series\": [{\"data\": [0.7243558430543688]}]}, {\"name\": \"recall_score_macro\", \"run_id\": \"AutoML_cbf39a66-adfa-434e-974e-c5fcdd114967\", \"categories\": [0], \"series\": [{\"data\": [0.7229355564945195]}]}, {\"name\": \"recall_score_micro\", \"run_id\": \"AutoML_cbf39a66-adfa-434e-974e-c5fcdd114967\", \"categories\": [0], \"series\": [{\"data\": [0.7229265868181696]}]}, {\"name\": \"matthews_correlation\", \"run_id\": \"AutoML_cbf39a66-adfa-434e-974e-c5fcdd114967\", \"categories\": [0], \"series\": [{\"data\": [0.4472891398697703]}]}, {\"name\": \"precision_score_weighted\", \"run_id\": \"AutoML_cbf39a66-adfa-434e-974e-c5fcdd114967\", \"categories\": [0], \"series\": [{\"data\": [0.7243786362763155]}]}, {\"name\": \"AUC_micro\", \"run_id\": \"AutoML_cbf39a66-adfa-434e-974e-c5fcdd114967\", \"categories\": [0], \"series\": [{\"data\": [0.8033226480646501]}]}, {\"name\": \"AUC_macro\", \"run_id\": \"AutoML_cbf39a66-adfa-434e-974e-c5fcdd114967\", \"categories\": [0], \"series\": [{\"data\": [0.8010431017233097]}]}, {\"name\": \"f1_score_macro\", \"run_id\": \"AutoML_cbf39a66-adfa-434e-974e-c5fcdd114967\", \"categories\": [0], \"series\": [{\"data\": [0.7224803171250331]}]}, {\"name\": \"precision_score_micro\", \"run_id\": \"AutoML_cbf39a66-adfa-434e-974e-c5fcdd114967\", \"categories\": [0], \"series\": [{\"data\": [0.7229265868181634]}]}, {\"name\": \"balanced_accuracy\", \"run_id\": \"AutoML_cbf39a66-adfa-434e-974e-c5fcdd114967\", \"categories\": [0], \"series\": [{\"data\": [0.7229355564945195]}]}], \"run_logs\": \"\\nRun is completed.\", \"graph\": {}, \"widget_settings\": {\"childWidgetDisplay\": \"popup\", \"send_telemetry\": false, \"log_level\": \"INFO\", \"sdk_version\": \"1.30.0\"}, \"loading\": false}"
          },
          "metadata": {}
        }
      ],
      "execution_count": 62,
      "metadata": {
        "id": "ZOCcPnHnRDZn",
        "gather": {
          "logged": 1625434640583
        }
      }
    },
    {
      "cell_type": "code",
      "source": [
        "remote_run.wait_for_completion(show_output=True)"
      ],
      "outputs": [
        {
          "output_type": "display_data",
          "data": {
            "text/plain": "<IPython.core.display.HTML object>",
            "text/html": "<table style=\"width:100%\"><tr><th>Experiment</th><th>Id</th><th>Type</th><th>Status</th><th>Details Page</th><th>Docs Page</th></tr><tr><td>capstone-project-experiment</td><td>AutoML_cbf39a66-adfa-434e-974e-c5fcdd114967</td><td>automl</td><td>Completed</td><td><a href=\"https://ml.azure.com/runs/AutoML_cbf39a66-adfa-434e-974e-c5fcdd114967?wsid=/subscriptions/2d391f5f-13ec-4301-9d0f-ac4301a018d8/resourcegroups/myresourcegroup/workspaces/azudacityml01&amp;tid=5d93ebcc-f769-4380-8b7e-289fc972da1b\" target=\"_blank\" rel=\"noopener\">Link to Azure Machine Learning studio</a></td><td><a href=\"https://docs.microsoft.com/en-us/python/api/overview/azure/ml/intro?view=azure-ml-py\" target=\"_blank\" rel=\"noopener\">Link to Documentation</a></td></tr></table>"
          },
          "metadata": {}
        },
        {
          "output_type": "stream",
          "name": "stdout",
          "text": [
            "\n",
            "\n",
            "****************************************************************************************************\n",
            "DATA GUARDRAILS: \n",
            "\n",
            "TYPE:         Class balancing detection\n",
            "STATUS:       ALERTED\n",
            "DESCRIPTION:  To decrease model bias, please cancel the current run and fix balancing problem.\n",
            "              Learn more about imbalanced data: https://aka.ms/AutomatedMLImbalancedData\n",
            "DETAILS:      Imbalanced data can lead to a falsely perceived positive effect of a model's accuracy because the input data has bias towards one class.\n",
            "+---------------------------------+---------------------------------+--------------------------------------+\n",
            "|Size of the smallest class       |Name/Label of the smallest class |Number of samples in the training data|\n",
            "+=================================+=================================+======================================+\n",
            "|56007                            |1                                |354663                                |\n",
            "+---------------------------------+---------------------------------+--------------------------------------+\n",
            "\n",
            "****************************************************************************************************\n",
            "\n",
            "TYPE:         Missing feature values imputation\n",
            "STATUS:       PASSED\n",
            "DESCRIPTION:  No feature missing values were detected in the training data.\n",
            "              Learn more about missing value imputation: https://aka.ms/AutomatedMLFeaturization\n",
            "\n",
            "****************************************************************************************************\n",
            "\n",
            "TYPE:         High cardinality feature detection\n",
            "STATUS:       PASSED\n",
            "DESCRIPTION:  Your inputs were analyzed, and no high cardinality features were detected.\n",
            "              Learn more about high cardinality feature handling: https://aka.ms/AutomatedMLFeaturization\n",
            "\n",
            "****************************************************************************************************\n",
            "\n",
            "****************************************************************************************************\n",
            "ITERATION: The iteration being evaluated.\n",
            "PIPELINE: A summary description of the pipeline being evaluated.\n",
            "DURATION: Time taken for the current iteration.\n",
            "METRIC: The result of computing score on the fitted pipeline.\n",
            "BEST: The best observed score thus far.\n",
            "****************************************************************************************************\n",
            "\n",
            " ITERATION   PIPELINE                                       DURATION      METRIC      BEST\n",
            "         0   MaxAbsScaler LightGBM                          0:02:32       0.7978    0.7978\n",
            "         1   MaxAbsScaler XGBoostClassifier                 0:03:11       0.7857    0.7978\n",
            "         2   MaxAbsScaler RandomForest                      0:02:25       0.7408    0.7978\n",
            "         3   MaxAbsScaler RandomForest                      0:01:24       0.7469    0.7978\n",
            "         4   MaxAbsScaler RandomForest                      0:06:14       0.7287    0.7978\n",
            "         5   MaxAbsScaler ExtremeRandomTrees                0:01:10       0.6952    0.7978\n",
            "         6   MaxAbsScaler ExtremeRandomTrees                0:01:27       0.6782    0.7978\n",
            "         7   MaxAbsScaler ExtremeRandomTrees                0:01:00       0.6437    0.7978\n",
            "        10   MaxAbsScaler RandomForest                      0:01:00       0.7188    0.7978\n",
            "        11   MaxAbsScaler RandomForest                      0:01:03       0.7269    0.7978\n",
            "         8   MaxAbsScaler RandomForest                      0:01:04       0.7284    0.7978\n",
            "         9   MaxAbsScaler ExtremeRandomTrees                0:01:07       0.6452    0.7978\n",
            "        12   MaxAbsScaler RandomForest                      0:01:12       0.7235    0.7978\n",
            "        13   StandardScalerWrapper XGBoostClassifier        0:01:27       0.7608    0.7978\n",
            "        14   MaxAbsScaler RandomForest                      0:01:13       0.7414    0.7978\n",
            "        15   StandardScalerWrapper ExtremeRandomTrees       0:01:07       0.6606    0.7978\n",
            "        16   MaxAbsScaler ExtremeRandomTrees                0:01:04       0.6613    0.7978\n",
            "        17   MaxAbsScaler ExtremeRandomTrees                0:01:24       0.6375    0.7978\n",
            "        18   MaxAbsScaler RandomForest                      0:01:09       0.7214    0.7978\n",
            "        19   MaxAbsScaler LightGBM                          0:01:20       0.7719    0.7978\n",
            "        20   MaxAbsScaler LightGBM                          0:01:52       0.7976    0.7978\n",
            "        21   MaxAbsScaler LightGBM                          0:01:03       0.7704    0.7978\n",
            "        22   MaxAbsScaler LightGBM                          0:01:06       0.7833    0.7978\n",
            "        23   StandardScalerWrapper XGBoostClassifier        0:07:54       0.7991    0.7991\n",
            "        24   SparseNormalizer LightGBM                      0:02:46       0.7786    0.7991\n",
            "        25   StandardScalerWrapper XGBoostClassifier        0:07:19          nan    0.7991\n",
            "ERROR: {\n",
            "    \"additional_properties\": {},\n",
            "    \"error\": {\n",
            "        \"additional_properties\": {\n",
            "            \"debugInfo\": null\n",
            "        },\n",
            "        \"code\": \"UserError\",\n",
            "        \"severity\": null,\n",
            "        \"message\": \"Experiment timeout reached, please consider increasing your experiment timeout.\",\n",
            "        \"message_format\": \"Experiment timeout reached, please consider increasing your experiment timeout.\",\n",
            "        \"message_parameters\": {},\n",
            "        \"reference_code\": null,\n",
            "        \"details_uri\": null,\n",
            "        \"target\": null,\n",
            "        \"details\": [],\n",
            "        \"inner_error\": {\n",
            "            \"additional_properties\": {},\n",
            "            \"code\": \"ResourceExhausted\",\n",
            "            \"inner_error\": {\n",
            "                \"additional_properties\": {},\n",
            "                \"code\": \"Timeout\",\n",
            "                \"inner_error\": {\n",
            "                    \"additional_properties\": {},\n",
            "                    \"code\": \"ExperimentTimeoutForIterations\",\n",
            "                    \"inner_error\": null\n",
            "                }\n",
            "            }\n",
            "        },\n",
            "        \"additional_info\": null\n",
            "    },\n",
            "    \"correlation\": null,\n",
            "    \"environment\": null,\n",
            "    \"location\": null,\n",
            "    \"time\": {},\n",
            "    \"component_name\": null\n",
            "}\n",
            "        26   StandardScalerWrapper XGBoostClassifier        0:06:52          nan    0.7991\n",
            "ERROR: {\n",
            "    \"additional_properties\": {},\n",
            "    \"error\": {\n",
            "        \"additional_properties\": {\n",
            "            \"debugInfo\": null\n",
            "        },\n",
            "        \"code\": \"UserError\",\n",
            "        \"severity\": null,\n",
            "        \"message\": \"Experiment timeout reached, please consider increasing your experiment timeout.\",\n",
            "        \"message_format\": \"Experiment timeout reached, please consider increasing your experiment timeout.\",\n",
            "        \"message_parameters\": {},\n",
            "        \"reference_code\": null,\n",
            "        \"details_uri\": null,\n",
            "        \"target\": null,\n",
            "        \"details\": [],\n",
            "        \"inner_error\": {\n",
            "            \"additional_properties\": {},\n",
            "            \"code\": \"ResourceExhausted\",\n",
            "            \"inner_error\": {\n",
            "                \"additional_properties\": {},\n",
            "                \"code\": \"Timeout\",\n",
            "                \"inner_error\": {\n",
            "                    \"additional_properties\": {},\n",
            "                    \"code\": \"ExperimentTimeoutForIterations\",\n",
            "                    \"inner_error\": null\n",
            "                }\n",
            "            }\n",
            "        },\n",
            "        \"additional_info\": null\n",
            "    },\n",
            "    \"correlation\": null,\n",
            "    \"environment\": null,\n",
            "    \"location\": null,\n",
            "    \"time\": {},\n",
            "    \"component_name\": null\n",
            "}\n",
            "        27   MaxAbsScaler LogisticRegression                0:04:14          nan    0.7991\n",
            "ERROR: {\n",
            "    \"additional_properties\": {},\n",
            "    \"error\": {\n",
            "        \"additional_properties\": {\n",
            "            \"debugInfo\": null\n",
            "        },\n",
            "        \"code\": \"UserError\",\n",
            "        \"severity\": null,\n",
            "        \"message\": \"Experiment timeout reached, please consider increasing your experiment timeout.\",\n",
            "        \"message_format\": \"Experiment timeout reached, please consider increasing your experiment timeout.\",\n",
            "        \"message_parameters\": {},\n",
            "        \"reference_code\": null,\n",
            "        \"details_uri\": null,\n",
            "        \"target\": null,\n",
            "        \"details\": [],\n",
            "        \"inner_error\": {\n",
            "            \"additional_properties\": {},\n",
            "            \"code\": \"ResourceExhausted\",\n",
            "            \"inner_error\": {\n",
            "                \"additional_properties\": {},\n",
            "                \"code\": \"Timeout\",\n",
            "                \"inner_error\": {\n",
            "                    \"additional_properties\": {},\n",
            "                    \"code\": \"ExperimentTimeoutForIterations\",\n",
            "                    \"inner_error\": null\n",
            "                }\n",
            "            }\n",
            "        },\n",
            "        \"additional_info\": null\n",
            "    },\n",
            "    \"correlation\": null,\n",
            "    \"environment\": null,\n",
            "    \"location\": null,\n",
            "    \"time\": {},\n",
            "    \"component_name\": null\n",
            "}\n",
            "        28    VotingEnsemble                                0:03:49       0.8006    0.8006\n",
            "        29    StackEnsemble                                 0:05:47       0.8010    0.8010\n"
          ]
        },
        {
          "output_type": "execute_result",
          "execution_count": 54,
          "data": {
            "text/plain": "{'runId': 'AutoML_cbf39a66-adfa-434e-974e-c5fcdd114967',\n 'target': 'capstone-cluster',\n 'status': 'Completed',\n 'startTimeUtc': '2021-07-04T04:00:25.746495Z',\n 'endTimeUtc': '2021-07-04T04:49:09.155826Z',\n 'properties': {'num_iterations': '1000',\n  'training_type': 'TrainFull',\n  'acquisition_function': 'EI',\n  'primary_metric': 'AUC_weighted',\n  'train_split': '0',\n  'acquisition_parameter': '0',\n  'num_cross_validation': '5',\n  'target': 'capstone-cluster',\n  'AMLSettingsJsonString': '{\"path\":null,\"name\":\"capstone-project-experiment\",\"subscription_id\":\"2d391f5f-13ec-4301-9d0f-ac4301a018d8\",\"resource_group\":\"myresourcegroup\",\"workspace_name\":\"azudacityml01\",\"region\":\"eastus2\",\"compute_target\":\"capstone-cluster\",\"spark_service\":null,\"azure_service\":\"remote\",\"many_models\":false,\"pipeline_fetch_max_batch_size\":1,\"enable_batch_run\":false,\"enable_run_restructure\":false,\"start_auxiliary_runs_before_parent_complete\":false,\"enable_code_generation\":false,\"iterations\":1000,\"primary_metric\":\"AUC_weighted\",\"task_type\":\"classification\",\"data_script\":null,\"test_size\":0.0,\"validation_size\":0.0,\"n_cross_validations\":5,\"y_min\":null,\"y_max\":null,\"num_classes\":null,\"featurization\":\"auto\",\"_ignore_package_version_incompatibilities\":false,\"is_timeseries\":false,\"max_cores_per_iteration\":-1,\"max_concurrent_iterations\":4,\"iteration_timeout_minutes\":null,\"mem_in_mb\":null,\"enforce_time_on_windows\":false,\"experiment_timeout_minutes\":20,\"experiment_exit_score\":null,\"whitelist_models\":null,\"blacklist_algos\":[\"TensorFlowLinearClassifier\",\"TensorFlowDNN\"],\"supported_models\":[\"XGBoostClassifier\",\"GradientBoosting\",\"TensorFlowLinearClassifier\",\"TensorFlowDNN\",\"KNN\",\"LightGBM\",\"LinearSVM\",\"DecisionTree\",\"SVM\",\"BernoulliNaiveBayes\",\"MultinomialNaiveBayes\",\"ExtremeRandomTrees\",\"RandomForest\",\"AveragedPerceptronClassifier\",\"SGD\",\"LogisticRegression\"],\"private_models\":[],\"auto_blacklist\":true,\"blacklist_samples_reached\":false,\"exclude_nan_labels\":true,\"verbosity\":20,\"_debug_log\":\"azureml_automl.log\",\"show_warnings\":false,\"model_explainability\":true,\"service_url\":null,\"sdk_url\":null,\"sdk_packages\":null,\"enable_onnx_compatible_models\":false,\"enable_split_onnx_featurizer_estimator_models\":false,\"vm_type\":\"STANDARD_D2_V2\",\"telemetry_verbosity\":20,\"send_telemetry\":true,\"enable_dnn\":false,\"scenario\":\"SDK-1.13.0\",\"environment_label\":null,\"save_mlflow\":false,\"force_text_dnn\":false,\"enable_feature_sweeping\":true,\"enable_early_stopping\":true,\"early_stopping_n_iters\":10,\"metrics\":null,\"enable_metric_confidence\":false,\"enable_ensembling\":true,\"enable_stack_ensembling\":true,\"ensemble_iterations\":15,\"enable_tf\":false,\"enable_subsampling\":null,\"subsample_seed\":null,\"enable_nimbusml\":false,\"enable_streaming\":false,\"force_streaming\":false,\"track_child_runs\":true,\"allowed_private_models\":[],\"label_column_name\":\"target\",\"weight_column_name\":null,\"cv_split_column_names\":null,\"enable_local_managed\":false,\"_local_managed_run_id\":null,\"cost_mode\":1,\"lag_length\":0,\"metric_operation\":\"maximize\",\"preprocess\":true}',\n  'DataPrepJsonString': '{\\\\\"training_data\\\\\": {\\\\\"datasetId\\\\\": \\\\\"4d786cb2-b95a-4455-a7f9-e9c2f6ad3851\\\\\"}, \\\\\"datasets\\\\\": 0}',\n  'EnableSubsampling': None,\n  'runTemplate': 'AutoML',\n  'azureml.runsource': 'automl',\n  'display_task_type': 'classification',\n  'dependencies_versions': '{\"azureml-widgets\": \"1.30.0\", \"azureml-train\": \"1.30.0\", \"azureml-train-restclients-hyperdrive\": \"1.30.0\", \"azureml-train-core\": \"1.30.0\", \"azureml-train-automl\": \"1.30.0\", \"azureml-train-automl-runtime\": \"1.30.0\", \"azureml-train-automl-client\": \"1.30.0\", \"azureml-tensorboard\": \"1.30.0\", \"azureml-telemetry\": \"1.30.0\", \"azureml-sdk\": \"1.30.0\", \"azureml-samples\": \"0+unknown\", \"azureml-pipeline\": \"1.30.0\", \"azureml-pipeline-steps\": \"1.30.0\", \"azureml-pipeline-core\": \"1.30.0\", \"azureml-opendatasets\": \"1.30.0\", \"azureml-model-management-sdk\": \"1.0.1b6.post1\", \"azureml-mlflow\": \"1.30.0\", \"azureml-interpret\": \"1.30.0\", \"azureml-explain-model\": \"1.30.0\", \"azureml-defaults\": \"1.30.0\", \"azureml-dataset-runtime\": \"1.30.0\", \"azureml-dataprep\": \"2.15.1\", \"azureml-dataprep-rslex\": \"1.13.0\", \"azureml-dataprep-native\": \"33.0.0\", \"azureml-datadrift\": \"1.30.0\", \"azureml-core\": \"1.30.0\", \"azureml-contrib-services\": \"1.30.0\", \"azureml-contrib-server\": \"1.30.0\", \"azureml-contrib-reinforcementlearning\": \"1.30.0\", \"azureml-contrib-pipeline-steps\": \"1.30.0\", \"azureml-contrib-notebook\": \"1.30.0\", \"azureml-contrib-fairness\": \"1.30.0\", \"azureml-contrib-dataset\": \"1.30.0\", \"azureml-cli-common\": \"1.30.0\", \"azureml-automl-runtime\": \"1.30.0\", \"azureml-automl-dnn-nlp\": \"1.30.0\", \"azureml-automl-core\": \"1.30.0\", \"azureml-accel-models\": \"1.30.0\"}',\n  '_aml_system_scenario_identification': 'Remote.Parent',\n  'ClientType': 'SDK',\n  'environment_cpu_name': 'AzureML-AutoML',\n  'environment_cpu_label': 'prod',\n  'environment_gpu_name': 'AzureML-AutoML-GPU',\n  'environment_gpu_label': 'prod',\n  'root_attribution': 'automl',\n  'attribution': 'AutoML',\n  'Orchestrator': 'AutoML',\n  'CancelUri': 'https://eastus2.api.azureml.ms/jasmine/v1.0/subscriptions/2d391f5f-13ec-4301-9d0f-ac4301a018d8/resourceGroups/myresourcegroup/providers/Microsoft.MachineLearningServices/workspaces/azudacityml01/experimentids/ea3e5529-5830-4648-8733-94feed8dc778/cancel/AutoML_cbf39a66-adfa-434e-974e-c5fcdd114967',\n  'ClientSdkVersion': '1.31.0',\n  'snapshotId': '00000000-0000-0000-0000-000000000000',\n  'SetupRunId': 'AutoML_cbf39a66-adfa-434e-974e-c5fcdd114967_setup',\n  'SetupRunContainerId': 'dcid.AutoML_cbf39a66-adfa-434e-974e-c5fcdd114967_setup',\n  'FeaturizationRunJsonPath': 'featurizer_container.json',\n  'FeaturizationRunId': 'AutoML_cbf39a66-adfa-434e-974e-c5fcdd114967_featurize',\n  'ProblemInfoJsonString': '{\"dataset_num_categorical\": 0, \"is_sparse\": true, \"subsampling\": false, \"has_extra_col\": true, \"dataset_classes\": 2, \"dataset_features\": 81, \"dataset_samples\": 354663, \"single_frequency_class_detected\": false}',\n  'ModelExplainRunId': 'AutoML_cbf39a66-adfa-434e-974e-c5fcdd114967_ModelExplain'},\n 'inputDatasets': [{'dataset': {'id': '4d786cb2-b95a-4455-a7f9-e9c2f6ad3851'}, 'consumptionDetails': {'type': 'RunInput', 'inputName': 'training_data', 'mechanism': 'Direct'}}],\n 'outputDatasets': [],\n 'logFiles': {},\n 'submittedBy': 'Michael Larico Barzola'}"
          },
          "metadata": {}
        }
      ],
      "execution_count": 54,
      "metadata": {
        "collapsed": true,
        "jupyter": {
          "source_hidden": false,
          "outputs_hidden": false
        },
        "nteract": {
          "transient": {
            "deleting": false
          }
        },
        "gather": {
          "logged": 1625434361933
        }
      }
    },
    {
      "cell_type": "code",
      "source": [
        "list(experiment.get_runs())[0].get_details()"
      ],
      "outputs": [
        {
          "output_type": "execute_result",
          "execution_count": 19,
          "data": {
            "text/plain": "{'runId': 'AutoML_cbf39a66-adfa-434e-974e-c5fcdd114967',\n 'target': 'capstone-cluster',\n 'status': 'Completed',\n 'startTimeUtc': '2021-07-04T04:00:25.746495Z',\n 'endTimeUtc': '2021-07-04T04:49:09.155826Z',\n 'properties': {'num_iterations': '1000',\n  'training_type': 'TrainFull',\n  'acquisition_function': 'EI',\n  'primary_metric': 'AUC_weighted',\n  'train_split': '0',\n  'acquisition_parameter': '0',\n  'num_cross_validation': '5',\n  'target': 'capstone-cluster',\n  'AMLSettingsJsonString': '{\"path\":null,\"name\":\"capstone-project-experiment\",\"subscription_id\":\"2d391f5f-13ec-4301-9d0f-ac4301a018d8\",\"resource_group\":\"myresourcegroup\",\"workspace_name\":\"azudacityml01\",\"region\":\"eastus2\",\"compute_target\":\"capstone-cluster\",\"spark_service\":null,\"azure_service\":\"remote\",\"many_models\":false,\"pipeline_fetch_max_batch_size\":1,\"enable_batch_run\":false,\"enable_run_restructure\":false,\"start_auxiliary_runs_before_parent_complete\":false,\"enable_code_generation\":false,\"iterations\":1000,\"primary_metric\":\"AUC_weighted\",\"task_type\":\"classification\",\"data_script\":null,\"test_size\":0.0,\"validation_size\":0.0,\"n_cross_validations\":5,\"y_min\":null,\"y_max\":null,\"num_classes\":null,\"featurization\":\"auto\",\"_ignore_package_version_incompatibilities\":false,\"is_timeseries\":false,\"max_cores_per_iteration\":-1,\"max_concurrent_iterations\":4,\"iteration_timeout_minutes\":null,\"mem_in_mb\":null,\"enforce_time_on_windows\":false,\"experiment_timeout_minutes\":20,\"experiment_exit_score\":null,\"whitelist_models\":null,\"blacklist_algos\":[\"TensorFlowLinearClassifier\",\"TensorFlowDNN\"],\"supported_models\":[\"XGBoostClassifier\",\"GradientBoosting\",\"TensorFlowLinearClassifier\",\"TensorFlowDNN\",\"KNN\",\"LightGBM\",\"LinearSVM\",\"DecisionTree\",\"SVM\",\"BernoulliNaiveBayes\",\"MultinomialNaiveBayes\",\"ExtremeRandomTrees\",\"RandomForest\",\"AveragedPerceptronClassifier\",\"SGD\",\"LogisticRegression\"],\"private_models\":[],\"auto_blacklist\":true,\"blacklist_samples_reached\":false,\"exclude_nan_labels\":true,\"verbosity\":20,\"_debug_log\":\"azureml_automl.log\",\"show_warnings\":false,\"model_explainability\":true,\"service_url\":null,\"sdk_url\":null,\"sdk_packages\":null,\"enable_onnx_compatible_models\":false,\"enable_split_onnx_featurizer_estimator_models\":false,\"vm_type\":\"STANDARD_D2_V2\",\"telemetry_verbosity\":20,\"send_telemetry\":true,\"enable_dnn\":false,\"scenario\":\"SDK-1.13.0\",\"environment_label\":null,\"save_mlflow\":false,\"force_text_dnn\":false,\"enable_feature_sweeping\":true,\"enable_early_stopping\":true,\"early_stopping_n_iters\":10,\"metrics\":null,\"enable_metric_confidence\":false,\"enable_ensembling\":true,\"enable_stack_ensembling\":true,\"ensemble_iterations\":15,\"enable_tf\":false,\"enable_subsampling\":null,\"subsample_seed\":null,\"enable_nimbusml\":false,\"enable_streaming\":false,\"force_streaming\":false,\"track_child_runs\":true,\"allowed_private_models\":[],\"label_column_name\":\"target\",\"weight_column_name\":null,\"cv_split_column_names\":null,\"enable_local_managed\":false,\"_local_managed_run_id\":null,\"cost_mode\":1,\"lag_length\":0,\"metric_operation\":\"maximize\",\"preprocess\":true}',\n  'DataPrepJsonString': '{\\\\\"training_data\\\\\": {\\\\\"datasetId\\\\\": \\\\\"4d786cb2-b95a-4455-a7f9-e9c2f6ad3851\\\\\"}, \\\\\"datasets\\\\\": 0}',\n  'EnableSubsampling': None,\n  'runTemplate': 'AutoML',\n  'azureml.runsource': 'automl',\n  'display_task_type': 'classification',\n  'dependencies_versions': '{\"azureml-widgets\": \"1.30.0\", \"azureml-train\": \"1.30.0\", \"azureml-train-restclients-hyperdrive\": \"1.30.0\", \"azureml-train-core\": \"1.30.0\", \"azureml-train-automl\": \"1.30.0\", \"azureml-train-automl-runtime\": \"1.30.0\", \"azureml-train-automl-client\": \"1.30.0\", \"azureml-tensorboard\": \"1.30.0\", \"azureml-telemetry\": \"1.30.0\", \"azureml-sdk\": \"1.30.0\", \"azureml-samples\": \"0+unknown\", \"azureml-pipeline\": \"1.30.0\", \"azureml-pipeline-steps\": \"1.30.0\", \"azureml-pipeline-core\": \"1.30.0\", \"azureml-opendatasets\": \"1.30.0\", \"azureml-model-management-sdk\": \"1.0.1b6.post1\", \"azureml-mlflow\": \"1.30.0\", \"azureml-interpret\": \"1.30.0\", \"azureml-explain-model\": \"1.30.0\", \"azureml-defaults\": \"1.30.0\", \"azureml-dataset-runtime\": \"1.30.0\", \"azureml-dataprep\": \"2.15.1\", \"azureml-dataprep-rslex\": \"1.13.0\", \"azureml-dataprep-native\": \"33.0.0\", \"azureml-datadrift\": \"1.30.0\", \"azureml-core\": \"1.30.0\", \"azureml-contrib-services\": \"1.30.0\", \"azureml-contrib-server\": \"1.30.0\", \"azureml-contrib-reinforcementlearning\": \"1.30.0\", \"azureml-contrib-pipeline-steps\": \"1.30.0\", \"azureml-contrib-notebook\": \"1.30.0\", \"azureml-contrib-fairness\": \"1.30.0\", \"azureml-contrib-dataset\": \"1.30.0\", \"azureml-cli-common\": \"1.30.0\", \"azureml-automl-runtime\": \"1.30.0\", \"azureml-automl-dnn-nlp\": \"1.30.0\", \"azureml-automl-core\": \"1.30.0\", \"azureml-accel-models\": \"1.30.0\"}',\n  '_aml_system_scenario_identification': 'Remote.Parent',\n  'ClientType': 'SDK',\n  'environment_cpu_name': 'AzureML-AutoML',\n  'environment_cpu_label': 'prod',\n  'environment_gpu_name': 'AzureML-AutoML-GPU',\n  'environment_gpu_label': 'prod',\n  'root_attribution': 'automl',\n  'attribution': 'AutoML',\n  'Orchestrator': 'AutoML',\n  'CancelUri': 'https://eastus2.api.azureml.ms/jasmine/v1.0/subscriptions/2d391f5f-13ec-4301-9d0f-ac4301a018d8/resourceGroups/myresourcegroup/providers/Microsoft.MachineLearningServices/workspaces/azudacityml01/experimentids/ea3e5529-5830-4648-8733-94feed8dc778/cancel/AutoML_cbf39a66-adfa-434e-974e-c5fcdd114967',\n  'ClientSdkVersion': '1.31.0',\n  'snapshotId': '00000000-0000-0000-0000-000000000000',\n  'SetupRunId': 'AutoML_cbf39a66-adfa-434e-974e-c5fcdd114967_setup',\n  'SetupRunContainerId': 'dcid.AutoML_cbf39a66-adfa-434e-974e-c5fcdd114967_setup',\n  'FeaturizationRunJsonPath': 'featurizer_container.json',\n  'FeaturizationRunId': 'AutoML_cbf39a66-adfa-434e-974e-c5fcdd114967_featurize',\n  'ProblemInfoJsonString': '{\"dataset_num_categorical\": 0, \"is_sparse\": true, \"subsampling\": false, \"has_extra_col\": true, \"dataset_classes\": 2, \"dataset_features\": 81, \"dataset_samples\": 354663, \"single_frequency_class_detected\": false}',\n  'ModelExplainRunId': 'AutoML_cbf39a66-adfa-434e-974e-c5fcdd114967_ModelExplain'},\n 'inputDatasets': [{'dataset': {'id': '4d786cb2-b95a-4455-a7f9-e9c2f6ad3851'}, 'consumptionDetails': {'type': 'RunInput', 'inputName': 'training_data', 'mechanism': 'Direct'}}],\n 'outputDatasets': [],\n 'logFiles': {},\n 'submittedBy': 'Michael Larico Barzola'}"
          },
          "metadata": {}
        }
      ],
      "execution_count": 19,
      "metadata": {
        "collapsed": true,
        "jupyter": {
          "source_hidden": false,
          "outputs_hidden": false
        },
        "nteract": {
          "transient": {
            "deleting": false
          }
        },
        "gather": {
          "logged": 1625442713600
        }
      }
    },
    {
      "cell_type": "code",
      "source": [],
      "outputs": [],
      "execution_count": null,
      "metadata": {
        "collapsed": true,
        "jupyter": {
          "source_hidden": false,
          "outputs_hidden": false
        },
        "nteract": {
          "transient": {
            "deleting": false
          }
        }
      }
    },
    {
      "cell_type": "markdown",
      "source": [
        "## Best Model\n",
        "\n",
        "TODO: In the cell below, get the best model from the automl experiments and display all the properties of the model.\n",
        "\n"
      ],
      "metadata": {
        "id": "YHwrMntySuSq"
      }
    },
    {
      "cell_type": "code",
      "source": [
        "best_run, model = remote_run.get_output()"
      ],
      "outputs": [
        {
          "output_type": "stream",
          "name": "stderr",
          "text": [
            "WARNING:root:The version of the SDK does not match the version the model was trained on.\n",
            "WARNING:root:The consistency in the result may not be guaranteed.\n",
            "WARNING:root:Package:azureml-automl-core, training version:1.31.0, current version:1.30.0\n",
            "Package:azureml-automl-runtime, training version:1.31.0, current version:1.30.0\n",
            "Package:azureml-core, training version:1.31.0, current version:1.30.0\n",
            "Package:azureml-dataprep, training version:2.18.0, current version:2.15.1\n",
            "Package:azureml-dataprep-native, training version:36.0.0, current version:33.0.0\n",
            "Package:azureml-dataprep-rslex, training version:1.16.0, current version:1.13.0\n",
            "Package:azureml-dataset-runtime, training version:1.31.0, current version:1.30.0\n",
            "Package:azureml-defaults, training version:1.31.0, current version:1.30.0\n",
            "Package:azureml-interpret, training version:1.31.0, current version:1.30.0\n",
            "Package:azureml-mlflow, training version:1.31.0, current version:1.30.0\n",
            "Package:azureml-pipeline-core, training version:1.31.0, current version:1.30.0\n",
            "Package:azureml-telemetry, training version:1.31.0, current version:1.30.0\n",
            "Package:azureml-train-automl-client, training version:1.31.0, current version:1.30.0\n",
            "Package:azureml-train-automl-runtime, training version:1.31.0, current version:1.30.0\n",
            "WARNING:root:Please ensure the version of your local conda dependencies match the version on which your model was trained in order to properly retrieve your model.\n"
          ]
        }
      ],
      "execution_count": 63,
      "metadata": {
        "gather": {
          "logged": 1625434663719
        },
        "jupyter": {
          "outputs_hidden": false,
          "source_hidden": false
        },
        "nteract": {
          "transient": {
            "deleting": false
          }
        },
        "id": "6BJTpgKlSuSq"
      }
    },
    {
      "cell_type": "code",
      "source": [
        "!pip install --upgrade azureml-automl-core"
      ],
      "outputs": [
        {
          "output_type": "stream",
          "name": "stdout",
          "text": [
            "Collecting azureml-automl-core\n",
            "  Downloading azureml_automl_core-1.31.0-py3-none-any.whl (208 kB)\n",
            "\u001b[K     |████████████████████████████████| 208 kB 5.0 MB/s eta 0:00:01\n",
            "\u001b[?25hCollecting azureml-dataset-runtime~=1.31.0\n",
            "  Downloading azureml_dataset_runtime-1.31.0-py3-none-any.whl (3.4 kB)\n",
            "Collecting azureml-telemetry~=1.31.0\n",
            "  Downloading azureml_telemetry-1.31.0-py3-none-any.whl (30 kB)\n",
            "Collecting azureml-dataprep<2.19.0a,>=2.18.0a\n",
            "  Downloading azureml_dataprep-2.18.0-py3-none-any.whl (39.4 MB)\n",
            "\u001b[K     |████████████████████████████████| 39.4 MB 21 kB/s  eta 0:00:01\n",
            "\u001b[?25hRequirement already satisfied, skipping upgrade: numpy!=1.19.3; sys_platform == \"linux\" in /anaconda/envs/azureml_py36/lib/python3.6/site-packages (from azureml-dataset-runtime~=1.31.0->azureml-automl-core) (1.18.5)\n",
            "Requirement already satisfied, skipping upgrade: pyarrow<4.0.0,>=0.17.0 in /anaconda/envs/azureml_py36/lib/python3.6/site-packages (from azureml-dataset-runtime~=1.31.0->azureml-automl-core) (3.0.0)\n",
            "Collecting azureml-core~=1.31.0\n",
            "  Downloading azureml_core-1.31.0-py3-none-any.whl (2.2 MB)\n",
            "\u001b[K     |████████████████████████████████| 2.2 MB 47.0 MB/s eta 0:00:01\n",
            "\u001b[?25hRequirement already satisfied, skipping upgrade: applicationinsights in /anaconda/envs/azureml_py36/lib/python3.6/site-packages (from azureml-telemetry~=1.31.0->azureml-automl-core) (0.11.10)\n",
            "Requirement already satisfied, skipping upgrade: cloudpickle<2.0.0,>=1.1.0 in /anaconda/envs/azureml_py36/lib/python3.6/site-packages (from azureml-dataprep<2.19.0a,>=2.18.0a->azureml-dataset-runtime~=1.31.0->azureml-automl-core) (1.6.0)\n",
            "Requirement already satisfied, skipping upgrade: azure-identity<1.5.0,>=1.2.0 in /anaconda/envs/azureml_py36/lib/python3.6/site-packages (from azureml-dataprep<2.19.0a,>=2.18.0a->azureml-dataset-runtime~=1.31.0->azureml-automl-core) (1.4.1)\n",
            "Collecting azureml-dataprep-rslex<1.17.0a,>=1.16.0dev0\n",
            "  Downloading azureml_dataprep_rslex-1.16.1-cp36-cp36m-manylinux1_x86_64.whl (9.9 MB)\n",
            "\u001b[K     |████████████████████████████████| 9.9 MB 59.6 MB/s eta 0:00:01\n",
            "\u001b[?25hCollecting azureml-dataprep-native<37.0.0,>=36.0.0\n",
            "  Downloading azureml_dataprep_native-36.0.0-cp36-cp36m-manylinux1_x86_64.whl (1.3 MB)\n",
            "\u001b[K     |████████████████████████████████| 1.3 MB 51.3 MB/s eta 0:00:01\n",
            "\u001b[?25hRequirement already satisfied, skipping upgrade: dotnetcore2<3.0.0,>=2.1.14 in /anaconda/envs/azureml_py36/lib/python3.6/site-packages (from azureml-dataprep<2.19.0a,>=2.18.0a->azureml-dataset-runtime~=1.31.0->azureml-automl-core) (2.1.20)\n",
            "Requirement already satisfied, skipping upgrade: pytz in /anaconda/envs/azureml_py36/lib/python3.6/site-packages (from azureml-core~=1.31.0->azureml-telemetry~=1.31.0->azureml-automl-core) (2021.1)\n",
            "Requirement already satisfied, skipping upgrade: urllib3>=1.23 in /anaconda/envs/azureml_py36/lib/python3.6/site-packages (from azureml-core~=1.31.0->azureml-telemetry~=1.31.0->azureml-automl-core) (1.25.11)\n",
            "Requirement already satisfied, skipping upgrade: msrestazure>=0.4.33 in /anaconda/envs/azureml_py36/lib/python3.6/site-packages (from azureml-core~=1.31.0->azureml-telemetry~=1.31.0->azureml-automl-core) (0.6.4)\n",
            "Requirement already satisfied, skipping upgrade: PyJWT<3.0.0 in /anaconda/envs/azureml_py36/lib/python3.6/site-packages (from azureml-core~=1.31.0->azureml-telemetry~=1.31.0->azureml-automl-core) (2.1.0)\n",
            "Requirement already satisfied, skipping upgrade: ruamel.yaml<0.17.5,>=0.15.35 in /anaconda/envs/azureml_py36/lib/python3.6/site-packages (from azureml-core~=1.31.0->azureml-telemetry~=1.31.0->azureml-automl-core) (0.17.4)\n",
            "Requirement already satisfied, skipping upgrade: pathspec<1.0.0 in /anaconda/envs/azureml_py36/lib/python3.6/site-packages (from azureml-core~=1.31.0->azureml-telemetry~=1.31.0->azureml-automl-core) (0.8.1)\n",
            "Requirement already satisfied, skipping upgrade: azure-mgmt-containerregistry>=2.0.0 in /anaconda/envs/azureml_py36/lib/python3.6/site-packages (from azureml-core~=1.31.0->azureml-telemetry~=1.31.0->azureml-automl-core) (8.0.0)\n",
            "Requirement already satisfied, skipping upgrade: azure-mgmt-authorization<1.0.0,>=0.40.0 in /anaconda/envs/azureml_py36/lib/python3.6/site-packages (from azureml-core~=1.31.0->azureml-telemetry~=1.31.0->azureml-automl-core) (0.61.0)\n",
            "Requirement already satisfied, skipping upgrade: azure-mgmt-storage<16.0.0,>=1.5.0 in /anaconda/envs/azureml_py36/lib/python3.6/site-packages (from azureml-core~=1.31.0->azureml-telemetry~=1.31.0->azureml-automl-core) (11.2.0)\n",
            "Requirement already satisfied, skipping upgrade: pyopenssl<21.0.0 in /anaconda/envs/azureml_py36/lib/python3.6/site-packages (from azureml-core~=1.31.0->azureml-telemetry~=1.31.0->azureml-automl-core) (20.0.1)\n",
            "Requirement already satisfied, skipping upgrade: backports.tempfile in /anaconda/envs/azureml_py36/lib/python3.6/site-packages (from azureml-core~=1.31.0->azureml-telemetry~=1.31.0->azureml-automl-core) (1.0)\n",
            "Requirement already satisfied, skipping upgrade: SecretStorage<4.0.0 in /anaconda/envs/azureml_py36/lib/python3.6/site-packages (from azureml-core~=1.31.0->azureml-telemetry~=1.31.0->azureml-automl-core) (3.3.1)\n",
            "Requirement already satisfied, skipping upgrade: azure-graphrbac<1.0.0,>=0.40.0 in /anaconda/envs/azureml_py36/lib/python3.6/site-packages (from azureml-core~=1.31.0->azureml-telemetry~=1.31.0->azureml-automl-core) (0.61.1)\n",
            "Requirement already satisfied, skipping upgrade: requests<3.0.0,>=2.19.1 in /anaconda/envs/azureml_py36/lib/python3.6/site-packages (from azureml-core~=1.31.0->azureml-telemetry~=1.31.0->azureml-automl-core) (2.25.1)\n",
            "Requirement already satisfied, skipping upgrade: adal>=1.2.0 in /anaconda/envs/azureml_py36/lib/python3.6/site-packages (from azureml-core~=1.31.0->azureml-telemetry~=1.31.0->azureml-automl-core) (1.2.7)\n",
            "Requirement already satisfied, skipping upgrade: jsonpickle<3.0.0 in /anaconda/envs/azureml_py36/lib/python3.6/site-packages (from azureml-core~=1.31.0->azureml-telemetry~=1.31.0->azureml-automl-core) (2.0.0)\n",
            "Requirement already satisfied, skipping upgrade: jmespath<1.0.0 in /anaconda/envs/azureml_py36/lib/python3.6/site-packages (from azureml-core~=1.31.0->azureml-telemetry~=1.31.0->azureml-automl-core) (0.10.0)\n",
            "Requirement already satisfied, skipping upgrade: azure-mgmt-resource<15.0.0,>=1.2.1 in /anaconda/envs/azureml_py36/lib/python3.6/site-packages (from azureml-core~=1.31.0->azureml-telemetry~=1.31.0->azureml-automl-core) (13.0.0)\n",
            "Requirement already satisfied, skipping upgrade: python-dateutil<3.0.0,>=2.7.3 in /anaconda/envs/azureml_py36/lib/python3.6/site-packages (from azureml-core~=1.31.0->azureml-telemetry~=1.31.0->azureml-automl-core) (2.8.1)\n",
            "Requirement already satisfied, skipping upgrade: ndg-httpsclient in /anaconda/envs/azureml_py36/lib/python3.6/site-packages (from azureml-core~=1.31.0->azureml-telemetry~=1.31.0->azureml-automl-core) (0.5.1)\n",
            "Requirement already satisfied, skipping upgrade: msrest<1.0.0,>=0.5.1 in /anaconda/envs/azureml_py36/lib/python3.6/site-packages (from azureml-core~=1.31.0->azureml-telemetry~=1.31.0->azureml-automl-core) (0.6.21)\n",
            "Requirement already satisfied, skipping upgrade: azure-common<2.0.0,>=1.1.12 in /anaconda/envs/azureml_py36/lib/python3.6/site-packages (from azureml-core~=1.31.0->azureml-telemetry~=1.31.0->azureml-automl-core) (1.1.27)\n",
            "Requirement already satisfied, skipping upgrade: cryptography!=1.9,!=2.0.*,!=2.1.*,!=2.2.*,<4.0.0 in /anaconda/envs/azureml_py36/lib/python3.6/site-packages (from azureml-core~=1.31.0->azureml-telemetry~=1.31.0->azureml-automl-core) (3.4.7)\n",
            "Requirement already satisfied, skipping upgrade: docker<5.0.0 in /anaconda/envs/azureml_py36/lib/python3.6/site-packages (from azureml-core~=1.31.0->azureml-telemetry~=1.31.0->azureml-automl-core) (4.4.4)\n",
            "Requirement already satisfied, skipping upgrade: azure-mgmt-keyvault<10.0.0,>=0.40.0 in /anaconda/envs/azureml_py36/lib/python3.6/site-packages (from azureml-core~=1.31.0->azureml-telemetry~=1.31.0->azureml-automl-core) (9.0.0)\n",
            "Requirement already satisfied, skipping upgrade: contextlib2<1.0.0 in /anaconda/envs/azureml_py36/lib/python3.6/site-packages (from azureml-core~=1.31.0->azureml-telemetry~=1.31.0->azureml-automl-core) (0.6.0.post1)\n",
            "Requirement already satisfied, skipping upgrade: msal<2.0.0,>=1.3.0 in /anaconda/envs/azureml_py36/lib/python3.6/site-packages (from azure-identity<1.5.0,>=1.2.0->azureml-dataprep<2.19.0a,>=2.18.0a->azureml-dataset-runtime~=1.31.0->azureml-automl-core) (1.12.0)\n",
            "Requirement already satisfied, skipping upgrade: six>=1.6 in /anaconda/envs/azureml_py36/lib/python3.6/site-packages (from azure-identity<1.5.0,>=1.2.0->azureml-dataprep<2.19.0a,>=2.18.0a->azureml-dataset-runtime~=1.31.0->azureml-automl-core) (1.16.0)\n",
            "Requirement already satisfied, skipping upgrade: msal-extensions~=0.2.2 in /anaconda/envs/azureml_py36/lib/python3.6/site-packages (from azure-identity<1.5.0,>=1.2.0->azureml-dataprep<2.19.0a,>=2.18.0a->azureml-dataset-runtime~=1.31.0->azureml-automl-core) (0.2.2)\n",
            "Requirement already satisfied, skipping upgrade: azure-core<2.0.0,>=1.0.0 in /anaconda/envs/azureml_py36/lib/python3.6/site-packages (from azure-identity<1.5.0,>=1.2.0->azureml-dataprep<2.19.0a,>=2.18.0a->azureml-dataset-runtime~=1.31.0->azureml-automl-core) (1.14.0)\n",
            "Requirement already satisfied, skipping upgrade: distro>=1.2.0 in /anaconda/envs/azureml_py36/lib/python3.6/site-packages (from dotnetcore2<3.0.0,>=2.1.14->azureml-dataprep<2.19.0a,>=2.18.0a->azureml-dataset-runtime~=1.31.0->azureml-automl-core) (1.5.0)\n",
            "Requirement already satisfied, skipping upgrade: ruamel.yaml.clib>=0.1.2; platform_python_implementation == \"CPython\" and python_version < \"3.10\" in /anaconda/envs/azureml_py36/lib/python3.6/site-packages (from ruamel.yaml<0.17.5,>=0.15.35->azureml-core~=1.31.0->azureml-telemetry~=1.31.0->azureml-automl-core) (0.2.2)\n",
            "Requirement already satisfied, skipping upgrade: azure-mgmt-core<2.0.0,>=1.2.0 in /anaconda/envs/azureml_py36/lib/python3.6/site-packages (from azure-mgmt-containerregistry>=2.0.0->azureml-core~=1.31.0->azureml-telemetry~=1.31.0->azureml-automl-core) (1.2.2)\n",
            "Requirement already satisfied, skipping upgrade: backports.weakref in /anaconda/envs/azureml_py36/lib/python3.6/site-packages (from backports.tempfile->azureml-core~=1.31.0->azureml-telemetry~=1.31.0->azureml-automl-core) (1.0.post1)\n",
            "Requirement already satisfied, skipping upgrade: jeepney>=0.6 in /anaconda/envs/azureml_py36/lib/python3.6/site-packages (from SecretStorage<4.0.0->azureml-core~=1.31.0->azureml-telemetry~=1.31.0->azureml-automl-core) (0.6.0)\n",
            "Requirement already satisfied, skipping upgrade: idna<3,>=2.5 in /anaconda/envs/azureml_py36/lib/python3.6/site-packages (from requests<3.0.0,>=2.19.1->azureml-core~=1.31.0->azureml-telemetry~=1.31.0->azureml-automl-core) (2.10)\n",
            "Requirement already satisfied, skipping upgrade: certifi>=2017.4.17 in /anaconda/envs/azureml_py36/lib/python3.6/site-packages (from requests<3.0.0,>=2.19.1->azureml-core~=1.31.0->azureml-telemetry~=1.31.0->azureml-automl-core) (2021.5.30)\n",
            "Requirement already satisfied, skipping upgrade: chardet<5,>=3.0.2 in /anaconda/envs/azureml_py36/lib/python3.6/site-packages (from requests<3.0.0,>=2.19.1->azureml-core~=1.31.0->azureml-telemetry~=1.31.0->azureml-automl-core) (4.0.0)\n",
            "Requirement already satisfied, skipping upgrade: importlib-metadata; python_version < \"3.8\" in /anaconda/envs/azureml_py36/lib/python3.6/site-packages (from jsonpickle<3.0.0->azureml-core~=1.31.0->azureml-telemetry~=1.31.0->azureml-automl-core) (4.4.0)\n",
            "Requirement already satisfied, skipping upgrade: pyasn1>=0.1.1 in /anaconda/envs/azureml_py36/lib/python3.6/site-packages (from ndg-httpsclient->azureml-core~=1.31.0->azureml-telemetry~=1.31.0->azureml-automl-core) (0.4.8)\n",
            "Requirement already satisfied, skipping upgrade: isodate>=0.6.0 in /anaconda/envs/azureml_py36/lib/python3.6/site-packages (from msrest<1.0.0,>=0.5.1->azureml-core~=1.31.0->azureml-telemetry~=1.31.0->azureml-automl-core) (0.6.0)\n",
            "Requirement already satisfied, skipping upgrade: requests-oauthlib>=0.5.0 in /anaconda/envs/azureml_py36/lib/python3.6/site-packages (from msrest<1.0.0,>=0.5.1->azureml-core~=1.31.0->azureml-telemetry~=1.31.0->azureml-automl-core) (1.3.0)\n",
            "Requirement already satisfied, skipping upgrade: cffi>=1.12 in /anaconda/envs/azureml_py36/lib/python3.6/site-packages (from cryptography!=1.9,!=2.0.*,!=2.1.*,!=2.2.*,<4.0.0->azureml-core~=1.31.0->azureml-telemetry~=1.31.0->azureml-automl-core) (1.14.5)\n",
            "Requirement already satisfied, skipping upgrade: websocket-client>=0.32.0 in /anaconda/envs/azureml_py36/lib/python3.6/site-packages (from docker<5.0.0->azureml-core~=1.31.0->azureml-telemetry~=1.31.0->azureml-automl-core) (1.0.1)\n",
            "Requirement already satisfied, skipping upgrade: portalocker~=1.0; platform_system != \"Windows\" in /anaconda/envs/azureml_py36/lib/python3.6/site-packages (from msal-extensions~=0.2.2->azure-identity<1.5.0,>=1.2.0->azureml-dataprep<2.19.0a,>=2.18.0a->azureml-dataset-runtime~=1.31.0->azureml-automl-core) (1.7.1)\n",
            "Requirement already satisfied, skipping upgrade: typing-extensions>=3.6.4; python_version < \"3.8\" in /anaconda/envs/azureml_py36/lib/python3.6/site-packages (from importlib-metadata; python_version < \"3.8\"->jsonpickle<3.0.0->azureml-core~=1.31.0->azureml-telemetry~=1.31.0->azureml-automl-core) (3.10.0.0)\n",
            "Requirement already satisfied, skipping upgrade: zipp>=0.5 in /anaconda/envs/azureml_py36/lib/python3.6/site-packages (from importlib-metadata; python_version < \"3.8\"->jsonpickle<3.0.0->azureml-core~=1.31.0->azureml-telemetry~=1.31.0->azureml-automl-core) (3.4.1)\n",
            "Requirement already satisfied, skipping upgrade: oauthlib>=3.0.0 in /anaconda/envs/azureml_py36/lib/python3.6/site-packages (from requests-oauthlib>=0.5.0->msrest<1.0.0,>=0.5.1->azureml-core~=1.31.0->azureml-telemetry~=1.31.0->azureml-automl-core) (3.1.1)\n",
            "Requirement already satisfied, skipping upgrade: pycparser in /anaconda/envs/azureml_py36/lib/python3.6/site-packages (from cffi>=1.12->cryptography!=1.9,!=2.0.*,!=2.1.*,!=2.2.*,<4.0.0->azureml-core~=1.31.0->azureml-telemetry~=1.31.0->azureml-automl-core) (2.20)\n",
            "\u001b[31mERROR: azureml-widgets 1.30.0 has requirement azureml-core~=1.30.0, but you'll have azureml-core 1.31.0 which is incompatible.\u001b[0m\n",
            "\u001b[31mERROR: azureml-widgets 1.30.0 has requirement azureml-telemetry~=1.30.0, but you'll have azureml-telemetry 1.31.0 which is incompatible.\u001b[0m\n",
            "\u001b[31mERROR: azureml-train-core 1.30.0 has requirement azureml-core~=1.30.0, but you'll have azureml-core 1.31.0 which is incompatible.\u001b[0m\n",
            "\u001b[31mERROR: azureml-train-core 1.30.0 has requirement azureml-telemetry~=1.30.0, but you'll have azureml-telemetry 1.31.0 which is incompatible.\u001b[0m\n",
            "\u001b[31mERROR: azureml-train-automl 1.30.0 has requirement azureml-automl-core~=1.30.0, but you'll have azureml-automl-core 1.31.0 which is incompatible.\u001b[0m\n",
            "\u001b[31mERROR: azureml-train-automl 1.30.0 has requirement azureml-dataset-runtime[fuse,pandas]~=1.30.0, but you'll have azureml-dataset-runtime 1.31.0 which is incompatible.\u001b[0m\n",
            "\u001b[31mERROR: azureml-train-automl-runtime 1.30.0 has requirement azureml-automl-core~=1.30.0, but you'll have azureml-automl-core 1.31.0 which is incompatible.\u001b[0m\n",
            "\u001b[31mERROR: azureml-train-automl-runtime 1.30.0 has requirement azureml-core~=1.30.0, but you'll have azureml-core 1.31.0 which is incompatible.\u001b[0m\n",
            "\u001b[31mERROR: azureml-train-automl-runtime 1.30.0 has requirement azureml-dataset-runtime[fuse,pandas]~=1.30.0, but you'll have azureml-dataset-runtime 1.31.0 which is incompatible.\u001b[0m\n",
            "\u001b[31mERROR: azureml-train-automl-runtime 1.30.0 has requirement azureml-telemetry~=1.30.0, but you'll have azureml-telemetry 1.31.0 which is incompatible.\u001b[0m\n",
            "\u001b[31mERROR: azureml-train-automl-client 1.30.0 has requirement azureml-automl-core~=1.30.0, but you'll have azureml-automl-core 1.31.0 which is incompatible.\u001b[0m\n",
            "\u001b[31mERROR: azureml-train-automl-client 1.30.0 has requirement azureml-core~=1.30.0, but you'll have azureml-core 1.31.0 which is incompatible.\u001b[0m\n",
            "\u001b[31mERROR: azureml-train-automl-client 1.30.0 has requirement azureml-dataset-runtime~=1.30.0, but you'll have azureml-dataset-runtime 1.31.0 which is incompatible.\u001b[0m\n",
            "\u001b[31mERROR: azureml-train-automl-client 1.30.0 has requirement azureml-telemetry~=1.30.0, but you'll have azureml-telemetry 1.31.0 which is incompatible.\u001b[0m\n",
            "\u001b[31mERROR: azureml-tensorboard 1.30.0 has requirement azureml-core~=1.30.0, but you'll have azureml-core 1.31.0 which is incompatible.\u001b[0m\n",
            "\u001b[31mERROR: azureml-sdk 1.30.0 has requirement azureml-core~=1.30.0, but you'll have azureml-core 1.31.0 which is incompatible.\u001b[0m\n",
            "\u001b[31mERROR: azureml-sdk 1.30.0 has requirement azureml-dataset-runtime[fuse]~=1.30.0, but you'll have azureml-dataset-runtime 1.31.0 which is incompatible.\u001b[0m\n",
            "\u001b[31mERROR: azureml-pipeline-core 1.30.0 has requirement azureml-core~=1.30.0, but you'll have azureml-core 1.31.0 which is incompatible.\u001b[0m\n",
            "\u001b[31mERROR: azureml-opendatasets 1.30.0 has requirement azureml-core~=1.30.0, but you'll have azureml-core 1.31.0 which is incompatible.\u001b[0m\n",
            "\u001b[31mERROR: azureml-opendatasets 1.30.0 has requirement azureml-dataset-runtime[fuse,pandas]~=1.30.0, but you'll have azureml-dataset-runtime 1.31.0 which is incompatible.\u001b[0m\n",
            "\u001b[31mERROR: azureml-opendatasets 1.30.0 has requirement azureml-telemetry~=1.30.0, but you'll have azureml-telemetry 1.31.0 which is incompatible.\u001b[0m\n",
            "\u001b[31mERROR: azureml-opendatasets 1.30.0 has requirement scipy<=1.4.1,>=1.0.0, but you'll have scipy 1.5.2 which is incompatible.\u001b[0m\n",
            "\u001b[31mERROR: azureml-mlflow 1.30.0 has requirement azureml-core~=1.30.0, but you'll have azureml-core 1.31.0 which is incompatible.\u001b[0m\n",
            "\u001b[31mERROR: azureml-interpret 1.30.0 has requirement azureml-core~=1.30.0, but you'll have azureml-core 1.31.0 which is incompatible.\u001b[0m\n",
            "\u001b[31mERROR: azureml-defaults 1.30.0 has requirement azureml-core~=1.30.0, but you'll have azureml-core 1.31.0 which is incompatible.\u001b[0m\n",
            "\u001b[31mERROR: azureml-defaults 1.30.0 has requirement azureml-dataset-runtime[fuse]~=1.30.0, but you'll have azureml-dataset-runtime 1.31.0 which is incompatible.\u001b[0m\n",
            "\u001b[31mERROR: azureml-datadrift 1.30.0 has requirement azureml-core~=1.30.0, but you'll have azureml-core 1.31.0 which is incompatible.\u001b[0m\n",
            "\u001b[31mERROR: azureml-datadrift 1.30.0 has requirement azureml-dataset-runtime[fuse,pandas]~=1.30.0, but you'll have azureml-dataset-runtime 1.31.0 which is incompatible.\u001b[0m\n",
            "\u001b[31mERROR: azureml-datadrift 1.30.0 has requirement azureml-telemetry~=1.30.0, but you'll have azureml-telemetry 1.31.0 which is incompatible.\u001b[0m\n",
            "\u001b[31mERROR: azureml-contrib-services 1.30.0 has requirement azureml-core~=1.30.0, but you'll have azureml-core 1.31.0 which is incompatible.\u001b[0m\n",
            "\u001b[31mERROR: azureml-contrib-server 1.30.0 has requirement azureml-core~=1.30.0, but you'll have azureml-core 1.31.0 which is incompatible.\u001b[0m\n",
            "\u001b[31mERROR: azureml-contrib-reinforcementlearning 1.30.0 has requirement azureml-core~=1.30.0, but you'll have azureml-core 1.31.0 which is incompatible.\u001b[0m\n",
            "\u001b[31mERROR: azureml-contrib-pipeline-steps 1.30.0 has requirement azureml-core~=1.30.0, but you'll have azureml-core 1.31.0 which is incompatible.\u001b[0m\n",
            "\u001b[31mERROR: azureml-contrib-pipeline-steps 1.30.0 has requirement azureml-dataset-runtime~=1.30.0, but you'll have azureml-dataset-runtime 1.31.0 which is incompatible.\u001b[0m\n",
            "\u001b[31mERROR: azureml-contrib-notebook 1.30.0 has requirement azureml-core~=1.30.0, but you'll have azureml-core 1.31.0 which is incompatible.\u001b[0m\n",
            "\u001b[31mERROR: azureml-contrib-fairness 1.30.0 has requirement azureml-core~=1.30.0, but you'll have azureml-core 1.31.0 which is incompatible.\u001b[0m\n",
            "\u001b[31mERROR: azureml-contrib-dataset 1.30.0 has requirement azureml-core~=1.30.0, but you'll have azureml-core 1.31.0 which is incompatible.\u001b[0m\n",
            "\u001b[31mERROR: azureml-contrib-dataset 1.30.0 has requirement azureml-dataset-runtime[fuse,pandas]~=1.30.0, but you'll have azureml-dataset-runtime 1.31.0 which is incompatible.\u001b[0m\n",
            "\u001b[31mERROR: azureml-cli-common 1.30.0 has requirement azureml-core~=1.30.0, but you'll have azureml-core 1.31.0 which is incompatible.\u001b[0m\n",
            "\u001b[31mERROR: azureml-automl-runtime 1.30.0 has requirement azureml-automl-core~=1.30.0, but you'll have azureml-automl-core 1.31.0 which is incompatible.\u001b[0m\n",
            "\u001b[31mERROR: azureml-automl-runtime 1.30.0 has requirement azureml-dataset-runtime[fuse,pandas]~=1.30.0, but you'll have azureml-dataset-runtime 1.31.0 which is incompatible.\u001b[0m\n",
            "\u001b[31mERROR: azureml-automl-dnn-nlp 1.30.0 has requirement azureml-automl-core~=1.30.0, but you'll have azureml-automl-core 1.31.0 which is incompatible.\u001b[0m\n",
            "\u001b[31mERROR: azureml-automl-dnn-nlp 1.30.0 has requirement azureml-core~=1.30.0, but you'll have azureml-core 1.31.0 which is incompatible.\u001b[0m\n",
            "\u001b[31mERROR: azureml-automl-dnn-nlp 1.30.0 has requirement azureml-telemetry~=1.30.0, but you'll have azureml-telemetry 1.31.0 which is incompatible.\u001b[0m\n",
            "\u001b[31mERROR: azureml-accel-models 1.30.0 has requirement azureml-core~=1.30.0, but you'll have azureml-core 1.31.0 which is incompatible.\u001b[0m\n",
            "Installing collected packages: azureml-dataprep-rslex, azureml-dataprep-native, azureml-dataprep, azureml-dataset-runtime, azureml-core, azureml-telemetry, azureml-automl-core\n",
            "  Attempting uninstall: azureml-dataprep-rslex\n",
            "    Found existing installation: azureml-dataprep-rslex 1.13.0\n",
            "    Uninstalling azureml-dataprep-rslex-1.13.0:\n",
            "      Successfully uninstalled azureml-dataprep-rslex-1.13.0\n",
            "  Attempting uninstall: azureml-dataprep-native\n",
            "    Found existing installation: azureml-dataprep-native 33.0.0\n",
            "    Uninstalling azureml-dataprep-native-33.0.0:\n",
            "      Successfully uninstalled azureml-dataprep-native-33.0.0\n",
            "  Attempting uninstall: azureml-dataprep\n",
            "    Found existing installation: azureml-dataprep 2.15.1\n",
            "    Uninstalling azureml-dataprep-2.15.1:\n",
            "      Successfully uninstalled azureml-dataprep-2.15.1\n",
            "  Attempting uninstall: azureml-dataset-runtime\n",
            "    Found existing installation: azureml-dataset-runtime 1.30.0\n",
            "    Uninstalling azureml-dataset-runtime-1.30.0:\n",
            "      Successfully uninstalled azureml-dataset-runtime-1.30.0\n",
            "  Attempting uninstall: azureml-core\n",
            "    Found existing installation: azureml-core 1.30.0\n",
            "    Uninstalling azureml-core-1.30.0:\n",
            "      Successfully uninstalled azureml-core-1.30.0\n",
            "  Attempting uninstall: azureml-telemetry\n",
            "    Found existing installation: azureml-telemetry 1.30.0\n",
            "    Uninstalling azureml-telemetry-1.30.0:\n",
            "      Successfully uninstalled azureml-telemetry-1.30.0\n",
            "  Attempting uninstall: azureml-automl-core\n",
            "    Found existing installation: azureml-automl-core 1.30.0\n",
            "    Uninstalling azureml-automl-core-1.30.0:\n",
            "      Successfully uninstalled azureml-automl-core-1.30.0\n",
            "Successfully installed azureml-automl-core-1.31.0 azureml-core-1.31.0 azureml-dataprep-2.18.0 azureml-dataprep-native-36.0.0 azureml-dataprep-rslex-1.16.1 azureml-dataset-runtime-1.31.0 azureml-telemetry-1.31.0\n"
          ]
        }
      ],
      "execution_count": 56,
      "metadata": {
        "collapsed": true,
        "jupyter": {
          "source_hidden": false,
          "outputs_hidden": false
        },
        "nteract": {
          "transient": {
            "deleting": false
          }
        }
      }
    },
    {
      "cell_type": "code",
      "source": [
        "best_run.get_tags()"
      ],
      "outputs": [
        {
          "output_type": "execute_result",
          "execution_count": 66,
          "data": {
            "text/plain": "{'_aml_system_azureml.automlComponent': 'AutoML',\n '_aml_system_ComputeTargetStatus': '{\"AllocationState\":\"steady\",\"PreparingNodeCount\":0,\"RunningNodeCount\":4,\"CurrentNodeCount\":4}',\n 'mlflow.source.type': 'JOB',\n 'mlflow.source.name': 'automl_driver.py',\n '_aml_system_automl_is_child_run_end_telemetry_event_logged': 'True',\n 'model_explain_run_id': 'AutoML_cbf39a66-adfa-434e-974e-c5fcdd114967_ModelExplain',\n 'model_explanation': 'True'}"
          },
          "metadata": {}
        }
      ],
      "execution_count": 66,
      "metadata": {
        "collapsed": true,
        "jupyter": {
          "source_hidden": false,
          "outputs_hidden": false
        },
        "nteract": {
          "transient": {
            "deleting": false
          }
        },
        "gather": {
          "logged": 1625435716544
        }
      }
    },
    {
      "cell_type": "code",
      "source": [
        "best_run_metrics = best_run.get_metrics()\n",
        "best_run_metrics"
      ],
      "outputs": [
        {
          "output_type": "execute_result",
          "execution_count": 68,
          "data": {
            "text/plain": "{'balanced_accuracy': 0.7229355564945195,\n 'average_precision_score_macro': 0.7997492970053722,\n 'matthews_correlation': 0.4472891398697703,\n 'average_precision_score_micro': 0.8056763236208857,\n 'f1_score_micro': 0.7229265868181665,\n 'f1_score_macro': 0.7224803171250331,\n 'AUC_weighted': 0.8010431017233097,\n 'weighted_accuracy': 0.7601394920641226,\n 'AUC_macro': 0.8010431017233097,\n 'average_precision_score_weighted': 0.7997655518861818,\n 'accuracy': 0.7229265868183272,\n 'precision_score_micro': 0.7229265868181634,\n 'recall_score_macro': 0.7229355564945195,\n 'recall_score_micro': 0.7229265868181696,\n 'norm_macro_recall': 0.44587111298961235,\n 'f1_score_weighted': 0.7224871889288662,\n 'log_loss': 0.536808070189603,\n 'recall_score_weighted': 0.7229265868181696,\n 'precision_score_weighted': 0.7243786362763155,\n 'AUC_micro': 0.8033226480646501,\n 'precision_score_macro': 0.7243558430543688,\n 'confusion_matrix': 'aml://artifactId/ExperimentRun/dcid.AutoML_cbf39a66-adfa-434e-974e-c5fcdd114967_29/confusion_matrix',\n 'accuracy_table': 'aml://artifactId/ExperimentRun/dcid.AutoML_cbf39a66-adfa-434e-974e-c5fcdd114967_29/accuracy_table'}"
          },
          "metadata": {}
        }
      ],
      "execution_count": 68,
      "metadata": {
        "collapsed": true,
        "jupyter": {
          "source_hidden": false,
          "outputs_hidden": false
        },
        "nteract": {
          "transient": {
            "deleting": false
          }
        },
        "gather": {
          "logged": 1625435724975
        }
      }
    },
    {
      "cell_type": "code",
      "source": [
        "best_run.properties"
      ],
      "outputs": [
        {
          "output_type": "execute_result",
          "execution_count": 69,
          "data": {
            "text/plain": "{'runTemplate': 'automl_child',\n 'pipeline_id': '__AutoML_Stack_Ensemble__',\n 'pipeline_spec': '{\"pipeline_id\":\"__AutoML_Stack_Ensemble__\",\"objects\":[{\"module\":\"azureml.train.automl.stack_ensemble\",\"class_name\":\"StackEnsemble\",\"spec_class\":\"sklearn\",\"param_args\":[],\"param_kwargs\":{\"automl_settings\":\"{\\'task_type\\':\\'classification\\',\\'primary_metric\\':\\'AUC_weighted\\',\\'verbosity\\':20,\\'ensemble_iterations\\':15,\\'is_timeseries\\':False,\\'name\\':\\'capstone-project-experiment\\',\\'compute_target\\':\\'capstone-cluster\\',\\'subscription_id\\':\\'2d391f5f-13ec-4301-9d0f-ac4301a018d8\\',\\'region\\':\\'eastus2\\',\\'spark_service\\':None}\",\"ensemble_run_id\":\"AutoML_cbf39a66-adfa-434e-974e-c5fcdd114967_29\",\"experiment_name\":\"capstone-project-experiment\",\"workspace_name\":\"azudacityml01\",\"subscription_id\":\"2d391f5f-13ec-4301-9d0f-ac4301a018d8\",\"resource_group_name\":\"myresourcegroup\"}}]}',\n 'training_percent': '100',\n 'predicted_cost': None,\n 'iteration': '29',\n '_aml_system_scenario_identification': 'Remote.Child',\n '_azureml.ComputeTargetType': 'amlcompute',\n 'ContentSnapshotId': '2f1e5c48-1669-45e5-889b-164465259b90',\n 'ProcessInfoFile': 'azureml-logs/process_info.json',\n 'ProcessStatusFile': 'azureml-logs/process_status.json',\n 'run_preprocessor': '',\n 'run_algorithm': 'StackEnsemble',\n 'ensembled_iterations': '[23, 0, 20, 1, 22]',\n 'ensembled_algorithms': \"['XGBoostClassifier', 'LightGBM', 'LightGBM', 'XGBoostClassifier', 'LightGBM']\",\n 'ensembled_run_ids': \"['AutoML_cbf39a66-adfa-434e-974e-c5fcdd114967_23', 'AutoML_cbf39a66-adfa-434e-974e-c5fcdd114967_0', 'AutoML_cbf39a66-adfa-434e-974e-c5fcdd114967_20', 'AutoML_cbf39a66-adfa-434e-974e-c5fcdd114967_1', 'AutoML_cbf39a66-adfa-434e-974e-c5fcdd114967_22']\",\n 'ensemble_weights': '[0.5333333333333333, 0.06666666666666667, 0.26666666666666666, 0.06666666666666667, 0.06666666666666667]',\n 'best_individual_pipeline_score': '0.7991418028022501',\n 'best_individual_iteration': '23',\n 'model_output_path': 'outputs/model.pkl',\n 'conda_env_data_location': 'aml://artifact/ExperimentRun/dcid.AutoML_cbf39a66-adfa-434e-974e-c5fcdd114967_29/outputs/conda_env_v_1_0_0.yml',\n 'model_data_location': 'aml://artifact/ExperimentRun/dcid.AutoML_cbf39a66-adfa-434e-974e-c5fcdd114967_29/outputs/model.pkl',\n 'model_size_on_disk': '2886347',\n 'scoring_data_location': 'aml://artifact/ExperimentRun/dcid.AutoML_cbf39a66-adfa-434e-974e-c5fcdd114967_29/outputs/scoring_file_v_1_0_0.py',\n 'scoring_data_location_v2': 'aml://artifact/ExperimentRun/dcid.AutoML_cbf39a66-adfa-434e-974e-c5fcdd114967_29/outputs/scoring_file_v_2_0_0.py',\n 'model_exp_support': 'True',\n 'pipeline_graph_version': '1.0.0',\n 'model_name': 'AutoMLcbf39a66a29',\n 'score': '0.8010431017233097',\n 'score_table': 'NaN',\n 'run_properties': \"\\n    base_learners=[('23', Pipeline(memory=None,\\n             steps=[('standardscalerwrapper',\\n                     StandardScalerWrapper(\\n        copy=True,\\n        with_mean=False,\\n        with_std=False\\n    \",\n 'pipeline_script': '{\"pipeline_id\":\"__AutoML_Stack_Ensemble__\",\"objects\":[{\"module\":\"azureml.train.automl.stack_ensemble\",\"class_name\":\"StackEnsemble\",\"spec_class\":\"sklearn\",\"param_args\":[],\"param_kwargs\":{\"automl_settings\":\"{\\'task_type\\':\\'classification\\',\\'primary_metric\\':\\'AUC_weighted\\',\\'verbosity\\':20,\\'ensemble_iterations\\':15,\\'is_timeseries\\':False,\\'name\\':\\'capstone-project-experiment\\',\\'compute_target\\':\\'capstone-cluster\\',\\'subscription_id\\':\\'2d391f5f-13ec-4301-9d0f-ac4301a018d8\\',\\'region\\':\\'eastus2\\',\\'spark_service\\':None}\",\"ensemble_run_id\":\"AutoML_cbf39a66-adfa-434e-974e-c5fcdd114967_29\",\"experiment_name\":\"capstone-project-experiment\",\"workspace_name\":\"azudacityml01\",\"subscription_id\":\"2d391f5f-13ec-4301-9d0f-ac4301a018d8\",\"resource_group_name\":\"myresourcegroup\"}}]}',\n 'training_type': 'MeanCrossValidation',\n 'fit_time': '286',\n 'goal': 'AUC_weighted_max',\n 'primary_metric': 'AUC_weighted',\n 'errors': '{}',\n 'onnx_model_resource': '{}',\n 'dependencies_versions': '{\"azureml-train-automl-runtime\": \"1.31.0\", \"azureml-train-automl-client\": \"1.31.0\", \"azureml-telemetry\": \"1.31.0\", \"azureml-pipeline-core\": \"1.31.0\", \"azureml-model-management-sdk\": \"1.0.1b6.post1\", \"azureml-mlflow\": \"1.31.0\", \"azureml-interpret\": \"1.31.0\", \"azureml-defaults\": \"1.31.0\", \"azureml-dataset-runtime\": \"1.31.0\", \"azureml-dataprep\": \"2.18.0\", \"azureml-dataprep-rslex\": \"1.16.0\", \"azureml-dataprep-native\": \"36.0.0\", \"azureml-core\": \"1.31.0\", \"azureml-automl-runtime\": \"1.31.0\", \"azureml-automl-core\": \"1.31.0\"}',\n 'num_cores': '2',\n 'num_logical_cores': '2',\n 'peak_memory_usage': '1456028',\n 'vm_configuration': 'Intel(R) Xeon(R) CPU E5-2673 v3 @ 2.40GHz',\n 'core_hours': '0.13330136416666666',\n 'feature_skus': 'automatedml_sdk_guardrails'}"
          },
          "metadata": {}
        }
      ],
      "execution_count": 69,
      "metadata": {
        "collapsed": true,
        "jupyter": {
          "source_hidden": false,
          "outputs_hidden": false
        },
        "nteract": {
          "transient": {
            "deleting": false
          }
        },
        "gather": {
          "logged": 1625435726068
        }
      }
    },
    {
      "cell_type": "code",
      "source": [
        "automl_model_name = best_run.properties['model_name']\n",
        "print('Best AutoML model name: ' + automl_model_name,\n",
        "      'Best AutoML model run: ' + str(best_run),\n",
        "      'Best AutoML model specification: ' + str(model), sep = '\\n\\n')"
      ],
      "outputs": [
        {
          "output_type": "stream",
          "name": "stdout",
          "text": [
            "Best AutoML model name: AutoMLcbf39a66a29\n",
            "\n",
            "Best AutoML model run: Run(Experiment: capstone-project-experiment,\n",
            "Id: AutoML_cbf39a66-adfa-434e-974e-c5fcdd114967_29,\n",
            "Type: azureml.scriptrun,\n",
            "Status: Completed)\n",
            "\n",
            "Best AutoML model specification: Pipeline(memory=None,\n",
            "         steps=[('datatransformer',\n",
            "                 DataTransformer(enable_dnn=False, enable_feature_sweeping=True, feature_sweeping_config={}, feature_sweeping_timeout=86400, featurization_config=None, force_text_dnn=False, is_cross_validation=True, is_onnx_compatible=False, observer=None, task='classification', working_dir='/mnt/batch/tasks/shared/LS_root/mount...\n",
            "), random_state=None, reg_alpha=1, reg_lambda=1, subsample=0.29736842105263156))], verbose=False))], meta_learner=LogisticRegressionCV(Cs=10, class_weight=None, cv=None, dual=False, fit_intercept=True, intercept_scaling=1.0, l1_ratios=None, max_iter=100, multi_class='auto', n_jobs=None, penalty='l2', random_state=None, refit=True, scoring=<azureml.automl.runtime.stack_ensemble_base.Scorer object at 0x7f980cf2cf98>, solver='lbfgs', tol=0.0001, verbose=0), training_cv_folds=5))],\n",
            "         verbose=False)\n"
          ]
        }
      ],
      "execution_count": 70,
      "metadata": {
        "colab": {
          "base_uri": "https://localhost:8080/"
        },
        "id": "SmgPxm6hTX9u",
        "outputId": "e9881660-e2ab-4447-c2da-9ac6f66e42ff",
        "gather": {
          "logged": 1625435727096
        }
      }
    },
    {
      "cell_type": "code",
      "source": [
        "model.steps"
      ],
      "outputs": [
        {
          "output_type": "execute_result",
          "execution_count": 71,
          "data": {
            "text/plain": "[('datatransformer',\n  DataTransformer(\n      task='classification',\n      is_onnx_compatible=False,\n      enable_feature_sweeping=True,\n      enable_dnn=False,\n      force_text_dnn=False,\n      feature_sweeping_timeout=86400,\n      featurization_config=None,\n      is_cross_validation=True,\n      feature_sweeping_config={}\n  )),\n ('stackensembleclassifier',\n  StackEnsembleClassifier(\n      base_learners=[('23', Pipeline(memory=None,\n               steps=[('standardscalerwrapper',\n                       StandardScalerWrapper(\n          copy=True,\n          with_mean=False,\n          with_std=False\n      )),\n                      ('xgboostclassifier',\n                       XGBoostClassifier(booster='gbtree', colsample_bytree=1, eta=0.3, gamma=0, max_depth=8, max_leaves=7, n_estimators=100, n_jobs=-1, objective='reg:logistic', problem_info=ProblemInfo(\n          dataset_samples=354663,\n          dataset_features...\n          iteration_timeout_mode=0,\n          iteration_timeout_param=None,\n          feature_column_names=None,\n          label_column_name=None,\n          weight_column_name=None,\n          cv_split_column_names=None,\n          enable_streaming=None,\n          timeseries_param_dict=None,\n          gpu_training_param_dict={'processing_unit_type': 'cpu'}\n      ), random_state=0, reg_alpha=0.20833333333333334, reg_lambda=1.25, subsample=0.9, tree_method='auto'))],\n               verbose=False)), ('0', Pipeline(memory=None,\n               steps=[('maxabsscaler', MaxAbsScaler(copy=True)),\n                      ('lightgbmclassifier',\n                       LightGBMClassifier(min_data_in_leaf=20, n_jobs=-1, problem_info=ProblemInfo(\n          dataset_samples=354663,\n          dataset_features=81,\n          dataset_classes=2,\n          dataset_num_categorical=0,\n          dataset_categoricals=None,\n          pipeline_categoricals=None,\n          dataset_y_std=None,\n          dataset_uid=None,\n          subsampli...\n          subsampling_schedule='hyperband_clip',\n          cost_mode_param=None,\n          iteration_timeout_mode=0,\n          iteration_timeout_param=None,\n          feature_column_names=None,\n          label_column_name=None,\n          weight_column_name=None,\n          cv_split_column_names=None,\n          enable_streaming=None,\n          timeseries_param_dict=None,\n          gpu_training_param_dict={'processing_unit_type': 'cpu'}\n      ), random_state=None))],\n               verbose=False)), ('20', Pipeline(memory=None,\n               steps=[('maxabsscaler', MaxAbsScaler(copy=True)),\n                      ('lightgbmclassifier',\n                       LightGBMClassifier(boosting_type='gbdt', colsample_bytree=0.7922222222222222, learning_rate=0.1, max_bin=270, max_depth=-1, min_child_weight=7, min_data_in_leaf=0.020697586206896556, min_split_gain=0.15789473684210525, n_estimators=200, n_jobs=-1, num_leaves=239, proble...\n          iteration_timeout_param=None,\n          feature_column_names=None,\n          label_column_name=None,\n          weight_column_name=None,\n          cv_split_column_names=None,\n          enable_streaming=None,\n          timeseries_param_dict=None,\n          gpu_training_param_dict={'processing_unit_type': 'cpu'}\n      ), random_state=None, reg_alpha=0.2631578947368421, reg_lambda=0.05263157894736842, subsample=0.8415789473684211))],\n               verbose=False)), ('1', Pipeline(memory=None,\n               steps=[('maxabsscaler', MaxAbsScaler(copy=True)),\n                      ('xgboostclassifier',\n                       XGBoostClassifier(n_jobs=-1, problem_info=ProblemInfo(\n          dataset_samples=354663,\n          dataset_features=81,\n          dataset_classes=2,\n          dataset_num_categorical=0,\n          dataset_categoricals=None,\n          pipeline_categoricals=None,\n          dataset_y_std=None,\n          dataset_uid=None,\n          subsampling=False,\n          task='classif...\n          subsampling_schedule='hyperband_clip',\n          cost_mode_param=None,\n          iteration_timeout_mode=0,\n          iteration_timeout_param=None,\n          feature_column_names=None,\n          label_column_name=None,\n          weight_column_name=None,\n          cv_split_column_names=None,\n          enable_streaming=None,\n          timeseries_param_dict=None,\n          gpu_training_param_dict={'processing_unit_type': 'cpu'}\n      ), random_state=0, tree_method='auto'))],\n               verbose=False)), ('22', Pipeline(memory=None,\n               steps=[('maxabsscaler', MaxAbsScaler(copy=True)),\n                      ('lightgbmclassifier',\n                       LightGBMClassifier(boosting_type='gbdt', colsample_bytree=0.8911111111111111, learning_rate=0.07894947368421053, max_bin=310, max_depth=5, min_child_weight=6, min_data_in_leaf=0.003457931034482759, min_split_gain=0.3684210526315789, n_estimators=50, n_jobs=-1, num_leav...\n          cost_mode_param=None,\n          iteration_timeout_mode=0,\n          iteration_timeout_param=None,\n          feature_column_names=None,\n          label_column_name=None,\n          weight_column_name=None,\n          cv_split_column_names=None,\n          enable_streaming=None,\n          timeseries_param_dict=None,\n          gpu_training_param_dict={'processing_unit_type': 'cpu'}\n      ), random_state=None, reg_alpha=1, reg_lambda=1, subsample=0.29736842105263156))],\n               verbose=False))],\n      meta_learner=LogisticRegressionCV(\n          Cs=10,\n          class_weight=None,\n          cv=None,\n          dual=False,\n          fit_intercept=True,\n          intercept_scaling=1.0,\n          l1_ratios=None,\n          max_iter=100,\n          multi_class='auto',\n          n_jobs=None,\n          penalty='l2',\n          random_state=None,\n          refit=True,\n          scoring=<azureml.automl.runtime.stack_ensemble_base.Scorer object at 0x7f980cf2cf98>,\n          solver='lbfgs',\n          tol=0.0001,\n          verbose=0\n      ),\n      training_cv_folds=5\n  ))]"
          },
          "metadata": {}
        }
      ],
      "execution_count": 71,
      "metadata": {
        "colab": {
          "base_uri": "https://localhost:8080/"
        },
        "id": "elenvF0zSg66",
        "outputId": "6c33da46-e48e-4422-ec0e-0875052b871c",
        "gather": {
          "logged": 1625435729224
        }
      }
    },
    {
      "cell_type": "code",
      "source": [
        "#TODO: Save the best model\n",
        "\n",
        "# Register and save the best model\n",
        "automl_model_registered = remote_run.register_model(model_name='default_automl_model',\n",
        "                        tags={'Training context':'Auto ML'}\n",
        "                        )\n",
        "\n",
        "automl_model_registered.download(target_dir=\"outputs_automl\", exist_ok=True)"
      ],
      "outputs": [
        {
          "output_type": "execute_result",
          "execution_count": 72,
          "data": {
            "text/plain": "'outputs_automl/model.pkl'"
          },
          "metadata": {}
        }
      ],
      "execution_count": 72,
      "metadata": {
        "gather": {
          "logged": 1625435736842
        },
        "jupyter": {
          "outputs_hidden": false,
          "source_hidden": false
        },
        "nteract": {
          "transient": {
            "deleting": false
          }
        },
        "id": "y412mgAXSuSq",
        "colab": {
          "base_uri": "https://localhost:8080/",
          "height": 35
        },
        "outputId": "41d1790b-53a8-4fb5-a1c0-f5180b129dca"
      }
    },
    {
      "cell_type": "code",
      "source": [
        "from azureml.core import Model\n",
        "\n",
        "# List registered models\n",
        "for model in Model.list(ws):\n",
        "    print('Name: ', model.name, 'version: ', model.version)\n",
        "\n",
        "    for tag_name in model.tags:\n",
        "        tag = model.tags[tag_name]\n",
        "        print ('\\t',tag_name, ':', tag)\n",
        "    \n",
        "    for prop_name in model.properties:\n",
        "        prop = model.properties[prop_name]\n",
        "        print ('\\t',prop_name, ':', prop)\n",
        "    \n",
        "    print('\\n')"
      ],
      "outputs": [
        {
          "output_type": "stream",
          "name": "stdout",
          "text": [
            "Name:  default_automl_model version:  7\n",
            "\t Training context : Auto ML\n",
            "\n",
            "\n",
            "Name:  default_automl_model version:  6\n",
            "\t Training context : Auto ML\n",
            "\n",
            "\n",
            "Name:  default_automl_model version:  5\n",
            "\t Training context : Auto ML\n",
            "\n",
            "\n",
            "Name:  default_automl_model version:  4\n",
            "\t Training context : Auto ML\n",
            "\n",
            "\n",
            "Name:  default_automl_model version:  3\n",
            "\t Training context : Auto ML\n",
            "\t AUC : 0.8010431017233097\n",
            "\t Accuracy : 0.7229265868183272\n",
            "\n",
            "\n",
            "Name:  default_automl_model version:  2\n",
            "\n",
            "\n",
            "Name:  default_automl_model version:  1\n",
            "\n",
            "\n"
          ]
        }
      ],
      "execution_count": 20,
      "metadata": {
        "collapsed": true,
        "jupyter": {
          "source_hidden": false,
          "outputs_hidden": false
        },
        "nteract": {
          "transient": {
            "deleting": false
          }
        },
        "gather": {
          "logged": 1625443615907
        }
      }
    },
    {
      "cell_type": "code",
      "source": [
        "!ls -l outputs_automl"
      ],
      "outputs": [
        {
          "output_type": "stream",
          "name": "stdout",
          "text": [
            "total 2819\r\n",
            "-rwxrwxrwx 1 root root 2886347 Jul  4 21:55 model.pkl\r\n"
          ]
        }
      ],
      "execution_count": 74,
      "metadata": {
        "colab": {
          "base_uri": "https://localhost:8080/"
        },
        "id": "N1raOyvTVh9Y",
        "outputId": "1e9b51de-b68a-465a-f5df-8abbce2cb297"
      }
    },
    {
      "cell_type": "markdown",
      "source": [
        "## Model Deployment\n",
        "\n",
        "Remember you have to deploy only one of the two models you trained.. Perform the steps in the rest of this notebook only if you wish to deploy this model.\n",
        "\n",
        "TODO: In the cell below, register the model, create an inference config and deploy the model as a web service."
      ],
      "metadata": {
        "id": "etCwkLlTSuSr"
      }
    },
    {
      "cell_type": "code",
      "source": [
        "from azureml.core.webservice import AciWebservice\n",
        "from azureml.core import Environment\n",
        "from azureml.core.model import InferenceConfig\n",
        "from azureml.core.model import Model"
      ],
      "outputs": [],
      "execution_count": 21,
      "metadata": {
        "id": "EODFxfinT-Kx",
        "gather": {
          "logged": 1625443629011
        }
      }
    },
    {
      "cell_type": "code",
      "source": [
        "myenv = Environment(name=\"capstoneenv\")\n",
        "myenv.register(workspace=ws)"
      ],
      "outputs": [
        {
          "output_type": "execute_result",
          "execution_count": 22,
          "data": {
            "text/plain": "{\n    \"databricks\": {\n        \"eggLibraries\": [],\n        \"jarLibraries\": [],\n        \"mavenLibraries\": [],\n        \"pypiLibraries\": [],\n        \"rcranLibraries\": []\n    },\n    \"docker\": {\n        \"arguments\": [],\n        \"baseDockerfile\": null,\n        \"baseImage\": \"mcr.microsoft.com/azureml/openmpi3.1.2-ubuntu18.04:20210531.v1\",\n        \"baseImageRegistry\": {\n            \"address\": null,\n            \"password\": null,\n            \"registryIdentity\": null,\n            \"username\": null\n        },\n        \"enabled\": false,\n        \"platform\": {\n            \"architecture\": \"amd64\",\n            \"os\": \"Linux\"\n        },\n        \"sharedVolumes\": true,\n        \"shmSize\": null\n    },\n    \"environmentVariables\": {\n        \"EXAMPLE_ENV_VAR\": \"EXAMPLE_VALUE\"\n    },\n    \"inferencingStackVersion\": null,\n    \"name\": \"capstoneenv\",\n    \"python\": {\n        \"baseCondaEnvironment\": null,\n        \"condaDependencies\": {\n            \"channels\": [\n                \"anaconda\",\n                \"conda-forge\"\n            ],\n            \"dependencies\": [\n                \"python=3.6.2\",\n                {\n                    \"pip\": [\n                        \"azureml-defaults\"\n                    ]\n                }\n            ],\n            \"name\": \"azureml_da3e97fcb51801118b8e80207f3e01ad\"\n        },\n        \"condaDependenciesFile\": null,\n        \"interpreterPath\": \"python\",\n        \"userManagedDependencies\": false\n    },\n    \"r\": null,\n    \"spark\": {\n        \"packages\": [],\n        \"precachePackages\": true,\n        \"repositories\": []\n    },\n    \"version\": \"7\"\n}"
          },
          "metadata": {}
        }
      ],
      "execution_count": 22,
      "metadata": {
        "colab": {
          "base_uri": "https://localhost:8080/"
        },
        "id": "qOUua_uWaMii",
        "outputId": "8d4fb0d9-9220-4168-9144-285861e26625",
        "gather": {
          "logged": 1625443631162
        }
      }
    },
    {
      "cell_type": "code",
      "source": [
        "aci_config = AciWebservice.deploy_configuration(cpu_cores=1, \n",
        "                                                memory_gb=4, \n",
        "                                                enable_app_insights=True,\n",
        "                                                description='Predict default score')\n",
        "\n",
        "model = Model(ws, 'default_automl_model')\n",
        "\n",
        "env_deploy = Environment.get(workspace=ws, name='capstoneenv')\n",
        "\n",
        "inference_config = InferenceConfig(entry_script=\"score.py\", environment=env_deploy)\n",
        "\n",
        "service = Model.deploy(workspace=ws, \n",
        "                       name='default-automl-v1', \n",
        "                       models=[model], \n",
        "                       inference_config=inference_config, \n",
        "                       deployment_config=aci_config)"
      ],
      "outputs": [],
      "execution_count": 24,
      "metadata": {
        "gather": {
          "logged": 1625443647546
        },
        "jupyter": {
          "outputs_hidden": false,
          "source_hidden": false
        },
        "nteract": {
          "transient": {
            "deleting": false
          }
        },
        "id": "CWivRXzPSuSr"
      }
    },
    {
      "cell_type": "code",
      "source": [
        "#Model.get_model_path('default_automl_model')"
      ],
      "outputs": [],
      "execution_count": null,
      "metadata": {
        "collapsed": true,
        "jupyter": {
          "source_hidden": false,
          "outputs_hidden": false
        },
        "nteract": {
          "transient": {
            "deleting": false
          }
        }
      }
    },
    {
      "cell_type": "code",
      "source": [
        "service.wait_for_deployment(show_output=True)"
      ],
      "outputs": [
        {
          "output_type": "stream",
          "name": "stdout",
          "text": [
            "Tips: You can try get_logs(): https://aka.ms/debugimage#dockerlog or local deployment: https://aka.ms/debugimage#debug-locally to debug if deployment takes longer than 10 minutes.\n",
            "Running\n",
            "2021-07-05 00:07:27+00:00 Creating Container Registry if not exists.\n",
            "2021-07-05 00:07:27+00:00 Registering the environment.\n",
            "2021-07-05 00:07:28+00:00 Use the existing image.\n",
            "2021-07-05 00:07:28+00:00 Generating deployment configuration.\n",
            "2021-07-05 00:07:29+00:00 Submitting deployment to compute.\n",
            "2021-07-05 00:07:32+00:00 Checking the status of deployment default-automl-v1..\n",
            "2021-07-05 00:08:55+00:00 Checking the status of inference endpoint default-automl-v1.\n",
            "Failed\n"
          ]
        },
        {
          "output_type": "stream",
          "name": "stderr",
          "text": [
            "Service deployment polling reached non-successful terminal state, current service state: Failed\n",
            "Operation ID: 6e0f893f-a115-4ece-98bc-c571b2a538a0\n",
            "More information can be found using '.get_logs()'\n",
            "Error:\n",
            "{\n",
            "  \"code\": \"AciDeploymentFailed\",\n",
            "  \"statusCode\": 400,\n",
            "  \"message\": \"Aci Deployment failed with exception: Your container application crashed. This may be caused by errors in your scoring file's init() function.\n",
            "\t1. Please check the logs for your container instance: default-automl-v1. From the AML SDK, you can run print(service.get_logs()) if you have service object to fetch the logs.\n",
            "\t2. You can interactively debug your scoring file locally. Please refer to https://docs.microsoft.com/azure/machine-learning/how-to-debug-visual-studio-code#debug-and-troubleshoot-deployments for more information.\n",
            "\t3. You can also try to run image azudacitycr01.azurecr.io/azureml/azureml_2dc4016849bfdcec9f9d4bb2200f06f4 locally. Please refer to https://aka.ms/debugimage#service-launch-fails for more information.\",\n",
            "  \"details\": [\n",
            "    {\n",
            "      \"code\": \"CrashLoopBackOff\",\n",
            "      \"message\": \"Your container application crashed. This may be caused by errors in your scoring file's init() function.\n",
            "\t1. Please check the logs for your container instance: default-automl-v1. From the AML SDK, you can run print(service.get_logs()) if you have service object to fetch the logs.\n",
            "\t2. You can interactively debug your scoring file locally. Please refer to https://docs.microsoft.com/azure/machine-learning/how-to-debug-visual-studio-code#debug-and-troubleshoot-deployments for more information.\n",
            "\t3. You can also try to run image azudacitycr01.azurecr.io/azureml/azureml_2dc4016849bfdcec9f9d4bb2200f06f4 locally. Please refer to https://aka.ms/debugimage#service-launch-fails for more information.\"\n",
            "    },\n",
            "    {\n",
            "      \"code\": \"AciDeploymentFailed\",\n",
            "      \"message\": \"Your container application crashed. Please follow the steps to debug:\n",
            "\t1. From the AML SDK, you can run print(service.get_logs()) if you have service object to fetch the logs. Please refer to https://aka.ms/debugimage#dockerlog for more information.\n",
            "\t2. If your container application crashed. This may be caused by errors in your scoring file's init() function. You can try debugging locally first. Please refer to https://aka.ms/debugimage#debug-locally for more information.\n",
            "\t3. You can also interactively debug your scoring file locally. Please refer to https://docs.microsoft.com/azure/machine-learning/how-to-debug-visual-studio-code#debug-and-troubleshoot-deployments for more information.\n",
            "\t4. View the diagnostic events to check status of container, it may help you to debug the issue.\n",
            "\"RestartCount\": 3\n",
            "\"CurrentState\": {\"state\":\"Waiting\",\"startTime\":null,\"exitCode\":null,\"finishTime\":null,\"detailStatus\":\"CrashLoopBackOff: Back-off restarting failed\"}\n",
            "\"PreviousState\": {\"state\":\"Terminated\",\"startTime\":\"2021-07-05T00:10:06.868Z\",\"exitCode\":111,\"finishTime\":\"2021-07-05T00:10:11.929Z\",\"detailStatus\":\"Error\"}\n",
            "\"Events\": null\n",
            "\"\n",
            "    }\n",
            "  ]\n",
            "}\n",
            "\n"
          ]
        },
        {
          "output_type": "error",
          "ename": "WebserviceException",
          "evalue": "WebserviceException:\n\tMessage: Service deployment polling reached non-successful terminal state, current service state: Failed\nOperation ID: 6e0f893f-a115-4ece-98bc-c571b2a538a0\nMore information can be found using '.get_logs()'\nError:\n{\n  \"code\": \"AciDeploymentFailed\",\n  \"statusCode\": 400,\n  \"message\": \"Aci Deployment failed with exception: Your container application crashed. This may be caused by errors in your scoring file's init() function.\n\t1. Please check the logs for your container instance: default-automl-v1. From the AML SDK, you can run print(service.get_logs()) if you have service object to fetch the logs.\n\t2. You can interactively debug your scoring file locally. Please refer to https://docs.microsoft.com/azure/machine-learning/how-to-debug-visual-studio-code#debug-and-troubleshoot-deployments for more information.\n\t3. You can also try to run image azudacitycr01.azurecr.io/azureml/azureml_2dc4016849bfdcec9f9d4bb2200f06f4 locally. Please refer to https://aka.ms/debugimage#service-launch-fails for more information.\",\n  \"details\": [\n    {\n      \"code\": \"CrashLoopBackOff\",\n      \"message\": \"Your container application crashed. This may be caused by errors in your scoring file's init() function.\n\t1. Please check the logs for your container instance: default-automl-v1. From the AML SDK, you can run print(service.get_logs()) if you have service object to fetch the logs.\n\t2. You can interactively debug your scoring file locally. Please refer to https://docs.microsoft.com/azure/machine-learning/how-to-debug-visual-studio-code#debug-and-troubleshoot-deployments for more information.\n\t3. You can also try to run image azudacitycr01.azurecr.io/azureml/azureml_2dc4016849bfdcec9f9d4bb2200f06f4 locally. Please refer to https://aka.ms/debugimage#service-launch-fails for more information.\"\n    },\n    {\n      \"code\": \"AciDeploymentFailed\",\n      \"message\": \"Your container application crashed. Please follow the steps to debug:\n\t1. From the AML SDK, you can run print(service.get_logs()) if you have service object to fetch the logs. Please refer to https://aka.ms/debugimage#dockerlog for more information.\n\t2. If your container application crashed. This may be caused by errors in your scoring file's init() function. You can try debugging locally first. Please refer to https://aka.ms/debugimage#debug-locally for more information.\n\t3. You can also interactively debug your scoring file locally. Please refer to https://docs.microsoft.com/azure/machine-learning/how-to-debug-visual-studio-code#debug-and-troubleshoot-deployments for more information.\n\t4. View the diagnostic events to check status of container, it may help you to debug the issue.\n\"RestartCount\": 3\n\"CurrentState\": {\"state\":\"Waiting\",\"startTime\":null,\"exitCode\":null,\"finishTime\":null,\"detailStatus\":\"CrashLoopBackOff: Back-off restarting failed\"}\n\"PreviousState\": {\"state\":\"Terminated\",\"startTime\":\"2021-07-05T00:10:06.868Z\",\"exitCode\":111,\"finishTime\":\"2021-07-05T00:10:11.929Z\",\"detailStatus\":\"Error\"}\n\"Events\": null\n\"\n    }\n  ]\n}\n\tInnerException None\n\tErrorResponse \n{\n    \"error\": {\n        \"message\": \"Service deployment polling reached non-successful terminal state, current service state: Failed\\nOperation ID: 6e0f893f-a115-4ece-98bc-c571b2a538a0\\nMore information can be found using '.get_logs()'\\nError:\\n{\\n  \\\"code\\\": \\\"AciDeploymentFailed\\\",\\n  \\\"statusCode\\\": 400,\\n  \\\"message\\\": \\\"Aci Deployment failed with exception: Your container application crashed. This may be caused by errors in your scoring file's init() function.\\n\\t1. Please check the logs for your container instance: default-automl-v1. From the AML SDK, you can run print(service.get_logs()) if you have service object to fetch the logs.\\n\\t2. You can interactively debug your scoring file locally. Please refer to https://docs.microsoft.com/azure/machine-learning/how-to-debug-visual-studio-code#debug-and-troubleshoot-deployments for more information.\\n\\t3. You can also try to run image azudacitycr01.azurecr.io/azureml/azureml_2dc4016849bfdcec9f9d4bb2200f06f4 locally. Please refer to https://aka.ms/debugimage#service-launch-fails for more information.\\\",\\n  \\\"details\\\": [\\n    {\\n      \\\"code\\\": \\\"CrashLoopBackOff\\\",\\n      \\\"message\\\": \\\"Your container application crashed. This may be caused by errors in your scoring file's init() function.\\n\\t1. Please check the logs for your container instance: default-automl-v1. From the AML SDK, you can run print(service.get_logs()) if you have service object to fetch the logs.\\n\\t2. You can interactively debug your scoring file locally. Please refer to https://docs.microsoft.com/azure/machine-learning/how-to-debug-visual-studio-code#debug-and-troubleshoot-deployments for more information.\\n\\t3. You can also try to run image azudacitycr01.azurecr.io/azureml/azureml_2dc4016849bfdcec9f9d4bb2200f06f4 locally. Please refer to https://aka.ms/debugimage#service-launch-fails for more information.\\\"\\n    },\\n    {\\n      \\\"code\\\": \\\"AciDeploymentFailed\\\",\\n      \\\"message\\\": \\\"Your container application crashed. Please follow the steps to debug:\\n\\t1. From the AML SDK, you can run print(service.get_logs()) if you have service object to fetch the logs. Please refer to https://aka.ms/debugimage#dockerlog for more information.\\n\\t2. If your container application crashed. This may be caused by errors in your scoring file's init() function. You can try debugging locally first. Please refer to https://aka.ms/debugimage#debug-locally for more information.\\n\\t3. You can also interactively debug your scoring file locally. Please refer to https://docs.microsoft.com/azure/machine-learning/how-to-debug-visual-studio-code#debug-and-troubleshoot-deployments for more information.\\n\\t4. View the diagnostic events to check status of container, it may help you to debug the issue.\\n\\\"RestartCount\\\": 3\\n\\\"CurrentState\\\": {\\\"state\\\":\\\"Waiting\\\",\\\"startTime\\\":null,\\\"exitCode\\\":null,\\\"finishTime\\\":null,\\\"detailStatus\\\":\\\"CrashLoopBackOff: Back-off restarting failed\\\"}\\n\\\"PreviousState\\\": {\\\"state\\\":\\\"Terminated\\\",\\\"startTime\\\":\\\"2021-07-05T00:10:06.868Z\\\",\\\"exitCode\\\":111,\\\"finishTime\\\":\\\"2021-07-05T00:10:11.929Z\\\",\\\"detailStatus\\\":\\\"Error\\\"}\\n\\\"Events\\\": null\\n\\\"\\n    }\\n  ]\\n}\"\n    }\n}",
          "traceback": [
            "\u001b[0;31m---------------------------------------------------------------------------\u001b[0m",
            "\u001b[0;31mWebserviceException\u001b[0m                       Traceback (most recent call last)",
            "\u001b[0;32m<ipython-input-25-deecaad5a878>\u001b[0m in \u001b[0;36m<module>\u001b[0;34m\u001b[0m\n\u001b[0;32m----> 1\u001b[0;31m \u001b[0mservice\u001b[0m\u001b[0;34m.\u001b[0m\u001b[0mwait_for_deployment\u001b[0m\u001b[0;34m(\u001b[0m\u001b[0mshow_output\u001b[0m\u001b[0;34m=\u001b[0m\u001b[0;32mTrue\u001b[0m\u001b[0;34m)\u001b[0m\u001b[0;34m\u001b[0m\u001b[0;34m\u001b[0m\u001b[0m\n\u001b[0m",
            "\u001b[0;32m/anaconda/envs/azureml_py36/lib/python3.6/site-packages/azureml/core/webservice/webservice.py\u001b[0m in \u001b[0;36mwait_for_deployment\u001b[0;34m(self, show_output, timeout_sec)\u001b[0m\n\u001b[1;32m    923\u001b[0m                                           \u001b[0;34m'Error:\\n'\u001b[0m\u001b[0;34m\u001b[0m\u001b[0;34m\u001b[0m\u001b[0m\n\u001b[1;32m    924\u001b[0m                                           '{}'.format(self.state, self._operation_endpoint.split('/')[-1],\n\u001b[0;32m--> 925\u001b[0;31m                                                       logs_response, format_error_response), logger=module_logger)\n\u001b[0m\u001b[1;32m    926\u001b[0m             print('{} service creation operation finished, operation \"{}\"'.format(self._webservice_type,\n\u001b[1;32m    927\u001b[0m                                                                                   operation_state))\n",
            "\u001b[0;31mWebserviceException\u001b[0m: WebserviceException:\n\tMessage: Service deployment polling reached non-successful terminal state, current service state: Failed\nOperation ID: 6e0f893f-a115-4ece-98bc-c571b2a538a0\nMore information can be found using '.get_logs()'\nError:\n{\n  \"code\": \"AciDeploymentFailed\",\n  \"statusCode\": 400,\n  \"message\": \"Aci Deployment failed with exception: Your container application crashed. This may be caused by errors in your scoring file's init() function.\n\t1. Please check the logs for your container instance: default-automl-v1. From the AML SDK, you can run print(service.get_logs()) if you have service object to fetch the logs.\n\t2. You can interactively debug your scoring file locally. Please refer to https://docs.microsoft.com/azure/machine-learning/how-to-debug-visual-studio-code#debug-and-troubleshoot-deployments for more information.\n\t3. You can also try to run image azudacitycr01.azurecr.io/azureml/azureml_2dc4016849bfdcec9f9d4bb2200f06f4 locally. Please refer to https://aka.ms/debugimage#service-launch-fails for more information.\",\n  \"details\": [\n    {\n      \"code\": \"CrashLoopBackOff\",\n      \"message\": \"Your container application crashed. This may be caused by errors in your scoring file's init() function.\n\t1. Please check the logs for your container instance: default-automl-v1. From the AML SDK, you can run print(service.get_logs()) if you have service object to fetch the logs.\n\t2. You can interactively debug your scoring file locally. Please refer to https://docs.microsoft.com/azure/machine-learning/how-to-debug-visual-studio-code#debug-and-troubleshoot-deployments for more information.\n\t3. You can also try to run image azudacitycr01.azurecr.io/azureml/azureml_2dc4016849bfdcec9f9d4bb2200f06f4 locally. Please refer to https://aka.ms/debugimage#service-launch-fails for more information.\"\n    },\n    {\n      \"code\": \"AciDeploymentFailed\",\n      \"message\": \"Your container application crashed. Please follow the steps to debug:\n\t1. From the AML SDK, you can run print(service.get_logs()) if you have service object to fetch the logs. Please refer to https://aka.ms/debugimage#dockerlog for more information.\n\t2. If your container application crashed. This may be caused by errors in your scoring file's init() function. You can try debugging locally first. Please refer to https://aka.ms/debugimage#debug-locally for more information.\n\t3. You can also interactively debug your scoring file locally. Please refer to https://docs.microsoft.com/azure/machine-learning/how-to-debug-visual-studio-code#debug-and-troubleshoot-deployments for more information.\n\t4. View the diagnostic events to check status of container, it may help you to debug the issue.\n\"RestartCount\": 3\n\"CurrentState\": {\"state\":\"Waiting\",\"startTime\":null,\"exitCode\":null,\"finishTime\":null,\"detailStatus\":\"CrashLoopBackOff: Back-off restarting failed\"}\n\"PreviousState\": {\"state\":\"Terminated\",\"startTime\":\"2021-07-05T00:10:06.868Z\",\"exitCode\":111,\"finishTime\":\"2021-07-05T00:10:11.929Z\",\"detailStatus\":\"Error\"}\n\"Events\": null\n\"\n    }\n  ]\n}\n\tInnerException None\n\tErrorResponse \n{\n    \"error\": {\n        \"message\": \"Service deployment polling reached non-successful terminal state, current service state: Failed\\nOperation ID: 6e0f893f-a115-4ece-98bc-c571b2a538a0\\nMore information can be found using '.get_logs()'\\nError:\\n{\\n  \\\"code\\\": \\\"AciDeploymentFailed\\\",\\n  \\\"statusCode\\\": 400,\\n  \\\"message\\\": \\\"Aci Deployment failed with exception: Your container application crashed. This may be caused by errors in your scoring file's init() function.\\n\\t1. Please check the logs for your container instance: default-automl-v1. From the AML SDK, you can run print(service.get_logs()) if you have service object to fetch the logs.\\n\\t2. You can interactively debug your scoring file locally. Please refer to https://docs.microsoft.com/azure/machine-learning/how-to-debug-visual-studio-code#debug-and-troubleshoot-deployments for more information.\\n\\t3. You can also try to run image azudacitycr01.azurecr.io/azureml/azureml_2dc4016849bfdcec9f9d4bb2200f06f4 locally. Please refer to https://aka.ms/debugimage#service-launch-fails for more information.\\\",\\n  \\\"details\\\": [\\n    {\\n      \\\"code\\\": \\\"CrashLoopBackOff\\\",\\n      \\\"message\\\": \\\"Your container application crashed. This may be caused by errors in your scoring file's init() function.\\n\\t1. Please check the logs for your container instance: default-automl-v1. From the AML SDK, you can run print(service.get_logs()) if you have service object to fetch the logs.\\n\\t2. You can interactively debug your scoring file locally. Please refer to https://docs.microsoft.com/azure/machine-learning/how-to-debug-visual-studio-code#debug-and-troubleshoot-deployments for more information.\\n\\t3. You can also try to run image azudacitycr01.azurecr.io/azureml/azureml_2dc4016849bfdcec9f9d4bb2200f06f4 locally. Please refer to https://aka.ms/debugimage#service-launch-fails for more information.\\\"\\n    },\\n    {\\n      \\\"code\\\": \\\"AciDeploymentFailed\\\",\\n      \\\"message\\\": \\\"Your container application crashed. Please follow the steps to debug:\\n\\t1. From the AML SDK, you can run print(service.get_logs()) if you have service object to fetch the logs. Please refer to https://aka.ms/debugimage#dockerlog for more information.\\n\\t2. If your container application crashed. This may be caused by errors in your scoring file's init() function. You can try debugging locally first. Please refer to https://aka.ms/debugimage#debug-locally for more information.\\n\\t3. You can also interactively debug your scoring file locally. Please refer to https://docs.microsoft.com/azure/machine-learning/how-to-debug-visual-studio-code#debug-and-troubleshoot-deployments for more information.\\n\\t4. View the diagnostic events to check status of container, it may help you to debug the issue.\\n\\\"RestartCount\\\": 3\\n\\\"CurrentState\\\": {\\\"state\\\":\\\"Waiting\\\",\\\"startTime\\\":null,\\\"exitCode\\\":null,\\\"finishTime\\\":null,\\\"detailStatus\\\":\\\"CrashLoopBackOff: Back-off restarting failed\\\"}\\n\\\"PreviousState\\\": {\\\"state\\\":\\\"Terminated\\\",\\\"startTime\\\":\\\"2021-07-05T00:10:06.868Z\\\",\\\"exitCode\\\":111,\\\"finishTime\\\":\\\"2021-07-05T00:10:11.929Z\\\",\\\"detailStatus\\\":\\\"Error\\\"}\\n\\\"Events\\\": null\\n\\\"\\n    }\\n  ]\\n}\"\n    }\n}"
          ]
        }
      ],
      "execution_count": 25,
      "metadata": {
        "colab": {
          "base_uri": "https://localhost:8080/",
          "height": 1000
        },
        "id": "M6J9I4EEah3N",
        "outputId": "4e8a1eb6-316f-4694-d8a0-18bcdcde8414"
      }
    },
    {
      "cell_type": "code",
      "source": [
        "print(service.get_logs())"
      ],
      "outputs": [
        {
          "output_type": "stream",
          "name": "stdout",
          "text": [
            "None\n"
          ]
        }
      ],
      "execution_count": 80,
      "metadata": {
        "collapsed": true,
        "jupyter": {
          "source_hidden": false,
          "outputs_hidden": false
        },
        "nteract": {
          "transient": {
            "deleting": false
          }
        },
        "gather": {
          "logged": 1625437653359
        }
      }
    },
    {
      "cell_type": "code",
      "source": [
        "print(service.scoring_uri)\n",
        "print(service.swagger_uri)"
      ],
      "outputs": [],
      "execution_count": null,
      "metadata": {
        "id": "FC__ZIIsalHO"
      }
    },
    {
      "cell_type": "markdown",
      "source": [
        "TODO: In the cell below, send a request to the web service you deployed to test it."
      ],
      "metadata": {
        "collapsed": true,
        "gather": {
          "logged": 1598431657736
        },
        "jupyter": {
          "outputs_hidden": false,
          "source_hidden": false
        },
        "nteract": {
          "transient": {
            "deleting": false
          }
        },
        "id": "SEAQPzElSuSr"
      }
    },
    {
      "cell_type": "code",
      "source": [],
      "outputs": [],
      "execution_count": null,
      "metadata": {
        "gather": {
          "logged": 1598432707604
        },
        "jupyter": {
          "outputs_hidden": false,
          "source_hidden": false
        },
        "nteract": {
          "transient": {
            "deleting": false
          }
        },
        "id": "H11If_ZMSuSr"
      }
    },
    {
      "cell_type": "markdown",
      "source": [
        "TODO: In the cell below, print the logs of the web service and delete the service"
      ],
      "metadata": {
        "collapsed": true,
        "gather": {
          "logged": 1598432765711
        },
        "jupyter": {
          "outputs_hidden": false,
          "source_hidden": false
        },
        "nteract": {
          "transient": {
            "deleting": false
          }
        },
        "id": "aATkthRFSuSr"
      }
    },
    {
      "cell_type": "code",
      "source": [],
      "outputs": [],
      "execution_count": null,
      "metadata": {
        "jupyter": {
          "outputs_hidden": false,
          "source_hidden": false
        },
        "nteract": {
          "transient": {
            "deleting": false
          }
        },
        "id": "ogw5IEvhSuSs"
      }
    }
  ],
  "metadata": {
    "kernel_info": {
      "name": "python3"
    },
    "kernelspec": {
      "name": "python3",
      "language": "python",
      "display_name": "Python 3"
    },
    "language_info": {
      "name": "python",
      "version": "3.6.9",
      "mimetype": "text/x-python",
      "codemirror_mode": {
        "name": "ipython",
        "version": 3
      },
      "pygments_lexer": "ipython3",
      "nbconvert_exporter": "python",
      "file_extension": ".py"
    },
    "nteract": {
      "version": "nteract-front-end@1.0.0"
    },
    "colab": {
      "name": "automl.ipynb",
      "provenance": []
    },
    "microsoft": {
      "host": {
        "AzureML": {
          "notebookHasBeenCompleted": true
        }
      }
    }
  },
  "nbformat": 4,
  "nbformat_minor": 0
}