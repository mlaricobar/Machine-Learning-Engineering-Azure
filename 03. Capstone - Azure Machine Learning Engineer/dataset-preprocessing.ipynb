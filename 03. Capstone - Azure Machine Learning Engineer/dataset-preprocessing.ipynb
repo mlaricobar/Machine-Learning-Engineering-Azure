{
  "nbformat": 4,
  "nbformat_minor": 0,
  "metadata": {
    "colab": {
      "name": "Copy of Copy of Welcome To Colaboratory",
      "provenance": [],
<<<<<<< HEAD
      "collapsed_sections": []
=======
      "collapsed_sections": [],
      "include_colab_link": true
>>>>>>> c7a1cd32d7876197d3db9551d70f7043eb4feb29
    },
    "kernelspec": {
      "display_name": "Python 3",
      "name": "python3"
    }
  },
  "cells": [
    {
      "cell_type": "markdown",
      "metadata": {
<<<<<<< HEAD
=======
        "id": "view-in-github",
        "colab_type": "text"
      },
      "source": [
        "<a href=\"https://colab.research.google.com/github/mlaricobar/Machine-Learning-Engineering-Azure/blob/main/03.%20Capstone%20-%20Azure%20Machine%20Learning%20Engineer/dataset-preprocessing.ipynb\" target=\"_parent\"><img src=\"https://colab.research.google.com/assets/colab-badge.svg\" alt=\"Open In Colab\"/></a>"
      ]
    },
    {
      "cell_type": "markdown",
      "metadata": {
>>>>>>> c7a1cd32d7876197d3db9551d70f7043eb4feb29
        "id": "YxxJTgsCqdQn"
      },
      "source": [
        "# Feature Engineering"
      ]
    },
    {
      "cell_type": "code",
      "metadata": {
        "id": "VLUmnZDrqe0e"
      },
      "source": [
        "from google.colab import drive, files\n",
        "import pandas as pd\n",
        "from datetime import datetime\n",
        "from dateutil import relativedelta"
      ],
      "execution_count": 1,
      "outputs": []
    },
    {
      "cell_type": "code",
      "metadata": {
        "id": "If5QUE85qfhC",
        "colab": {
          "base_uri": "https://localhost:8080/"
        },
        "outputId": "ae1f0b42-5120-4f1f-b57f-107ea90ba4f4"
      },
      "source": [
        "\n",
        "drive.mount('/gdrive')"
      ],
      "execution_count": 2,
      "outputs": [
        {
          "output_type": "stream",
          "text": [
            "Mounted at /gdrive\n"
          ],
          "name": "stdout"
        }
      ]
    },
    {
      "cell_type": "code",
      "metadata": {
        "id": "oTaBGhKUqgoW",
        "colab": {
          "base_uri": "https://localhost:8080/"
        },
        "outputId": "6eaeb874-56c8-4bd4-b083-e7feb8c967cb"
      },
      "source": [
        "%cd /gdrive/'My Drive'/Competencias/'[02] Interbank-2020'\n",
        "!ls -lh '[00] Data'"
      ],
      "execution_count": 3,
      "outputs": [
        {
          "output_type": "stream",
          "text": [
            "/gdrive/My Drive/Competencias/[02] Interbank-2020\n",
            "total 5.1G\n",
            "-rw------- 1 root root 979M Dec 12  2020 censo_test.csv\n",
            "-rw------- 1 root root 748M Dec 12  2020 censo_train.csv\n",
            "-rw------- 1 root root  998 Dec 12  2020 productos.csv\n",
            "-rw------- 1 root root 1.7G Dec 12  2020 rcc_test.csv\n",
            "-rw------- 1 root root 1.4G Dec 12  2020 rcc_train.csv\n",
            "-rw------- 1 root root 3.3M Dec 12  2020 sample_submission.csv\n",
            "-rw------- 1 root root  30M Dec 12  2020 se_test.csv\n",
            "-rw------- 1 root root  28M Dec 12  2020 se_train.csv\n",
            "-rw------- 1 root root 122M Dec 12  2020 sunat_test.csv\n",
            "-rw------- 1 root root 106M Dec 12  2020 sunat_train.csv\n",
            "-rw------- 1 root root 3.0M Dec 12  2020 y_train.csv\n"
          ],
          "name": "stdout"
        }
      ]
    },
    {
      "cell_type": "code",
      "metadata": {
        "id": "XOPmAEl6q9MD"
      },
      "source": [
        "def optimizar_df(df):\n",
        "  for col_ in df.select_dtypes(include=[int]).columns:\n",
        "    df[col_] = pd.to_numeric(df[col_], downcast=\"unsigned\")\n",
        "\n",
        "  for col_ in df.select_dtypes(include=[float]).columns:\n",
        "    df[col_] = pd.to_numeric(df[col_], downcast=\"float\")\n",
        "  \n",
        "  return df"
      ],
      "execution_count": 4,
      "outputs": []
    },
    {
      "cell_type": "markdown",
      "metadata": {
        "id": "NgUPLWDk4QZS"
      },
      "source": [
        "## Dataset Base"
      ]
    },
    {
      "cell_type": "code",
      "metadata": {
        "id": "sndstOVCyo8U"
      },
      "source": [
        "df_base_train = optimizar_df(pd.read_csv(\"[00] Data/y_train.csv\"))\n",
        "df_base_test = optimizar_df(pd.read_csv(\"[00] Data/sample_submission.csv\"))"
      ],
      "execution_count": 5,
      "outputs": []
    },
    {
      "cell_type": "code",
      "metadata": {
        "id": "0s7HRv44R75-",
        "colab": {
          "base_uri": "https://localhost:8080/",
          "height": 205
        },
        "outputId": "1f8fb252-bc03-4128-8cd4-33301492d85e"
      },
      "source": [
        "df_base_train.head()"
      ],
      "execution_count": 6,
      "outputs": [
        {
          "output_type": "execute_result",
          "data": {
            "text/html": [
              "<div>\n",
              "<style scoped>\n",
              "    .dataframe tbody tr th:only-of-type {\n",
              "        vertical-align: middle;\n",
              "    }\n",
              "\n",
              "    .dataframe tbody tr th {\n",
              "        vertical-align: top;\n",
              "    }\n",
              "\n",
              "    .dataframe thead th {\n",
              "        text-align: right;\n",
              "    }\n",
              "</style>\n",
              "<table border=\"1\" class=\"dataframe\">\n",
              "  <thead>\n",
              "    <tr style=\"text-align: right;\">\n",
              "      <th></th>\n",
              "      <th>key_value</th>\n",
              "      <th>target</th>\n",
              "    </tr>\n",
              "  </thead>\n",
              "  <tbody>\n",
              "    <tr>\n",
              "      <th>0</th>\n",
              "      <td>0</td>\n",
              "      <td>0</td>\n",
              "    </tr>\n",
              "    <tr>\n",
              "      <th>1</th>\n",
              "      <td>1</td>\n",
              "      <td>0</td>\n",
              "    </tr>\n",
              "    <tr>\n",
              "      <th>2</th>\n",
              "      <td>2</td>\n",
              "      <td>0</td>\n",
              "    </tr>\n",
              "    <tr>\n",
              "      <th>3</th>\n",
              "      <td>3</td>\n",
              "      <td>0</td>\n",
              "    </tr>\n",
              "    <tr>\n",
              "      <th>4</th>\n",
              "      <td>4</td>\n",
              "      <td>1</td>\n",
              "    </tr>\n",
              "  </tbody>\n",
              "</table>\n",
              "</div>"
            ],
            "text/plain": [
              "   key_value  target\n",
              "0          0       0\n",
              "1          1       0\n",
              "2          2       0\n",
              "3          3       0\n",
              "4          4       1"
            ]
          },
          "metadata": {
            "tags": []
          },
          "execution_count": 6
        }
      ]
    },
    {
      "cell_type": "markdown",
      "metadata": {
        "id": "xiSwJhvzxwDP"
      },
      "source": [
        "## Dataset Socio-Demográfico"
      ]
    },
    {
      "cell_type": "code",
      "metadata": {
        "id": "LvFWUizWurhZ"
      },
      "source": [
        "df_se_train = optimizar_df(pd.read_csv(\"[00] Data/se_train.csv\"))\n",
        "df_se_test = optimizar_df(pd.read_csv(\"[00] Data/se_test.csv\"))"
      ],
      "execution_count": 7,
      "outputs": []
    },
    {
      "cell_type": "code",
      "metadata": {
        "id": "5sI6XxSgz7jd"
      },
      "source": [
        "#df_se_train.to_csv(\"[01] Intermediate/ds_se.csv\", index=False)\n",
        "#df_se_test.to_csv(\"[01] Intermediate/ds_se_test.csv\", index=False)"
      ],
      "execution_count": null,
      "outputs": []
    },
    {
      "cell_type": "code",
      "metadata": {
        "id": "fdB45Jki4snJ"
      },
      "source": [
        "df_se_train = df_se_train[[\"key_value\", \"edad\", \"sexo\", \"est_cvl\", \"sit_lab\", \"ctd_hijos\", \"flg_sin_email\", \"ctd_veh\", \"tip_lvledu\"]]\n",
        "df_se_test = df_se_test[[\"key_value\", \"edad\", \"sexo\", \"est_cvl\", \"sit_lab\", \"ctd_hijos\", \"flg_sin_email\", \"ctd_veh\", \"tip_lvledu\"]]"
      ],
      "execution_count": 8,
      "outputs": []
    },
    {
      "cell_type": "markdown",
      "metadata": {
        "id": "Q0ApGQ8SqwWW"
      },
      "source": [
        "## Dataset RCC"
      ]
    },
    {
      "cell_type": "code",
      "metadata": {
        "id": "hcaI9FoaqtHB"
      },
      "source": [
        "df_rcc_train = optimizar_df(pd.read_csv(\"[00] Data/rcc_train.csv\"))\n",
        "df_rcc_test = optimizar_df(pd.read_csv(\"[00] Data/rcc_test.csv\"))"
      ],
      "execution_count": 9,
      "outputs": []
    },
    {
      "cell_type": "code",
      "metadata": {
        "id": "P0fXCtZOnTe4"
      },
      "source": [
        "df_rcc_train[\"saldo\"] = df_rcc_train[\"saldo\"] + 1\n",
        "df_rcc_test[\"saldo\"] = df_rcc_test[\"saldo\"] + 1"
      ],
      "execution_count": 10,
      "outputs": []
    },
    {
      "cell_type": "code",
      "metadata": {
        "id": "hCTZ5gi1RXJL",
        "colab": {
          "base_uri": "https://localhost:8080/",
          "height": 205
        },
        "outputId": "e03f7dc7-fa08-4d21-a521-a5fe2a095095"
      },
      "source": [
        "df_rcc_train.head()"
      ],
      "execution_count": 11,
      "outputs": [
        {
          "output_type": "execute_result",
          "data": {
            "text/html": [
              "<div>\n",
              "<style scoped>\n",
              "    .dataframe tbody tr th:only-of-type {\n",
              "        vertical-align: middle;\n",
              "    }\n",
              "\n",
              "    .dataframe tbody tr th {\n",
              "        vertical-align: top;\n",
              "    }\n",
              "\n",
              "    .dataframe thead th {\n",
              "        text-align: right;\n",
              "    }\n",
              "</style>\n",
              "<table border=\"1\" class=\"dataframe\">\n",
              "  <thead>\n",
              "    <tr style=\"text-align: right;\">\n",
              "      <th></th>\n",
              "      <th>codmes</th>\n",
              "      <th>key_value</th>\n",
              "      <th>condicion</th>\n",
              "      <th>tipo_credito</th>\n",
              "      <th>cod_instit_financiera</th>\n",
              "      <th>saldo</th>\n",
              "      <th>PRODUCTO</th>\n",
              "      <th>RIESGO_DIRECTO</th>\n",
              "      <th>COD_CLASIFICACION_DEUDOR</th>\n",
              "    </tr>\n",
              "  </thead>\n",
              "  <tbody>\n",
              "    <tr>\n",
              "      <th>0</th>\n",
              "      <td>201711</td>\n",
              "      <td>4</td>\n",
              "      <td>0</td>\n",
              "      <td>12</td>\n",
              "      <td>33</td>\n",
              "      <td>0.927399</td>\n",
              "      <td>6</td>\n",
              "      <td>-1</td>\n",
              "      <td>0</td>\n",
              "    </tr>\n",
              "    <tr>\n",
              "      <th>1</th>\n",
              "      <td>201711</td>\n",
              "      <td>4</td>\n",
              "      <td>0</td>\n",
              "      <td>12</td>\n",
              "      <td>33</td>\n",
              "      <td>0.929392</td>\n",
              "      <td>7</td>\n",
              "      <td>-1</td>\n",
              "      <td>0</td>\n",
              "    </tr>\n",
              "    <tr>\n",
              "      <th>2</th>\n",
              "      <td>201711</td>\n",
              "      <td>4</td>\n",
              "      <td>0</td>\n",
              "      <td>12</td>\n",
              "      <td>61</td>\n",
              "      <td>0.947946</td>\n",
              "      <td>5</td>\n",
              "      <td>-1</td>\n",
              "      <td>0</td>\n",
              "    </tr>\n",
              "    <tr>\n",
              "      <th>3</th>\n",
              "      <td>201711</td>\n",
              "      <td>4</td>\n",
              "      <td>0</td>\n",
              "      <td>11</td>\n",
              "      <td>32</td>\n",
              "      <td>0.927544</td>\n",
              "      <td>8</td>\n",
              "      <td>1</td>\n",
              "      <td>0</td>\n",
              "    </tr>\n",
              "    <tr>\n",
              "      <th>4</th>\n",
              "      <td>201711</td>\n",
              "      <td>4</td>\n",
              "      <td>0</td>\n",
              "      <td>12</td>\n",
              "      <td>61</td>\n",
              "      <td>0.942123</td>\n",
              "      <td>0</td>\n",
              "      <td>1</td>\n",
              "      <td>0</td>\n",
              "    </tr>\n",
              "  </tbody>\n",
              "</table>\n",
              "</div>"
            ],
            "text/plain": [
              "   codmes  key_value  ...  RIESGO_DIRECTO  COD_CLASIFICACION_DEUDOR\n",
              "0  201711          4  ...              -1                         0\n",
              "1  201711          4  ...              -1                         0\n",
              "2  201711          4  ...              -1                         0\n",
              "3  201711          4  ...               1                         0\n",
              "4  201711          4  ...               1                         0\n",
              "\n",
              "[5 rows x 9 columns]"
            ]
          },
          "metadata": {
            "tags": []
          },
          "execution_count": 11
        }
      ]
    },
    {
      "cell_type": "code",
      "metadata": {
        "id": "26oH1PkwRgrr"
      },
      "source": [
        "df_rcc_train_agg = (df_rcc_train.groupby([\"key_value\", \"codmes\"], as_index=False)\n",
        "                                .agg({\n",
        "                                        \"saldo\": [\"count\", \"sum\", \"min\", \"max\", \"mean\"],\n",
        "                                        \"condicion\": [\"min\", \"max\", \"mean\"]\n",
        "                                }))"
      ],
      "execution_count": 12,
      "outputs": []
    },
    {
      "cell_type": "code",
      "metadata": {
        "id": "SIp33p2nRgoq"
      },
      "source": [
        "df_rcc_test_agg = (df_rcc_test.groupby([\"key_value\", \"codmes\"], as_index=False)\n",
        "                                .agg({\n",
        "                                        \"saldo\": [\"count\", \"sum\", \"min\", \"max\", \"mean\"],\n",
        "                                        \"condicion\": [\"min\", \"max\", \"mean\"]\n",
        "                                }))"
      ],
      "execution_count": 13,
      "outputs": []
    },
    {
      "cell_type": "code",
      "metadata": {
        "id": "sXy_m9RvRgkV"
      },
      "source": [
        "df_rcc_train_agg.columns = [\"_\".join(c) if c[-1] != \"\" else c[0] for c in df_rcc_train_agg.columns]\n",
        "df_rcc_test_agg.columns = [\"_\".join(c) if c[-1] != \"\" else c[0] for c in df_rcc_test_agg.columns]"
      ],
      "execution_count": 14,
      "outputs": []
    },
    {
      "cell_type": "code",
      "metadata": {
        "id": "YjvosQ67RggS",
        "colab": {
          "base_uri": "https://localhost:8080/",
          "height": 205
        },
        "outputId": "a3606238-182d-4fe3-b9d5-f2daa5794d8b"
      },
      "source": [
        "df_rcc_train_agg.head()"
      ],
      "execution_count": 15,
      "outputs": [
        {
          "output_type": "execute_result",
          "data": {
            "text/html": [
              "<div>\n",
              "<style scoped>\n",
              "    .dataframe tbody tr th:only-of-type {\n",
              "        vertical-align: middle;\n",
              "    }\n",
              "\n",
              "    .dataframe tbody tr th {\n",
              "        vertical-align: top;\n",
              "    }\n",
              "\n",
              "    .dataframe thead th {\n",
              "        text-align: right;\n",
              "    }\n",
              "</style>\n",
              "<table border=\"1\" class=\"dataframe\">\n",
              "  <thead>\n",
              "    <tr style=\"text-align: right;\">\n",
              "      <th></th>\n",
              "      <th>key_value</th>\n",
              "      <th>codmes</th>\n",
              "      <th>saldo_count</th>\n",
              "      <th>saldo_sum</th>\n",
              "      <th>saldo_min</th>\n",
              "      <th>saldo_max</th>\n",
              "      <th>saldo_mean</th>\n",
              "      <th>condicion_min</th>\n",
              "      <th>condicion_max</th>\n",
              "      <th>condicion_mean</th>\n",
              "    </tr>\n",
              "  </thead>\n",
              "  <tbody>\n",
              "    <tr>\n",
              "      <th>0</th>\n",
              "      <td>0</td>\n",
              "      <td>201703</td>\n",
              "      <td>4</td>\n",
              "      <td>3.777921</td>\n",
              "      <td>0.927186</td>\n",
              "      <td>0.961819</td>\n",
              "      <td>0.944480</td>\n",
              "      <td>0</td>\n",
              "      <td>0</td>\n",
              "      <td>0.0</td>\n",
              "    </tr>\n",
              "    <tr>\n",
              "      <th>1</th>\n",
              "      <td>0</td>\n",
              "      <td>201704</td>\n",
              "      <td>5</td>\n",
              "      <td>4.705365</td>\n",
              "      <td>0.927186</td>\n",
              "      <td>0.961819</td>\n",
              "      <td>0.941073</td>\n",
              "      <td>0</td>\n",
              "      <td>0</td>\n",
              "      <td>0.0</td>\n",
              "    </tr>\n",
              "    <tr>\n",
              "      <th>2</th>\n",
              "      <td>0</td>\n",
              "      <td>201705</td>\n",
              "      <td>5</td>\n",
              "      <td>4.705208</td>\n",
              "      <td>0.927186</td>\n",
              "      <td>0.961819</td>\n",
              "      <td>0.941042</td>\n",
              "      <td>0</td>\n",
              "      <td>0</td>\n",
              "      <td>0.0</td>\n",
              "    </tr>\n",
              "    <tr>\n",
              "      <th>3</th>\n",
              "      <td>0</td>\n",
              "      <td>201706</td>\n",
              "      <td>5</td>\n",
              "      <td>4.705231</td>\n",
              "      <td>0.927186</td>\n",
              "      <td>0.961819</td>\n",
              "      <td>0.941046</td>\n",
              "      <td>0</td>\n",
              "      <td>0</td>\n",
              "      <td>0.0</td>\n",
              "    </tr>\n",
              "    <tr>\n",
              "      <th>4</th>\n",
              "      <td>0</td>\n",
              "      <td>201707</td>\n",
              "      <td>5</td>\n",
              "      <td>4.705533</td>\n",
              "      <td>0.927186</td>\n",
              "      <td>0.961819</td>\n",
              "      <td>0.941107</td>\n",
              "      <td>0</td>\n",
              "      <td>0</td>\n",
              "      <td>0.0</td>\n",
              "    </tr>\n",
              "  </tbody>\n",
              "</table>\n",
              "</div>"
            ],
            "text/plain": [
              "   key_value  codmes  saldo_count  ...  condicion_min  condicion_max  condicion_mean\n",
              "0          0  201703            4  ...              0              0             0.0\n",
              "1          0  201704            5  ...              0              0             0.0\n",
              "2          0  201705            5  ...              0              0             0.0\n",
              "3          0  201706            5  ...              0              0             0.0\n",
              "4          0  201707            5  ...              0              0             0.0\n",
              "\n",
              "[5 rows x 10 columns]"
            ]
          },
          "metadata": {
            "tags": []
          },
          "execution_count": 15
        }
      ]
    },
    {
      "cell_type": "code",
      "metadata": {
        "id": "brwOSejZxmu2"
      },
      "source": [
        "df_rcc_train_agg_2 = df_rcc_train_agg.groupby([\"key_value\"], as_index=False).agg({\"saldo_count\": [\"mean\", \"sum\", \"min\", \"max\"],\n",
        "                                                             \"saldo_sum\": [\"mean\", \"sum\", \"min\", \"max\"],\n",
        "                                                             \"saldo_min\": [\"min\", \"mean\"],\n",
        "                                                             \"saldo_max\": [\"max\", \"mean\"],\n",
        "                                                             \"condicion_min\": [\"min\", \"mean\"],\n",
        "                                                             \"condicion_max\": [\"max\", \"mean\"],\n",
        "                                                             \"condicion_mean\": [\"mean\"]\n",
        "                                                             })"
      ],
      "execution_count": 16,
      "outputs": []
    },
    {
      "cell_type": "code",
      "metadata": {
        "id": "uqiGGtGzxmsJ"
      },
      "source": [
        "df_rcc_test_agg_2 = df_rcc_test_agg.groupby([\"key_value\"], as_index=False).agg({\"saldo_count\": [\"mean\", \"sum\", \"min\", \"max\"],\n",
        "                                                             \"saldo_sum\": [\"mean\", \"sum\", \"min\", \"max\"],\n",
        "                                                             \"saldo_min\": [\"min\", \"mean\"],\n",
        "                                                             \"saldo_max\": [\"max\", \"mean\"],\n",
        "                                                             \"condicion_min\": [\"min\", \"mean\"],\n",
        "                                                             \"condicion_max\": [\"max\", \"mean\"],\n",
        "                                                             \"condicion_mean\": [\"mean\"]\n",
        "                                                             })"
      ],
      "execution_count": 17,
      "outputs": []
    },
    {
      "cell_type": "code",
      "metadata": {
        "colab": {
          "base_uri": "https://localhost:8080/",
          "height": 236
        },
        "id": "5rF8rhpxy0Kk",
        "outputId": "0b5ca668-5c7d-4e7a-caa2-fe3580c4ac3b"
      },
      "source": [
        "df_rcc_train_agg_2.head()"
      ],
      "execution_count": 18,
      "outputs": [
        {
          "output_type": "execute_result",
          "data": {
            "text/html": [
              "<div>\n",
              "<style scoped>\n",
              "    .dataframe tbody tr th:only-of-type {\n",
              "        vertical-align: middle;\n",
              "    }\n",
              "\n",
              "    .dataframe tbody tr th {\n",
              "        vertical-align: top;\n",
              "    }\n",
              "\n",
              "    .dataframe thead tr th {\n",
              "        text-align: left;\n",
              "    }\n",
              "</style>\n",
              "<table border=\"1\" class=\"dataframe\">\n",
              "  <thead>\n",
              "    <tr>\n",
              "      <th></th>\n",
              "      <th>key_value</th>\n",
              "      <th colspan=\"4\" halign=\"left\">saldo_count</th>\n",
              "      <th colspan=\"4\" halign=\"left\">saldo_sum</th>\n",
              "      <th colspan=\"2\" halign=\"left\">saldo_min</th>\n",
              "      <th colspan=\"2\" halign=\"left\">saldo_max</th>\n",
              "      <th colspan=\"2\" halign=\"left\">condicion_min</th>\n",
              "      <th colspan=\"2\" halign=\"left\">condicion_max</th>\n",
              "      <th>condicion_mean</th>\n",
              "    </tr>\n",
              "    <tr>\n",
              "      <th></th>\n",
              "      <th></th>\n",
              "      <th>mean</th>\n",
              "      <th>sum</th>\n",
              "      <th>min</th>\n",
              "      <th>max</th>\n",
              "      <th>mean</th>\n",
              "      <th>sum</th>\n",
              "      <th>min</th>\n",
              "      <th>max</th>\n",
              "      <th>min</th>\n",
              "      <th>mean</th>\n",
              "      <th>max</th>\n",
              "      <th>mean</th>\n",
              "      <th>min</th>\n",
              "      <th>mean</th>\n",
              "      <th>max</th>\n",
              "      <th>mean</th>\n",
              "      <th>mean</th>\n",
              "    </tr>\n",
              "  </thead>\n",
              "  <tbody>\n",
              "    <tr>\n",
              "      <th>0</th>\n",
              "      <td>0</td>\n",
              "      <td>4.416667</td>\n",
              "      <td>53</td>\n",
              "      <td>3</td>\n",
              "      <td>7</td>\n",
              "      <td>4.245681</td>\n",
              "      <td>50.948174</td>\n",
              "      <td>2.984509</td>\n",
              "      <td>6.829334</td>\n",
              "      <td>0.927141</td>\n",
              "      <td>0.936001</td>\n",
              "      <td>1.072672</td>\n",
              "      <td>1.014399</td>\n",
              "      <td>0</td>\n",
              "      <td>0.0</td>\n",
              "      <td>0</td>\n",
              "      <td>0.000</td>\n",
              "      <td>0.000000</td>\n",
              "    </tr>\n",
              "    <tr>\n",
              "      <th>1</th>\n",
              "      <td>1</td>\n",
              "      <td>2.666667</td>\n",
              "      <td>8</td>\n",
              "      <td>2</td>\n",
              "      <td>4</td>\n",
              "      <td>2.486586</td>\n",
              "      <td>7.459759</td>\n",
              "      <td>1.864763</td>\n",
              "      <td>3.729381</td>\n",
              "      <td>0.927119</td>\n",
              "      <td>0.927238</td>\n",
              "      <td>0.938372</td>\n",
              "      <td>0.938051</td>\n",
              "      <td>0</td>\n",
              "      <td>0.0</td>\n",
              "      <td>0</td>\n",
              "      <td>0.000</td>\n",
              "      <td>0.000000</td>\n",
              "    </tr>\n",
              "    <tr>\n",
              "      <th>2</th>\n",
              "      <td>2</td>\n",
              "      <td>3.000000</td>\n",
              "      <td>6</td>\n",
              "      <td>3</td>\n",
              "      <td>3</td>\n",
              "      <td>2.818454</td>\n",
              "      <td>5.636907</td>\n",
              "      <td>2.787292</td>\n",
              "      <td>2.849616</td>\n",
              "      <td>0.927119</td>\n",
              "      <td>0.927119</td>\n",
              "      <td>0.995254</td>\n",
              "      <td>0.964115</td>\n",
              "      <td>0</td>\n",
              "      <td>0.0</td>\n",
              "      <td>0</td>\n",
              "      <td>0.000</td>\n",
              "      <td>0.000000</td>\n",
              "    </tr>\n",
              "    <tr>\n",
              "      <th>3</th>\n",
              "      <td>3</td>\n",
              "      <td>3.500000</td>\n",
              "      <td>7</td>\n",
              "      <td>3</td>\n",
              "      <td>4</td>\n",
              "      <td>3.596903</td>\n",
              "      <td>7.193806</td>\n",
              "      <td>3.117342</td>\n",
              "      <td>4.076464</td>\n",
              "      <td>0.927209</td>\n",
              "      <td>0.928015</td>\n",
              "      <td>1.114270</td>\n",
              "      <td>1.104669</td>\n",
              "      <td>0</td>\n",
              "      <td>0.0</td>\n",
              "      <td>0</td>\n",
              "      <td>0.000</td>\n",
              "      <td>0.000000</td>\n",
              "    </tr>\n",
              "    <tr>\n",
              "      <th>4</th>\n",
              "      <td>4</td>\n",
              "      <td>7.250000</td>\n",
              "      <td>58</td>\n",
              "      <td>3</td>\n",
              "      <td>12</td>\n",
              "      <td>6.797555</td>\n",
              "      <td>54.380440</td>\n",
              "      <td>2.823033</td>\n",
              "      <td>11.229775</td>\n",
              "      <td>0.927220</td>\n",
              "      <td>0.928755</td>\n",
              "      <td>0.957766</td>\n",
              "      <td>0.952834</td>\n",
              "      <td>0</td>\n",
              "      <td>0.0</td>\n",
              "      <td>80</td>\n",
              "      <td>19.125</td>\n",
              "      <td>1.730303</td>\n",
              "    </tr>\n",
              "  </tbody>\n",
              "</table>\n",
              "</div>"
            ],
            "text/plain": [
              "  key_value saldo_count          ... condicion_min condicion_max         condicion_mean\n",
              "                   mean sum min  ...          mean           max    mean           mean\n",
              "0         0    4.416667  53   3  ...           0.0             0   0.000       0.000000\n",
              "1         1    2.666667   8   2  ...           0.0             0   0.000       0.000000\n",
              "2         2    3.000000   6   3  ...           0.0             0   0.000       0.000000\n",
              "3         3    3.500000   7   3  ...           0.0             0   0.000       0.000000\n",
              "4         4    7.250000  58   3  ...           0.0            80  19.125       1.730303\n",
              "\n",
              "[5 rows x 18 columns]"
            ]
          },
          "metadata": {
            "tags": []
          },
          "execution_count": 18
        }
      ]
    },
    {
      "cell_type": "code",
      "metadata": {
        "id": "nza5HhBPy0IW"
      },
      "source": [
        "df_rcc_train_agg_2.columns = [\"total_{0}_of_{1}_per_month\".format(c[-1], c[0]) if c[-1] != \"\" else c[0] for c in df_rcc_train_agg_2.columns]\n",
        "df_rcc_test_agg_2.columns = [\"total_{0}_of_{1}_per_month\".format(c[-1], c[0]) if c[-1] != \"\" else c[0] for c in df_rcc_test_agg_2.columns]"
      ],
      "execution_count": 19,
      "outputs": []
    },
    {
      "cell_type": "code",
      "metadata": {
        "colab": {
          "base_uri": "https://localhost:8080/",
          "height": 442
        },
        "id": "F8b9tuZpy0Fv",
        "outputId": "c0e1db5d-3562-4ce1-e774-52ffc7655cd7"
      },
      "source": [
        "df_rcc_train_agg_2"
      ],
      "execution_count": 20,
      "outputs": [
        {
          "output_type": "execute_result",
          "data": {
            "text/html": [
              "<div>\n",
              "<style scoped>\n",
              "    .dataframe tbody tr th:only-of-type {\n",
              "        vertical-align: middle;\n",
              "    }\n",
              "\n",
              "    .dataframe tbody tr th {\n",
              "        vertical-align: top;\n",
              "    }\n",
              "\n",
              "    .dataframe thead th {\n",
              "        text-align: right;\n",
              "    }\n",
              "</style>\n",
              "<table border=\"1\" class=\"dataframe\">\n",
              "  <thead>\n",
              "    <tr style=\"text-align: right;\">\n",
              "      <th></th>\n",
              "      <th>key_value</th>\n",
              "      <th>total_mean_of_saldo_count_per_month</th>\n",
              "      <th>total_sum_of_saldo_count_per_month</th>\n",
              "      <th>total_min_of_saldo_count_per_month</th>\n",
              "      <th>total_max_of_saldo_count_per_month</th>\n",
              "      <th>total_mean_of_saldo_sum_per_month</th>\n",
              "      <th>total_sum_of_saldo_sum_per_month</th>\n",
              "      <th>total_min_of_saldo_sum_per_month</th>\n",
              "      <th>total_max_of_saldo_sum_per_month</th>\n",
              "      <th>total_min_of_saldo_min_per_month</th>\n",
              "      <th>total_mean_of_saldo_min_per_month</th>\n",
              "      <th>total_max_of_saldo_max_per_month</th>\n",
              "      <th>total_mean_of_saldo_max_per_month</th>\n",
              "      <th>total_min_of_condicion_min_per_month</th>\n",
              "      <th>total_mean_of_condicion_min_per_month</th>\n",
              "      <th>total_max_of_condicion_max_per_month</th>\n",
              "      <th>total_mean_of_condicion_max_per_month</th>\n",
              "      <th>total_mean_of_condicion_mean_per_month</th>\n",
              "    </tr>\n",
              "  </thead>\n",
              "  <tbody>\n",
              "    <tr>\n",
              "      <th>0</th>\n",
              "      <td>0</td>\n",
              "      <td>4.416667</td>\n",
              "      <td>53</td>\n",
              "      <td>3</td>\n",
              "      <td>7</td>\n",
              "      <td>4.245681</td>\n",
              "      <td>50.948174</td>\n",
              "      <td>2.984509</td>\n",
              "      <td>6.829334</td>\n",
              "      <td>0.927141</td>\n",
              "      <td>0.936001</td>\n",
              "      <td>1.072672</td>\n",
              "      <td>1.014399</td>\n",
              "      <td>0</td>\n",
              "      <td>0.0</td>\n",
              "      <td>0</td>\n",
              "      <td>0.000</td>\n",
              "      <td>0.000000</td>\n",
              "    </tr>\n",
              "    <tr>\n",
              "      <th>1</th>\n",
              "      <td>1</td>\n",
              "      <td>2.666667</td>\n",
              "      <td>8</td>\n",
              "      <td>2</td>\n",
              "      <td>4</td>\n",
              "      <td>2.486586</td>\n",
              "      <td>7.459759</td>\n",
              "      <td>1.864763</td>\n",
              "      <td>3.729381</td>\n",
              "      <td>0.927119</td>\n",
              "      <td>0.927238</td>\n",
              "      <td>0.938372</td>\n",
              "      <td>0.938051</td>\n",
              "      <td>0</td>\n",
              "      <td>0.0</td>\n",
              "      <td>0</td>\n",
              "      <td>0.000</td>\n",
              "      <td>0.000000</td>\n",
              "    </tr>\n",
              "    <tr>\n",
              "      <th>2</th>\n",
              "      <td>2</td>\n",
              "      <td>3.000000</td>\n",
              "      <td>6</td>\n",
              "      <td>3</td>\n",
              "      <td>3</td>\n",
              "      <td>2.818454</td>\n",
              "      <td>5.636907</td>\n",
              "      <td>2.787292</td>\n",
              "      <td>2.849616</td>\n",
              "      <td>0.927119</td>\n",
              "      <td>0.927119</td>\n",
              "      <td>0.995254</td>\n",
              "      <td>0.964115</td>\n",
              "      <td>0</td>\n",
              "      <td>0.0</td>\n",
              "      <td>0</td>\n",
              "      <td>0.000</td>\n",
              "      <td>0.000000</td>\n",
              "    </tr>\n",
              "    <tr>\n",
              "      <th>3</th>\n",
              "      <td>3</td>\n",
              "      <td>3.500000</td>\n",
              "      <td>7</td>\n",
              "      <td>3</td>\n",
              "      <td>4</td>\n",
              "      <td>3.596903</td>\n",
              "      <td>7.193806</td>\n",
              "      <td>3.117342</td>\n",
              "      <td>4.076464</td>\n",
              "      <td>0.927209</td>\n",
              "      <td>0.928015</td>\n",
              "      <td>1.114270</td>\n",
              "      <td>1.104669</td>\n",
              "      <td>0</td>\n",
              "      <td>0.0</td>\n",
              "      <td>0</td>\n",
              "      <td>0.000</td>\n",
              "      <td>0.000000</td>\n",
              "    </tr>\n",
              "    <tr>\n",
              "      <th>4</th>\n",
              "      <td>4</td>\n",
              "      <td>7.250000</td>\n",
              "      <td>58</td>\n",
              "      <td>3</td>\n",
              "      <td>12</td>\n",
              "      <td>6.797555</td>\n",
              "      <td>54.380440</td>\n",
              "      <td>2.823033</td>\n",
              "      <td>11.229775</td>\n",
              "      <td>0.927220</td>\n",
              "      <td>0.928755</td>\n",
              "      <td>0.957766</td>\n",
              "      <td>0.952834</td>\n",
              "      <td>0</td>\n",
              "      <td>0.0</td>\n",
              "      <td>80</td>\n",
              "      <td>19.125</td>\n",
              "      <td>1.730303</td>\n",
              "    </tr>\n",
              "    <tr>\n",
              "      <th>...</th>\n",
              "      <td>...</td>\n",
              "      <td>...</td>\n",
              "      <td>...</td>\n",
              "      <td>...</td>\n",
              "      <td>...</td>\n",
              "      <td>...</td>\n",
              "      <td>...</td>\n",
              "      <td>...</td>\n",
              "      <td>...</td>\n",
              "      <td>...</td>\n",
              "      <td>...</td>\n",
              "      <td>...</td>\n",
              "      <td>...</td>\n",
              "      <td>...</td>\n",
              "      <td>...</td>\n",
              "      <td>...</td>\n",
              "      <td>...</td>\n",
              "      <td>...</td>\n",
              "    </tr>\n",
              "    <tr>\n",
              "      <th>358482</th>\n",
              "      <td>358482</td>\n",
              "      <td>3.000000</td>\n",
              "      <td>3</td>\n",
              "      <td>3</td>\n",
              "      <td>3</td>\n",
              "      <td>2.804043</td>\n",
              "      <td>2.804043</td>\n",
              "      <td>2.804043</td>\n",
              "      <td>2.804043</td>\n",
              "      <td>0.927186</td>\n",
              "      <td>0.927186</td>\n",
              "      <td>0.949502</td>\n",
              "      <td>0.949502</td>\n",
              "      <td>0</td>\n",
              "      <td>0.0</td>\n",
              "      <td>0</td>\n",
              "      <td>0.000</td>\n",
              "      <td>0.000000</td>\n",
              "    </tr>\n",
              "    <tr>\n",
              "      <th>358483</th>\n",
              "      <td>358483</td>\n",
              "      <td>3.000000</td>\n",
              "      <td>3</td>\n",
              "      <td>3</td>\n",
              "      <td>3</td>\n",
              "      <td>2.792644</td>\n",
              "      <td>2.792644</td>\n",
              "      <td>2.792644</td>\n",
              "      <td>2.792644</td>\n",
              "      <td>0.927119</td>\n",
              "      <td>0.927119</td>\n",
              "      <td>0.938327</td>\n",
              "      <td>0.938327</td>\n",
              "      <td>0</td>\n",
              "      <td>0.0</td>\n",
              "      <td>0</td>\n",
              "      <td>0.000</td>\n",
              "      <td>0.000000</td>\n",
              "    </tr>\n",
              "    <tr>\n",
              "      <th>358484</th>\n",
              "      <td>358484</td>\n",
              "      <td>4.000000</td>\n",
              "      <td>4</td>\n",
              "      <td>4</td>\n",
              "      <td>4</td>\n",
              "      <td>3.740276</td>\n",
              "      <td>3.740276</td>\n",
              "      <td>3.740276</td>\n",
              "      <td>3.740276</td>\n",
              "      <td>0.927298</td>\n",
              "      <td>0.927298</td>\n",
              "      <td>0.940656</td>\n",
              "      <td>0.940656</td>\n",
              "      <td>0</td>\n",
              "      <td>0.0</td>\n",
              "      <td>0</td>\n",
              "      <td>0.000</td>\n",
              "      <td>0.000000</td>\n",
              "    </tr>\n",
              "    <tr>\n",
              "      <th>358485</th>\n",
              "      <td>358485</td>\n",
              "      <td>1.000000</td>\n",
              "      <td>1</td>\n",
              "      <td>1</td>\n",
              "      <td>1</td>\n",
              "      <td>0.941664</td>\n",
              "      <td>0.941664</td>\n",
              "      <td>0.941664</td>\n",
              "      <td>0.941664</td>\n",
              "      <td>0.941664</td>\n",
              "      <td>0.941664</td>\n",
              "      <td>0.941664</td>\n",
              "      <td>0.941664</td>\n",
              "      <td>0</td>\n",
              "      <td>0.0</td>\n",
              "      <td>0</td>\n",
              "      <td>0.000</td>\n",
              "      <td>0.000000</td>\n",
              "    </tr>\n",
              "    <tr>\n",
              "      <th>358486</th>\n",
              "      <td>358486</td>\n",
              "      <td>3.000000</td>\n",
              "      <td>3</td>\n",
              "      <td>3</td>\n",
              "      <td>3</td>\n",
              "      <td>2.894192</td>\n",
              "      <td>2.894192</td>\n",
              "      <td>2.894192</td>\n",
              "      <td>2.894192</td>\n",
              "      <td>0.927119</td>\n",
              "      <td>0.927119</td>\n",
              "      <td>1.039797</td>\n",
              "      <td>1.039797</td>\n",
              "      <td>0</td>\n",
              "      <td>0.0</td>\n",
              "      <td>0</td>\n",
              "      <td>0.000</td>\n",
              "      <td>0.000000</td>\n",
              "    </tr>\n",
              "  </tbody>\n",
              "</table>\n",
              "<p>358487 rows × 18 columns</p>\n",
              "</div>"
            ],
            "text/plain": [
              "        key_value  ...  total_mean_of_condicion_mean_per_month\n",
              "0               0  ...                                0.000000\n",
              "1               1  ...                                0.000000\n",
              "2               2  ...                                0.000000\n",
              "3               3  ...                                0.000000\n",
              "4               4  ...                                1.730303\n",
              "...           ...  ...                                     ...\n",
              "358482     358482  ...                                0.000000\n",
              "358483     358483  ...                                0.000000\n",
              "358484     358484  ...                                0.000000\n",
              "358485     358485  ...                                0.000000\n",
              "358486     358486  ...                                0.000000\n",
              "\n",
              "[358487 rows x 18 columns]"
            ]
          },
          "metadata": {
            "tags": []
          },
          "execution_count": 20
        }
      ]
    },
    {
      "cell_type": "markdown",
      "metadata": {
        "id": "9Ybce2rt0S1I"
      },
      "source": [
        "## Todos los Datasets"
      ]
    },
    {
      "cell_type": "code",
      "metadata": {
        "id": "rY37V7XJ2lC2"
      },
      "source": [
        "df_base_train_total = df_base_train.merge(df_se_train, how=\"left\", on=\"key_value\")\\\n",
        "                                   .merge(df_rcc_train_agg_2, how=\"left\", on=\"key_value\")"
      ],
      "execution_count": 21,
      "outputs": []
    },
    {
      "cell_type": "code",
      "metadata": {
        "id": "aTmqn5R82lAe"
      },
      "source": [
        "df_base_test_total = df_base_test.merge(df_se_test, how=\"left\", on=\"key_value\")\\\n",
        "                                   .merge(df_rcc_test_agg_2, how=\"left\", on=\"key_value\")"
      ],
      "execution_count": 22,
      "outputs": []
    },
    {
      "cell_type": "code",
      "metadata": {
        "colab": {
          "base_uri": "https://localhost:8080/"
        },
        "id": "EGW-B1xfXdqE",
        "outputId": "42d5c70d-3685-4195-ad5a-2afaf633c168"
      },
      "source": [
        "df_base_train_total_dna[\"target\"].value_counts()"
      ],
      "execution_count": 27,
      "outputs": [
        {
          "output_type": "execute_result",
          "data": {
            "text/plain": [
              "0    298656\n",
              "1     56007\n",
              "Name: target, dtype: int64"
            ]
          },
          "metadata": {
            "tags": []
          },
          "execution_count": 27
        }
      ]
    },
    {
      "cell_type": "code",
      "metadata": {
        "id": "rGwidUNS95cE"
      },
      "source": [
        "df_base_train_total_dna = df_base_train_total.dropna()\n",
        "df_base_test_total_dna = df_base_test_total.dropna()"
      ],
      "execution_count": 24,
      "outputs": []
    },
    {
      "cell_type": "code",
      "metadata": {
        "id": "IWq8TpDG-al7"
      },
      "source": [
        "!mkdir '[03] tmp'"
      ],
      "execution_count": null,
      "outputs": []
    },
    {
      "cell_type": "code",
      "metadata": {
        "colab": {
          "base_uri": "https://localhost:8080/"
        },
        "id": "YjK7LUVRLiSS",
        "outputId": "67edc5fc-36cc-4772-f6dd-dea3a30fc516"
      },
      "source": [
        "!ls -lh"
      ],
      "execution_count": null,
      "outputs": [
        {
          "output_type": "stream",
          "text": [
            "total 41M\n",
            "drwx------ 2 root root 4.0K Dec 12  2020 '[00] Data'\n",
            "drwx------ 2 root root 4.0K Dec 17  2020 '[01] Intermediate'\n",
            "drwx------ 2 root root 4.0K Dec 17  2020 '[02] Output'\n",
            "drwx------ 2 root root 4.0K Jun 28 04:56 '[03] tmp'\n",
            "drwx------ 2 root root 4.0K Dec 17  2020  catboost_info\n",
            "-rw------- 1 root root 8.1M Dec 12  2020  pfe_se_test.html\n",
            "-rw------- 1 root root 8.1M Dec 12  2020  pfe_se_train.html\n",
            "-rw------- 1 root root  13M Dec 21  2020  pfe_sunat_test.html\n",
            "-rw------- 1 root root  13M Dec 21  2020  pfe_sunat_train.html\n"
          ],
          "name": "stdout"
        }
      ]
    },
    {
      "cell_type": "code",
      "metadata": {
        "id": "AQdfaUvD95XS"
      },
      "source": [
        "df_base_train_total.to_csv(\"[03] tmp/dataset_train.csv\", index=False)"
      ],
      "execution_count": null,
      "outputs": []
    },
    {
      "cell_type": "code",
      "metadata": {
        "id": "3hWpbY-J-tIn"
      },
      "source": [
        "df_base_test_total.to_csv(\"[03] tmp/dataset_test.csv\", index=False)"
      ],
      "execution_count": null,
      "outputs": []
    },
    {
      "cell_type": "markdown",
      "metadata": {
        "id": "1APWyEke0YGB"
      },
      "source": [
        "---"
      ]
    }
  ]
}