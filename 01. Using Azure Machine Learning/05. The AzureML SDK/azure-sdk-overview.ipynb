{
  "nbformat": 4,
  "nbformat_minor": 0,
  "metadata": {
    "colab": {
      "name": "Welcome To Colaboratory",
      "provenance": [],
      "collapsed_sections": [],
      "include_colab_link": true
    },
    "kernelspec": {
      "display_name": "Python 3",
      "name": "python3"
    }
  },
  "cells": [
    {
      "cell_type": "markdown",
      "metadata": {
        "id": "view-in-github",
        "colab_type": "text"
      },
      "source": [
        "<a href=\"https://colab.research.google.com/github/mlaricobar/Machine-Learning-Engineering-Azure/blob/main/azure-sdk-overview.ipynb\" target=\"_parent\"><img src=\"https://colab.research.google.com/assets/colab-badge.svg\" alt=\"Open In Colab\"/></a>"
      ]
    },
    {
      "cell_type": "markdown",
      "metadata": {
        "id": "jdYpyu-Ruyd5"
      },
      "source": [
        "### Configuration"
      ]
    },
    {
      "cell_type": "code",
      "metadata": {
        "id": "EIN5Z30Hsymu",
        "outputId": "ee5d2f8c-a880-4e2b-d8f4-68ea4769acfa",
        "colab": {
          "base_uri": "https://localhost:8080/"
        }
      },
      "source": [
        "!pip install --upgrade azureml-core\n",
        "!pip install azureml-dataprep"
      ],
      "execution_count": 1,
      "outputs": [
        {
          "output_type": "stream",
          "text": [
            "Collecting azureml-core\n",
            "\u001b[?25l  Downloading https://files.pythonhosted.org/packages/e8/7c/cda941555fd54ecc6d7a143898ad76a722ca434b5c12aeedac42bdf7c97a/azureml_core-1.21.0.post1-py3-none-any.whl (2.1MB)\n",
            "\u001b[K     |████████████████████████████████| 2.2MB 10.0MB/s \n",
            "\u001b[?25hCollecting azure-common>=1.1.12\n",
            "  Downloading https://files.pythonhosted.org/packages/19/2b/46ada1753c4a640bc3ad04a1e20b1a5ea52a8f18079e1b8238e536aa0c98/azure_common-1.1.26-py2.py3-none-any.whl\n",
            "Collecting msrest>=0.5.1\n",
            "\u001b[?25l  Downloading https://files.pythonhosted.org/packages/e8/cc/6c96bfb3d3cf4c3bdedfa6b46503223f4c2a4fa388377697e0f8082a4fed/msrest-0.6.21-py2.py3-none-any.whl (85kB)\n",
            "\u001b[K     |████████████████████████████████| 92kB 10.3MB/s \n",
            "\u001b[?25hCollecting msrestazure>=0.4.33\n",
            "\u001b[?25l  Downloading https://files.pythonhosted.org/packages/5e/3a/7adb08fd2f0ee6fdfd03685fac38477b64f184943dcf6ea0cbffb205f22d/msrestazure-0.6.4-py2.py3-none-any.whl (40kB)\n",
            "\u001b[K     |████████████████████████████████| 40kB 5.2MB/s \n",
            "\u001b[?25hCollecting ndg-httpsclient\n",
            "  Downloading https://files.pythonhosted.org/packages/fb/67/c2f508c00ed2a6911541494504b7cac16fe0b0473912568df65fd1801132/ndg_httpsclient-0.5.1-py3-none-any.whl\n",
            "Requirement already satisfied, skipping upgrade: pytz in /usr/local/lib/python3.6/dist-packages (from azureml-core) (2018.9)\n",
            "Collecting adal>=1.2.0\n",
            "\u001b[?25l  Downloading https://files.pythonhosted.org/packages/61/a1/5f5fb9f4edb6e8b7882281158edc1cd465249c53fd48b1bf6af2c9237fe5/adal-1.2.6-py2.py3-none-any.whl (55kB)\n",
            "\u001b[K     |████████████████████████████████| 61kB 8.0MB/s \n",
            "\u001b[?25hCollecting jsonpickle\n",
            "  Downloading https://files.pythonhosted.org/packages/77/a7/c2f527ddce3155ae9e008385963c2325cbfd52969f8b38efa2723e2af4af/jsonpickle-1.5.1-py2.py3-none-any.whl\n",
            "Requirement already satisfied, skipping upgrade: python-dateutil>=2.7.3 in /usr/local/lib/python3.6/dist-packages (from azureml-core) (2.8.1)\n",
            "Requirement already satisfied, skipping upgrade: urllib3>=1.23 in /usr/local/lib/python3.6/dist-packages (from azureml-core) (1.24.3)\n",
            "Collecting jmespath\n",
            "  Downloading https://files.pythonhosted.org/packages/07/cb/5f001272b6faeb23c1c9e0acc04d48eaaf5c862c17709d20e3469c6e0139/jmespath-0.10.0-py2.py3-none-any.whl\n",
            "Collecting backports.tempfile\n",
            "  Downloading https://files.pythonhosted.org/packages/b4/5c/077f910632476281428fe254807952eb47ca78e720d059a46178c541e669/backports.tempfile-1.0-py2.py3-none-any.whl\n",
            "Collecting ruamel.yaml>=0.15.35\n",
            "\u001b[?25l  Downloading https://files.pythonhosted.org/packages/7e/39/186f14f3836ac5d2a6a042c8de69988770e8b9abb537610edc429e4914aa/ruamel.yaml-0.16.12-py2.py3-none-any.whl (111kB)\n",
            "\u001b[K     |████████████████████████████████| 112kB 44.7MB/s \n",
            "\u001b[?25hCollecting docker\n",
            "\u001b[?25l  Downloading https://files.pythonhosted.org/packages/9f/a5/eec74d8d1016e6c2042ba31ca6fba3bba520e27d8a061e82bccd36bd64ef/docker-4.4.1-py2.py3-none-any.whl (146kB)\n",
            "\u001b[K     |████████████████████████████████| 153kB 38.7MB/s \n",
            "\u001b[?25hCollecting PyJWT<2.0.0\n",
            "  Downloading https://files.pythonhosted.org/packages/87/8b/6a9f14b5f781697e51259d81657e6048fd31a113229cf346880bb7545565/PyJWT-1.7.1-py2.py3-none-any.whl\n",
            "Collecting azure-mgmt-authorization<1.0.0,>=0.40.0\n",
            "\u001b[?25l  Downloading https://files.pythonhosted.org/packages/b4/50/7a923f58bf053280fe1890f3332c08f6a82a208c92035ad8f7888c87b786/azure_mgmt_authorization-0.61.0-py2.py3-none-any.whl (94kB)\n",
            "\u001b[K     |████████████████████████████████| 102kB 10.8MB/s \n",
            "\u001b[?25hCollecting pyopenssl<21.0.0\n",
            "\u001b[?25l  Downloading https://files.pythonhosted.org/packages/b2/5e/06351ede29fd4899782ad335c2e02f1f862a887c20a3541f17c3fa1a3525/pyOpenSSL-20.0.1-py2.py3-none-any.whl (54kB)\n",
            "\u001b[K     |████████████████████████████████| 61kB 8.1MB/s \n",
            "\u001b[?25hCollecting azure-mgmt-containerregistry>=2.0.0\n",
            "\u001b[?25l  Downloading https://files.pythonhosted.org/packages/97/70/8c2d0509db466678eba16fa2b0a539499f3b351b1f2993126ad843d5be13/azure_mgmt_containerregistry-2.8.0-py2.py3-none-any.whl (718kB)\n",
            "\u001b[K     |████████████████████████████████| 727kB 38.3MB/s \n",
            "\u001b[?25hCollecting cryptography!=1.9,!=2.0.*,!=2.1.*,!=2.2.*\n",
            "\u001b[?25l  Downloading https://files.pythonhosted.org/packages/c9/de/7054df0620b5411ba45480f0261e1fb66a53f3db31b28e3aa52c026e72d9/cryptography-3.3.1-cp36-abi3-manylinux2010_x86_64.whl (2.6MB)\n",
            "\u001b[K     |████████████████████████████████| 2.6MB 38.5MB/s \n",
            "\u001b[?25hCollecting pathspec\n",
            "  Downloading https://files.pythonhosted.org/packages/29/29/a465741a3d97ea3c17d21eaad4c64205428bde56742360876c4391f930d4/pathspec-0.8.1-py2.py3-none-any.whl\n",
            "Collecting azure-mgmt-keyvault<7.0.0,>=0.40.0\n",
            "\u001b[?25l  Downloading https://files.pythonhosted.org/packages/f1/af/1ba15e7176bcf6b1531b453e410ae41a983c09f834d8700dfce739451b53/azure_mgmt_keyvault-2.2.0-py2.py3-none-any.whl (89kB)\n",
            "\u001b[K     |████████████████████████████████| 92kB 1.3MB/s \n",
            "\u001b[?25hCollecting azure-mgmt-storage<16.0.0,>=1.5.0\n",
            "\u001b[?25l  Downloading https://files.pythonhosted.org/packages/33/cc/8ace313fd151af6663b1e1778f216532eab0258133ef21498c0e2caefad6/azure_mgmt_storage-11.2.0-py2.py3-none-any.whl (547kB)\n",
            "\u001b[K     |████████████████████████████████| 552kB 34.6MB/s \n",
            "\u001b[?25hCollecting azure-mgmt-resource<15.0.0,>=1.2.1\n",
            "\u001b[?25l  Downloading https://files.pythonhosted.org/packages/77/0f/cb596ca094c6ffdd86f7b8a0190042d1ab2d732b87398c7e76def9b5d815/azure_mgmt_resource-12.0.0-py2.py3-none-any.whl (1.1MB)\n",
            "\u001b[K     |████████████████████████████████| 1.1MB 34.0MB/s \n",
            "\u001b[?25hCollecting azure-graphrbac<1.0.0,>=0.40.0\n",
            "\u001b[?25l  Downloading https://files.pythonhosted.org/packages/3e/93/02056aca45162f9fc275d1eaad12a2a07ef92375afb48eabddc4134b8315/azure_graphrbac-0.61.1-py2.py3-none-any.whl (141kB)\n",
            "\u001b[K     |████████████████████████████████| 143kB 48.8MB/s \n",
            "\u001b[?25hRequirement already satisfied, skipping upgrade: contextlib2 in /usr/local/lib/python3.6/dist-packages (from azureml-core) (0.5.5)\n",
            "Collecting SecretStorage\n",
            "  Downloading https://files.pythonhosted.org/packages/63/a2/a6d9099b14eb5dbbb04fb722d2b5322688f8f99b471bdf2097e33efa8091/SecretStorage-3.3.0-py3-none-any.whl\n",
            "Requirement already satisfied, skipping upgrade: requests>=2.19.1 in /usr/local/lib/python3.6/dist-packages (from azureml-core) (2.23.0)\n",
            "Requirement already satisfied, skipping upgrade: requests-oauthlib>=0.5.0 in /usr/local/lib/python3.6/dist-packages (from msrest>=0.5.1->azureml-core) (1.3.0)\n",
            "Collecting isodate>=0.6.0\n",
            "\u001b[?25l  Downloading https://files.pythonhosted.org/packages/9b/9f/b36f7774ff5ea8e428fdcfc4bb332c39ee5b9362ddd3d40d9516a55221b2/isodate-0.6.0-py2.py3-none-any.whl (45kB)\n",
            "\u001b[K     |████████████████████████████████| 51kB 6.8MB/s \n",
            "\u001b[?25hRequirement already satisfied, skipping upgrade: certifi>=2017.4.17 in /usr/local/lib/python3.6/dist-packages (from msrest>=0.5.1->azureml-core) (2020.12.5)\n",
            "Requirement already satisfied, skipping upgrade: six in /usr/local/lib/python3.6/dist-packages (from msrestazure>=0.4.33->azureml-core) (1.15.0)\n",
            "Requirement already satisfied, skipping upgrade: pyasn1>=0.1.1 in /usr/local/lib/python3.6/dist-packages (from ndg-httpsclient->azureml-core) (0.4.8)\n",
            "Requirement already satisfied, skipping upgrade: importlib-metadata; python_version < \"3.8\" in /usr/local/lib/python3.6/dist-packages (from jsonpickle->azureml-core) (3.4.0)\n",
            "Collecting backports.weakref\n",
            "  Downloading https://files.pythonhosted.org/packages/88/ec/f598b633c3d5ffe267aaada57d961c94fdfa183c5c3ebda2b6d151943db6/backports.weakref-1.0.post1-py2.py3-none-any.whl\n",
            "Collecting ruamel.yaml.clib>=0.1.2; platform_python_implementation == \"CPython\" and python_version < \"3.9\"\n",
            "\u001b[?25l  Downloading https://files.pythonhosted.org/packages/88/ff/ec25dc01ef04232a9e68ff18492e37dfa01f1f58172e702ad4f38536d41b/ruamel.yaml.clib-0.2.2-cp36-cp36m-manylinux1_x86_64.whl (549kB)\n",
            "\u001b[K     |████████████████████████████████| 552kB 54.9MB/s \n",
            "\u001b[?25hCollecting websocket-client>=0.32.0\n",
            "\u001b[?25l  Downloading https://files.pythonhosted.org/packages/4c/5f/f61b420143ed1c8dc69f9eaec5ff1ac36109d52c80de49d66e0c36c3dfdf/websocket_client-0.57.0-py2.py3-none-any.whl (200kB)\n",
            "\u001b[K     |████████████████████████████████| 204kB 53.3MB/s \n",
            "\u001b[?25hRequirement already satisfied, skipping upgrade: cffi>=1.12 in /usr/local/lib/python3.6/dist-packages (from cryptography!=1.9,!=2.0.*,!=2.1.*,!=2.2.*->azureml-core) (1.14.4)\n",
            "Collecting jeepney>=0.6\n",
            "\u001b[?25l  Downloading https://files.pythonhosted.org/packages/51/b0/a6ea72741aaac3f37fb96d195e4ee576a103c4c04e279bc6b446a70960e1/jeepney-0.6.0-py3-none-any.whl (45kB)\n",
            "\u001b[K     |████████████████████████████████| 51kB 6.5MB/s \n",
            "\u001b[?25hRequirement already satisfied, skipping upgrade: idna<3,>=2.5 in /usr/local/lib/python3.6/dist-packages (from requests>=2.19.1->azureml-core) (2.10)\n",
            "Requirement already satisfied, skipping upgrade: chardet<4,>=3.0.2 in /usr/local/lib/python3.6/dist-packages (from requests>=2.19.1->azureml-core) (3.0.4)\n",
            "Requirement already satisfied, skipping upgrade: oauthlib>=3.0.0 in /usr/local/lib/python3.6/dist-packages (from requests-oauthlib>=0.5.0->msrest>=0.5.1->azureml-core) (3.1.0)\n",
            "Requirement already satisfied, skipping upgrade: typing-extensions>=3.6.4; python_version < \"3.8\" in /usr/local/lib/python3.6/dist-packages (from importlib-metadata; python_version < \"3.8\"->jsonpickle->azureml-core) (3.7.4.3)\n",
            "Requirement already satisfied, skipping upgrade: zipp>=0.5 in /usr/local/lib/python3.6/dist-packages (from importlib-metadata; python_version < \"3.8\"->jsonpickle->azureml-core) (3.4.0)\n",
            "Requirement already satisfied, skipping upgrade: pycparser in /usr/local/lib/python3.6/dist-packages (from cffi>=1.12->cryptography!=1.9,!=2.0.*,!=2.1.*,!=2.2.*->azureml-core) (2.20)\n",
            "Installing collected packages: azure-common, isodate, msrest, cryptography, PyJWT, adal, msrestazure, pyopenssl, ndg-httpsclient, jsonpickle, jmespath, backports.weakref, backports.tempfile, ruamel.yaml.clib, ruamel.yaml, websocket-client, docker, azure-mgmt-authorization, azure-mgmt-containerregistry, pathspec, azure-mgmt-keyvault, azure-mgmt-storage, azure-mgmt-resource, azure-graphrbac, jeepney, SecretStorage, azureml-core\n",
            "Successfully installed PyJWT-1.7.1 SecretStorage-3.3.0 adal-1.2.6 azure-common-1.1.26 azure-graphrbac-0.61.1 azure-mgmt-authorization-0.61.0 azure-mgmt-containerregistry-2.8.0 azure-mgmt-keyvault-2.2.0 azure-mgmt-resource-12.0.0 azure-mgmt-storage-11.2.0 azureml-core-1.21.0.post1 backports.tempfile-1.0 backports.weakref-1.0.post1 cryptography-3.3.1 docker-4.4.1 isodate-0.6.0 jeepney-0.6.0 jmespath-0.10.0 jsonpickle-1.5.1 msrest-0.6.21 msrestazure-0.6.4 ndg-httpsclient-0.5.1 pathspec-0.8.1 pyopenssl-20.0.1 ruamel.yaml-0.16.12 ruamel.yaml.clib-0.2.2 websocket-client-0.57.0\n",
            "Collecting azureml-dataprep\n",
            "\u001b[?25l  Downloading https://files.pythonhosted.org/packages/09/5e/031c4b6ad969b0324eb509a980e17a795915e52e43a01361263b5c644dc5/azureml_dataprep-2.9.0-py3-none-any.whl (39.4MB)\n",
            "\u001b[K     |████████████████████████████████| 39.4MB 112kB/s \n",
            "\u001b[?25hCollecting azureml-dataprep-rslex<1.8.0a,>=1.7.0dev0\n",
            "\u001b[?25l  Downloading https://files.pythonhosted.org/packages/11/13/5295a3f334059d6d53b98a8f5d48465f2443995560b68eb83c1b72906b65/azureml_dataprep_rslex-1.7.0-cp36-cp36m-manylinux2010_x86_64.whl (8.5MB)\n",
            "\u001b[K     |████████████████████████████████| 8.5MB 29.6MB/s \n",
            "\u001b[?25hRequirement already satisfied: cloudpickle<2.0.0,>=1.1.0 in /usr/local/lib/python3.6/dist-packages (from azureml-dataprep) (1.3.0)\n",
            "Collecting dotnetcore2<3.0.0,>=2.1.14\n",
            "\u001b[?25l  Downloading https://files.pythonhosted.org/packages/b4/76/464fd2deb6d640547f4c269a0941883a45001103d4756611c52c75232e5a/dotnetcore2-2.1.20-py3-none-manylinux1_x86_64.whl (28.7MB)\n",
            "\u001b[K     |████████████████████████████████| 28.7MB 164kB/s \n",
            "\u001b[?25hCollecting azure-identity<1.5.0,>=1.2.0\n",
            "\u001b[?25l  Downloading https://files.pythonhosted.org/packages/93/97/0e57f9d0bb0e9aee5cce0007616f6d3c2e09931fd24ad140c9cc3b06b7ef/azure_identity-1.4.1-py2.py3-none-any.whl (86kB)\n",
            "\u001b[K     |████████████████████████████████| 92kB 10.2MB/s \n",
            "\u001b[?25hCollecting azureml-dataprep-native<30.0.0,>=29.0.0\n",
            "\u001b[?25l  Downloading https://files.pythonhosted.org/packages/70/9f/33912df650ac22ec46ecd341a1782b5e3ec71e134f70ae96cfa310421a1a/azureml_dataprep_native-29.0.0-cp36-cp36m-manylinux1_x86_64.whl (1.3MB)\n",
            "\u001b[K     |████████████████████████████████| 1.3MB 40.3MB/s \n",
            "\u001b[?25hCollecting distro>=1.2.0\n",
            "  Downloading https://files.pythonhosted.org/packages/25/b7/b3c4270a11414cb22c6352ebc7a83aaa3712043be29daa05018fd5a5c956/distro-1.5.0-py2.py3-none-any.whl\n",
            "Requirement already satisfied: cryptography>=2.1.4 in /usr/local/lib/python3.6/dist-packages (from azure-identity<1.5.0,>=1.2.0->azureml-dataprep) (3.3.1)\n",
            "Collecting msal<2.0.0,>=1.3.0\n",
            "\u001b[?25l  Downloading https://files.pythonhosted.org/packages/f8/5a/b980d4918397a552ea9fa8a069ba8947f71a88d32c5be5a26082ff5a8bdb/msal-1.8.0-py2.py3-none-any.whl (58kB)\n",
            "\u001b[K     |████████████████████████████████| 61kB 6.6MB/s \n",
            "\u001b[?25hRequirement already satisfied: six>=1.6 in /usr/local/lib/python3.6/dist-packages (from azure-identity<1.5.0,>=1.2.0->azureml-dataprep) (1.15.0)\n",
            "Collecting msal-extensions~=0.2.2\n",
            "  Downloading https://files.pythonhosted.org/packages/33/da/eed514cb6902405c5c11a03f1e65adbd95e2c26d9b22eae390eddb561201/msal_extensions-0.2.2-py2.py3-none-any.whl\n",
            "Collecting azure-core<2.0.0,>=1.0.0\n",
            "\u001b[?25l  Downloading https://files.pythonhosted.org/packages/12/9e/6bb67fe85f6a89d71f50c86a0da778a5064f749a485ed9ba498067034227/azure_core-1.10.0-py2.py3-none-any.whl (125kB)\n",
            "\u001b[K     |████████████████████████████████| 133kB 41.6MB/s \n",
            "\u001b[?25hRequirement already satisfied: cffi>=1.12 in /usr/local/lib/python3.6/dist-packages (from cryptography>=2.1.4->azure-identity<1.5.0,>=1.2.0->azureml-dataprep) (1.14.4)\n",
            "Requirement already satisfied: requests<3,>=2.0.0 in /usr/local/lib/python3.6/dist-packages (from msal<2.0.0,>=1.3.0->azure-identity<1.5.0,>=1.2.0->azureml-dataprep) (2.23.0)\n",
            "Requirement already satisfied: PyJWT[crypto]<2,>=1.0.0 in /usr/local/lib/python3.6/dist-packages (from msal<2.0.0,>=1.3.0->azure-identity<1.5.0,>=1.2.0->azureml-dataprep) (1.7.1)\n",
            "Collecting portalocker~=1.0; platform_system != \"Windows\"\n",
            "  Downloading https://files.pythonhosted.org/packages/3b/e7/ceef002a300a98a208232fab593183249b6964b306ee7dabb29908419cca/portalocker-1.7.1-py2.py3-none-any.whl\n",
            "Requirement already satisfied: pycparser in /usr/local/lib/python3.6/dist-packages (from cffi>=1.12->cryptography>=2.1.4->azure-identity<1.5.0,>=1.2.0->azureml-dataprep) (2.20)\n",
            "Requirement already satisfied: idna<3,>=2.5 in /usr/local/lib/python3.6/dist-packages (from requests<3,>=2.0.0->msal<2.0.0,>=1.3.0->azure-identity<1.5.0,>=1.2.0->azureml-dataprep) (2.10)\n",
            "Requirement already satisfied: urllib3!=1.25.0,!=1.25.1,<1.26,>=1.21.1 in /usr/local/lib/python3.6/dist-packages (from requests<3,>=2.0.0->msal<2.0.0,>=1.3.0->azure-identity<1.5.0,>=1.2.0->azureml-dataprep) (1.24.3)\n",
            "Requirement already satisfied: certifi>=2017.4.17 in /usr/local/lib/python3.6/dist-packages (from requests<3,>=2.0.0->msal<2.0.0,>=1.3.0->azure-identity<1.5.0,>=1.2.0->azureml-dataprep) (2020.12.5)\n",
            "Requirement already satisfied: chardet<4,>=3.0.2 in /usr/local/lib/python3.6/dist-packages (from requests<3,>=2.0.0->msal<2.0.0,>=1.3.0->azure-identity<1.5.0,>=1.2.0->azureml-dataprep) (3.0.4)\n",
            "Installing collected packages: azureml-dataprep-rslex, distro, dotnetcore2, msal, portalocker, msal-extensions, azure-core, azure-identity, azureml-dataprep-native, azureml-dataprep\n",
            "Successfully installed azure-core-1.10.0 azure-identity-1.4.1 azureml-dataprep-2.9.0 azureml-dataprep-native-29.0.0 azureml-dataprep-rslex-1.7.0 distro-1.5.0 dotnetcore2-2.1.20 msal-1.8.0 msal-extensions-0.2.2 portalocker-1.7.1\n"
          ],
          "name": "stdout"
        }
      ]
    },
    {
      "cell_type": "markdown",
      "metadata": {
        "id": "m05BKuJIu0sz"
      },
      "source": [
        "## Playing with Datasets"
      ]
    },
    {
      "cell_type": "code",
      "metadata": {
        "id": "bJOh7aKktEih"
      },
      "source": [
        "from google.colab import drive, files\n",
        "\n",
        "from azureml.core import Dataset, Workspace"
      ],
      "execution_count": 2,
      "outputs": []
    },
    {
      "cell_type": "code",
      "metadata": {
        "id": "0VR71cZRxRCG",
        "outputId": "c5566220-de20-4fce-f472-fea229b5048f",
        "colab": {
          "base_uri": "https://localhost:8080/"
        }
      },
      "source": [
        "drive.mount('/gdrive')"
      ],
      "execution_count": 3,
      "outputs": [
        {
          "output_type": "stream",
          "text": [
            "Mounted at /gdrive\n"
          ],
          "name": "stdout"
        }
      ]
    },
    {
      "cell_type": "code",
      "metadata": {
        "id": "awjD_v59xazR",
        "outputId": "4bfb5968-fc52-433f-d317-8bb47fa5ba99",
        "colab": {
          "base_uri": "https://localhost:8080/"
        }
      },
      "source": [
        "%cd /gdrive/'My Drive'/Competencias/'[02] Interbank-2020'\n",
        "!ls -lh '[00] Data'"
      ],
      "execution_count": 4,
      "outputs": [
        {
          "output_type": "stream",
          "text": [
            "/gdrive/My Drive/Competencias/[02] Interbank-2020\n",
            "total 5.1G\n",
            "-rw------- 1 root root 979M Jan 22 03:05 censo_test.csv\n",
            "-rw------- 1 root root 748M Jan 22 03:05 censo_train.csv\n",
            "-rw------- 1 root root  998 Jan 22 03:05 productos.csv\n",
            "-rw------- 1 root root 1.7G Jan 22 03:05 rcc_test.csv\n",
            "-rw------- 1 root root 1.4G Jan 22 03:06 rcc_train.csv\n",
            "-rw------- 1 root root 3.3M Jan 22 03:06 sample_submission.csv\n",
            "-rw------- 1 root root  30M Jan 22 03:06 se_test.csv\n",
            "-rw------- 1 root root  28M Jan 22 03:06 se_train.csv\n",
            "-rw------- 1 root root 122M Jan 22 03:06 sunat_test.csv\n",
            "-rw------- 1 root root 106M Jan 22 03:06 sunat_train.csv\n",
            "-rw------- 1 root root 3.0M Jan 22 03:06 y_train.csv\n"
          ],
          "name": "stdout"
        }
      ]
    },
    {
      "cell_type": "code",
      "metadata": {
        "id": "KA4f80xUtpKg"
      },
      "source": [
        "url_paths = [\n",
        "            'http://yann.lecun.com/exdb/mnist/train-images-idx3-ubyte.gz',\n",
        "            'http://yann.lecun.com/exdb/mnist/train-labels-idx1-ubyte.gz',\n",
        "            'http://yann.lecun.com/exdb/mnist/t10k-images-idx3-ubyte.gz',\n",
        "            'http://yann.lecun.com/exdb/mnist/t10k-labels-idx1-ubyte.gz'\n",
        "            ]"
      ],
      "execution_count": 5,
      "outputs": []
    },
    {
      "cell_type": "code",
      "metadata": {
        "id": "8s26Re8ZvW-y"
      },
      "source": [
        "dataset = Dataset.File.from_files(path=url_paths)"
      ],
      "execution_count": 6,
      "outputs": []
    },
    {
      "cell_type": "code",
      "metadata": {
        "id": "PQYtBzR6uNV5"
      },
      "source": [
        "#df = dataset.to_pandas_dataframe()"
      ],
      "execution_count": 8,
      "outputs": []
    },
    {
      "cell_type": "code",
      "metadata": {
        "id": "rclc-ffQvHT8"
      },
      "source": [
        "#dataset = Dataset.File.upload_directory(\"/gdrive/My Drive/Competencias/[02] Interbank-2020/[00] Data/se_train.csv\")"
      ],
      "execution_count": 9,
      "outputs": []
    },
    {
      "cell_type": "code",
      "metadata": {
        "id": "WaqdXhd9vLW1",
        "outputId": "49654fea-d1d9-45f4-fece-27f6eb822c03",
        "colab": {
          "base_uri": "https://localhost:8080/"
        }
      },
      "source": [
        "dataset.take_sample(0.9)"
      ],
      "execution_count": 14,
      "outputs": [
        {
          "output_type": "execute_result",
          "data": {
            "text/plain": [
              "{\n",
              "  \"source\": [\n",
              "    \"http://yann.lecun.com/exdb/mnist/train-images-idx3-ubyte.gz\",\n",
              "    \"http://yann.lecun.com/exdb/mnist/train-labels-idx1-ubyte.gz\",\n",
              "    \"http://yann.lecun.com/exdb/mnist/t10k-images-idx3-ubyte.gz\",\n",
              "    \"http://yann.lecun.com/exdb/mnist/t10k-labels-idx1-ubyte.gz\"\n",
              "  ],\n",
              "  \"definition\": [\n",
              "    \"GetFiles\",\n",
              "    \"TakeSample\"\n",
              "  ]\n",
              "}"
            ]
          },
          "metadata": {
            "tags": []
          },
          "execution_count": 14
        }
      ]
    },
    {
      "cell_type": "code",
      "metadata": {
        "id": "rn4j4_YyyjuC",
        "outputId": "73909e73-9b44-4cb1-c08e-3bb81da67250",
        "colab": {
          "base_uri": "https://localhost:8080/"
        }
      },
      "source": [
        "subscription_id = '4f0b884e-8b8e-40cd-865d-98fe023a78a4'\n",
        "resource_group = 'RSGUDACITYD01'\n",
        "workspace_name = 'ml-udacity'\n",
        "\n",
        "workspace = Workspace(subscription_id, resource_group, workspace_name)\n",
        "\n",
        "# get the datastore to upload prepared data\n",
        "datastore = workspace.get_default_datastore()"
      ],
      "execution_count": 9,
      "outputs": [
        {
          "output_type": "stream",
          "text": [
            "Performing interactive authentication. Please follow the instructions on the terminal.\n",
            "To sign in, use a web browser to open the page https://microsoft.com/devicelogin and enter the code EAQKYUP25 to authenticate.\n",
            "You have logged in. Now let us find all the subscriptions to which you have access...\n",
            "Interactive authentication successfully completed.\n"
          ],
          "name": "stdout"
        }
      ]
    },
    {
      "cell_type": "code",
      "metadata": {
        "id": "t-rozmi_2bP_"
      },
      "source": [
        "!mkdir data"
      ],
      "execution_count": 11,
      "outputs": []
    },
    {
      "cell_type": "code",
      "metadata": {
        "id": "TUvg6a5m2dGU"
      },
      "source": [
        "!cp '[00] Data/se_train.csv' 'data/se_train.csv'"
      ],
      "execution_count": 14,
      "outputs": []
    },
    {
      "cell_type": "code",
      "metadata": {
        "id": "uy9Um0do2LVK",
        "outputId": "d175e584-f4f3-4721-fa7f-6b37b01ca157",
        "colab": {
          "base_uri": "https://localhost:8080/"
        }
      },
      "source": [
        "# upload the local file from src_dir to the target_path in datastore\n",
        "datastore.upload(src_dir='/gdrive/My Drive/Competencias/[02] Interbank-2020/data', target_path='data')"
      ],
      "execution_count": 15,
      "outputs": [
        {
          "output_type": "stream",
          "text": [
            "Uploading an estimated of 1 files\n",
            "Uploading /gdrive/My Drive/Competencias/[02] Interbank-2020/data/se_train.csv\n",
            "Uploaded /gdrive/My Drive/Competencias/[02] Interbank-2020/data/se_train.csv, 1 files out of an estimated total of 1\n",
            "Uploaded 1 files\n"
          ],
          "name": "stdout"
        },
        {
          "output_type": "execute_result",
          "data": {
            "text/plain": [
              "$AZUREML_DATAREFERENCE_b89d9681fd114269a706dfad3c81b88c"
            ]
          },
          "metadata": {
            "tags": []
          },
          "execution_count": 15
        }
      ]
    },
    {
      "cell_type": "code",
      "metadata": {
        "id": "FINvugI528S0"
      },
      "source": [
        "dataset = Dataset.Tabular.from_delimited_files(datastore.path('data/se_train.csv'))"
      ],
      "execution_count": 16,
      "outputs": []
    },
    {
      "cell_type": "code",
      "metadata": {
        "id": "ARcA5xKn3ACb",
        "outputId": "21fe9538-7bbb-416a-fa69-2d8b67a0047f",
        "colab": {
          "base_uri": "https://localhost:8080/",
          "height": 462
        }
      },
      "source": [
        "dataset.to_pandas_dataframe()"
      ],
      "execution_count": 17,
      "outputs": [
        {
          "output_type": "stream",
          "text": [
            "/usr/local/lib/python3.6/dist-packages/azureml/dataprep/api/_dataframereader.py:171: UserWarning: Please install pyarrow>=0.16.0 for improved performance of to_pandas_dataframe. You can ensure the correct version is installed by running: pip install pyarrow>=0.16.0 --upgrade\n",
            "  warnings.warn('Please install pyarrow>=0.16.0 for improved performance of to_pandas_dataframe. '\n"
          ],
          "name": "stderr"
        },
        {
          "output_type": "execute_result",
          "data": {
            "text/html": [
              "<div>\n",
              "<style scoped>\n",
              "    .dataframe tbody tr th:only-of-type {\n",
              "        vertical-align: middle;\n",
              "    }\n",
              "\n",
              "    .dataframe tbody tr th {\n",
              "        vertical-align: top;\n",
              "    }\n",
              "\n",
              "    .dataframe thead th {\n",
              "        text-align: right;\n",
              "    }\n",
              "</style>\n",
              "<table border=\"1\" class=\"dataframe\">\n",
              "  <thead>\n",
              "    <tr style=\"text-align: right;\">\n",
              "      <th></th>\n",
              "      <th>key_value</th>\n",
              "      <th>edad</th>\n",
              "      <th>sexo</th>\n",
              "      <th>est_cvl</th>\n",
              "      <th>sit_lab</th>\n",
              "      <th>cod_ocu</th>\n",
              "      <th>ctd_hijos</th>\n",
              "      <th>flg_sin_email</th>\n",
              "      <th>ctd_veh</th>\n",
              "      <th>cod_ubi</th>\n",
              "      <th>lgr_vot</th>\n",
              "      <th>prv</th>\n",
              "      <th>dto</th>\n",
              "      <th>rgn</th>\n",
              "      <th>tip_lvledu</th>\n",
              "    </tr>\n",
              "  </thead>\n",
              "  <tbody>\n",
              "    <tr>\n",
              "      <th>0</th>\n",
              "      <td>0</td>\n",
              "      <td>-0.983651</td>\n",
              "      <td>1</td>\n",
              "      <td>4</td>\n",
              "      <td>2</td>\n",
              "      <td>22</td>\n",
              "      <td>0.0</td>\n",
              "      <td>1</td>\n",
              "      <td>0.0</td>\n",
              "      <td>-0.070167</td>\n",
              "      <td>17</td>\n",
              "      <td>47</td>\n",
              "      <td>687</td>\n",
              "      <td>4</td>\n",
              "      <td>0</td>\n",
              "    </tr>\n",
              "    <tr>\n",
              "      <th>1</th>\n",
              "      <td>1</td>\n",
              "      <td>0.000953</td>\n",
              "      <td>1</td>\n",
              "      <td>4</td>\n",
              "      <td>1</td>\n",
              "      <td>22</td>\n",
              "      <td>0.0</td>\n",
              "      <td>1</td>\n",
              "      <td>1.0</td>\n",
              "      <td>-0.738566</td>\n",
              "      <td>10</td>\n",
              "      <td>186</td>\n",
              "      <td>849</td>\n",
              "      <td>6</td>\n",
              "      <td>0</td>\n",
              "    </tr>\n",
              "    <tr>\n",
              "      <th>2</th>\n",
              "      <td>2</td>\n",
              "      <td>0.531124</td>\n",
              "      <td>0</td>\n",
              "      <td>4</td>\n",
              "      <td>1</td>\n",
              "      <td>22</td>\n",
              "      <td>0.0</td>\n",
              "      <td>1</td>\n",
              "      <td>0.0</td>\n",
              "      <td>-0.297248</td>\n",
              "      <td>15</td>\n",
              "      <td>84</td>\n",
              "      <td>1405</td>\n",
              "      <td>1</td>\n",
              "      <td>7</td>\n",
              "    </tr>\n",
              "    <tr>\n",
              "      <th>3</th>\n",
              "      <td>3</td>\n",
              "      <td>-1.135129</td>\n",
              "      <td>0</td>\n",
              "      <td>4</td>\n",
              "      <td>1</td>\n",
              "      <td>22</td>\n",
              "      <td>0.0</td>\n",
              "      <td>1</td>\n",
              "      <td>0.0</td>\n",
              "      <td>-1.203435</td>\n",
              "      <td>4</td>\n",
              "      <td>9</td>\n",
              "      <td>977</td>\n",
              "      <td>6</td>\n",
              "      <td>7</td>\n",
              "    </tr>\n",
              "    <tr>\n",
              "      <th>4</th>\n",
              "      <td>4</td>\n",
              "      <td>-1.438084</td>\n",
              "      <td>0</td>\n",
              "      <td>4</td>\n",
              "      <td>1</td>\n",
              "      <td>22</td>\n",
              "      <td>0.0</td>\n",
              "      <td>1</td>\n",
              "      <td>0.0</td>\n",
              "      <td>0.043424</td>\n",
              "      <td>18</td>\n",
              "      <td>111</td>\n",
              "      <td>391</td>\n",
              "      <td>3</td>\n",
              "      <td>0</td>\n",
              "    </tr>\n",
              "    <tr>\n",
              "      <th>...</th>\n",
              "      <td>...</td>\n",
              "      <td>...</td>\n",
              "      <td>...</td>\n",
              "      <td>...</td>\n",
              "      <td>...</td>\n",
              "      <td>...</td>\n",
              "      <td>...</td>\n",
              "      <td>...</td>\n",
              "      <td>...</td>\n",
              "      <td>...</td>\n",
              "      <td>...</td>\n",
              "      <td>...</td>\n",
              "      <td>...</td>\n",
              "      <td>...</td>\n",
              "      <td>...</td>\n",
              "    </tr>\n",
              "    <tr>\n",
              "      <th>358423</th>\n",
              "      <td>358482</td>\n",
              "      <td>1.742944</td>\n",
              "      <td>0</td>\n",
              "      <td>4</td>\n",
              "      <td>3</td>\n",
              "      <td>22</td>\n",
              "      <td>0.0</td>\n",
              "      <td>1</td>\n",
              "      <td>0.0</td>\n",
              "      <td>0.047914</td>\n",
              "      <td>18</td>\n",
              "      <td>92</td>\n",
              "      <td>521</td>\n",
              "      <td>3</td>\n",
              "      <td>7</td>\n",
              "    </tr>\n",
              "    <tr>\n",
              "      <th>358424</th>\n",
              "      <td>358483</td>\n",
              "      <td>-0.302002</td>\n",
              "      <td>0</td>\n",
              "      <td>0</td>\n",
              "      <td>3</td>\n",
              "      <td>22</td>\n",
              "      <td>3.0</td>\n",
              "      <td>1</td>\n",
              "      <td>0.0</td>\n",
              "      <td>0.043367</td>\n",
              "      <td>18</td>\n",
              "      <td>111</td>\n",
              "      <td>768</td>\n",
              "      <td>3</td>\n",
              "      <td>7</td>\n",
              "    </tr>\n",
              "    <tr>\n",
              "      <th>358425</th>\n",
              "      <td>358484</td>\n",
              "      <td>-1.513823</td>\n",
              "      <td>1</td>\n",
              "      <td>4</td>\n",
              "      <td>3</td>\n",
              "      <td>22</td>\n",
              "      <td>0.0</td>\n",
              "      <td>1</td>\n",
              "      <td>0.0</td>\n",
              "      <td>-0.523795</td>\n",
              "      <td>13</td>\n",
              "      <td>127</td>\n",
              "      <td>949</td>\n",
              "      <td>5</td>\n",
              "      <td>7</td>\n",
              "    </tr>\n",
              "    <tr>\n",
              "      <th>358426</th>\n",
              "      <td>358485</td>\n",
              "      <td>0.076691</td>\n",
              "      <td>1</td>\n",
              "      <td>4</td>\n",
              "      <td>2</td>\n",
              "      <td>22</td>\n",
              "      <td>0.0</td>\n",
              "      <td>1</td>\n",
              "      <td>0.0</td>\n",
              "      <td>0.725428</td>\n",
              "      <td>26</td>\n",
              "      <td>111</td>\n",
              "      <td>1313</td>\n",
              "      <td>3</td>\n",
              "      <td>0</td>\n",
              "    </tr>\n",
              "    <tr>\n",
              "      <th>358427</th>\n",
              "      <td>358486</td>\n",
              "      <td>-0.529219</td>\n",
              "      <td>1</td>\n",
              "      <td>4</td>\n",
              "      <td>1</td>\n",
              "      <td>22</td>\n",
              "      <td>0.0</td>\n",
              "      <td>1</td>\n",
              "      <td>0.0</td>\n",
              "      <td>0.734419</td>\n",
              "      <td>26</td>\n",
              "      <td>163</td>\n",
              "      <td>698</td>\n",
              "      <td>6</td>\n",
              "      <td>0</td>\n",
              "    </tr>\n",
              "  </tbody>\n",
              "</table>\n",
              "<p>358428 rows × 15 columns</p>\n",
              "</div>"
            ],
            "text/plain": [
              "        key_value      edad  sexo  est_cvl  ...  prv   dto  rgn  tip_lvledu\n",
              "0               0 -0.983651     1        4  ...   47   687    4           0\n",
              "1               1  0.000953     1        4  ...  186   849    6           0\n",
              "2               2  0.531124     0        4  ...   84  1405    1           7\n",
              "3               3 -1.135129     0        4  ...    9   977    6           7\n",
              "4               4 -1.438084     0        4  ...  111   391    3           0\n",
              "...           ...       ...   ...      ...  ...  ...   ...  ...         ...\n",
              "358423     358482  1.742944     0        4  ...   92   521    3           7\n",
              "358424     358483 -0.302002     0        0  ...  111   768    3           7\n",
              "358425     358484 -1.513823     1        4  ...  127   949    5           7\n",
              "358426     358485  0.076691     1        4  ...  111  1313    3           0\n",
              "358427     358486 -0.529219     1        4  ...  163   698    6           0\n",
              "\n",
              "[358428 rows x 15 columns]"
            ]
          },
          "metadata": {
            "tags": []
          },
          "execution_count": 17
        }
      ]
    },
    {
      "cell_type": "code",
      "metadata": {
        "id": "IgC41f9-14Pi"
      },
      "source": [
        "# azureml-core of version 1.0.72 or higher is required\n",
        "# azureml-dataprep[pandas] of version 1.1.34 or higher is required\n",
        "from azureml.core import Workspace, Dataset\n",
        "\n",
        "\n",
        "\n",
        "\n",
        "dataset = Dataset.get_by_name(workspace, name='sfdata-demo')\n",
        "dataset.to_pandas_dataframe()"
      ],
      "execution_count": null,
      "outputs": []
    },
    {
      "cell_type": "markdown",
      "metadata": {
        "id": "m89dHMxVQquk"
      },
      "source": [
        "## Create a Pipeline"
      ]
    },
    {
      "cell_type": "code",
      "metadata": {
        "id": "UBlj4KGWQsRY"
      },
      "source": [
        "from azureml.core import Dataset, Workspace\n",
        "from azureml.core.experiment import Experiment"
      ],
      "execution_count": 20,
      "outputs": []
    },
    {
      "cell_type": "code",
      "metadata": {
        "id": "4Qg9GX2gRAcK"
      },
      "source": [
        "subscription_id = '4f0b884e-8b8e-40cd-865d-98fe023a78a4'\n",
        "resource_group = 'RSGUDACITYD01'\n",
        "workspace_name = 'ml-udacity'\n",
        "\n",
        "workspace = Workspace(subscription_id, resource_group, workspace_name)"
      ],
      "execution_count": 19,
      "outputs": []
    },
    {
      "cell_type": "code",
      "metadata": {
        "id": "JCg_O4vkRCMd"
      },
      "source": [
        "list_experiments = Experiment.list(workspace)"
      ],
      "execution_count": 21,
      "outputs": []
    },
    {
      "cell_type": "code",
      "metadata": {
        "id": "J8c86uNzZfbo",
        "outputId": "a4ea5612-b4ff-44a4-ff8c-d8ee04ab21af",
        "colab": {
          "base_uri": "https://localhost:8080/"
        }
      },
      "source": [
        "print(list_experiments)"
      ],
      "execution_count": 22,
      "outputs": [
        {
          "output_type": "stream",
          "text": [
            "[Experiment(Name: regression-experiment,\n",
            "Workspace: ml-udacity), Experiment(Name: run-2-designer-binary-classification,\n",
            "Workspace: ml-udacity)]\n"
          ],
          "name": "stdout"
        }
      ]
    },
    {
      "cell_type": "code",
      "metadata": {
        "id": "OFPhJrYLZfYl"
      },
      "source": [
        ""
      ],
      "execution_count": null,
      "outputs": []
    },
    {
      "cell_type": "code",
      "metadata": {
        "id": "eQYXDFv0RBdj"
      },
      "source": [
        "# get the datastore to upload prepared data\n",
        "datastore = workspace.get_default_datastore()"
      ],
      "execution_count": null,
      "outputs": []
    }
  ]
}