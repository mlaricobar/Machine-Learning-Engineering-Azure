{
  "nbformat": 4,
  "nbformat_minor": 0,
  "metadata": {
    "colab": {
      "name": "Welcome To Colaboratory",
      "provenance": [],
      "collapsed_sections": [],
      "include_colab_link": true
    },
    "kernelspec": {
      "display_name": "Python 3",
      "name": "python3"
    }
  },
  "cells": [
    {
      "cell_type": "markdown",
      "metadata": {
        "id": "view-in-github",
        "colab_type": "text"
      },
      "source": [
        "<a href=\"https://colab.research.google.com/github/mlaricobar/Machine-Learning-Engineering-Azure/blob/main/Lesson3%20-%20Datastores%20and%20Datasets.ipynb\" target=\"_parent\"><img src=\"https://colab.research.google.com/assets/colab-badge.svg\" alt=\"Open In Colab\"/></a>"
      ]
    },
    {
      "cell_type": "markdown",
      "metadata": {
        "id": "h_I_W0FKpTIX"
      },
      "source": [
        "# Lesson 3: DataStores and Datasets"
      ]
    },
    {
      "cell_type": "markdown",
      "metadata": {
        "id": "H4fMJR0X8vRy"
      },
      "source": [
        "### Lesson Overview"
      ]
    },
    {
      "cell_type": "code",
      "metadata": {
        "id": "8xr-U9Vq0TZv"
      },
      "source": [
        "from IPython.display import YouTubeVideo\n",
        "\n",
        "def embed_video(youtube_code):\n",
        "    return YouTubeVideo(youtube_code, width=800, height=450)"
      ],
      "execution_count": 2,
      "outputs": []
    },
    {
      "cell_type": "markdown",
      "metadata": {
        "id": "zZu6YZ2fqYPd"
      },
      "source": [
        "This lesson is all about managing data by using Datastores and Datasets. Here are the main topics we'll cover:\n",
        "\n",
        "\n",
        "\n",
        "*   **Managing data**. We'll talk about some of the **MLOps workflows** that are enabled by managing data within the Azure ML studio platform.\n",
        "*   **Working with Datasets**. Working with datasets is critical for sharing data and **having a high performance pipeline** that doesn't require copying the data back and forth.\n",
        "*   **Dataset monitoring and data drift**. If you collect your data, train a model, and then you get some new customers, those new customers may not be the correct target for the model that you created previously—you may need to recreate the model to get a better fit. **With Dataset monitoring, you can detect those changes**.\n",
        "*   **Using Datasets in notebooks**. We'll cover the workflow for using Datasets in notebook, and we'll show you how you can leverage the open Datasets that are available in Azure.\n",
        "*   **Dealing with sensitive data**. One of the most important topics in ML is how to handle personally identifiable information and protect it using encryption."
      ]
    },
    {
      "cell_type": "code",
      "metadata": {
        "colab": {
          "base_uri": "https://localhost:8080/",
          "height": 472
        },
        "id": "lVS-GMYD0v5l",
        "outputId": "a22639bd-9925-4c86-99c0-4386b7b628a3"
      },
      "source": [
        "embed_video('CUBTJLhGt3o')"
      ],
      "execution_count": 4,
      "outputs": [
        {
          "output_type": "execute_result",
          "data": {
            "text/html": [
              "\n",
              "        <iframe\n",
              "            width=\"800\"\n",
              "            height=\"450\"\n",
              "            src=\"https://www.youtube.com/embed/CUBTJLhGt3o\"\n",
              "            frameborder=\"0\"\n",
              "            allowfullscreen\n",
              "        ></iframe>\n",
              "        "
            ],
            "text/plain": [
              "<IPython.lib.display.YouTubeVideo at 0x7f509090f710>"
            ],
            "image/jpeg": "[encoded data removed]"
          },
          "metadata": {
            "tags": []
          },
          "execution_count": 4
        }
      ]
    },
    {
      "cell_type": "markdown",
      "metadata": {
        "id": "-Sll7oH3sxkG"
      },
      "source": [
        "### Managing Data in Azure Machine Learning"
      ]
    },
    {
      "cell_type": "markdown",
      "metadata": {
        "id": "NSDc-XHQs4RU"
      },
      "source": [
        "**The Problem: Managing Data Without the Cloud**\n",
        "\n",
        "To understand why we need Datastores—and cloud-based data storage more generally—it helps to first consider the alternative. If you were trying to handle the data on your own local machine, you would be faced with a number of challenges, including:\n",
        "\n",
        "1.   **Data governance**. If you have secret or sensitive data that you need to keep protected, data governance becomes a concern.\n",
        "2.   **Do-It-Yourself (DIY) interface to data storage types**. You will have to write a bunch of extra code to connect different storage types (such as SQL or Databricks).\n",
        "3.   **Hardware constraints**. Your machine's resources (e.g., CPU, disk IO, storage) are limited.\n",
        "4.   **Third party integration**. If you want to use an off-the-shelf, third party tool, this could pose integration problems—and you will have to handle the integration problems on your own.\n",
        "\n",
        "\n",
        "**The Solution: The Azure Cloud and Datastores**\n",
        "\n",
        "Datastores have a number of key properties that address the above challenges:\n",
        "\n",
        "*   **Easy-to-use interface for many storage types**. A Datastore is essentially an abstraction that provides easy methods to interact with many different tools and with many different complex data storage types. This removes the extra work of struggling with third-party integrations and writing do-it-yourself interfaces for different data storage types.\n",
        "*   **Secure, centralized control of the data**. This means you don't need to have separate systems that move your data to different locations—which results in better efficiency. You don't have to copy the data back and forth; instead, your ML projects can simply use copies derived from that centralized data. This centralized control also includes built-in encryption and thus results in better security.\n",
        "*   **Scalability**. Datastores leverage cloud-native elastic storage, meaning that they can scale in response to demand. Obviously, this is something your hard drive cannot do."
      ]
    },
    {
      "cell_type": "code",
      "metadata": {
        "colab": {
          "base_uri": "https://localhost:8080/",
          "height": 472
        },
        "id": "xrslaDSY0aRV",
        "outputId": "2b9c363d-d6b0-4397-bd9f-891b953759bd"
      },
      "source": [
        "embed_video('2-V-Ntd_Onc')"
      ],
      "execution_count": 3,
      "outputs": [
        {
          "output_type": "execute_result",
          "data": {
            "text/html": [
              "\n",
              "        <iframe\n",
              "            width=\"800\"\n",
              "            height=\"450\"\n",
              "            src=\"https://www.youtube.com/embed/2-V-Ntd_Onc\"\n",
              "            frameborder=\"0\"\n",
              "            allowfullscreen\n",
              "        ></iframe>\n",
              "        "
            ],
            "text/plain": [
              "<IPython.lib.display.YouTubeVideo at 0x7f509115a160>"
            ],
            "image/jpeg": "[encoded data removed]"
          },
          "metadata": {
            "tags": []
          },
          "execution_count": 3
        }
      ]
    },
    {
      "cell_type": "markdown",
      "metadata": {
        "id": "g0k7KYmb9PKw"
      },
      "source": [
        "### Exercise: Managing Data in Azure Machine Learning"
      ]
    },
    {
      "cell_type": "markdown",
      "metadata": {
        "id": "TYNf5tQC9WkN"
      },
      "source": [
        "In this exercise we'll create a new dataset by uploading a CSV file, and then profile and explore it. You can find the dataset in the Datasets folder on the desktop of the virtual machine—or, if you are using your own Azure account, you [can download the dataset here](https://video.udacity-data.com/topher/2020/September/5f7219dc_sugar/sugar.csv)."
      ]
    },
    {
      "cell_type": "code",
      "metadata": {
        "id": "AdezhngVqYAV"
      },
      "source": [
        ""
      ],
      "execution_count": null,
      "outputs": []
    },
    {
      "cell_type": "code",
      "metadata": {
        "id": "9dlKINZWpWwL"
      },
      "source": [
        ""
      ],
      "execution_count": null,
      "outputs": []
    },
    {
      "cell_type": "code",
      "metadata": {
        "id": "KzBy2U2OpWt0"
      },
      "source": [
        ""
      ],
      "execution_count": null,
      "outputs": []
    },
    {
      "cell_type": "code",
      "metadata": {
        "id": "kjf57aXQpWre"
      },
      "source": [
        ""
      ],
      "execution_count": null,
      "outputs": []
    }
  ]
}